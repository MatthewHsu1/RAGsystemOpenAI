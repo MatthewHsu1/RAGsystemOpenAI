{
  "cells": [
    {
      "cell_type": "code",
      "execution_count": null,
      "metadata": {
        "id": "Uc2wcx3UowiS"
      },
      "outputs": [],
      "source": [
        "!pip install pandas==2.2.2 openai pymongo pypdf langchain_community tqdm tenacity scikit-learn tiktoken python-dotenv seaborn qdrant-client fastembed==0.1.1 --upgrade"
      ]
    },
    {
      "cell_type": "markdown",
      "metadata": {
        "id": "qK0TWYs1Piu-"
      },
      "source": [
        "# **RAG System with MongoDB as vector search engine**"
      ]
    },
    {
      "cell_type": "markdown",
      "metadata": {
        "id": "deg82AvpFrmI"
      },
      "source": [
        "## **1. Parsing and tokenizing the pdf**"
      ]
    },
    {
      "cell_type": "markdown",
      "source": [
        "## Method 1 : Parsing by using headers contained in the pdf."
      ],
      "metadata": {
        "id": "Ssy68IVXOlLa"
      }
    },
    {
      "cell_type": "code",
      "execution_count": null,
      "metadata": {
        "id": "ZyTiUw-FVPuI"
      },
      "outputs": [],
      "source": [
        "from langchain_community.document_loaders import PyPDFLoader\n",
        "\n",
        "# The url for the user manual pdf.\n",
        "url = \"https://raw.githubusercontent.com/MatthewHsu1/RAGsystemOpenAI/main/F80_F83_F85_OM_810.pdf\"\n",
        "\n",
        "# Initialize PyPDFLoader with downloaded user manual pdf\n",
        "loader = PyPDFLoader(url)\n",
        "pages = loader.load_and_split()"
      ]
    },
    {
      "cell_type": "code",
      "execution_count": null,
      "metadata": {
        "id": "-_QzaT2cA_wL"
      },
      "outputs": [],
      "source": [
        "# First create a dictionary of headers to parse the pdf by headers.\n",
        "\n",
        "headers = [\n",
        "    \"TABLE OF CONTENTS\",\n",
        "    \"PRODUCT REGISTRATION\",\n",
        "    \"IMPORTANT SAFETY INSTRUCTIONS\",\n",
        "    \"IMPORTANT ELECTRICAL INSTRUCTIONS\",\n",
        "    \"GROUNDING INSTRUCTIONS\",\n",
        "    \"IMPORTANT OPERATION INSTRUCTIONS\",\n",
        "    \"IMPORTANT SAFETY INSTRUCTIONS\",\n",
        "    \"IMPORTANT SAFETY INSTRUCTIONS\",\n",
        "    \"PREVENTATIVE MAINTENANCE CHART\",\n",
        "    \"F80 / F83 / F83 ASSEMBLY PACK CHECKLIST\",\n",
        "    \"F80 / F83 / F83 ASSEMBLY INSTRUCTIONS\",\n",
        "    \"FOLDING INSTRUCTIONS\",\n",
        "    \"TRANSPORTATION INSTRUCTIONS\",\n",
        "    \"OPERATION OF YOUR TREADMILL\",\n",
        "    \"GETTING STARTED\",\n",
        "    \"QUICK-START OPERATION\",\n",
        "    \"PAUSE/STOP/RESET FEATURE\",\n",
        "    \"INCLINE FEATURE\",\n",
        "    \"DOT MATRIX CENTER DISPLAY\",\n",
        "    \"PROGRAMMABLE FEATURES\",\n",
        "    \"HEART RATE PROGRAMS\",\n",
        "    \"USING HEART RATE TRANSMITTER\",\n",
        "    \"GENERAL MAINTENANCE\",\n",
        "    \"BELT ADJUSTMENTS\",\n",
        "    \"TREAD-BELT TRACKING ADJUSTMENT\",\n",
        "    \"BELT/DECK LUBRICATION\",\n",
        "    \"SERVICE CHECKLIST - DIAGNOSIS GUIDE\",\n",
        "    \"MANUFACTURER’S LIMITED WARRANTY\"\n",
        "]"
      ]
    },
    {
      "cell_type": "code",
      "execution_count": null,
      "metadata": {
        "id": "DM79ig5J8Xmk"
      },
      "outputs": [],
      "source": [
        "import re\n",
        "\n",
        "def strip_top(page):\n",
        "  \"\"\"\n",
        "    Every document inside the variable of pages has this string in the beginning, 'F80 /  F83 / F85 TREADMILL'.\n",
        "    Therefore, the real content of the pdf begins after that string.\n",
        "  \"\"\"\n",
        "  pattern = r\"F80 /  F83 / F85 TREADMILL(.*)\"\n",
        "  for page in pages:\n",
        "    match = re.search(pattern, page.page_content, re.DOTALL)\n",
        "\n",
        "    clean_text = \"\"\n",
        "    if match:\n",
        "        clean_text = match.group(1).strip()\n",
        "        clean_text = clean_text.replace(\"\\n\", \" \")\n",
        "        clean_text = clean_text.replace(\"\\x84\", \"\")\n",
        "        clean_text = re.sub(r'\\s+', ' ', clean_text)\n",
        "        page.page_content = clean_text\n",
        "    else:\n",
        "      clean_text = page.page_content.replace(\"\\n\", \" \")\n",
        "      clean_text = clean_text.replace(\"\\x84\", \"\")\n",
        "      clean_text = re.sub(r'\\s+', ' ', clean_text)\n",
        "      page.page_content = clean_text"
      ]
    },
    {
      "cell_type": "code",
      "execution_count": null,
      "metadata": {
        "id": "37VtSNv0N8g2"
      },
      "outputs": [],
      "source": [
        "# The pdf is in plain text\n",
        "strip_top(pages)"
      ]
    },
    {
      "cell_type": "code",
      "execution_count": null,
      "metadata": {
        "id": "s5cGjyUztBy4"
      },
      "outputs": [],
      "source": [
        "import re\n",
        "\n",
        "def split_by_header(headers, pages):\n",
        "\n",
        "  list_of_string = []\n",
        "  for page in pages:\n",
        "\n",
        "    # Create a regular expression that pattern matches all strings in headers.\n",
        "    pattern = '|'.join(map(re.escape, headers))\n",
        "\n",
        "    # Split each page by the pattern created.\n",
        "    split_result = re.split(pattern, page.page_content)\n",
        "\n",
        "    # Get rid of any empty strings\n",
        "    split_result = [s.strip() for s in split_result if s.strip() != '']\n",
        "\n",
        "    list_of_string += split_result\n",
        "\n",
        "  return list_of_string"
      ]
    },
    {
      "cell_type": "code",
      "execution_count": null,
      "metadata": {
        "id": "Pc7_7ebFKsgc"
      },
      "outputs": [],
      "source": [
        "text = split_by_header(headers, pages)"
      ]
    },
    {
      "cell_type": "markdown",
      "source": [
        "### Check to see if any string in the list has the possibility to exceed the text embedding token limit."
      ],
      "metadata": {
        "id": "H6PCyNuHX-IT"
      }
    },
    {
      "cell_type": "code",
      "execution_count": null,
      "metadata": {
        "id": "MAAQCb85wFIF"
      },
      "outputs": [],
      "source": [
        "for string in text:\n",
        "  word_count = len(string.split())\n",
        "  assert (word_count <= 5500) == True, \"A string may potentially exceed the token limit\""
      ]
    },
    {
      "cell_type": "markdown",
      "source": [
        "## Method 2 : Using RecursiveCharacterTextSplitter from Langchain that has a sliding window for text overlap."
      ],
      "metadata": {
        "id": "tiRZ4AaBOz3L"
      }
    },
    {
      "cell_type": "code",
      "source": [
        "from langchain_community.document_loaders import PyPDFLoader\n",
        "\n",
        "# The url for the user manual pdf.\n",
        "url = \"https://raw.githubusercontent.com/MatthewHsu1/RAGsystemOpenAI/main/F80_F83_F85_OM_810.pdf\"\n",
        "\n",
        "# Initialize PyPDFLoader with downloaded user manual pdf\n",
        "loader = PyPDFLoader(url)\n",
        "pages = loader.load_and_split()"
      ],
      "metadata": {
        "id": "g1dW4xxYO7eC"
      },
      "execution_count": null,
      "outputs": []
    },
    {
      "cell_type": "code",
      "source": [
        "from langchain.text_splitter import RecursiveCharacterTextSplitter\n",
        "\n",
        "text_splitter = RecursiveCharacterTextSplitter (\n",
        "    chunk_size = 512,\n",
        "    chunk_overlap = 100\n",
        ")\n",
        "\n",
        "text = \"\"\n",
        "\n",
        "for page in pages:\n",
        "  text += page.page_content\n",
        "\n",
        "docs = text_splitter.create_documents([text])\n",
        "\n",
        "text = []\n",
        "for doc in docs:\n",
        "  text.append(doc.page_content)"
      ],
      "metadata": {
        "id": "_Q29NiiMSR3b"
      },
      "execution_count": null,
      "outputs": []
    },
    {
      "cell_type": "markdown",
      "source": [
        "### Convert the list 'text' into a panda dataframe."
      ],
      "metadata": {
        "id": "MOuXIC4eYDTb"
      }
    },
    {
      "cell_type": "code",
      "execution_count": null,
      "metadata": {
        "id": "PDa9lxj3pA9Y"
      },
      "outputs": [],
      "source": [
        "import pandas as pd\n",
        "\n",
        "dataset_df = pd.DataFrame(text)\n",
        "dataset_df.columns = ['text']"
      ]
    },
    {
      "cell_type": "markdown",
      "metadata": {
        "id": "6hHvLGtyF0BI"
      },
      "source": [
        "## **2. Transform the pdf into vector embeddings and store it inside of MongoDB**"
      ]
    },
    {
      "cell_type": "markdown",
      "source": [
        "### This method will take a text and get an vector embedding from OpenAI."
      ],
      "metadata": {
        "id": "8CTWLwJSVzgl"
      }
    },
    {
      "cell_type": "code",
      "execution_count": null,
      "metadata": {
        "id": "YgpcSj1Wq_kg"
      },
      "outputs": [],
      "source": [
        "import openai\n",
        "from google.colab import userdata\n",
        "from tqdm import tqdm\n",
        "\n",
        "tqdm.pandas()\n",
        "\n",
        "openai.api_key = userdata.get('open_ai')\n",
        "\n",
        "EMBEDDING_MODEL = 'text-embedding-3-small'\n",
        "\n",
        "# Returns the vector embedding of a text\n",
        "def get_embedding(text):\n",
        "  if not text or not isinstance(text, str):\n",
        "    return None\n",
        "\n",
        "  try:\n",
        "    embedding = openai.embeddings.create(input=text, model=EMBEDDING_MODEL).data[0].embedding\n",
        "    return embedding\n",
        "  except Exception as e:\n",
        "    print(f'Error in get_embedding: {e}')\n",
        "    return None\n",
        "\n",
        "# Apply vector embedding to a the dataframe\n",
        "dataset_df['embedding'] = dataset_df['text'].progress_apply(get_embedding)\n",
        "\n",
        "dataset_df.head()"
      ]
    },
    {
      "cell_type": "markdown",
      "source": [
        "### This method will connect to mongoDB and get a client instance."
      ],
      "metadata": {
        "id": "NloE1gItV3nI"
      }
    },
    {
      "cell_type": "code",
      "execution_count": null,
      "metadata": {
        "colab": {
          "base_uri": "https://localhost:8080/"
        },
        "id": "4nCB7zFRuKps",
        "outputId": "0964abbc-281b-44b6-8916-20c72d0cf343"
      },
      "outputs": [
        {
          "output_type": "stream",
          "name": "stdout",
          "text": [
            "Connection to MongoDB successful\n",
            "Data ingestion into MongoDB completed\n"
          ]
        }
      ],
      "source": [
        "import pymongo\n",
        "from google.colab import userdata\n",
        "\n",
        "def get_mongo_client(mongo_uri):\n",
        "  try:\n",
        "    client = pymongo.MongoClient(mongo_uri)\n",
        "    print('Connection to MongoDB successful')\n",
        "    return client\n",
        "  except pymongo.errors.ConnectionFailure as e:\n",
        "    print(f'Connection failed: {e}')\n",
        "    return None\n",
        "\n",
        "mongo_uri = userdata.get('mongo_url')\n",
        "if not mongo_uri:\n",
        "  print('Mongo_uri not set in envirnment variables')\n",
        "\n",
        "mongo_client = get_mongo_client(mongo_uri)\n",
        "\n",
        "# Varaibles that represent the database name, and collection name\n",
        "database = \"Treadmill\"\n",
        "collection = \"F80_F83_F85_recursive_chunking\"\n",
        "\n",
        "db = mongo_client[database]\n",
        "collection = db[collection]\n",
        "\n",
        "# Convert pandas dataframe into json format\n",
        "documents = dataset_df.to_dict('records')\n",
        "collection.insert_many(documents)\n",
        "\n",
        "print('Data ingestion into MongoDB completed')"
      ]
    },
    {
      "cell_type": "markdown",
      "metadata": {
        "id": "xtlx8wuRA8c2"
      },
      "source": [
        "## **3. Query answers by providing relevent context from the pdf inside the prompt**"
      ]
    },
    {
      "cell_type": "markdown",
      "source": [
        "### Set up openAI API key"
      ],
      "metadata": {
        "id": "nTKMgAeiVZ__"
      }
    },
    {
      "cell_type": "code",
      "execution_count": 115,
      "metadata": {
        "id": "kcCz98FiC7iv"
      },
      "outputs": [],
      "source": [
        "import openai\n",
        "from google.colab import userdata\n",
        "\n",
        "openai.api_key = userdata.get('open_ai')"
      ]
    },
    {
      "cell_type": "markdown",
      "source": [
        "### This method will connect to mongoDB and get a client instance."
      ],
      "metadata": {
        "id": "sLQntNVYVcB_"
      }
    },
    {
      "cell_type": "code",
      "execution_count": 116,
      "metadata": {
        "colab": {
          "base_uri": "https://localhost:8080/"
        },
        "id": "qm_hP3fFDASn",
        "outputId": "3adf7b22-5c2d-45e4-cf53-8f17733fc188"
      },
      "outputs": [
        {
          "output_type": "stream",
          "name": "stdout",
          "text": [
            "Connection to MongoDB successful\n"
          ]
        }
      ],
      "source": [
        "import pymongo\n",
        "from google.colab import userdata\n",
        "\n",
        "def get_mongo_client(mongo_uri):\n",
        "  try:\n",
        "    client = pymongo.MongoClient(mongo_uri)\n",
        "    print('Connection to MongoDB successful')\n",
        "    return client\n",
        "  except pymongo.errors.ConnectionFailure as e:\n",
        "    print(f'Connection failed: {e}')\n",
        "    return None\n",
        "\n",
        "mongo_uri = userdata.get('mongo_url')\n",
        "if not mongo_uri:\n",
        "  print('Mongo_uri not set in envirnment variables')\n",
        "\n",
        "mongo_client = get_mongo_client(mongo_uri)\n",
        "\n",
        "# Varaibles that represent the database name, and collection name\n",
        "database = \"Treadmill\"\n",
        "collection = \"F80_F83_F85_recursive_chunking\"\n",
        "\n",
        "db = mongo_client[database]\n",
        "collection = db[collection]"
      ]
    },
    {
      "cell_type": "markdown",
      "source": [
        "### Given a user query, this method will search the mongoDB for the top 10 most relevent text chunks from the pdf."
      ],
      "metadata": {
        "id": "8yPWWxGDVU3p"
      }
    },
    {
      "cell_type": "code",
      "execution_count": 117,
      "metadata": {
        "id": "mgsIk1xP1w7l"
      },
      "outputs": [],
      "source": [
        "def vector_search(user_query, collection):\n",
        "  query_embedding = get_embedding(user_query)\n",
        "\n",
        "  if query_embedding is None:\n",
        "    return \"Invalid query or embedding generation failed.\"\n",
        "\n",
        "  pipeline = [\n",
        "      {\n",
        "          \"$vectorSearch\": {\n",
        "              \"index\": \"vector_index\",\n",
        "              \"queryVector\": query_embedding,\n",
        "              \"path\": \"embedding\",\n",
        "              \"numCandidates\": 10,\n",
        "              \"limit\": 5\n",
        "          }\n",
        "      },\n",
        "      {\n",
        "          \"$project\": {\n",
        "              \"text\":1,\n",
        "              \"score\": {\n",
        "                  \"$meta\": \"vectorSearchScore\"\n",
        "              }\n",
        "          }\n",
        "      }\n",
        "  ]\n",
        "\n",
        "  results = collection.aggregate(pipeline)\n",
        "  return list(results)"
      ]
    },
    {
      "cell_type": "markdown",
      "source": [
        "### Construct the user prompt with chain of thought process."
      ],
      "metadata": {
        "id": "5NqiayzgVQNg"
      }
    },
    {
      "cell_type": "code",
      "execution_count": 118,
      "metadata": {
        "id": "sHgrtQP4KYsr"
      },
      "outputs": [],
      "source": [
        "def handle_user_query(query, collection):\n",
        "  get_knowledge = vector_search(query, collection)\n",
        "\n",
        "  search_result = ''\n",
        "  for result in get_knowledge:\n",
        "    search_result += f\"Instruction: {result.get('text', 'N/A')}.\\n\"\n",
        "\n",
        "  completion = openai.chat.completions.create(\n",
        "      model='gpt-3.5-turbo',\n",
        "      temperature=0.1,\n",
        "      messages=[\n",
        "          {'role': \"system\", 'content': 'You are a treadmill technician that provides technical details with the context given.'},\n",
        "          {'role': 'user', 'content':\n",
        "            'Context: ' + search_result + '\\n\\n' +\n",
        "            'Question: ' + query + '\\n\\n' +\n",
        "            'State each step and then show your work for performing that step. \\n\\n' +\n",
        "            'steps: \\n' +\n",
        "                    '- what facts do you need to look for in the text to answer the question? \\n' +\n",
        "                    '- Does the text contain all the facts needed to answer the question? \\n' +\n",
        "                    '- Think about how you might answer the question given what you know. \\n\\n' +\n",
        "            'Finally, answer the Question and prefix your answer with <Response>.\"'\n",
        "          }\n",
        "      ]\n",
        "  )\n",
        "\n",
        "  return (completion.choices[0].message.content)"
      ]
    },
    {
      "cell_type": "markdown",
      "source": [
        "## **4. We want an assistant that uses the built-in file retrieval function from OpenAI. Then, we want a second assistant to validate responses from both MongoDB RAG and the assistant's file search.**"
      ],
      "metadata": {
        "id": "A73ttjwNjn9B"
      }
    },
    {
      "cell_type": "markdown",
      "source": [
        "### Function to create a thread instance from OpenAI."
      ],
      "metadata": {
        "id": "gUPgkCZkwdkj"
      }
    },
    {
      "cell_type": "code",
      "source": [
        "def handle_thread_creation():\n",
        "  # Create thread\n",
        "  thread = openai.beta.threads.create()\n",
        "  return thread"
      ],
      "metadata": {
        "id": "W5LFgzeFRFsF"
      },
      "execution_count": 119,
      "outputs": []
    },
    {
      "cell_type": "markdown",
      "source": [
        "### Function that takes in thread id, assistant id, and the query to request a response from the assistant."
      ],
      "metadata": {
        "id": "goRGCnZPwkvr"
      }
    },
    {
      "cell_type": "code",
      "source": [
        "def handle_assistant_query(thread_id, assistant_id, query):\n",
        "  # Create message\n",
        "  thread_message = openai.beta.threads.messages.create(\n",
        "      thread_id = thread_id,\n",
        "      role = \"user\",\n",
        "      content = query\n",
        "  )\n",
        "  # Running the thread\n",
        "  run = openai.beta.threads.runs.create(\n",
        "      thread_id = thread_id,\n",
        "      assistant_id = assistant_id\n",
        "  )\n",
        "\n",
        "  # Wait for response\n",
        "  while run.status in [\"queued\", \"in_progress\"]:\n",
        "    run = openai.beta.threads.runs.retrieve(\n",
        "        thread_id = thread_id,\n",
        "        run_id = run.id\n",
        "    )\n",
        "\n",
        "    if run.status == \"completed\":\n",
        "      messages = openai.beta.threads.messages.list(thread_id = thread_id)\n",
        "      return messages\n",
        "    elif run.status in [\"queued\", \"in_progress\"]:\n",
        "      pass\n",
        "    else:\n",
        "      return \"Failed\""
      ],
      "metadata": {
        "id": "xOFcHgE5RPCO"
      },
      "execution_count": 120,
      "outputs": []
    },
    {
      "cell_type": "markdown",
      "source": [
        "### Creating two threads, one for file retrival assistant, and one for validation assistant."
      ],
      "metadata": {
        "id": "uVAwzFigwwPE"
      }
    },
    {
      "cell_type": "code",
      "source": [
        "file_search_assistant_thread = handle_thread_creation()\n",
        "validation_assistant = handle_thread_creation()"
      ],
      "metadata": {
        "id": "cmfstz4DjnTR"
      },
      "execution_count": 158,
      "outputs": []
    },
    {
      "cell_type": "code",
      "source": [
        "file_search_assistant_id = \"asst_GLbrtwqIOcornWtDS1U08IQ0\"\n",
        "validation_assistant_id = \"asst_3lkQl11fZemdHsbIyGOOKyV5\""
      ],
      "metadata": {
        "id": "UE4l0c71SSIO"
      },
      "execution_count": 159,
      "outputs": []
    },
    {
      "cell_type": "markdown",
      "source": [
        "### A function that consolidates the three requests and returns the final response: one for MongoDB vector search, one for assistant file search, and one for the validation assistant."
      ],
      "metadata": {
        "id": "MxBGx7omw9YI"
      }
    },
    {
      "cell_type": "code",
      "source": [
        "import concurrent.futures\n",
        "\n",
        "def handle_query_cross_validation(query, assistant_1_thread_id, assistant_1_id, assistant_2_thread_id, assistant_2_id, collection):\n",
        "  with concurrent.futures.ThreadPoolExecutor() as executor:\n",
        "    future1 = executor.submit(handle_assistant_query, assistant_1_thread_id, assistant_1_id, query)\n",
        "    future2 = executor.submit(handle_user_query, query, collection)\n",
        "\n",
        "    info1 = future1.result().data[0].content[0].text.value\n",
        "    info2 = future2.result().split(\"Response\")[1]\n",
        "\n",
        "  prompt = f\"Info1: {info1}. \\n\\nInfo2: {info2}. \\n\\nQuestion: {query}\"\n",
        "  response = handle_assistant_query(assistant_2_thread_id, assistant_2_id, prompt).data[0].content[0].text.value\n",
        "  return response, prompt"
      ],
      "metadata": {
        "id": "OiNl4XFXnEc2"
      },
      "execution_count": 182,
      "outputs": []
    },
    {
      "cell_type": "code",
      "source": [
        "response, prompt = handle_query_cross_validation(\"What is the treamill model called again?\", file_search_assistant_thread.id, file_search_assistant_id, validation_assistant.id, validation_assistant_id, collection)"
      ],
      "metadata": {
        "id": "z2TJDnKRo9xM"
      },
      "execution_count": 180,
      "outputs": []
    },
    {
      "cell_type": "code",
      "source": [
        "print(response)\n",
        "print(\"\\n\")\n",
        "print(prompt)"
      ],
      "metadata": {
        "colab": {
          "base_uri": "https://localhost:8080/"
        },
        "id": "NryX2E6asVHB",
        "outputId": "c266d646-0a18-4471-d7c5-25794a7450a3"
      },
      "execution_count": 184,
      "outputs": [
        {
          "output_type": "stream",
          "name": "stdout",
          "text": [
            "The treadmill model is called F80 / F83 / F85.\n",
            "\n",
            "\n",
            "Info1: The treadmill model is called F80 / F83 / F85【4:0†source】.. \n",
            "\n",
            "Info2: >:** The treadmill model is called F80 / F83 / F85.. \n",
            "\n",
            "Question: What is the treamill model called again?\n"
          ]
        }
      ]
    },
    {
      "cell_type": "markdown",
      "metadata": {
        "id": "9MvyHKtW4FpV"
      },
      "source": [
        "# **RAG system with Qdrant as vertor search engine and fine-tuning on the model.**\n",
        "\n",
        "source: https://cookbook.openai.com/examples/fine-tuned_qa/ft_retrieval_augmented_generation_qdrant"
      ]
    },
    {
      "cell_type": "code",
      "execution_count": null,
      "metadata": {
        "id": "BDViBMRXFkKE"
      },
      "outputs": [],
      "source": [
        "import json\n",
        "import os\n",
        "import time\n",
        "\n",
        "from google.colab import userdata\n",
        "import pandas as pd\n",
        "from openai import OpenAI\n",
        "import tiktoken\n",
        "import seaborn as sns\n",
        "from tenacity import retry, wait_exponential\n",
        "from tqdm import tqdm\n",
        "from collections import defaultdict\n",
        "import numpy as np\n",
        "import matplotlib.pyplot as plt\n",
        "from sklearn.metrics import confusion_matrix\n",
        "\n",
        "import warnings\n",
        "warnings.filterwarnings('ignore')\n",
        "\n",
        "tqdm.pandas()\n",
        "\n",
        "client = OpenAI(api_key=userdata.get(\"open_ai\"))"
      ]
    },
    {
      "cell_type": "markdown",
      "metadata": {
        "id": "oyH8vn80PTnF"
      },
      "source": [
        "### Downloading sample data from a github repository."
      ]
    },
    {
      "cell_type": "code",
      "execution_count": null,
      "metadata": {
        "id": "UgzJWKS3L5DY"
      },
      "outputs": [],
      "source": [
        "!mkdir -p local_cache\n",
        "!wget https://rajpurkar.github.io/SQuAD-explorer/dataset/train-v2.0.json -O local_cache/train.json > /dev/null  2>&1\n",
        "!wget https://rajpurkar.github.io/SQuAD-explorer/dataset/dev-v2.0.json -O local_cache/dev.json > /dev/null 2>&1"
      ]
    },
    {
      "cell_type": "markdown",
      "metadata": {
        "id": "vStkeT3qPYzW"
      },
      "source": [
        "### Given a json data with a format wealready know, this will convert to a dataframe."
      ]
    },
    {
      "cell_type": "code",
      "execution_count": null,
      "metadata": {
        "id": "Byfae0yrN2aw"
      },
      "outputs": [],
      "source": [
        "def json_to_dataframe_with_titles(json_data):\n",
        "  qas = []\n",
        "  context = []\n",
        "  is_impossible = []\n",
        "  answers = []\n",
        "  titles = []\n",
        "\n",
        "  for article in json_data['data']:\n",
        "    title = article['title']\n",
        "    for paragraph in article['paragraphs']:\n",
        "      for qa in paragraph['qas']:\n",
        "        qas.append(qa['question'].strip())\n",
        "        context.append(paragraph['context'])\n",
        "        is_impossible.append(qa['is_impossible'])\n",
        "\n",
        "        ans_list = []\n",
        "        for ans in qa['answers']:\n",
        "          ans_list.append(ans['text'])\n",
        "        answers.append(ans_list)\n",
        "        titles.append(title)\n",
        "\n",
        "  df = pd.DataFrame({'title': titles, 'question': qas, 'context': context, 'is_impossible': is_impossible, 'answers': answers})\n",
        "  return df"
      ]
    },
    {
      "cell_type": "markdown",
      "source": [
        "### This method will randomly sample rows from a dataframe."
      ],
      "metadata": {
        "id": "onyBFF7sXFeL"
      }
    },
    {
      "cell_type": "code",
      "execution_count": null,
      "metadata": {
        "id": "vbhrI6ZhTzfQ"
      },
      "outputs": [],
      "source": [
        "def get_diverse_sample(df, sample_size=100, random_state=42):\n",
        "  \"\"\"\n",
        "  Get a diverse sample of the dataframe by sampling from each title\n",
        "  \"\"\"\n",
        "  sample_df = df.groupby(['title', 'is_impossible']).apply(lambda x: x.sample(min(len(x), max(1, sample_size // 50)), random_state=random_state)).reset_index(drop=True)\n",
        "\n",
        "  if len(sample_df) < sample_size:\n",
        "    remaining_sample_size = sample_size - len(sample_df)\n",
        "    remaining_df = df.drop(sample_df.index).sample(remaining_sample_size, random_state=random_state)\n",
        "    sample_df = pd.concat([sample_df, remaining_df]).sample(frac=1, random_state=random_state).reset_index(drop=True)\n",
        "\n",
        "  return sample_df.sample(min(sample_size, len(sample_df)), random_state=random_state).reset_index(drop=True)"
      ]
    },
    {
      "cell_type": "markdown",
      "source": [
        "### From the downloaded sample data, we had a train.json and a dev.json. This will convert it into a Pandas Dataframe."
      ],
      "metadata": {
        "id": "Vxex8cVdXTkf"
      }
    },
    {
      "cell_type": "code",
      "execution_count": null,
      "metadata": {
        "id": "b9vuvm7UdBcc"
      },
      "outputs": [],
      "source": [
        "train_df = json_to_dataframe_with_titles(json.load(open('local_cache/train.json')))\n",
        "val_df = json_to_dataframe_with_titles(json.load(open('local_cache/dev.json')))"
      ]
    },
    {
      "cell_type": "markdown",
      "source": [
        "### The size of train_df and val_df respectively."
      ],
      "metadata": {
        "id": "lhPH0kBaXkhy"
      }
    },
    {
      "cell_type": "code",
      "source": [
        "print(train_df.shape)\n",
        "print(val_df.shape)"
      ],
      "metadata": {
        "colab": {
          "base_uri": "https://localhost:8080/"
        },
        "id": "RPILuBXWXkp5",
        "outputId": "dd94154a-2ce0-4ae7-9658-9495eb091f37"
      },
      "execution_count": null,
      "outputs": [
        {
          "output_type": "stream",
          "name": "stdout",
          "text": [
            "(130319, 5)\n",
            "(11873, 5)\n"
          ]
        }
      ]
    },
    {
      "cell_type": "code",
      "source": [
        "train_df.columns"
      ],
      "metadata": {
        "colab": {
          "base_uri": "https://localhost:8080/"
        },
        "id": "EpgK0qiJXxuL",
        "outputId": "66b3ebf6-a6c4-4850-d763-7a86f9844bcb"
      },
      "execution_count": null,
      "outputs": [
        {
          "output_type": "execute_result",
          "data": {
            "text/plain": [
              "Index(['title', 'question', 'context', 'is_impossible', 'answers'], dtype='object')"
            ]
          },
          "metadata": {},
          "execution_count": 45
        }
      ]
    },
    {
      "cell_type": "code",
      "source": [
        "val_df.columns"
      ],
      "metadata": {
        "colab": {
          "base_uri": "https://localhost:8080/"
        },
        "id": "JM_AMNl5YM2g",
        "outputId": "8c82dcbd-2bd4-46e8-92d6-28ca9c891e8f"
      },
      "execution_count": null,
      "outputs": [
        {
          "output_type": "execute_result",
          "data": {
            "text/plain": [
              "Index(['title', 'question', 'context', 'is_impossible', 'answers'], dtype='object')"
            ]
          },
          "metadata": {},
          "execution_count": 46
        }
      ]
    },
    {
      "cell_type": "markdown",
      "source": [
        "### Using the sampling function, sample out 100 rows."
      ],
      "metadata": {
        "id": "n7bw6uHBXSn3"
      }
    },
    {
      "cell_type": "code",
      "execution_count": null,
      "metadata": {
        "colab": {
          "base_uri": "https://localhost:8080/",
          "height": 293
        },
        "id": "zGSywk7-pFAp",
        "outputId": "c01cbbdf-5820-41ae-9ae1-89ab745f33cc"
      },
      "outputs": [
        {
          "output_type": "execute_result",
          "data": {
            "text/plain": [
              "                   title                                           question  \\\n",
              "0    Scottish_Parliament  What consequence of establishing the Scottish ...   \n",
              "1            Imperialism  Imperialism is less often associated with whic...   \n",
              "2    Economic_inequality  What issues can't prevent women from working o...   \n",
              "3    Southern_California  What county are Los Angeles, Orange, San Diego...   \n",
              "4  French_and_Indian_War             When was the deportation of Canadians?   \n",
              "\n",
              "                                             context  is_impossible  \\\n",
              "0  A procedural consequence of the establishment ...          False   \n",
              "1  The principles of imperialism are often genera...           True   \n",
              "2  When a person’s capabilities are lowered, they...           True   \n",
              "3  Its counties of Los Angeles, Orange, San Diego...           True   \n",
              "4  Britain gained control of French Canada and Ac...           True   \n",
              "\n",
              "                                             answers  \n",
              "0  [able to vote on domestic legislation that app...  \n",
              "1                                                 []  \n",
              "2                                                 []  \n",
              "3                                                 []  \n",
              "4                                                 []  "
            ],
            "text/html": [
              "\n",
              "  <div id=\"df-a7b0da8e-eab5-4e7b-8fa9-ca523d9a5a27\" class=\"colab-df-container\">\n",
              "    <div>\n",
              "<style scoped>\n",
              "    .dataframe tbody tr th:only-of-type {\n",
              "        vertical-align: middle;\n",
              "    }\n",
              "\n",
              "    .dataframe tbody tr th {\n",
              "        vertical-align: top;\n",
              "    }\n",
              "\n",
              "    .dataframe thead th {\n",
              "        text-align: right;\n",
              "    }\n",
              "</style>\n",
              "<table border=\"1\" class=\"dataframe\">\n",
              "  <thead>\n",
              "    <tr style=\"text-align: right;\">\n",
              "      <th></th>\n",
              "      <th>title</th>\n",
              "      <th>question</th>\n",
              "      <th>context</th>\n",
              "      <th>is_impossible</th>\n",
              "      <th>answers</th>\n",
              "    </tr>\n",
              "  </thead>\n",
              "  <tbody>\n",
              "    <tr>\n",
              "      <th>0</th>\n",
              "      <td>Scottish_Parliament</td>\n",
              "      <td>What consequence of establishing the Scottish ...</td>\n",
              "      <td>A procedural consequence of the establishment ...</td>\n",
              "      <td>False</td>\n",
              "      <td>[able to vote on domestic legislation that app...</td>\n",
              "    </tr>\n",
              "    <tr>\n",
              "      <th>1</th>\n",
              "      <td>Imperialism</td>\n",
              "      <td>Imperialism is less often associated with whic...</td>\n",
              "      <td>The principles of imperialism are often genera...</td>\n",
              "      <td>True</td>\n",
              "      <td>[]</td>\n",
              "    </tr>\n",
              "    <tr>\n",
              "      <th>2</th>\n",
              "      <td>Economic_inequality</td>\n",
              "      <td>What issues can't prevent women from working o...</td>\n",
              "      <td>When a person’s capabilities are lowered, they...</td>\n",
              "      <td>True</td>\n",
              "      <td>[]</td>\n",
              "    </tr>\n",
              "    <tr>\n",
              "      <th>3</th>\n",
              "      <td>Southern_California</td>\n",
              "      <td>What county are Los Angeles, Orange, San Diego...</td>\n",
              "      <td>Its counties of Los Angeles, Orange, San Diego...</td>\n",
              "      <td>True</td>\n",
              "      <td>[]</td>\n",
              "    </tr>\n",
              "    <tr>\n",
              "      <th>4</th>\n",
              "      <td>French_and_Indian_War</td>\n",
              "      <td>When was the deportation of Canadians?</td>\n",
              "      <td>Britain gained control of French Canada and Ac...</td>\n",
              "      <td>True</td>\n",
              "      <td>[]</td>\n",
              "    </tr>\n",
              "  </tbody>\n",
              "</table>\n",
              "</div>\n",
              "    <div class=\"colab-df-buttons\">\n",
              "\n",
              "  <div class=\"colab-df-container\">\n",
              "    <button class=\"colab-df-convert\" onclick=\"convertToInteractive('df-a7b0da8e-eab5-4e7b-8fa9-ca523d9a5a27')\"\n",
              "            title=\"Convert this dataframe to an interactive table.\"\n",
              "            style=\"display:none;\">\n",
              "\n",
              "  <svg xmlns=\"http://www.w3.org/2000/svg\" height=\"24px\" viewBox=\"0 -960 960 960\">\n",
              "    <path d=\"M120-120v-720h720v720H120Zm60-500h600v-160H180v160Zm220 220h160v-160H400v160Zm0 220h160v-160H400v160ZM180-400h160v-160H180v160Zm440 0h160v-160H620v160ZM180-180h160v-160H180v160Zm440 0h160v-160H620v160Z\"/>\n",
              "  </svg>\n",
              "    </button>\n",
              "\n",
              "  <style>\n",
              "    .colab-df-container {\n",
              "      display:flex;\n",
              "      gap: 12px;\n",
              "    }\n",
              "\n",
              "    .colab-df-convert {\n",
              "      background-color: #E8F0FE;\n",
              "      border: none;\n",
              "      border-radius: 50%;\n",
              "      cursor: pointer;\n",
              "      display: none;\n",
              "      fill: #1967D2;\n",
              "      height: 32px;\n",
              "      padding: 0 0 0 0;\n",
              "      width: 32px;\n",
              "    }\n",
              "\n",
              "    .colab-df-convert:hover {\n",
              "      background-color: #E2EBFA;\n",
              "      box-shadow: 0px 1px 2px rgba(60, 64, 67, 0.3), 0px 1px 3px 1px rgba(60, 64, 67, 0.15);\n",
              "      fill: #174EA6;\n",
              "    }\n",
              "\n",
              "    .colab-df-buttons div {\n",
              "      margin-bottom: 4px;\n",
              "    }\n",
              "\n",
              "    [theme=dark] .colab-df-convert {\n",
              "      background-color: #3B4455;\n",
              "      fill: #D2E3FC;\n",
              "    }\n",
              "\n",
              "    [theme=dark] .colab-df-convert:hover {\n",
              "      background-color: #434B5C;\n",
              "      box-shadow: 0px 1px 3px 1px rgba(0, 0, 0, 0.15);\n",
              "      filter: drop-shadow(0px 1px 2px rgba(0, 0, 0, 0.3));\n",
              "      fill: #FFFFFF;\n",
              "    }\n",
              "  </style>\n",
              "\n",
              "    <script>\n",
              "      const buttonEl =\n",
              "        document.querySelector('#df-a7b0da8e-eab5-4e7b-8fa9-ca523d9a5a27 button.colab-df-convert');\n",
              "      buttonEl.style.display =\n",
              "        google.colab.kernel.accessAllowed ? 'block' : 'none';\n",
              "\n",
              "      async function convertToInteractive(key) {\n",
              "        const element = document.querySelector('#df-a7b0da8e-eab5-4e7b-8fa9-ca523d9a5a27');\n",
              "        const dataTable =\n",
              "          await google.colab.kernel.invokeFunction('convertToInteractive',\n",
              "                                                    [key], {});\n",
              "        if (!dataTable) return;\n",
              "\n",
              "        const docLinkHtml = 'Like what you see? Visit the ' +\n",
              "          '<a target=\"_blank\" href=https://colab.research.google.com/notebooks/data_table.ipynb>data table notebook</a>'\n",
              "          + ' to learn more about interactive tables.';\n",
              "        element.innerHTML = '';\n",
              "        dataTable['output_type'] = 'display_data';\n",
              "        await google.colab.output.renderOutput(dataTable, element);\n",
              "        const docLink = document.createElement('div');\n",
              "        docLink.innerHTML = docLinkHtml;\n",
              "        element.appendChild(docLink);\n",
              "      }\n",
              "    </script>\n",
              "  </div>\n",
              "\n",
              "\n",
              "<div id=\"df-9b730a50-5377-4f2b-9579-81e5f0ca7887\">\n",
              "  <button class=\"colab-df-quickchart\" onclick=\"quickchart('df-9b730a50-5377-4f2b-9579-81e5f0ca7887')\"\n",
              "            title=\"Suggest charts\"\n",
              "            style=\"display:none;\">\n",
              "\n",
              "<svg xmlns=\"http://www.w3.org/2000/svg\" height=\"24px\"viewBox=\"0 0 24 24\"\n",
              "     width=\"24px\">\n",
              "    <g>\n",
              "        <path d=\"M19 3H5c-1.1 0-2 .9-2 2v14c0 1.1.9 2 2 2h14c1.1 0 2-.9 2-2V5c0-1.1-.9-2-2-2zM9 17H7v-7h2v7zm4 0h-2V7h2v10zm4 0h-2v-4h2v4z\"/>\n",
              "    </g>\n",
              "</svg>\n",
              "  </button>\n",
              "\n",
              "<style>\n",
              "  .colab-df-quickchart {\n",
              "      --bg-color: #E8F0FE;\n",
              "      --fill-color: #1967D2;\n",
              "      --hover-bg-color: #E2EBFA;\n",
              "      --hover-fill-color: #174EA6;\n",
              "      --disabled-fill-color: #AAA;\n",
              "      --disabled-bg-color: #DDD;\n",
              "  }\n",
              "\n",
              "  [theme=dark] .colab-df-quickchart {\n",
              "      --bg-color: #3B4455;\n",
              "      --fill-color: #D2E3FC;\n",
              "      --hover-bg-color: #434B5C;\n",
              "      --hover-fill-color: #FFFFFF;\n",
              "      --disabled-bg-color: #3B4455;\n",
              "      --disabled-fill-color: #666;\n",
              "  }\n",
              "\n",
              "  .colab-df-quickchart {\n",
              "    background-color: var(--bg-color);\n",
              "    border: none;\n",
              "    border-radius: 50%;\n",
              "    cursor: pointer;\n",
              "    display: none;\n",
              "    fill: var(--fill-color);\n",
              "    height: 32px;\n",
              "    padding: 0;\n",
              "    width: 32px;\n",
              "  }\n",
              "\n",
              "  .colab-df-quickchart:hover {\n",
              "    background-color: var(--hover-bg-color);\n",
              "    box-shadow: 0 1px 2px rgba(60, 64, 67, 0.3), 0 1px 3px 1px rgba(60, 64, 67, 0.15);\n",
              "    fill: var(--button-hover-fill-color);\n",
              "  }\n",
              "\n",
              "  .colab-df-quickchart-complete:disabled,\n",
              "  .colab-df-quickchart-complete:disabled:hover {\n",
              "    background-color: var(--disabled-bg-color);\n",
              "    fill: var(--disabled-fill-color);\n",
              "    box-shadow: none;\n",
              "  }\n",
              "\n",
              "  .colab-df-spinner {\n",
              "    border: 2px solid var(--fill-color);\n",
              "    border-color: transparent;\n",
              "    border-bottom-color: var(--fill-color);\n",
              "    animation:\n",
              "      spin 1s steps(1) infinite;\n",
              "  }\n",
              "\n",
              "  @keyframes spin {\n",
              "    0% {\n",
              "      border-color: transparent;\n",
              "      border-bottom-color: var(--fill-color);\n",
              "      border-left-color: var(--fill-color);\n",
              "    }\n",
              "    20% {\n",
              "      border-color: transparent;\n",
              "      border-left-color: var(--fill-color);\n",
              "      border-top-color: var(--fill-color);\n",
              "    }\n",
              "    30% {\n",
              "      border-color: transparent;\n",
              "      border-left-color: var(--fill-color);\n",
              "      border-top-color: var(--fill-color);\n",
              "      border-right-color: var(--fill-color);\n",
              "    }\n",
              "    40% {\n",
              "      border-color: transparent;\n",
              "      border-right-color: var(--fill-color);\n",
              "      border-top-color: var(--fill-color);\n",
              "    }\n",
              "    60% {\n",
              "      border-color: transparent;\n",
              "      border-right-color: var(--fill-color);\n",
              "    }\n",
              "    80% {\n",
              "      border-color: transparent;\n",
              "      border-right-color: var(--fill-color);\n",
              "      border-bottom-color: var(--fill-color);\n",
              "    }\n",
              "    90% {\n",
              "      border-color: transparent;\n",
              "      border-bottom-color: var(--fill-color);\n",
              "    }\n",
              "  }\n",
              "</style>\n",
              "\n",
              "  <script>\n",
              "    async function quickchart(key) {\n",
              "      const quickchartButtonEl =\n",
              "        document.querySelector('#' + key + ' button');\n",
              "      quickchartButtonEl.disabled = true;  // To prevent multiple clicks.\n",
              "      quickchartButtonEl.classList.add('colab-df-spinner');\n",
              "      try {\n",
              "        const charts = await google.colab.kernel.invokeFunction(\n",
              "            'suggestCharts', [key], {});\n",
              "      } catch (error) {\n",
              "        console.error('Error during call to suggestCharts:', error);\n",
              "      }\n",
              "      quickchartButtonEl.classList.remove('colab-df-spinner');\n",
              "      quickchartButtonEl.classList.add('colab-df-quickchart-complete');\n",
              "    }\n",
              "    (() => {\n",
              "      let quickchartButtonEl =\n",
              "        document.querySelector('#df-9b730a50-5377-4f2b-9579-81e5f0ca7887 button');\n",
              "      quickchartButtonEl.style.display =\n",
              "        google.colab.kernel.accessAllowed ? 'block' : 'none';\n",
              "    })();\n",
              "  </script>\n",
              "</div>\n",
              "\n",
              "    </div>\n",
              "  </div>\n"
            ],
            "application/vnd.google.colaboratory.intrinsic+json": {
              "type": "dataframe",
              "variable_name": "df",
              "summary": "{\n  \"name\": \"df\",\n  \"rows\": 100,\n  \"fields\": [\n    {\n      \"column\": \"title\",\n      \"properties\": {\n        \"dtype\": \"category\",\n        \"num_unique_values\": 35,\n        \"samples\": [\n          \"Fresno,_California\",\n          \"Jacksonville,_Florida\",\n          \"Pharmacy\"\n        ],\n        \"semantic_type\": \"\",\n        \"description\": \"\"\n      }\n    },\n    {\n      \"column\": \"question\",\n      \"properties\": {\n        \"dtype\": \"string\",\n        \"num_unique_values\": 100,\n        \"samples\": [\n          \"What is a recent civil disobedience done in a group form?\",\n          \"What was the Colonia Agrippina's original name?\",\n          \"What architecture type came after Norman in England?\"\n        ],\n        \"semantic_type\": \"\",\n        \"description\": \"\"\n      }\n    },\n    {\n      \"column\": \"context\",\n      \"properties\": {\n        \"dtype\": \"string\",\n        \"num_unique_values\": 93,\n        \"samples\": [\n          \"Wealth concentration is a theoretical[according to whom?] process by which, under certain conditions, newly created wealth concentrates in the possession of already-wealthy individuals or entities. According to this theory, those who already hold wealth have the means to invest in new sources of creating wealth or to otherwise leverage the accumulation of wealth, thus are the beneficiaries of the new wealth. Over time, wealth condensation can significantly contribute to the persistence of inequality within society. Thomas Piketty in his book Capital in the Twenty-First Century argues that the fundamental force for divergence is the usually greater return of capital (r) than economic growth (g), and that larger fortunes generate higher returns [pp. 384 Table 12.2, U.S. university endowment size vs. real annual rate of return]\",\n          \"Larger drugs (>500 Da) can provoke a neutralizing immune response, particularly if the drugs are administered repeatedly, or in larger doses. This limits the effectiveness of drugs based on larger peptides and proteins (which are typically larger than 6000 Da). In some cases, the drug itself is not immunogenic, but may be co-administered with an immunogenic compound, as is sometimes the case for Taxol. Computational methods have been developed to predict the immunogenicity of peptides and proteins, which are particularly useful in designing therapeutic antibodies, assessing likely virulence of mutations in viral coat particles, and validation of proposed peptide-based drug treatments. Early techniques relied mainly on the observation that hydrophilic amino acids are overrepresented in epitope regions than hydrophobic amino acids; however, more recent developments rely on machine learning techniques using databases of existing known epitopes, usually on well-studied virus proteins, as a training set. A publicly accessible database has been established for the cataloguing of epitopes from pathogens known to be recognizable by B cells. The emerging field of bioinformatics-based studies of immunogenicity is referred to as immunoinformatics. Immunoproteomics is the study of large sets of proteins (proteomics) involved in the immune response.\",\n          \"2013 Economics Nobel prize winner Robert J. Shiller said that rising inequality in the United States and elsewhere is the most important problem. Increasing inequality harms economic growth. High and persistent unemployment, in which inequality increases, has a negative effect on subsequent long-run economic growth. Unemployment can harm growth not only because it is a waste of resources, but also because it generates redistributive pressures and subsequent distortions, drives people to poverty, constrains liquidity limiting labor mobility, and erodes self-esteem promoting social dislocation, unrest and conflict. Policies aiming at controlling unemployment and in particular at reducing its inequality-associated effects support economic growth.\"\n        ],\n        \"semantic_type\": \"\",\n        \"description\": \"\"\n      }\n    },\n    {\n      \"column\": \"is_impossible\",\n      \"properties\": {\n        \"dtype\": \"boolean\",\n        \"num_unique_values\": 2,\n        \"samples\": [\n          true,\n          false\n        ],\n        \"semantic_type\": \"\",\n        \"description\": \"\"\n      }\n    },\n    {\n      \"column\": \"answers\",\n      \"properties\": {\n        \"dtype\": \"object\",\n        \"semantic_type\": \"\",\n        \"description\": \"\"\n      }\n    }\n  ]\n}"
            }
          },
          "metadata": {},
          "execution_count": 9
        }
      ],
      "source": [
        "df = get_diverse_sample(val_df, sample_size=100, random_state=42)\n",
        "df.head()"
      ]
    },
    {
      "cell_type": "markdown",
      "metadata": {
        "id": "nqwHJlUOsfax"
      },
      "source": [
        "## **1. Answer using Base gpt-3.5-turbo model**"
      ]
    },
    {
      "cell_type": "markdown",
      "metadata": {
        "id": "dcgGjslns08B"
      },
      "source": [
        "### First using zero-prompt and attempt to see how well gpt 3.5 answers. The following methed creates a simple prompt template."
      ]
    },
    {
      "cell_type": "code",
      "execution_count": null,
      "metadata": {
        "id": "xsI2pr27s4DR"
      },
      "outputs": [],
      "source": [
        "def get_prompt(row):\n",
        "  return [\n",
        "      {\"role\": \"system\", \"content\": \"You are a helpful assistant.\"},\n",
        "      {\n",
        "          \"role\": \"user\",\n",
        "          \"content\": f\"\"\"Answer the following Question based on the Context only. Only answer from the Context. If you don't know the answer, say 'I don't know'.\n",
        "          Question: {row.question}\\n\\n\n",
        "          Context: {row.context}\\n\\n\n",
        "          Answer:\\n\"\"\"\n",
        "      }\n",
        "  ]"
      ]
    },
    {
      "cell_type": "markdown",
      "metadata": {
        "id": "1fvmiBvuugYI"
      },
      "source": [
        "### The api_call method will make request to OpenAI to get chat completions. And the answer_question method will invoke api_call and return the answer."
      ]
    },
    {
      "cell_type": "code",
      "execution_count": null,
      "metadata": {
        "id": "LG5dOa2Guk-u"
      },
      "outputs": [],
      "source": [
        "@retry(wait=wait_exponential(multiplier=1, min=2, max=6))\n",
        "def api_call(messages, model):\n",
        "  return client.chat.completions.create(\n",
        "      model=model,\n",
        "      messages=messages,\n",
        "      stop=[\"\\n\\n\"],\n",
        "      max_tokens=100,\n",
        "      temperature=0.0,\n",
        "  )\n",
        "\n",
        "def answer_question(row, prompt_func=get_prompt, model=\"gpt-3.5-turbo\"):\n",
        "  messages = prompt_func(row)\n",
        "  response = api_call(messages, model)\n",
        "  return response.choices[0].message.content"
      ]
    },
    {
      "cell_type": "markdown",
      "source": [
        "### By applying the answer_question method to every single row in our dataframe, the result is stored in a new column named \"generated_answer\"."
      ],
      "metadata": {
        "id": "mHo6jmkgZcTx"
      }
    },
    {
      "cell_type": "code",
      "execution_count": null,
      "metadata": {
        "colab": {
          "base_uri": "https://localhost:8080/"
        },
        "id": "J8YTEETjxWRE",
        "outputId": "066f9d79-3372-404c-c282-73c3bb8cba60"
      },
      "outputs": [
        {
          "name": "stderr",
          "output_type": "stream",
          "text": [
            "100%|██████████| 100/100 [00:56<00:00,  1.77it/s]\n"
          ]
        }
      ],
      "source": [
        "df[\"generated_answer\"] = df.progress_apply(answer_question, axis=1)"
      ]
    },
    {
      "cell_type": "code",
      "execution_count": null,
      "metadata": {
        "colab": {
          "base_uri": "https://localhost:8080/",
          "height": 397
        },
        "id": "tOu0Xr4Y0tu4",
        "outputId": "4c0eb0dc-88f1-4361-c355-3b04cc80d82d"
      },
      "outputs": [
        {
          "data": {
            "application/vnd.google.colaboratory.intrinsic+json": {
              "summary": "{\n  \"name\": \"df\",\n  \"rows\": 100,\n  \"fields\": [\n    {\n      \"column\": \"title\",\n      \"properties\": {\n        \"dtype\": \"category\",\n        \"num_unique_values\": 35,\n        \"samples\": [\n          \"Fresno,_California\",\n          \"Jacksonville,_Florida\",\n          \"Pharmacy\"\n        ],\n        \"semantic_type\": \"\",\n        \"description\": \"\"\n      }\n    },\n    {\n      \"column\": \"question\",\n      \"properties\": {\n        \"dtype\": \"string\",\n        \"num_unique_values\": 100,\n        \"samples\": [\n          \"What is a recent civil disobedience done in a group form?\",\n          \"What was the Colonia Agrippina's original name?\",\n          \"What architecture type came after Norman in England?\"\n        ],\n        \"semantic_type\": \"\",\n        \"description\": \"\"\n      }\n    },\n    {\n      \"column\": \"context\",\n      \"properties\": {\n        \"dtype\": \"string\",\n        \"num_unique_values\": 93,\n        \"samples\": [\n          \"Wealth concentration is a theoretical[according to whom?] process by which, under certain conditions, newly created wealth concentrates in the possession of already-wealthy individuals or entities. According to this theory, those who already hold wealth have the means to invest in new sources of creating wealth or to otherwise leverage the accumulation of wealth, thus are the beneficiaries of the new wealth. Over time, wealth condensation can significantly contribute to the persistence of inequality within society. Thomas Piketty in his book Capital in the Twenty-First Century argues that the fundamental force for divergence is the usually greater return of capital (r) than economic growth (g), and that larger fortunes generate higher returns [pp. 384 Table 12.2, U.S. university endowment size vs. real annual rate of return]\",\n          \"Larger drugs (>500 Da) can provoke a neutralizing immune response, particularly if the drugs are administered repeatedly, or in larger doses. This limits the effectiveness of drugs based on larger peptides and proteins (which are typically larger than 6000 Da). In some cases, the drug itself is not immunogenic, but may be co-administered with an immunogenic compound, as is sometimes the case for Taxol. Computational methods have been developed to predict the immunogenicity of peptides and proteins, which are particularly useful in designing therapeutic antibodies, assessing likely virulence of mutations in viral coat particles, and validation of proposed peptide-based drug treatments. Early techniques relied mainly on the observation that hydrophilic amino acids are overrepresented in epitope regions than hydrophobic amino acids; however, more recent developments rely on machine learning techniques using databases of existing known epitopes, usually on well-studied virus proteins, as a training set. A publicly accessible database has been established for the cataloguing of epitopes from pathogens known to be recognizable by B cells. The emerging field of bioinformatics-based studies of immunogenicity is referred to as immunoinformatics. Immunoproteomics is the study of large sets of proteins (proteomics) involved in the immune response.\",\n          \"2013 Economics Nobel prize winner Robert J. Shiller said that rising inequality in the United States and elsewhere is the most important problem. Increasing inequality harms economic growth. High and persistent unemployment, in which inequality increases, has a negative effect on subsequent long-run economic growth. Unemployment can harm growth not only because it is a waste of resources, but also because it generates redistributive pressures and subsequent distortions, drives people to poverty, constrains liquidity limiting labor mobility, and erodes self-esteem promoting social dislocation, unrest and conflict. Policies aiming at controlling unemployment and in particular at reducing its inequality-associated effects support economic growth.\"\n        ],\n        \"semantic_type\": \"\",\n        \"description\": \"\"\n      }\n    },\n    {\n      \"column\": \"is_impossible\",\n      \"properties\": {\n        \"dtype\": \"boolean\",\n        \"num_unique_values\": 2,\n        \"samples\": [\n          true,\n          false\n        ],\n        \"semantic_type\": \"\",\n        \"description\": \"\"\n      }\n    },\n    {\n      \"column\": \"answers\",\n      \"properties\": {\n        \"dtype\": \"object\",\n        \"semantic_type\": \"\",\n        \"description\": \"\"\n      }\n    },\n    {\n      \"column\": \"generated_answer\",\n      \"properties\": {\n        \"dtype\": \"string\",\n        \"num_unique_values\": 89,\n        \"samples\": [\n          \"The Merit network was formed in Michigan to explore computer networking between three of Michigan's public universities as a means to help the state's educational and economic development.\",\n          \"Genoese traders introduced plague to Europe.\"\n        ],\n        \"semantic_type\": \"\",\n        \"description\": \"\"\n      }\n    }\n  ]\n}",
              "type": "dataframe",
              "variable_name": "df"
            },
            "text/html": [
              "\n",
              "  <div id=\"df-5150634b-a083-4de9-ae41-c61f1b64f6da\" class=\"colab-df-container\">\n",
              "    <div>\n",
              "<style scoped>\n",
              "    .dataframe tbody tr th:only-of-type {\n",
              "        vertical-align: middle;\n",
              "    }\n",
              "\n",
              "    .dataframe tbody tr th {\n",
              "        vertical-align: top;\n",
              "    }\n",
              "\n",
              "    .dataframe thead th {\n",
              "        text-align: right;\n",
              "    }\n",
              "</style>\n",
              "<table border=\"1\" class=\"dataframe\">\n",
              "  <thead>\n",
              "    <tr style=\"text-align: right;\">\n",
              "      <th></th>\n",
              "      <th>title</th>\n",
              "      <th>question</th>\n",
              "      <th>context</th>\n",
              "      <th>is_impossible</th>\n",
              "      <th>answers</th>\n",
              "      <th>generated_answer</th>\n",
              "    </tr>\n",
              "  </thead>\n",
              "  <tbody>\n",
              "    <tr>\n",
              "      <th>0</th>\n",
              "      <td>Scottish_Parliament</td>\n",
              "      <td>What consequence of establishing the Scottish ...</td>\n",
              "      <td>A procedural consequence of the establishment ...</td>\n",
              "      <td>False</td>\n",
              "      <td>[able to vote on domestic legislation that app...</td>\n",
              "      <td>Scottish MPs sitting in the UK House of Common...</td>\n",
              "    </tr>\n",
              "    <tr>\n",
              "      <th>1</th>\n",
              "      <td>Imperialism</td>\n",
              "      <td>Imperialism is less often associated with whic...</td>\n",
              "      <td>The principles of imperialism are often genera...</td>\n",
              "      <td>True</td>\n",
              "      <td>[]</td>\n",
              "      <td>I don't know.</td>\n",
              "    </tr>\n",
              "    <tr>\n",
              "      <th>2</th>\n",
              "      <td>Economic_inequality</td>\n",
              "      <td>What issues can't prevent women from working o...</td>\n",
              "      <td>When a person’s capabilities are lowered, they...</td>\n",
              "      <td>True</td>\n",
              "      <td>[]</td>\n",
              "      <td>Gender roles and customs.</td>\n",
              "    </tr>\n",
              "    <tr>\n",
              "      <th>3</th>\n",
              "      <td>Southern_California</td>\n",
              "      <td>What county are Los Angeles, Orange, San Diego...</td>\n",
              "      <td>Its counties of Los Angeles, Orange, San Diego...</td>\n",
              "      <td>True</td>\n",
              "      <td>[]</td>\n",
              "      <td>California</td>\n",
              "    </tr>\n",
              "    <tr>\n",
              "      <th>4</th>\n",
              "      <td>French_and_Indian_War</td>\n",
              "      <td>When was the deportation of Canadians?</td>\n",
              "      <td>Britain gained control of French Canada and Ac...</td>\n",
              "      <td>True</td>\n",
              "      <td>[]</td>\n",
              "      <td>1755</td>\n",
              "    </tr>\n",
              "  </tbody>\n",
              "</table>\n",
              "</div>\n",
              "    <div class=\"colab-df-buttons\">\n",
              "\n",
              "  <div class=\"colab-df-container\">\n",
              "    <button class=\"colab-df-convert\" onclick=\"convertToInteractive('df-5150634b-a083-4de9-ae41-c61f1b64f6da')\"\n",
              "            title=\"Convert this dataframe to an interactive table.\"\n",
              "            style=\"display:none;\">\n",
              "\n",
              "  <svg xmlns=\"http://www.w3.org/2000/svg\" height=\"24px\" viewBox=\"0 -960 960 960\">\n",
              "    <path d=\"M120-120v-720h720v720H120Zm60-500h600v-160H180v160Zm220 220h160v-160H400v160Zm0 220h160v-160H400v160ZM180-400h160v-160H180v160Zm440 0h160v-160H620v160ZM180-180h160v-160H180v160Zm440 0h160v-160H620v160Z\"/>\n",
              "  </svg>\n",
              "    </button>\n",
              "\n",
              "  <style>\n",
              "    .colab-df-container {\n",
              "      display:flex;\n",
              "      gap: 12px;\n",
              "    }\n",
              "\n",
              "    .colab-df-convert {\n",
              "      background-color: #E8F0FE;\n",
              "      border: none;\n",
              "      border-radius: 50%;\n",
              "      cursor: pointer;\n",
              "      display: none;\n",
              "      fill: #1967D2;\n",
              "      height: 32px;\n",
              "      padding: 0 0 0 0;\n",
              "      width: 32px;\n",
              "    }\n",
              "\n",
              "    .colab-df-convert:hover {\n",
              "      background-color: #E2EBFA;\n",
              "      box-shadow: 0px 1px 2px rgba(60, 64, 67, 0.3), 0px 1px 3px 1px rgba(60, 64, 67, 0.15);\n",
              "      fill: #174EA6;\n",
              "    }\n",
              "\n",
              "    .colab-df-buttons div {\n",
              "      margin-bottom: 4px;\n",
              "    }\n",
              "\n",
              "    [theme=dark] .colab-df-convert {\n",
              "      background-color: #3B4455;\n",
              "      fill: #D2E3FC;\n",
              "    }\n",
              "\n",
              "    [theme=dark] .colab-df-convert:hover {\n",
              "      background-color: #434B5C;\n",
              "      box-shadow: 0px 1px 3px 1px rgba(0, 0, 0, 0.15);\n",
              "      filter: drop-shadow(0px 1px 2px rgba(0, 0, 0, 0.3));\n",
              "      fill: #FFFFFF;\n",
              "    }\n",
              "  </style>\n",
              "\n",
              "    <script>\n",
              "      const buttonEl =\n",
              "        document.querySelector('#df-5150634b-a083-4de9-ae41-c61f1b64f6da button.colab-df-convert');\n",
              "      buttonEl.style.display =\n",
              "        google.colab.kernel.accessAllowed ? 'block' : 'none';\n",
              "\n",
              "      async function convertToInteractive(key) {\n",
              "        const element = document.querySelector('#df-5150634b-a083-4de9-ae41-c61f1b64f6da');\n",
              "        const dataTable =\n",
              "          await google.colab.kernel.invokeFunction('convertToInteractive',\n",
              "                                                    [key], {});\n",
              "        if (!dataTable) return;\n",
              "\n",
              "        const docLinkHtml = 'Like what you see? Visit the ' +\n",
              "          '<a target=\"_blank\" href=https://colab.research.google.com/notebooks/data_table.ipynb>data table notebook</a>'\n",
              "          + ' to learn more about interactive tables.';\n",
              "        element.innerHTML = '';\n",
              "        dataTable['output_type'] = 'display_data';\n",
              "        await google.colab.output.renderOutput(dataTable, element);\n",
              "        const docLink = document.createElement('div');\n",
              "        docLink.innerHTML = docLinkHtml;\n",
              "        element.appendChild(docLink);\n",
              "      }\n",
              "    </script>\n",
              "  </div>\n",
              "\n",
              "\n",
              "<div id=\"df-5ba693fe-5cb7-4d03-901b-c42592d07691\">\n",
              "  <button class=\"colab-df-quickchart\" onclick=\"quickchart('df-5ba693fe-5cb7-4d03-901b-c42592d07691')\"\n",
              "            title=\"Suggest charts\"\n",
              "            style=\"display:none;\">\n",
              "\n",
              "<svg xmlns=\"http://www.w3.org/2000/svg\" height=\"24px\"viewBox=\"0 0 24 24\"\n",
              "     width=\"24px\">\n",
              "    <g>\n",
              "        <path d=\"M19 3H5c-1.1 0-2 .9-2 2v14c0 1.1.9 2 2 2h14c1.1 0 2-.9 2-2V5c0-1.1-.9-2-2-2zM9 17H7v-7h2v7zm4 0h-2V7h2v10zm4 0h-2v-4h2v4z\"/>\n",
              "    </g>\n",
              "</svg>\n",
              "  </button>\n",
              "\n",
              "<style>\n",
              "  .colab-df-quickchart {\n",
              "      --bg-color: #E8F0FE;\n",
              "      --fill-color: #1967D2;\n",
              "      --hover-bg-color: #E2EBFA;\n",
              "      --hover-fill-color: #174EA6;\n",
              "      --disabled-fill-color: #AAA;\n",
              "      --disabled-bg-color: #DDD;\n",
              "  }\n",
              "\n",
              "  [theme=dark] .colab-df-quickchart {\n",
              "      --bg-color: #3B4455;\n",
              "      --fill-color: #D2E3FC;\n",
              "      --hover-bg-color: #434B5C;\n",
              "      --hover-fill-color: #FFFFFF;\n",
              "      --disabled-bg-color: #3B4455;\n",
              "      --disabled-fill-color: #666;\n",
              "  }\n",
              "\n",
              "  .colab-df-quickchart {\n",
              "    background-color: var(--bg-color);\n",
              "    border: none;\n",
              "    border-radius: 50%;\n",
              "    cursor: pointer;\n",
              "    display: none;\n",
              "    fill: var(--fill-color);\n",
              "    height: 32px;\n",
              "    padding: 0;\n",
              "    width: 32px;\n",
              "  }\n",
              "\n",
              "  .colab-df-quickchart:hover {\n",
              "    background-color: var(--hover-bg-color);\n",
              "    box-shadow: 0 1px 2px rgba(60, 64, 67, 0.3), 0 1px 3px 1px rgba(60, 64, 67, 0.15);\n",
              "    fill: var(--button-hover-fill-color);\n",
              "  }\n",
              "\n",
              "  .colab-df-quickchart-complete:disabled,\n",
              "  .colab-df-quickchart-complete:disabled:hover {\n",
              "    background-color: var(--disabled-bg-color);\n",
              "    fill: var(--disabled-fill-color);\n",
              "    box-shadow: none;\n",
              "  }\n",
              "\n",
              "  .colab-df-spinner {\n",
              "    border: 2px solid var(--fill-color);\n",
              "    border-color: transparent;\n",
              "    border-bottom-color: var(--fill-color);\n",
              "    animation:\n",
              "      spin 1s steps(1) infinite;\n",
              "  }\n",
              "\n",
              "  @keyframes spin {\n",
              "    0% {\n",
              "      border-color: transparent;\n",
              "      border-bottom-color: var(--fill-color);\n",
              "      border-left-color: var(--fill-color);\n",
              "    }\n",
              "    20% {\n",
              "      border-color: transparent;\n",
              "      border-left-color: var(--fill-color);\n",
              "      border-top-color: var(--fill-color);\n",
              "    }\n",
              "    30% {\n",
              "      border-color: transparent;\n",
              "      border-left-color: var(--fill-color);\n",
              "      border-top-color: var(--fill-color);\n",
              "      border-right-color: var(--fill-color);\n",
              "    }\n",
              "    40% {\n",
              "      border-color: transparent;\n",
              "      border-right-color: var(--fill-color);\n",
              "      border-top-color: var(--fill-color);\n",
              "    }\n",
              "    60% {\n",
              "      border-color: transparent;\n",
              "      border-right-color: var(--fill-color);\n",
              "    }\n",
              "    80% {\n",
              "      border-color: transparent;\n",
              "      border-right-color: var(--fill-color);\n",
              "      border-bottom-color: var(--fill-color);\n",
              "    }\n",
              "    90% {\n",
              "      border-color: transparent;\n",
              "      border-bottom-color: var(--fill-color);\n",
              "    }\n",
              "  }\n",
              "</style>\n",
              "\n",
              "  <script>\n",
              "    async function quickchart(key) {\n",
              "      const quickchartButtonEl =\n",
              "        document.querySelector('#' + key + ' button');\n",
              "      quickchartButtonEl.disabled = true;  // To prevent multiple clicks.\n",
              "      quickchartButtonEl.classList.add('colab-df-spinner');\n",
              "      try {\n",
              "        const charts = await google.colab.kernel.invokeFunction(\n",
              "            'suggestCharts', [key], {});\n",
              "      } catch (error) {\n",
              "        console.error('Error during call to suggestCharts:', error);\n",
              "      }\n",
              "      quickchartButtonEl.classList.remove('colab-df-spinner');\n",
              "      quickchartButtonEl.classList.add('colab-df-quickchart-complete');\n",
              "    }\n",
              "    (() => {\n",
              "      let quickchartButtonEl =\n",
              "        document.querySelector('#df-5ba693fe-5cb7-4d03-901b-c42592d07691 button');\n",
              "      quickchartButtonEl.style.display =\n",
              "        google.colab.kernel.accessAllowed ? 'block' : 'none';\n",
              "    })();\n",
              "  </script>\n",
              "</div>\n",
              "\n",
              "    </div>\n",
              "  </div>\n"
            ],
            "text/plain": [
              "                   title                                           question  \\\n",
              "0    Scottish_Parliament  What consequence of establishing the Scottish ...   \n",
              "1            Imperialism  Imperialism is less often associated with whic...   \n",
              "2    Economic_inequality  What issues can't prevent women from working o...   \n",
              "3    Southern_California  What county are Los Angeles, Orange, San Diego...   \n",
              "4  French_and_Indian_War             When was the deportation of Canadians?   \n",
              "\n",
              "                                             context  is_impossible  \\\n",
              "0  A procedural consequence of the establishment ...          False   \n",
              "1  The principles of imperialism are often genera...           True   \n",
              "2  When a person’s capabilities are lowered, they...           True   \n",
              "3  Its counties of Los Angeles, Orange, San Diego...           True   \n",
              "4  Britain gained control of French Canada and Ac...           True   \n",
              "\n",
              "                                             answers  \\\n",
              "0  [able to vote on domestic legislation that app...   \n",
              "1                                                 []   \n",
              "2                                                 []   \n",
              "3                                                 []   \n",
              "4                                                 []   \n",
              "\n",
              "                                    generated_answer  \n",
              "0  Scottish MPs sitting in the UK House of Common...  \n",
              "1                                      I don't know.  \n",
              "2                          Gender roles and customs.  \n",
              "3                                         California  \n",
              "4                                               1755  "
            ]
          },
          "execution_count": 11,
          "metadata": {},
          "output_type": "execute_result"
        }
      ],
      "source": [
        "df.head()"
      ]
    },
    {
      "cell_type": "markdown",
      "metadata": {
        "id": "0PTdkNoB2zMy"
      },
      "source": [
        "## **2. Fine-tuning and Answering using Fine-tuned modal**"
      ]
    },
    {
      "cell_type": "markdown",
      "metadata": {
        "id": "PNyflHyseAzi"
      },
      "source": [
        "### In order to preparfe the fine data, methods below are defined to help. The method dataframe_to_jsonl takes in a dataframe. Using the values in the dataframe to create a prompt for each row and format the prompt into valid json format for OpenAI fine-tuning."
      ]
    },
    {
      "cell_type": "code",
      "execution_count": null,
      "metadata": {
        "id": "9Y5a_-ytd9ze"
      },
      "outputs": [],
      "source": [
        "def dataframe_to_jsonl(df):\n",
        "  def create_jsonl_entry(row):\n",
        "    answer = row[\"answer\"][0] if row[\"answer\"] else \"I don't know\"\n",
        "    messages = [\n",
        "        {\"role\": \"system\", \"content\": \"You are a helpful assistant\"},\n",
        "        {\n",
        "            \"role\": \"user\",\n",
        "            \"content\": f\"\"\"Answer the following Question based on the Context only. Only answer from the Copntext. If you don't know the answer, say 'I don't know'.\n",
        "            Question: {row.question}\\n\\n\n",
        "            Context: {row.context}\\n\\n\n",
        "            Answer:\\n\"\"\"\n",
        "        },\n",
        "        {\"role\": \"assistant\", \"content\": answer}\n",
        "    ]\n",
        "    return json.dumps({\"messages\": messages})\n",
        "\n",
        "  jsonl_output = df.apply(create_jsonl_entry, axis=1)\n",
        "  return \"\\n\".join(jsonl_output)"
      ]
    },
    {
      "cell_type": "markdown",
      "source": [
        "### Sample another sample of size 100 and name it train_sample."
      ],
      "metadata": {
        "id": "jAJvrhxnajZm"
      }
    },
    {
      "cell_type": "code",
      "execution_count": null,
      "metadata": {
        "id": "w9aU0Z08goom"
      },
      "outputs": [],
      "source": [
        "train_sample = get_diverse_sample(train_df, sample_size=100, random_state=42)"
      ]
    },
    {
      "cell_type": "code",
      "execution_count": null,
      "metadata": {
        "colab": {
          "base_uri": "https://localhost:8080/",
          "height": 293
        },
        "id": "uPkRmXVZhEsx",
        "outputId": "cf797562-81cd-4636-90f2-654e9b7b6e49"
      },
      "outputs": [
        {
          "output_type": "execute_result",
          "data": {
            "text/plain": [
              "               title                                           question  \\\n",
              "0            Glacier                                  What is a cirque?   \n",
              "1  Labour_Party_(UK)       How much was the Labour majority reduced by?   \n",
              "2               Alps  What was placed in the mountains early in the ...   \n",
              "3            Uranium                                      What is OHSA?   \n",
              "4           Baptists  When did Baptist congregations split over slav...   \n",
              "\n",
              "                                             context  is_impossible  \\\n",
              "0  Glaciers form where the accumulation of snow a...          False   \n",
              "1  Labour improved its performance in 1987, gaini...           True   \n",
              "2  The severe weather in the Alps has been studie...          False   \n",
              "3  A person can be exposed to uranium (or its rad...           True   \n",
              "4  In May 1845, the Baptist congregations in the ...          False   \n",
              "\n",
              "                               answers  \n",
              "0  [The area in which a glacier forms]  \n",
              "1                                   []  \n",
              "2          [Numerous weather stations]  \n",
              "3                                   []  \n",
              "4                           [May 1845]  "
            ],
            "text/html": [
              "\n",
              "  <div id=\"df-6e7f6ba7-fbe2-4f68-8226-8c5b9654321c\" class=\"colab-df-container\">\n",
              "    <div>\n",
              "<style scoped>\n",
              "    .dataframe tbody tr th:only-of-type {\n",
              "        vertical-align: middle;\n",
              "    }\n",
              "\n",
              "    .dataframe tbody tr th {\n",
              "        vertical-align: top;\n",
              "    }\n",
              "\n",
              "    .dataframe thead th {\n",
              "        text-align: right;\n",
              "    }\n",
              "</style>\n",
              "<table border=\"1\" class=\"dataframe\">\n",
              "  <thead>\n",
              "    <tr style=\"text-align: right;\">\n",
              "      <th></th>\n",
              "      <th>title</th>\n",
              "      <th>question</th>\n",
              "      <th>context</th>\n",
              "      <th>is_impossible</th>\n",
              "      <th>answers</th>\n",
              "    </tr>\n",
              "  </thead>\n",
              "  <tbody>\n",
              "    <tr>\n",
              "      <th>0</th>\n",
              "      <td>Glacier</td>\n",
              "      <td>What is a cirque?</td>\n",
              "      <td>Glaciers form where the accumulation of snow a...</td>\n",
              "      <td>False</td>\n",
              "      <td>[The area in which a glacier forms]</td>\n",
              "    </tr>\n",
              "    <tr>\n",
              "      <th>1</th>\n",
              "      <td>Labour_Party_(UK)</td>\n",
              "      <td>How much was the Labour majority reduced by?</td>\n",
              "      <td>Labour improved its performance in 1987, gaini...</td>\n",
              "      <td>True</td>\n",
              "      <td>[]</td>\n",
              "    </tr>\n",
              "    <tr>\n",
              "      <th>2</th>\n",
              "      <td>Alps</td>\n",
              "      <td>What was placed in the mountains early in the ...</td>\n",
              "      <td>The severe weather in the Alps has been studie...</td>\n",
              "      <td>False</td>\n",
              "      <td>[Numerous weather stations]</td>\n",
              "    </tr>\n",
              "    <tr>\n",
              "      <th>3</th>\n",
              "      <td>Uranium</td>\n",
              "      <td>What is OHSA?</td>\n",
              "      <td>A person can be exposed to uranium (or its rad...</td>\n",
              "      <td>True</td>\n",
              "      <td>[]</td>\n",
              "    </tr>\n",
              "    <tr>\n",
              "      <th>4</th>\n",
              "      <td>Baptists</td>\n",
              "      <td>When did Baptist congregations split over slav...</td>\n",
              "      <td>In May 1845, the Baptist congregations in the ...</td>\n",
              "      <td>False</td>\n",
              "      <td>[May 1845]</td>\n",
              "    </tr>\n",
              "  </tbody>\n",
              "</table>\n",
              "</div>\n",
              "    <div class=\"colab-df-buttons\">\n",
              "\n",
              "  <div class=\"colab-df-container\">\n",
              "    <button class=\"colab-df-convert\" onclick=\"convertToInteractive('df-6e7f6ba7-fbe2-4f68-8226-8c5b9654321c')\"\n",
              "            title=\"Convert this dataframe to an interactive table.\"\n",
              "            style=\"display:none;\">\n",
              "\n",
              "  <svg xmlns=\"http://www.w3.org/2000/svg\" height=\"24px\" viewBox=\"0 -960 960 960\">\n",
              "    <path d=\"M120-120v-720h720v720H120Zm60-500h600v-160H180v160Zm220 220h160v-160H400v160Zm0 220h160v-160H400v160ZM180-400h160v-160H180v160Zm440 0h160v-160H620v160ZM180-180h160v-160H180v160Zm440 0h160v-160H620v160Z\"/>\n",
              "  </svg>\n",
              "    </button>\n",
              "\n",
              "  <style>\n",
              "    .colab-df-container {\n",
              "      display:flex;\n",
              "      gap: 12px;\n",
              "    }\n",
              "\n",
              "    .colab-df-convert {\n",
              "      background-color: #E8F0FE;\n",
              "      border: none;\n",
              "      border-radius: 50%;\n",
              "      cursor: pointer;\n",
              "      display: none;\n",
              "      fill: #1967D2;\n",
              "      height: 32px;\n",
              "      padding: 0 0 0 0;\n",
              "      width: 32px;\n",
              "    }\n",
              "\n",
              "    .colab-df-convert:hover {\n",
              "      background-color: #E2EBFA;\n",
              "      box-shadow: 0px 1px 2px rgba(60, 64, 67, 0.3), 0px 1px 3px 1px rgba(60, 64, 67, 0.15);\n",
              "      fill: #174EA6;\n",
              "    }\n",
              "\n",
              "    .colab-df-buttons div {\n",
              "      margin-bottom: 4px;\n",
              "    }\n",
              "\n",
              "    [theme=dark] .colab-df-convert {\n",
              "      background-color: #3B4455;\n",
              "      fill: #D2E3FC;\n",
              "    }\n",
              "\n",
              "    [theme=dark] .colab-df-convert:hover {\n",
              "      background-color: #434B5C;\n",
              "      box-shadow: 0px 1px 3px 1px rgba(0, 0, 0, 0.15);\n",
              "      filter: drop-shadow(0px 1px 2px rgba(0, 0, 0, 0.3));\n",
              "      fill: #FFFFFF;\n",
              "    }\n",
              "  </style>\n",
              "\n",
              "    <script>\n",
              "      const buttonEl =\n",
              "        document.querySelector('#df-6e7f6ba7-fbe2-4f68-8226-8c5b9654321c button.colab-df-convert');\n",
              "      buttonEl.style.display =\n",
              "        google.colab.kernel.accessAllowed ? 'block' : 'none';\n",
              "\n",
              "      async function convertToInteractive(key) {\n",
              "        const element = document.querySelector('#df-6e7f6ba7-fbe2-4f68-8226-8c5b9654321c');\n",
              "        const dataTable =\n",
              "          await google.colab.kernel.invokeFunction('convertToInteractive',\n",
              "                                                    [key], {});\n",
              "        if (!dataTable) return;\n",
              "\n",
              "        const docLinkHtml = 'Like what you see? Visit the ' +\n",
              "          '<a target=\"_blank\" href=https://colab.research.google.com/notebooks/data_table.ipynb>data table notebook</a>'\n",
              "          + ' to learn more about interactive tables.';\n",
              "        element.innerHTML = '';\n",
              "        dataTable['output_type'] = 'display_data';\n",
              "        await google.colab.output.renderOutput(dataTable, element);\n",
              "        const docLink = document.createElement('div');\n",
              "        docLink.innerHTML = docLinkHtml;\n",
              "        element.appendChild(docLink);\n",
              "      }\n",
              "    </script>\n",
              "  </div>\n",
              "\n",
              "\n",
              "<div id=\"df-fb7a0ca3-d15e-40df-94fa-c4616e047cf3\">\n",
              "  <button class=\"colab-df-quickchart\" onclick=\"quickchart('df-fb7a0ca3-d15e-40df-94fa-c4616e047cf3')\"\n",
              "            title=\"Suggest charts\"\n",
              "            style=\"display:none;\">\n",
              "\n",
              "<svg xmlns=\"http://www.w3.org/2000/svg\" height=\"24px\"viewBox=\"0 0 24 24\"\n",
              "     width=\"24px\">\n",
              "    <g>\n",
              "        <path d=\"M19 3H5c-1.1 0-2 .9-2 2v14c0 1.1.9 2 2 2h14c1.1 0 2-.9 2-2V5c0-1.1-.9-2-2-2zM9 17H7v-7h2v7zm4 0h-2V7h2v10zm4 0h-2v-4h2v4z\"/>\n",
              "    </g>\n",
              "</svg>\n",
              "  </button>\n",
              "\n",
              "<style>\n",
              "  .colab-df-quickchart {\n",
              "      --bg-color: #E8F0FE;\n",
              "      --fill-color: #1967D2;\n",
              "      --hover-bg-color: #E2EBFA;\n",
              "      --hover-fill-color: #174EA6;\n",
              "      --disabled-fill-color: #AAA;\n",
              "      --disabled-bg-color: #DDD;\n",
              "  }\n",
              "\n",
              "  [theme=dark] .colab-df-quickchart {\n",
              "      --bg-color: #3B4455;\n",
              "      --fill-color: #D2E3FC;\n",
              "      --hover-bg-color: #434B5C;\n",
              "      --hover-fill-color: #FFFFFF;\n",
              "      --disabled-bg-color: #3B4455;\n",
              "      --disabled-fill-color: #666;\n",
              "  }\n",
              "\n",
              "  .colab-df-quickchart {\n",
              "    background-color: var(--bg-color);\n",
              "    border: none;\n",
              "    border-radius: 50%;\n",
              "    cursor: pointer;\n",
              "    display: none;\n",
              "    fill: var(--fill-color);\n",
              "    height: 32px;\n",
              "    padding: 0;\n",
              "    width: 32px;\n",
              "  }\n",
              "\n",
              "  .colab-df-quickchart:hover {\n",
              "    background-color: var(--hover-bg-color);\n",
              "    box-shadow: 0 1px 2px rgba(60, 64, 67, 0.3), 0 1px 3px 1px rgba(60, 64, 67, 0.15);\n",
              "    fill: var(--button-hover-fill-color);\n",
              "  }\n",
              "\n",
              "  .colab-df-quickchart-complete:disabled,\n",
              "  .colab-df-quickchart-complete:disabled:hover {\n",
              "    background-color: var(--disabled-bg-color);\n",
              "    fill: var(--disabled-fill-color);\n",
              "    box-shadow: none;\n",
              "  }\n",
              "\n",
              "  .colab-df-spinner {\n",
              "    border: 2px solid var(--fill-color);\n",
              "    border-color: transparent;\n",
              "    border-bottom-color: var(--fill-color);\n",
              "    animation:\n",
              "      spin 1s steps(1) infinite;\n",
              "  }\n",
              "\n",
              "  @keyframes spin {\n",
              "    0% {\n",
              "      border-color: transparent;\n",
              "      border-bottom-color: var(--fill-color);\n",
              "      border-left-color: var(--fill-color);\n",
              "    }\n",
              "    20% {\n",
              "      border-color: transparent;\n",
              "      border-left-color: var(--fill-color);\n",
              "      border-top-color: var(--fill-color);\n",
              "    }\n",
              "    30% {\n",
              "      border-color: transparent;\n",
              "      border-left-color: var(--fill-color);\n",
              "      border-top-color: var(--fill-color);\n",
              "      border-right-color: var(--fill-color);\n",
              "    }\n",
              "    40% {\n",
              "      border-color: transparent;\n",
              "      border-right-color: var(--fill-color);\n",
              "      border-top-color: var(--fill-color);\n",
              "    }\n",
              "    60% {\n",
              "      border-color: transparent;\n",
              "      border-right-color: var(--fill-color);\n",
              "    }\n",
              "    80% {\n",
              "      border-color: transparent;\n",
              "      border-right-color: var(--fill-color);\n",
              "      border-bottom-color: var(--fill-color);\n",
              "    }\n",
              "    90% {\n",
              "      border-color: transparent;\n",
              "      border-bottom-color: var(--fill-color);\n",
              "    }\n",
              "  }\n",
              "</style>\n",
              "\n",
              "  <script>\n",
              "    async function quickchart(key) {\n",
              "      const quickchartButtonEl =\n",
              "        document.querySelector('#' + key + ' button');\n",
              "      quickchartButtonEl.disabled = true;  // To prevent multiple clicks.\n",
              "      quickchartButtonEl.classList.add('colab-df-spinner');\n",
              "      try {\n",
              "        const charts = await google.colab.kernel.invokeFunction(\n",
              "            'suggestCharts', [key], {});\n",
              "      } catch (error) {\n",
              "        console.error('Error during call to suggestCharts:', error);\n",
              "      }\n",
              "      quickchartButtonEl.classList.remove('colab-df-spinner');\n",
              "      quickchartButtonEl.classList.add('colab-df-quickchart-complete');\n",
              "    }\n",
              "    (() => {\n",
              "      let quickchartButtonEl =\n",
              "        document.querySelector('#df-fb7a0ca3-d15e-40df-94fa-c4616e047cf3 button');\n",
              "      quickchartButtonEl.style.display =\n",
              "        google.colab.kernel.accessAllowed ? 'block' : 'none';\n",
              "    })();\n",
              "  </script>\n",
              "</div>\n",
              "\n",
              "    </div>\n",
              "  </div>\n"
            ],
            "application/vnd.google.colaboratory.intrinsic+json": {
              "type": "dataframe",
              "variable_name": "train_sample",
              "summary": "{\n  \"name\": \"train_sample\",\n  \"rows\": 100,\n  \"fields\": [\n    {\n      \"column\": \"title\",\n      \"properties\": {\n        \"dtype\": \"string\",\n        \"num_unique_values\": 92,\n        \"samples\": [\n          \"Late_Middle_Ages\",\n          \"Hunter-gatherer\",\n          \"Miami\"\n        ],\n        \"semantic_type\": \"\",\n        \"description\": \"\"\n      }\n    },\n    {\n      \"column\": \"question\",\n      \"properties\": {\n        \"dtype\": \"string\",\n        \"num_unique_values\": 100,\n        \"samples\": [\n          \"When did Congress secure an absolute majority?\",\n          \"Was Duchamp's work considered controversial when displayed in 1912?\",\n          \"What category is not defined to contain pleasure, pain, motivation, moods and dispositions?\"\n        ],\n        \"semantic_type\": \"\",\n        \"description\": \"\"\n      }\n    },\n    {\n      \"column\": \"context\",\n      \"properties\": {\n        \"dtype\": \"string\",\n        \"num_unique_values\": 100,\n        \"samples\": [\n          \"In the assembly elections held in November 2012, the Congress secured an absolute majority. The Congress won 36 of the 68 seats while the BJP won only 26 of the 68 seats. Virbhadra Singh was sworn-in as Himachal Pradesh's Chief Minister for a record sixth term in Shimla on 25 December 2012. Virbhadra Singh who has held the top office in Himachal five times in the past, was administered the oath of office and secrecy by Governor Urmila Singh at an open ceremony at the historic Ridge Maidan in Shimla.\",\n          \"The subsequent 1912 Salon des Ind\\u00e9pendants was marked by the presentation of Marcel Duchamp's Nude Descending a Staircase, No. 2, which itself caused a scandal, even amongst the Cubists. It was in fact rejected by the hanging committee, which included his brothers and other Cubists. Although the work was shown in the Salon de la Section d'Or in October 1912 and the 1913 Armory Show in New York, Duchamp never forgave his brothers and former colleagues for censoring his work. Juan Gris, a new addition to the Salon scene, exhibited his Portrait of Picasso (Art Institute of Chicago), while Metzinger's two showings included La Femme au Cheval (Woman with a horse) 1911-1912 (National Gallery of Denmark). Delaunay's monumental La Ville de Paris (Mus\\u00e9e d'art moderne de la Ville de Paris) and L\\u00e9ger's La Noce, The Wedding (Mus\\u00e9e National d'Art Moderne, Paris) were also exhibited.\",\n          \"A distinction can be made between emotional episodes and emotional dispositions. Emotional dispositions are also comparable to character traits, where someone may be said to be generally disposed to experience certain emotions. For example, an irritable person is generally disposed to feel irritation more easily or quickly than others do. Finally, some theorists place emotions within a more general category of \\\"affective states\\\" where affective states can also include emotion-related phenomena such as pleasure and pain, motivational states (for example, hunger or curiosity), moods, dispositions and traits.\"\n        ],\n        \"semantic_type\": \"\",\n        \"description\": \"\"\n      }\n    },\n    {\n      \"column\": \"is_impossible\",\n      \"properties\": {\n        \"dtype\": \"boolean\",\n        \"num_unique_values\": 2,\n        \"samples\": [\n          true,\n          false\n        ],\n        \"semantic_type\": \"\",\n        \"description\": \"\"\n      }\n    },\n    {\n      \"column\": \"answers\",\n      \"properties\": {\n        \"dtype\": \"object\",\n        \"semantic_type\": \"\",\n        \"description\": \"\"\n      }\n    }\n  ]\n}"
            }
          },
          "metadata": {},
          "execution_count": 98
        }
      ],
      "source": [
        "train_sample.head()"
      ]
    },
    {
      "cell_type": "markdown",
      "source": [
        "### Using the method dataframe_to_jsonl, transform train_sample into a json data and write it to the local disk."
      ],
      "metadata": {
        "id": "Bvk_jAamaszs"
      }
    },
    {
      "cell_type": "code",
      "execution_count": null,
      "metadata": {
        "id": "RzTf32fKhGNZ"
      },
      "outputs": [],
      "source": [
        "with open(\"local_cache/100_train.jsonl\", \"w\") as f:\n",
        "  f.write(dataframe_to_jsonl(train_sample))"
      ]
    },
    {
      "cell_type": "markdown",
      "metadata": {
        "id": "XCl-UWjWmGqq"
      },
      "source": [
        "### A class definition of methods that help with making api calls to OpenAI for fine-tuning."
      ]
    },
    {
      "cell_type": "code",
      "execution_count": null,
      "metadata": {
        "id": "7N2F7VWfmI0H"
      },
      "outputs": [],
      "source": [
        "class openAIFineTuner:\n",
        "\n",
        "  def __init__(self, training_file_path, model_name, suffix, client):\n",
        "    self.training_file_path = training_file_path\n",
        "    self.model_name = model_name\n",
        "    self.suffix = suffix\n",
        "    self.client = client\n",
        "    self.file_object = None\n",
        "    self.fine_tuning_job = None\n",
        "    self.model_id = None\n",
        "\n",
        "  def create_openai_file(self):\n",
        "    self.file_object = client.files.create(\n",
        "        file=open(self.training_file_path, \"rb\"),\n",
        "        purpose=\"fine-tune\"\n",
        "    )\n",
        "\n",
        "  def wait_for_file_processing(self, sleep_time=20):\n",
        "    while self.file_object.status != \"processed\":\n",
        "      time.sleep(sleep_time)\n",
        "      self.file_object = self.client.files.retrieve(self.file_object.id)\n",
        "      print(\"File Status: \", self.file_object.status)\n",
        "\n",
        "  def create_fine_tuning_job(self):\n",
        "    self.fine_tuning_job = self.client.fine_tuning.jobs.create(\n",
        "        training_file=self.file_object.id,\n",
        "        model=self.model_name,\n",
        "        suffix=self.suffix\n",
        "    )\n",
        "\n",
        "  def wait_for_fine_tuning(self, sleep_time=45):\n",
        "    while self.fine_tuning_job.status != \"succeeded\":\n",
        "      time.sleep(sleep_time)\n",
        "      self.fine_tuning_job = self.client.fine_tuning.jobs.retrieve(self.fine_tuning_job.id)\n",
        "      print(\"Job Status: \", self.fine_tuning_job.status)\n",
        "\n",
        "  def retrieve_fine_tuned_model(self):\n",
        "    self.model_id = self.client.fine_tuning.jobs.retrieve(self.fine_tuning_job.id).fine_tuned_model\n",
        "    return self.model_id\n",
        "\n",
        "  def fine_tune_model(self):\n",
        "    self.create_openai_file()\n",
        "    self.wait_for_file_processing()\n",
        "    self.create_fine_tuning_job()\n",
        "    self.wait_for_fine_tuning()\n",
        "    return self.retrieve_fine_tuned_model()"
      ]
    },
    {
      "cell_type": "markdown",
      "source": [
        "### Creating an instance of the fine-tuner class. It takes in a few parameters.\n",
        "- The flle path of the training file.\n",
        "- The gpt model name.\n",
        "- A suffix for the name of the fine-tuned model.\n",
        "- The client instance that is created uising your OpenAI API key.\n"
      ],
      "metadata": {
        "id": "rZAPN4x0bNh4"
      }
    },
    {
      "cell_type": "code",
      "execution_count": null,
      "metadata": {
        "id": "sr0coGrTpKBc"
      },
      "outputs": [],
      "source": [
        "fine_tuner = openAIFineTuner(\n",
        "    training_file_path=\"local_cache/100_train.jsonl\",\n",
        "    model_name=\"gpt-3.5-turbo\",\n",
        "    suffix=\"100train20240625\",\n",
        "    client=client\n",
        ")"
      ]
    },
    {
      "cell_type": "markdown",
      "source": [
        "### Invoking the fine-tuning process"
      ],
      "metadata": {
        "id": "RG7aGxllcHG7"
      }
    },
    {
      "cell_type": "code",
      "execution_count": null,
      "metadata": {
        "id": "0cNpUwKSqETV"
      },
      "outputs": [],
      "source": [
        "fine_tuner.fine_tune_model()"
      ]
    },
    {
      "cell_type": "markdown",
      "source": [
        "### Once the fine-tuning process is finished. Get a hold the fine-tune ID."
      ],
      "metadata": {
        "id": "1cMO3KtncUQg"
      }
    },
    {
      "cell_type": "code",
      "execution_count": null,
      "metadata": {
        "id": "fHfvPOuWxbu2"
      },
      "outputs": [],
      "source": [
        "model_id = userdata.get(\"fine_tuned_model_id\")"
      ]
    },
    {
      "cell_type": "markdown",
      "metadata": {
        "id": "eRCDyWRlw8GZ"
      },
      "source": [
        "### Apply every row in the dataframe with the answer_question method, which will send apporiate prompts and values from each row to get an answer back from a gpt model. In this case, the model is the model we just fined-tuned."
      ]
    },
    {
      "cell_type": "code",
      "execution_count": null,
      "metadata": {
        "colab": {
          "base_uri": "https://localhost:8080/",
          "height": 571
        },
        "id": "9kmYoYKXw7c8",
        "outputId": "1f61842a-862b-4645-f309-478855dc2ff8"
      },
      "outputs": [
        {
          "name": "stderr",
          "output_type": "stream",
          "text": [
            "100%|██████████| 100/100 [00:40<00:00,  2.45it/s]\n"
          ]
        },
        {
          "data": {
            "application/vnd.google.colaboratory.intrinsic+json": {
              "summary": "{\n  \"name\": \"df\",\n  \"rows\": 100,\n  \"fields\": [\n    {\n      \"column\": \"title\",\n      \"properties\": {\n        \"dtype\": \"category\",\n        \"num_unique_values\": 35,\n        \"samples\": [\n          \"Fresno,_California\",\n          \"Jacksonville,_Florida\",\n          \"Pharmacy\"\n        ],\n        \"semantic_type\": \"\",\n        \"description\": \"\"\n      }\n    },\n    {\n      \"column\": \"question\",\n      \"properties\": {\n        \"dtype\": \"string\",\n        \"num_unique_values\": 100,\n        \"samples\": [\n          \"What is a recent civil disobedience done in a group form?\",\n          \"What was the Colonia Agrippina's original name?\",\n          \"What architecture type came after Norman in England?\"\n        ],\n        \"semantic_type\": \"\",\n        \"description\": \"\"\n      }\n    },\n    {\n      \"column\": \"context\",\n      \"properties\": {\n        \"dtype\": \"string\",\n        \"num_unique_values\": 93,\n        \"samples\": [\n          \"Wealth concentration is a theoretical[according to whom?] process by which, under certain conditions, newly created wealth concentrates in the possession of already-wealthy individuals or entities. According to this theory, those who already hold wealth have the means to invest in new sources of creating wealth or to otherwise leverage the accumulation of wealth, thus are the beneficiaries of the new wealth. Over time, wealth condensation can significantly contribute to the persistence of inequality within society. Thomas Piketty in his book Capital in the Twenty-First Century argues that the fundamental force for divergence is the usually greater return of capital (r) than economic growth (g), and that larger fortunes generate higher returns [pp. 384 Table 12.2, U.S. university endowment size vs. real annual rate of return]\",\n          \"Larger drugs (>500 Da) can provoke a neutralizing immune response, particularly if the drugs are administered repeatedly, or in larger doses. This limits the effectiveness of drugs based on larger peptides and proteins (which are typically larger than 6000 Da). In some cases, the drug itself is not immunogenic, but may be co-administered with an immunogenic compound, as is sometimes the case for Taxol. Computational methods have been developed to predict the immunogenicity of peptides and proteins, which are particularly useful in designing therapeutic antibodies, assessing likely virulence of mutations in viral coat particles, and validation of proposed peptide-based drug treatments. Early techniques relied mainly on the observation that hydrophilic amino acids are overrepresented in epitope regions than hydrophobic amino acids; however, more recent developments rely on machine learning techniques using databases of existing known epitopes, usually on well-studied virus proteins, as a training set. A publicly accessible database has been established for the cataloguing of epitopes from pathogens known to be recognizable by B cells. The emerging field of bioinformatics-based studies of immunogenicity is referred to as immunoinformatics. Immunoproteomics is the study of large sets of proteins (proteomics) involved in the immune response.\",\n          \"2013 Economics Nobel prize winner Robert J. Shiller said that rising inequality in the United States and elsewhere is the most important problem. Increasing inequality harms economic growth. High and persistent unemployment, in which inequality increases, has a negative effect on subsequent long-run economic growth. Unemployment can harm growth not only because it is a waste of resources, but also because it generates redistributive pressures and subsequent distortions, drives people to poverty, constrains liquidity limiting labor mobility, and erodes self-esteem promoting social dislocation, unrest and conflict. Policies aiming at controlling unemployment and in particular at reducing its inequality-associated effects support economic growth.\"\n        ],\n        \"semantic_type\": \"\",\n        \"description\": \"\"\n      }\n    },\n    {\n      \"column\": \"is_impossible\",\n      \"properties\": {\n        \"dtype\": \"boolean\",\n        \"num_unique_values\": 2,\n        \"samples\": [\n          true,\n          false\n        ],\n        \"semantic_type\": \"\",\n        \"description\": \"\"\n      }\n    },\n    {\n      \"column\": \"answers\",\n      \"properties\": {\n        \"dtype\": \"object\",\n        \"semantic_type\": \"\",\n        \"description\": \"\"\n      }\n    },\n    {\n      \"column\": \"generated_answer\",\n      \"properties\": {\n        \"dtype\": \"string\",\n        \"num_unique_values\": 89,\n        \"samples\": [\n          \"The Merit network was formed in Michigan to explore computer networking between three of Michigan's public universities as a means to help the state's educational and economic development.\",\n          \"Genoese traders introduced plague to Europe.\"\n        ],\n        \"semantic_type\": \"\",\n        \"description\": \"\"\n      }\n    },\n    {\n      \"column\": \"ft_generated_answer\",\n      \"properties\": {\n        \"dtype\": \"category\",\n        \"num_unique_values\": 46,\n        \"samples\": [\n          \"multilateral negotiations\",\n          \"traditional private schools\"\n        ],\n        \"semantic_type\": \"\",\n        \"description\": \"\"\n      }\n    }\n  ]\n}",
              "type": "dataframe",
              "variable_name": "df"
            },
            "text/html": [
              "\n",
              "  <div id=\"df-d249ff0b-5230-4660-8f4e-e12d7c18d3a7\" class=\"colab-df-container\">\n",
              "    <div>\n",
              "<style scoped>\n",
              "    .dataframe tbody tr th:only-of-type {\n",
              "        vertical-align: middle;\n",
              "    }\n",
              "\n",
              "    .dataframe tbody tr th {\n",
              "        vertical-align: top;\n",
              "    }\n",
              "\n",
              "    .dataframe thead th {\n",
              "        text-align: right;\n",
              "    }\n",
              "</style>\n",
              "<table border=\"1\" class=\"dataframe\">\n",
              "  <thead>\n",
              "    <tr style=\"text-align: right;\">\n",
              "      <th></th>\n",
              "      <th>title</th>\n",
              "      <th>question</th>\n",
              "      <th>context</th>\n",
              "      <th>is_impossible</th>\n",
              "      <th>answers</th>\n",
              "      <th>generated_answer</th>\n",
              "      <th>ft_generated_answer</th>\n",
              "    </tr>\n",
              "  </thead>\n",
              "  <tbody>\n",
              "    <tr>\n",
              "      <th>0</th>\n",
              "      <td>Scottish_Parliament</td>\n",
              "      <td>What consequence of establishing the Scottish ...</td>\n",
              "      <td>A procedural consequence of the establishment ...</td>\n",
              "      <td>False</td>\n",
              "      <td>[able to vote on domestic legislation that app...</td>\n",
              "      <td>Scottish MPs sitting in the UK House of Common...</td>\n",
              "      <td>Scottish MPs sitting in the UK House of Common...</td>\n",
              "    </tr>\n",
              "    <tr>\n",
              "      <th>1</th>\n",
              "      <td>Imperialism</td>\n",
              "      <td>Imperialism is less often associated with whic...</td>\n",
              "      <td>The principles of imperialism are often genera...</td>\n",
              "      <td>True</td>\n",
              "      <td>[]</td>\n",
              "      <td>I don't know.</td>\n",
              "      <td>I dont't know</td>\n",
              "    </tr>\n",
              "    <tr>\n",
              "      <th>2</th>\n",
              "      <td>Economic_inequality</td>\n",
              "      <td>What issues can't prevent women from working o...</td>\n",
              "      <td>When a person’s capabilities are lowered, they...</td>\n",
              "      <td>True</td>\n",
              "      <td>[]</td>\n",
              "      <td>Gender roles and customs.</td>\n",
              "      <td>I dont't know</td>\n",
              "    </tr>\n",
              "    <tr>\n",
              "      <th>3</th>\n",
              "      <td>Southern_California</td>\n",
              "      <td>What county are Los Angeles, Orange, San Diego...</td>\n",
              "      <td>Its counties of Los Angeles, Orange, San Diego...</td>\n",
              "      <td>True</td>\n",
              "      <td>[]</td>\n",
              "      <td>California</td>\n",
              "      <td>I dont't know</td>\n",
              "    </tr>\n",
              "    <tr>\n",
              "      <th>4</th>\n",
              "      <td>French_and_Indian_War</td>\n",
              "      <td>When was the deportation of Canadians?</td>\n",
              "      <td>Britain gained control of French Canada and Ac...</td>\n",
              "      <td>True</td>\n",
              "      <td>[]</td>\n",
              "      <td>1755</td>\n",
              "      <td>I dont't know</td>\n",
              "    </tr>\n",
              "  </tbody>\n",
              "</table>\n",
              "</div>\n",
              "    <div class=\"colab-df-buttons\">\n",
              "\n",
              "  <div class=\"colab-df-container\">\n",
              "    <button class=\"colab-df-convert\" onclick=\"convertToInteractive('df-d249ff0b-5230-4660-8f4e-e12d7c18d3a7')\"\n",
              "            title=\"Convert this dataframe to an interactive table.\"\n",
              "            style=\"display:none;\">\n",
              "\n",
              "  <svg xmlns=\"http://www.w3.org/2000/svg\" height=\"24px\" viewBox=\"0 -960 960 960\">\n",
              "    <path d=\"M120-120v-720h720v720H120Zm60-500h600v-160H180v160Zm220 220h160v-160H400v160Zm0 220h160v-160H400v160ZM180-400h160v-160H180v160Zm440 0h160v-160H620v160ZM180-180h160v-160H180v160Zm440 0h160v-160H620v160Z\"/>\n",
              "  </svg>\n",
              "    </button>\n",
              "\n",
              "  <style>\n",
              "    .colab-df-container {\n",
              "      display:flex;\n",
              "      gap: 12px;\n",
              "    }\n",
              "\n",
              "    .colab-df-convert {\n",
              "      background-color: #E8F0FE;\n",
              "      border: none;\n",
              "      border-radius: 50%;\n",
              "      cursor: pointer;\n",
              "      display: none;\n",
              "      fill: #1967D2;\n",
              "      height: 32px;\n",
              "      padding: 0 0 0 0;\n",
              "      width: 32px;\n",
              "    }\n",
              "\n",
              "    .colab-df-convert:hover {\n",
              "      background-color: #E2EBFA;\n",
              "      box-shadow: 0px 1px 2px rgba(60, 64, 67, 0.3), 0px 1px 3px 1px rgba(60, 64, 67, 0.15);\n",
              "      fill: #174EA6;\n",
              "    }\n",
              "\n",
              "    .colab-df-buttons div {\n",
              "      margin-bottom: 4px;\n",
              "    }\n",
              "\n",
              "    [theme=dark] .colab-df-convert {\n",
              "      background-color: #3B4455;\n",
              "      fill: #D2E3FC;\n",
              "    }\n",
              "\n",
              "    [theme=dark] .colab-df-convert:hover {\n",
              "      background-color: #434B5C;\n",
              "      box-shadow: 0px 1px 3px 1px rgba(0, 0, 0, 0.15);\n",
              "      filter: drop-shadow(0px 1px 2px rgba(0, 0, 0, 0.3));\n",
              "      fill: #FFFFFF;\n",
              "    }\n",
              "  </style>\n",
              "\n",
              "    <script>\n",
              "      const buttonEl =\n",
              "        document.querySelector('#df-d249ff0b-5230-4660-8f4e-e12d7c18d3a7 button.colab-df-convert');\n",
              "      buttonEl.style.display =\n",
              "        google.colab.kernel.accessAllowed ? 'block' : 'none';\n",
              "\n",
              "      async function convertToInteractive(key) {\n",
              "        const element = document.querySelector('#df-d249ff0b-5230-4660-8f4e-e12d7c18d3a7');\n",
              "        const dataTable =\n",
              "          await google.colab.kernel.invokeFunction('convertToInteractive',\n",
              "                                                    [key], {});\n",
              "        if (!dataTable) return;\n",
              "\n",
              "        const docLinkHtml = 'Like what you see? Visit the ' +\n",
              "          '<a target=\"_blank\" href=https://colab.research.google.com/notebooks/data_table.ipynb>data table notebook</a>'\n",
              "          + ' to learn more about interactive tables.';\n",
              "        element.innerHTML = '';\n",
              "        dataTable['output_type'] = 'display_data';\n",
              "        await google.colab.output.renderOutput(dataTable, element);\n",
              "        const docLink = document.createElement('div');\n",
              "        docLink.innerHTML = docLinkHtml;\n",
              "        element.appendChild(docLink);\n",
              "      }\n",
              "    </script>\n",
              "  </div>\n",
              "\n",
              "\n",
              "<div id=\"df-68ed421a-8291-4fdf-876f-ba711efdda1b\">\n",
              "  <button class=\"colab-df-quickchart\" onclick=\"quickchart('df-68ed421a-8291-4fdf-876f-ba711efdda1b')\"\n",
              "            title=\"Suggest charts\"\n",
              "            style=\"display:none;\">\n",
              "\n",
              "<svg xmlns=\"http://www.w3.org/2000/svg\" height=\"24px\"viewBox=\"0 0 24 24\"\n",
              "     width=\"24px\">\n",
              "    <g>\n",
              "        <path d=\"M19 3H5c-1.1 0-2 .9-2 2v14c0 1.1.9 2 2 2h14c1.1 0 2-.9 2-2V5c0-1.1-.9-2-2-2zM9 17H7v-7h2v7zm4 0h-2V7h2v10zm4 0h-2v-4h2v4z\"/>\n",
              "    </g>\n",
              "</svg>\n",
              "  </button>\n",
              "\n",
              "<style>\n",
              "  .colab-df-quickchart {\n",
              "      --bg-color: #E8F0FE;\n",
              "      --fill-color: #1967D2;\n",
              "      --hover-bg-color: #E2EBFA;\n",
              "      --hover-fill-color: #174EA6;\n",
              "      --disabled-fill-color: #AAA;\n",
              "      --disabled-bg-color: #DDD;\n",
              "  }\n",
              "\n",
              "  [theme=dark] .colab-df-quickchart {\n",
              "      --bg-color: #3B4455;\n",
              "      --fill-color: #D2E3FC;\n",
              "      --hover-bg-color: #434B5C;\n",
              "      --hover-fill-color: #FFFFFF;\n",
              "      --disabled-bg-color: #3B4455;\n",
              "      --disabled-fill-color: #666;\n",
              "  }\n",
              "\n",
              "  .colab-df-quickchart {\n",
              "    background-color: var(--bg-color);\n",
              "    border: none;\n",
              "    border-radius: 50%;\n",
              "    cursor: pointer;\n",
              "    display: none;\n",
              "    fill: var(--fill-color);\n",
              "    height: 32px;\n",
              "    padding: 0;\n",
              "    width: 32px;\n",
              "  }\n",
              "\n",
              "  .colab-df-quickchart:hover {\n",
              "    background-color: var(--hover-bg-color);\n",
              "    box-shadow: 0 1px 2px rgba(60, 64, 67, 0.3), 0 1px 3px 1px rgba(60, 64, 67, 0.15);\n",
              "    fill: var(--button-hover-fill-color);\n",
              "  }\n",
              "\n",
              "  .colab-df-quickchart-complete:disabled,\n",
              "  .colab-df-quickchart-complete:disabled:hover {\n",
              "    background-color: var(--disabled-bg-color);\n",
              "    fill: var(--disabled-fill-color);\n",
              "    box-shadow: none;\n",
              "  }\n",
              "\n",
              "  .colab-df-spinner {\n",
              "    border: 2px solid var(--fill-color);\n",
              "    border-color: transparent;\n",
              "    border-bottom-color: var(--fill-color);\n",
              "    animation:\n",
              "      spin 1s steps(1) infinite;\n",
              "  }\n",
              "\n",
              "  @keyframes spin {\n",
              "    0% {\n",
              "      border-color: transparent;\n",
              "      border-bottom-color: var(--fill-color);\n",
              "      border-left-color: var(--fill-color);\n",
              "    }\n",
              "    20% {\n",
              "      border-color: transparent;\n",
              "      border-left-color: var(--fill-color);\n",
              "      border-top-color: var(--fill-color);\n",
              "    }\n",
              "    30% {\n",
              "      border-color: transparent;\n",
              "      border-left-color: var(--fill-color);\n",
              "      border-top-color: var(--fill-color);\n",
              "      border-right-color: var(--fill-color);\n",
              "    }\n",
              "    40% {\n",
              "      border-color: transparent;\n",
              "      border-right-color: var(--fill-color);\n",
              "      border-top-color: var(--fill-color);\n",
              "    }\n",
              "    60% {\n",
              "      border-color: transparent;\n",
              "      border-right-color: var(--fill-color);\n",
              "    }\n",
              "    80% {\n",
              "      border-color: transparent;\n",
              "      border-right-color: var(--fill-color);\n",
              "      border-bottom-color: var(--fill-color);\n",
              "    }\n",
              "    90% {\n",
              "      border-color: transparent;\n",
              "      border-bottom-color: var(--fill-color);\n",
              "    }\n",
              "  }\n",
              "</style>\n",
              "\n",
              "  <script>\n",
              "    async function quickchart(key) {\n",
              "      const quickchartButtonEl =\n",
              "        document.querySelector('#' + key + ' button');\n",
              "      quickchartButtonEl.disabled = true;  // To prevent multiple clicks.\n",
              "      quickchartButtonEl.classList.add('colab-df-spinner');\n",
              "      try {\n",
              "        const charts = await google.colab.kernel.invokeFunction(\n",
              "            'suggestCharts', [key], {});\n",
              "      } catch (error) {\n",
              "        console.error('Error during call to suggestCharts:', error);\n",
              "      }\n",
              "      quickchartButtonEl.classList.remove('colab-df-spinner');\n",
              "      quickchartButtonEl.classList.add('colab-df-quickchart-complete');\n",
              "    }\n",
              "    (() => {\n",
              "      let quickchartButtonEl =\n",
              "        document.querySelector('#df-68ed421a-8291-4fdf-876f-ba711efdda1b button');\n",
              "      quickchartButtonEl.style.display =\n",
              "        google.colab.kernel.accessAllowed ? 'block' : 'none';\n",
              "    })();\n",
              "  </script>\n",
              "</div>\n",
              "\n",
              "    </div>\n",
              "  </div>\n"
            ],
            "text/plain": [
              "                   title                                           question  \\\n",
              "0    Scottish_Parliament  What consequence of establishing the Scottish ...   \n",
              "1            Imperialism  Imperialism is less often associated with whic...   \n",
              "2    Economic_inequality  What issues can't prevent women from working o...   \n",
              "3    Southern_California  What county are Los Angeles, Orange, San Diego...   \n",
              "4  French_and_Indian_War             When was the deportation of Canadians?   \n",
              "\n",
              "                                             context  is_impossible  \\\n",
              "0  A procedural consequence of the establishment ...          False   \n",
              "1  The principles of imperialism are often genera...           True   \n",
              "2  When a person’s capabilities are lowered, they...           True   \n",
              "3  Its counties of Los Angeles, Orange, San Diego...           True   \n",
              "4  Britain gained control of French Canada and Ac...           True   \n",
              "\n",
              "                                             answers  \\\n",
              "0  [able to vote on domestic legislation that app...   \n",
              "1                                                 []   \n",
              "2                                                 []   \n",
              "3                                                 []   \n",
              "4                                                 []   \n",
              "\n",
              "                                    generated_answer  \\\n",
              "0  Scottish MPs sitting in the UK House of Common...   \n",
              "1                                      I don't know.   \n",
              "2                          Gender roles and customs.   \n",
              "3                                         California   \n",
              "4                                               1755   \n",
              "\n",
              "                                 ft_generated_answer  \n",
              "0  Scottish MPs sitting in the UK House of Common...  \n",
              "1                                      I dont't know  \n",
              "2                                      I dont't know  \n",
              "3                                      I dont't know  \n",
              "4                                      I dont't know  "
            ]
          },
          "execution_count": 14,
          "metadata": {},
          "output_type": "execute_result"
        }
      ],
      "source": [
        "df[\"ft_generated_answer\"] = df.progress_apply(answer_question, model=model_id, axis=1)\n",
        "df.head()"
      ]
    },
    {
      "cell_type": "markdown",
      "metadata": {
        "id": "c_ynZCkO0oP5"
      },
      "source": [
        "## **3. Evaluating How well does the model perform.**"
      ]
    },
    {
      "cell_type": "markdown",
      "source": [
        "### Class of methods that will help with evalution visualiztion."
      ],
      "metadata": {
        "id": "1YUHuD2veoCd"
      }
    },
    {
      "cell_type": "code",
      "execution_count": null,
      "metadata": {
        "id": "Jf_LCaVQ0t2O"
      },
      "outputs": [],
      "source": [
        "import pandas as pd\n",
        "import seaborn as sns\n",
        "import matplotlib.pyplot as plt\n",
        "import re\n",
        "\n",
        "class Evaluator:\n",
        "    def __init__(self, df):\n",
        "        self.df = df\n",
        "        self.y_pred = pd.Series()  # Initialize as empty Series\n",
        "        self.labels_answer_expected = [\"✅ Answered Correctly\", \"❎ Skipped\", \"❌ Wrong Answer\"]\n",
        "        self.labels_idk_expected = [\"❌ Hallucination\", \"✅ I don't know\"]\n",
        "\n",
        "    def _evaluate_answer_expected(self, row, answers_column):\n",
        "        generated_answer = re.sub(r\"[^a-zA-Z0-9\\s]\", \"\", row[answers_column].lower())\n",
        "        actual_answers = [re.sub(r\"[^a-zA-Z0-9\\s]\", \"\",ans.lower()) for ans in row[\"answers\"]]\n",
        "\n",
        "        return (\n",
        "            \"✅ Answered Correctly\" if any(ans in generated_answer for ans in actual_answers)\n",
        "            else \"❎ Skipped\" if generated_answer == \"i dont know\"\n",
        "            else \"❌ Wrong Answer\"\n",
        "        )\n",
        "\n",
        "    def _evaluate_idk_expected(self, row, answers_column):\n",
        "        generated_answer = re.sub(r\"[^a-zA-Z0-9\\s]\", \"\", row[answers_column].lower())\n",
        "        return (\n",
        "            \"❌ Hallucination\" if generated_answer != \"i dont know\"\n",
        "            else \"✅ I don't know\"\n",
        "        )\n",
        "\n",
        "    def _evaluate_single_row(self, row, answers_column):\n",
        "        is_impossible = row[\"is_impossible\"]\n",
        "        return (\n",
        "            self._evaluate_answer_expected(row, answers_column) if not is_impossible\n",
        "            else self._evaluate_idk_expected(row, answers_column)\n",
        "        )\n",
        "\n",
        "    def evaluate_model(self, answers_column=\"generated_answer\"):\n",
        "        self.y_pred = pd.Series(self.df.apply(self._evaluate_single_row, answers_column=answers_column, axis=1))\n",
        "        freq_series = self.y_pred.value_counts()\n",
        "\n",
        "        # Counting rows for each scenario\n",
        "        total_answer_expected = len(self.df[self.df['is_impossible'] == False])\n",
        "        total_idk_expected = len(self.df[self.df['is_impossible'] == True])\n",
        "\n",
        "        #Calculate percentage and extract out (✅ Answered Correctly\", \"❎ Skipped\", \"❌ Wrong Answer)\n",
        "        freq_answer_expected = (freq_series / total_answer_expected * 100).round(2).reindex(self.labels_answer_expected, fill_value=0)\n",
        "        #Calculate percentage and extract out (❌ Hallucination\", \"✅ I don't know)\n",
        "        freq_idk_expected = (freq_series / total_idk_expected * 100).round(2).reindex(self.labels_idk_expected, fill_value=0)\n",
        "        return freq_answer_expected.to_dict(), freq_idk_expected.to_dict()\n",
        "\n",
        "    def plot_evaluate_model(self, answer_columns=[\"generated_answer\", \"ft_generated_answer\"], scenario=\"answer_expected\", labels=[\"Baseline\", \"Fine-Tuned\"]):\n",
        "      results = []\n",
        "      for column in answer_columns:\n",
        "        answer_expected, idk_expected = self.evaluate_model(column)\n",
        "        if scenario == \"answer_expected\":\n",
        "          results.append(answer_expected)\n",
        "        elif scenario == \"idk_expected\":\n",
        "          results.append(idk_expected)\n",
        "        else:\n",
        "          raise ValueError(\"Invalid scenario\")\n",
        "\n",
        "      results_df = pd.DataFrame(results, index=labels)\n",
        "      if scenario == \"answer_expected\":\n",
        "        results_df = results_df.reindex(self.labels_answer_expected, axis=1)\n",
        "      elif scenario == \"idk_expected\":\n",
        "        results_df = results_df.reindex(self.labels_idk_expected, axis=1)\n",
        "\n",
        "      melted_df = results_df.reset_index().melt(id_vars=\"index\", var_name=\"Status\", value_name=\"Frequency\")\n",
        "      sns.set_theme(style=\"darkgrid\", palette=\"ch:s=-.2,r=.6\")\n",
        "      graph = sns.catplot(data=melted_df, x=\"Frequency\", y=\"index\", hue=\"Status\", kind=\"bar\", height=5, aspect=2)\n",
        "\n",
        "      for patch in graph.ax.patches:\n",
        "        graph.ax.annotate(\n",
        "            f\"{patch.get_width():.0f}%\",\n",
        "            (patch.get_width() + 3, patch.get_y() + patch.get_height() / 2),\n",
        "            textcoords=\"offset points\",\n",
        "            xytext=(0,0),\n",
        "            ha=\"center\",\n",
        "            va=\"center\"\n",
        "        )\n",
        "\n",
        "      plt.xlabel(\"Percentage\")\n",
        "      plt.ylabel(\"Model\")\n",
        "      plt.xlim(0,100)\n",
        "      plt.title(scenario.replace(\"_\", \" \").title())\n"
      ]
    },
    {
      "cell_type": "code",
      "execution_count": null,
      "metadata": {
        "id": "4VdyAVYNcyoV"
      },
      "outputs": [],
      "source": [
        "evaluator = Evaluator(df)"
      ]
    },
    {
      "cell_type": "markdown",
      "source": [
        "### What _evaluate_answer_expected will return."
      ],
      "metadata": {
        "id": "aTSZQ8cfm_rE"
      }
    },
    {
      "cell_type": "code",
      "source": [
        "evaluator._evaluate_answer_expected(df.iloc[0], answers_column=\"ft_generated_answer_few_shot\")"
      ],
      "metadata": {
        "colab": {
          "base_uri": "https://localhost:8080/",
          "height": 36
        },
        "id": "y64p1-oknH-U",
        "outputId": "175cc4fc-451a-4afb-dba0-ca792267022f"
      },
      "execution_count": null,
      "outputs": [
        {
          "output_type": "execute_result",
          "data": {
            "text/plain": [
              "'❌ Wrong Answer'"
            ],
            "application/vnd.google.colaboratory.intrinsic+json": {
              "type": "string"
            }
          },
          "metadata": {},
          "execution_count": 51
        }
      ]
    },
    {
      "cell_type": "markdown",
      "source": [
        "### What _evaluate_idk_expeected will return."
      ],
      "metadata": {
        "id": "eqI7w88Wne-h"
      }
    },
    {
      "cell_type": "code",
      "source": [
        "evaluator._evaluate_idk_expected(df.iloc[0], answers_column=\"ft_generated_answer_few_shot\")"
      ],
      "metadata": {
        "colab": {
          "base_uri": "https://localhost:8080/",
          "height": 36
        },
        "id": "96Vwcv2pnkPY",
        "outputId": "34c82001-8bb5-4c42-ca8f-836eee74b7cc"
      },
      "execution_count": null,
      "outputs": [
        {
          "output_type": "execute_result",
          "data": {
            "text/plain": [
              "'❌ Hallucination'"
            ],
            "application/vnd.google.colaboratory.intrinsic+json": {
              "type": "string"
            }
          },
          "metadata": {},
          "execution_count": 53
        }
      ]
    },
    {
      "cell_type": "markdown",
      "source": [
        "### What _evaluate_single_row will return."
      ],
      "metadata": {
        "id": "AhoWdpVnn2sb"
      }
    },
    {
      "cell_type": "code",
      "source": [
        "evaluator._evaluate_single_row(df.iloc[0], answers_column=\"ft_generated_answer_few_shot\")"
      ],
      "metadata": {
        "colab": {
          "base_uri": "https://localhost:8080/",
          "height": 36
        },
        "id": "9geO5mYxn04L",
        "outputId": "f66fed68-f4f0-4e1a-e370-e14777d607df"
      },
      "execution_count": null,
      "outputs": [
        {
          "output_type": "execute_result",
          "data": {
            "text/plain": [
              "'❌ Wrong Answer'"
            ],
            "application/vnd.google.colaboratory.intrinsic+json": {
              "type": "string"
            }
          },
          "metadata": {},
          "execution_count": 54
        }
      ]
    },
    {
      "cell_type": "markdown",
      "source": [
        "### What evaluate_model will return."
      ],
      "metadata": {
        "id": "eqoyY5gSohMK"
      }
    },
    {
      "cell_type": "code",
      "source": [
        "evaluator.evaluate_model(answers_column = \"ft_generated_answer_few_shot\")"
      ],
      "metadata": {
        "colab": {
          "base_uri": "https://localhost:8080/"
        },
        "id": "Cp9TUyMQoqpi",
        "outputId": "b6fb268c-35fc-425f-b1a2-ba76aac22d93"
      },
      "execution_count": null,
      "outputs": [
        {
          "output_type": "execute_result",
          "data": {
            "text/plain": [
              "({'✅ Answered Correctly': 62.26, '❎ Skipped': 30.19, '❌ Wrong Answer': 7.55},\n",
              " {'❌ Hallucination': 25.53, \"✅ I don't know\": 74.47})"
            ]
          },
          "metadata": {},
          "execution_count": 55
        }
      ]
    },
    {
      "cell_type": "markdown",
      "source": [
        "### Finally the method plot_evaluate_model will combine all the other methods and plot a cat graph.}"
      ],
      "metadata": {
        "id": "vuCNOxsnrXZa"
      }
    },
    {
      "cell_type": "code",
      "execution_count": null,
      "metadata": {
        "colab": {
          "base_uri": "https://localhost:8080/",
          "height": 420
        },
        "id": "HAkerejac3H9",
        "outputId": "41a74313-bda2-4a4e-be3f-8cd22b1a3de7"
      },
      "outputs": [
        {
          "data": {
            "image/png": "[encoded data removed]",
            "text/plain": [
              "<Figure size 1218.5x500 with 1 Axes>"
            ]
          },
          "metadata": {},
          "output_type": "display_data"
        }
      ],
      "source": [
        "evaluator.plot_evaluate_model(scenario=\"answer_expected\")"
      ]
    },
    {
      "cell_type": "code",
      "execution_count": null,
      "metadata": {
        "colab": {
          "base_uri": "https://localhost:8080/",
          "height": 435
        },
        "id": "qnmP_7TmhZnX",
        "outputId": "2c26b526-3418-4e1b-8703-9480218d310b"
      },
      "outputs": [
        {
          "data": {
            "image/png": "[encoded data removed]",
            "text/plain": [
              "<Figure size 1169x500 with 1 Axes>"
            ]
          },
          "metadata": {},
          "output_type": "display_data"
        }
      ],
      "source": [
        "evaluator.plot_evaluate_model(scenario=\"idk_expected\")"
      ]
    },
    {
      "cell_type": "markdown",
      "metadata": {
        "id": "V8rKyErECEbs"
      },
      "source": [
        "## **4. Applying Few Shot Learning**"
      ]
    },
    {
      "cell_type": "code",
      "execution_count": null,
      "metadata": {
        "id": "wTU9fCwRCQ1X"
      },
      "outputs": [],
      "source": [
        "import os\n",
        "from google.colab import userdata\n",
        "from qdrant_client import QdrantClient\n",
        "from qdrant_client.http import models\n",
        "from qdrant_client.http.models import PointStruct\n",
        "from qdrant_client.http.models import Distance, VectorParams"
      ]
    },
    {
      "cell_type": "markdown",
      "source": [
        "### Creating an instance of Qdrant client."
      ],
      "metadata": {
        "id": "Yiczc3cvsKc6"
      }
    },
    {
      "cell_type": "code",
      "execution_count": null,
      "metadata": {
        "id": "W12-QNNDEFNl"
      },
      "outputs": [],
      "source": [
        "qdrant_client = QdrantClient(\n",
        "    url=userdata.get(\"qdrant_url\"),\n",
        "    api_key=userdata.get(\"qdrant\"),\n",
        "    timeout=6000,\n",
        "    prefer_grpc=True\n",
        ")"
      ]
    },
    {
      "cell_type": "markdown",
      "source": [
        "### Creating the collection in the Qdrant database."
      ],
      "metadata": {
        "id": "uTeB3F-6sQhp"
      }
    },
    {
      "cell_type": "code",
      "execution_count": null,
      "metadata": {
        "id": "Wpglt2wREcvu"
      },
      "outputs": [],
      "source": [
        "collection_name = \"squadv2-cookbook\"\n",
        "\n",
        "# # Create the collection, run this only once\n",
        "# qdrant_client.recreate_collection(\n",
        "#     collection_name=collection_name,\n",
        "#     vectors_config=VectorParams(size=384, distance=Distance.COSINE),\n",
        "# )"
      ]
    },
    {
      "cell_type": "markdown",
      "source": [
        "### Installing the fastembed library from the Qdrant. Fastembed allows local embedding with the CPU."
      ],
      "metadata": {
        "id": "D-HI90vqsZ56"
      }
    },
    {
      "cell_type": "code",
      "execution_count": null,
      "metadata": {
        "id": "7Z64-ugkE3TL",
        "colab": {
          "base_uri": "https://localhost:8080/"
        },
        "outputId": "9d19e535-5224-44a4-9fad-00d74c1749f6"
      },
      "outputs": [
        {
          "output_type": "stream",
          "name": "stderr",
          "text": [
            "100%|██████████| 76.7M/76.7M [00:01<00:00, 65.2MiB/s]\n"
          ]
        }
      ],
      "source": [
        "from fastembed.embedding import DefaultEmbedding\n",
        "from typing import List\n",
        "import numpy as np\n",
        "import pandas as pd\n",
        "from tqdm.notebook import tqdm\n",
        "\n",
        "tqdm.pandas()\n",
        "\n",
        "embedding_model = DefaultEmbedding()"
      ]
    },
    {
      "cell_type": "markdown",
      "metadata": {
        "id": "IT74oAyJ3eok"
      },
      "source": [
        "### Embed the question in the dataframe and create a new column in the dataframe named embeddings to store it. Then create a points variable to store individual point create from each row of the dataframe.\n",
        "\n",
        "### The structure of each point\n",
        "\n",
        "```\n",
        "PointStruct(\n",
        "          id = id,\n",
        "          vector = embeddings,\n",
        "          payload = {\n",
        "              \"question\": question,\n",
        "              \"title\": title,\n",
        "              \"context\": context,\n",
        "              \"is_impossible\": is_impossible,\n",
        "              \"answers\": answers,\n",
        "          }\n",
        "      )\n",
        "```"
      ]
    },
    {
      "cell_type": "code",
      "execution_count": null,
      "metadata": {
        "id": "FK8gLYqU2UTK"
      },
      "outputs": [],
      "source": [
        "def genreate_points_from_dataframe(df: pd.DataFrame) -> List[PointStruct]:\n",
        "  batch_size = 512\n",
        "  questions = df[\"question\"].tolist()\n",
        "  total_batches = len(questions) // batch_size + 1\n",
        "\n",
        "  progress_bar = tqdm(total=len(questions), desc=\"Generating embeddings\")\n",
        "\n",
        "  # Generating embedding in batches\n",
        "  embeddings = []\n",
        "  for i in range(total_batches):\n",
        "    start_index = i * batch_size\n",
        "    end_index = min((i+1) * batch_size, len(questions))\n",
        "    batch = questions[start_index : end_index]\n",
        "\n",
        "    # Returns the embedding\n",
        "    batch_embeddings = embedding_model.embed(batch, batch_size=batch_size)\n",
        "\n",
        "    # Add the returned batch embedding to our list\n",
        "    embeddings.extend(batch_embeddings)\n",
        "\n",
        "    # Update progross bar by the batch size\n",
        "    progress_bar.update(len(batch))\n",
        "\n",
        "  progress_bar.close()\n",
        "\n",
        "  # Convert from list of array to list of list\n",
        "  embeddings_list = [embedding.tolist() for embedding in embeddings]\n",
        "\n",
        "  # Create temporary DataFrame to hold the embeddings and existing DataFrame columns\n",
        "  temp_df = df.copy()\n",
        "  temp_df[\"embeddings\"] = embeddings_list\n",
        "  temp_df[\"id\"] = temp_df.index\n",
        "\n",
        "  # Generate PointStruct objects using DataFrame apply method\n",
        "  points = temp_df.progress_apply(\n",
        "      lambda row: PointStruct(\n",
        "          id=row[\"id\"],\n",
        "          vector=row[\"embeddings\"],\n",
        "          payload={\n",
        "              \"question\": row[\"question\"],\n",
        "              \"title\": row[\"title\"],\n",
        "              \"context\": row[\"context\"],\n",
        "              \"is_impossible\": row[\"is_impossible\"],\n",
        "              \"answers\": row[\"answers\"],\n",
        "          },\n",
        "      ),\n",
        "      axis=1,\n",
        "  ).tolist()\n",
        "\n",
        "  return points"
      ]
    },
    {
      "cell_type": "code",
      "execution_count": null,
      "metadata": {
        "colab": {
          "base_uri": "https://localhost:8080/",
          "height": 81,
          "referenced_widgets": [
            "f09accf5f94c4ba5a01bd220f17b2c95",
            "b834fd94562c46c38e5e9be3acca3431",
            "d3dedc57200e41b1b3953af8ed646625",
            "aa3443bf20c846e2b07ef6a4744a3ec1",
            "d1d6a2c99eb84ca49547c33f49e159ae",
            "eb7a8f8928934721bc1d68c8521eaa53",
            "cdde513c6eb74b70baded400002ed930",
            "af2809240858435f919cc3e07a5a8856",
            "6cd86f7ff4dc41f49eb4b89541d92520",
            "0e05f2c3bf6d499699465ada795868d4",
            "2826f8064fe9431397d3594eff3f2046",
            "5f85fdda34b34a6ab057cefa1b8e1d07",
            "8dca10345fb14e7ba4fe4300173f04a8",
            "c40d01d9384f4193ab9a98453531a256",
            "f1705d75aa464905b2afeae241a4ec24",
            "685199ad5dd14a29839fc355850fb705",
            "2922815e303b4f67a8f014f513ea6373",
            "314688d029cc4f85b81a1d149ce39990",
            "74048b9592404f4eba9cf9f52a3f28b1",
            "98369a79540a4ea4850d12e36bb1d0d4",
            "cb91a8ec6bcd4562a0a77026dc3f1910",
            "a741c8a92afb4f76a3bab12ad8c9a00a"
          ]
        },
        "id": "HeY1CoMKAL-c",
        "outputId": "86d196d3-c264-449e-f533-feed9d503c49"
      },
      "outputs": [
        {
          "data": {
            "application/vnd.jupyter.widget-view+json": {
              "model_id": "f09accf5f94c4ba5a01bd220f17b2c95",
              "version_major": 2,
              "version_minor": 0
            },
            "text/plain": [
              "Generating embeddings:   0%|          | 0/130319 [00:00<?, ?it/s]"
            ]
          },
          "metadata": {},
          "output_type": "display_data"
        },
        {
          "data": {
            "application/vnd.jupyter.widget-view+json": {
              "model_id": "5f85fdda34b34a6ab057cefa1b8e1d07",
              "version_major": 2,
              "version_minor": 0
            },
            "text/plain": [
              "  0%|          | 0/130319 [00:00<?, ?it/s]"
            ]
          },
          "metadata": {},
          "output_type": "display_data"
        }
      ],
      "source": [
        "points = genreate_points_from_dataframe(train_df)"
      ]
    },
    {
      "cell_type": "markdown",
      "metadata": {
        "id": "ehlWiApVRmi7"
      },
      "source": [
        "### An example of what a individual point looks like"
      ]
    },
    {
      "cell_type": "code",
      "source": [
        "# This is what an element inside points look like\n",
        "\n",
        "for element in points[0]:\n",
        "  print(str(element) + \"\\n\")"
      ],
      "metadata": {
        "colab": {
          "base_uri": "https://localhost:8080/"
        },
        "id": "07qaU3d9lPkX",
        "outputId": "99cf7f36-5bf3-4bc6-8b8d-9ead18cb7815"
      },
      "execution_count": null,
      "outputs": [
        {
          "output_type": "stream",
          "name": "stdout",
          "text": [
            "('id', 0)\n",
            "\n",
            "('vector', [-0.020103110000491142, -0.030039820820093155, 0.04416526108980179, -0.02758147567510605, 0.0053002312779426575, 0.06449931859970093, 0.02888783998787403, 0.03356963023543358, 0.031141137704253197, -0.014485775493085384, 0.07239484786987305, 0.05670996382832527, -0.035101570188999176, -0.06548339128494263, -0.006800569128245115, 0.07952339947223663, 0.017717687413096428, -0.12317027151584625, -0.08328627794981003, -0.013064563274383545, -0.08096043765544891, 0.025316249579191208, -0.0003572077548597008, -0.04865385591983795, 0.08842404931783676, -0.020810624584555626, -0.059725236147642136, -0.01841430738568306, -0.06925289332866669, -0.11714693903923035, 0.03208290413022041, 0.044044241309165955, 0.10785617679357529, -0.014908385463058949, -0.061088114976882935, -0.008432297967374325, -0.023131322115659714, 0.019197829067707062, -0.013628384098410606, -0.019711660221219063, 0.026854710653424263, -0.017428601160645485, -0.016906101256608963, -0.09797435998916626, -0.037490054965019226, 0.010199707932770252, 0.05156172811985016, 0.04306704178452492, 0.03604549169540405, 0.026924695819616318, 0.0009248462156392634, -0.013801675289869308, -0.033739786595106125, 0.05344771593809128, -0.02967073954641819, 0.036551907658576965, -0.006581068504601717, 0.009654560126364231, 0.0040266066789627075, 0.05410786718130112, 0.010726978071033955, -0.07000495493412018, -0.13701538741588593, 0.02440781332552433, -0.04391690716147423, -0.05790884420275688, 0.08689442276954651, -0.037065450102090836, 0.0006760318647138774, 0.024114547297358513, 0.01651832088828087, 0.07263568788766861, 0.0016442857449874282, 0.014494766481220722, -0.0005183722241781652, 0.04582109674811363, 0.011863424442708492, -0.0264552254229784, 0.009350153617560863, -0.003927501849830151, 0.07142555713653564, 0.010208915919065475, 0.03904085233807564, -0.012459156103432178, -0.0787564218044281, -0.050278566777706146, 0.010777165181934834, -0.0038465061224997044, -0.019065141677856445, -0.006994964089244604, -0.038334108889102936, 0.02293347381055355, -0.03769819438457489, 0.006758310832083225, -0.03272811323404312, -0.06303351372480392, 0.02715134061872959, -0.023762505501508713, 0.11007983982563019, 0.28339290618896484, -0.023396823555231094, 0.0998057946562767, 0.01997527666389942, -0.024035025388002396, -0.02973579615354538, -0.07024391740560532, 0.022922810167074203, -0.007266287691891193, -0.03047272190451622, 0.06424982845783234, 0.022509973496198654, -0.04357865825295448, 0.05629910156130791, -0.05779912695288658, 0.05464209243655205, -0.06296972185373306, -0.03471449390053749, -0.006965755019336939, 0.03030538558959961, -0.03394680470228195, -0.03498423844575882, -0.054269514977931976, 0.06110217422246933, 0.00526747340336442, -0.0057553877122700214, 0.036177858710289, 0.0575055256485939, 0.0854523703455925, 0.0037052102852612734, -0.058197855949401855, 0.05829307436943054, 0.05284028872847557, -0.16955512762069702, 0.001567743020132184, 0.018062222748994827, 0.016134174540638924, -0.04473872482776642, 0.014841231517493725, -0.0363648384809494, -0.03903457522392273, -0.06714344769716263, -0.06316769123077393, 0.07994803786277771, -0.06573442369699478, 0.062339529395103455, -0.043863970786333084, -0.065992072224617, 0.028896212577819824, 0.04119620844721794, 0.05806203559041023, 0.03664294257760048, -0.06263726949691772, -0.0515429750084877, 0.020959924906492233, 0.052140939980745316, 0.0007692925282754004, 0.08429159969091415, 0.08460760116577148, -0.02855665422976017, 0.010655299760401249, -0.004187976475805044, 0.00440093083307147, 0.02076813019812107, -0.020249854773283005, 0.02729477360844612, -0.09546184539794922, 0.0368889644742012, 0.02059291861951351, -0.005826864391565323, 0.058809131383895874, 0.006917369551956654, 0.09473057091236115, -0.0591544546186924, 0.07674892991781235, 0.05487462505698204, 0.015576757490634918, -0.016871841624379158, -0.004005360417068005, 0.005680311005562544, -0.030248159542679787, 0.008495046757161617, -0.026036685332655907, 0.01663929782807827, 0.050660889595746994, -0.009686252102255821, 0.008334026671946049, 0.022608386352658272, -0.04002544656395912, 0.01596786081790924, 0.08644407987594604, 0.02194945327937603, -0.01600242219865322, -0.04414120316505432, 0.011511474847793579, 0.04321175441145897, -0.02568543329834938, -0.02086324617266655, -0.026282720267772675, 0.07963849604129791, -0.011222289875149727, -0.07149997353553772, -0.02674686536192894, 0.01009165309369564, 0.030251136049628258, 0.023097990080714226, 0.024805575609207153, 0.023483067750930786, -0.020937612280249596, 0.06653595715761185, 0.012086869217455387, 0.042272429913282394, 0.017937317490577698, -0.03069669008255005, -0.028309091925621033, -0.02081734500825405, 0.007204920053482056, -0.09253109991550446, 0.03995729237794876, -0.01923392340540886, -0.05236181989312172, 0.0405559279024601, -0.025443818420171738, -0.07334379851818085, -0.22915787994861603, 0.03268125280737877, 0.03796232491731644, 0.048295777291059494, 0.021685350686311722, -0.019018862396478653, 0.028537221252918243, -0.0551525317132473, 0.012529321946203709, 0.07404457777738571, 0.016185011714696884, 0.04049469158053398, -0.04236879572272301, 0.013357572257518768, -0.04192913696169853, 0.022630872204899788, 0.0028934285510331392, 0.01699759066104889, 0.058905601501464844, -0.02005077339708805, 0.0006809164769947529, -0.04128151386976242, -0.019772429019212723, 0.022254033014178276, -0.04172752797603607, -0.028329739347100258, 0.06687664240598679, 0.08623700588941574, -0.03347328305244446, 0.008659197017550468, 0.06778806447982788, 0.004987339023500681, 0.011812916025519371, -0.054760828614234924, -0.008126993663609028, 0.006034820340573788, 0.020780667662620544, -0.005231273360550404, -0.1132095456123352, -0.0072455862537026405, -0.03111809864640236, 0.03995305299758911, -0.01144424919039011, -0.04083777219057083, -0.019915975630283356, 0.04221535846590996, 0.047760095447301865, 0.000652775343041867, -0.026051849126815796, 0.016340019181370735, -0.012030507437884808, 0.004077576100826263, -0.02481776289641857, 0.02497997134923935, 0.013032407499849796, -0.06085899472236633, -0.05956897884607315, 0.04878093674778938, 0.012413321994245052, 0.025543220341205597, -0.005052706692367792, -0.04453545808792114, -0.032732196152210236, -0.043187063187360764, -0.09055789560079575, 0.0006597202736884356, -0.03304973244667053, 0.028532974421977997, -0.050973519682884216, -0.046577710658311844, -0.07049817591905594, 0.0491538941860199, -0.025927498936653137, -0.12672734260559082, 0.1250939965248108, -0.027340594679117203, 0.009194998070597649, -0.0776710957288742, -0.07265680283308029, -0.03260605409741402, 0.048066146671772, -0.00607286486774683, -0.0014619049616158009, -0.06471859663724899, 0.003985839430242777, -0.01184757612645626, 0.07282368838787079, 0.017658261582255363, -0.02001463808119297, -0.015172782354056835, 0.0039969999343156815, -0.06838835775852203, -0.05742764100432396, -0.03248065337538719, -0.013056909665465355, -0.01672901213169098, -0.21719659864902496, 0.035936105996370316, -0.01708565279841423, 0.07660403102636337, -0.03828572854399681, 0.016198832541704178, 0.05424996092915535, 0.05408279970288277, -0.024576246738433838, 0.04459279775619507, 0.06392749398946762, 0.015947414562106133, 0.025260217487812042, 0.030542222782969475, 0.005594336893409491, -0.032052215188741684, -0.033975835889577866, 0.03299182653427124, -0.04083937406539917, -0.009817562997341156, 0.03481268137693405, -0.01855991967022419, 0.10844659805297852, 0.08662509173154831, -0.01737845130264759, -0.0271347276866436, -0.010397784411907196, 0.06172891706228256, 0.011905881576240063, 0.026026487350463867, 0.033165235072374344, 0.007348867133259773, 0.060490284115076065, -0.010459366254508495, -0.005125056486576796, 0.048660531640052795, 0.058765240013599396, 0.04967121407389641, -0.03320181369781494, -0.034823011606931686, -0.04351106658577919, 0.03643184155225754, -0.008120549842715263, 0.06913252174854279, 0.10812254250049591, -0.023967357352375984, 0.06563791632652283, -0.07767429202795029, 0.030975883826613426, -0.0295154619961977, -0.006379443686455488, -0.005529243499040604, 0.03140419349074364, 0.046970974653959274, -0.04249562695622444, 0.033941470086574554, -0.09265884757041931, 0.05180228501558304, 0.06394252181053162, -0.036515869200229645, 0.0656423568725586, -0.033431246876716614, -0.06866449117660522, -0.024642175063490868, 0.012251663021743298])\n",
            "\n",
            "('payload', {'question': 'When did Beyonce start becoming popular?', 'title': 'Beyoncé', 'context': 'Beyoncé Giselle Knowles-Carter (/biːˈjɒnseɪ/ bee-YON-say) (born September 4, 1981) is an American singer, songwriter, record producer and actress. Born and raised in Houston, Texas, she performed in various singing and dancing competitions as a child, and rose to fame in the late 1990s as lead singer of R&B girl-group Destiny\\'s Child. Managed by her father, Mathew Knowles, the group became one of the world\\'s best-selling girl groups of all time. Their hiatus saw the release of Beyoncé\\'s debut album, Dangerously in Love (2003), which established her as a solo artist worldwide, earned five Grammy Awards and featured the Billboard Hot 100 number-one singles \"Crazy in Love\" and \"Baby Boy\".', 'is_impossible': False, 'answers': ['in the late 1990s']})\n",
            "\n"
          ]
        }
      ]
    },
    {
      "cell_type": "markdown",
      "source": [
        "### Upload the list points to Qdrant database."
      ],
      "metadata": {
        "id": "kQFXksBeuAEp"
      }
    },
    {
      "cell_type": "code",
      "execution_count": null,
      "metadata": {
        "id": "fp06OiekRQoq"
      },
      "outputs": [],
      "source": [
        "# Break up the points into batches and upload the batches on to Qdrant\n",
        "@retry(wait=wait_exponential(multiplier=1, min=2, max=6))\n",
        "def qdrant_upsert(points):\n",
        "  batch_size = 100\n",
        "  total_batches= len(points) // batch_size + 1\n",
        "  progress_bar = tqdm(total=total_batches, desc=\"Uploading to Qdrant\")\n",
        "\n",
        "  for i in range(total_batches):\n",
        "    batch = points[i * batch_size : min((i+1) * batch_size, len(points))]\n",
        "    try:\n",
        "      qdrant_client.upsert(\n",
        "            collection_name=collection_name,\n",
        "            wait=True,\n",
        "            points=batch\n",
        "      )\n",
        "    except Exception as e:\n",
        "      print(f\"Batch {i} failed after retries: {e}\")\n",
        "    progress_bar.update(1)\n",
        "\n",
        "  progress_bar.close()"
      ]
    },
    {
      "cell_type": "code",
      "source": [
        "qdrant_upsert(points)"
      ],
      "metadata": {
        "colab": {
          "base_uri": "https://localhost:8080/",
          "height": 67,
          "referenced_widgets": [
            "b3525a6c018b4b1b98d5965f7f1d2f9a",
            "f84fab40462b4c30bd6f8dedadd6f1d9",
            "6789a6091810463da9a88ab0c2df5025",
            "15968e00b1e74b0cab3a146c5ee3392b",
            "a8bb2549c4a245fdb002e5fda52f67a3",
            "94ef6ea7cf1a4aa9a5d2ae614a4deb5a",
            "f2456d15bd1441abbaf7be9c77676645",
            "94820c404dea49158f99d9f10b04854f",
            "2ff749239e214475ad3669a8bea65576",
            "8fce7c16f8db4d898c44c23f72e907fa",
            "35355c02f6cf4edcbd499ec8534f473c"
          ]
        },
        "id": "tpu3U9efguIb",
        "outputId": "38daee16-2de7-49c9-a678-ffbfca2fc73a"
      },
      "execution_count": null,
      "outputs": [
        {
          "output_type": "display_data",
          "data": {
            "text/plain": [
              "Uploading to Qdrant:   0%|          | 0/1304 [00:00<?, ?it/s]"
            ],
            "application/vnd.jupyter.widget-view+json": {
              "version_major": 2,
              "version_minor": 0,
              "model_id": "b3525a6c018b4b1b98d5965f7f1d2f9a"
            }
          },
          "metadata": {}
        },
        {
          "output_type": "execute_result",
          "data": {
            "text/plain": [
              "True"
            ]
          },
          "metadata": {},
          "execution_count": 82
        }
      ]
    },
    {
      "cell_type": "markdown",
      "source": [
        "### Given a question, using the Qdrant vector search, retreive similiar questions and their answers and include them in the same prompt."
      ],
      "metadata": {
        "id": "w40B00cEkfAo"
      }
    },
    {
      "cell_type": "code",
      "source": [
        "def get_few_shot_prompt(row):\n",
        "  query, row_context, row_answer = row[\"question\"], row[\"context\"], row[\"answers\"]\n",
        "\n",
        "  # Embed the question\n",
        "  embeddings = list(embedding_model.embed([query]))\n",
        "  query_embedding = embeddings[0].tolist()\n",
        "\n",
        "  num_of_qa_to_retrieve = 5\n",
        "\n",
        "  # Query Qdrant for similiar question that have an answer\n",
        "  q1 = qdrant_client.search(\n",
        "      collection_name = collection_name,\n",
        "      query_vector = query_embedding,\n",
        "      query_filter = models.Filter(\n",
        "          must = [\n",
        "              models.FieldCondition(\n",
        "                  key = \"is_impossible\",\n",
        "                  match = models.MatchValue(\n",
        "                      value = False,\n",
        "                  ),\n",
        "              ),\n",
        "          ],\n",
        "      ),\n",
        "      with_payload = True,\n",
        "      limit = num_of_qa_to_retrieve,\n",
        "  )\n",
        "\n",
        "  # Query Qdrant for similiar questions that are IMPOSSIBLE to answer\n",
        "  q2 = qdrant_client.search(\n",
        "      collection_name = collection_name,\n",
        "      query_vector = query_embedding,\n",
        "      query_filter = models.Filter(\n",
        "          must = [\n",
        "              models.FieldCondition(\n",
        "                  key = \"is_impossible\",\n",
        "                  match = models.MatchValue(\n",
        "                      value = True,\n",
        "                  ),\n",
        "              ),\n",
        "          ],\n",
        "      ),\n",
        "      with_payload = True,\n",
        "      limit = num_of_qa_to_retrieve\n",
        "  )\n",
        "\n",
        "  instruction = \"\"\"Answer the following Question based on the Context only. Only answer from the Context. If you don't know the answer, say 'I don't know'.\\n\\n\"\"\"\n",
        "\n",
        "  def q_to_prompt(q):\n",
        "    question, context = q.payload[\"question\"], q.payload[\"context\"]\n",
        "    answer = q.payload[\"answers\"][0] if len(q.payload[\"answers\"]) > 0 else \"I don't know\"\n",
        "\n",
        "    return [\n",
        "        {\n",
        "            \"role\": \"user\",\n",
        "            \"content\": f\"\"\"Question: {question}\\n\\nContext: {context}\\n\\n\\Answer:\"\"\"\n",
        "        },\n",
        "        {\n",
        "            \"role\": \"assistant\",\n",
        "            \"content\": answer\n",
        "        }\n",
        "    ]\n",
        "\n",
        "  rag_prompt = []\n",
        "\n",
        "  if len(q1) >= 1:\n",
        "    rag_prompt += q_to_prompt(q1[1])\n",
        "  if len(q2) >= 1:\n",
        "    rag_prompt += q_to_prompt(q2[1])\n",
        "  if len(q1) >= 1:\n",
        "    rag_prompt += q_to_prompt(q1[2])\n",
        "\n",
        "  rag_prompt += [\n",
        "      {\n",
        "          \"role\": \"user\",\n",
        "          \"content\": f\"\"\"Question: {query}\\n\\nContent: {row_context}\\n\\nAnswer:\"\"\"\n",
        "      },\n",
        "      {\n",
        "          \"role\": \"assistant\",\n",
        "          \"content\": row_answer[0] if len(row_answer) > 0 else \"I don't know\"\n",
        "      }\n",
        "  ]\n",
        "\n",
        "  rag_prompt = [\n",
        "      {\n",
        "          \"role\": \"system\",\n",
        "          \"content\": instruction\n",
        "      }\n",
        "  ] + rag_prompt\n",
        "\n",
        "  return rag_prompt"
      ],
      "metadata": {
        "id": "JE5HWOgmkmuq"
      },
      "execution_count": null,
      "outputs": []
    },
    {
      "cell_type": "markdown",
      "source": [
        "### An example what the method get_few_shot_prompt produces."
      ],
      "metadata": {
        "id": "RFzWfFlB4jrJ"
      }
    },
    {
      "cell_type": "code",
      "source": [
        "example = get_few_shot_prompt(df.iloc[0])\n",
        "for element in example:\n",
        "  print(str(element) + \"\\n\")"
      ],
      "metadata": {
        "colab": {
          "base_uri": "https://localhost:8080/"
        },
        "id": "8vZOPxZ5tTlr",
        "outputId": "57eab236-0ada-4a24-be52-6349ea4871d1"
      },
      "execution_count": null,
      "outputs": [
        {
          "output_type": "stream",
          "name": "stdout",
          "text": [
            "{'role': 'system', 'content': \"Answer the following Question based on the Context only. Only answer from the Context. If you don't know the answer, say 'I don't know'.\\n\\n\"}\n",
            "\n",
            "{'role': 'user', 'content': 'Question: For what would a bill be submitted to the Supreme Court of Scotland?\\n\\nContext: Royal assent is the final stage in the legislative process for acts of the Scottish parliament. The process is governed by sections 28, 32, and 33 of the Scotland Act 1998. After a bill has been passed, the Presiding Officer of the Scottish Parliament submits it to the monarch for royal assent after a four-week period, during which the Advocate General for Scotland, the Lord Advocate, the Attorney General or the Secretary of State for Scotland may refer the bill to the Supreme Court of the United Kingdom (prior to 1 October 2009, the Judicial Committee of the Privy Council) for review of its legality. Royal assent is signified by letters patent under the Great Seal of Scotland in the following form which is set out in The Scottish Parliament (Letters Patent and Proclamations) Order 1999 (SI 1999/737) and of which notice is published in the London, Edinburgh, and Belfast Gazettes:\\n\\n\\\\Answer:'}\n",
            "\n",
            "{'role': 'assistant', 'content': 'review of its legality'}\n",
            "\n",
            "{'role': 'user', 'content': \"Question: Who pushed ahead with setting up a Scottish Assembly?\\n\\nContext: The nationalist parties, in turn, demanded devolution to their respective constituent countries in return for their supporting the government. When referendums for Scottish and Welsh devolution were held in March 1979 Welsh devolution was rejected outright while the Scottish referendum returned a narrow majority in favour without reaching the required threshold of 40% support. When the Labour government duly refused to push ahead with setting up the proposed Scottish Assembly, the SNP withdrew its support for the government: this finally brought the government down as it triggered a vote of confidence in Callaghan's government that was lost by a single vote on 28 March 1979, necessitating a general election.\\n\\n\\\\Answer:\"}\n",
            "\n",
            "{'role': 'assistant', 'content': \"I don't know\"}\n",
            "\n",
            "{'role': 'user', 'content': 'Question: In Scotland, who is responsible for submitting a bill for royal assent?\\n\\nContext: Royal assent is the final stage in the legislative process for acts of the Scottish parliament. The process is governed by sections 28, 32, and 33 of the Scotland Act 1998. After a bill has been passed, the Presiding Officer of the Scottish Parliament submits it to the monarch for royal assent after a four-week period, during which the Advocate General for Scotland, the Lord Advocate, the Attorney General or the Secretary of State for Scotland may refer the bill to the Supreme Court of the United Kingdom (prior to 1 October 2009, the Judicial Committee of the Privy Council) for review of its legality. Royal assent is signified by letters patent under the Great Seal of Scotland in the following form which is set out in The Scottish Parliament (Letters Patent and Proclamations) Order 1999 (SI 1999/737) and of which notice is published in the London, Edinburgh, and Belfast Gazettes:\\n\\n\\\\Answer:'}\n",
            "\n",
            "{'role': 'assistant', 'content': 'Presiding Officer of the Scottish Parliament'}\n",
            "\n",
            "{'role': 'user', 'content': 'Question: What consequence of establishing the Scottish Parliament applies to Scottish MPs sitting in the UK House of Commons?\\n\\nContent: A procedural consequence of the establishment of the Scottish Parliament is that Scottish MPs sitting in the UK House of Commons are able to vote on domestic legislation that applies only to England, Wales and Northern Ireland – whilst English, Scottish, Welsh and Northern Irish Westminster MPs are unable to vote on the domestic legislation of the Scottish Parliament. This phenomenon is known as the West Lothian question and has led to criticism. Following the Conservative victory in the 2015 UK election, standing orders of the House of Commons were changed to give MPs representing English constituencies a new \"veto\" over laws only affecting England.\\n\\nAnswer:'}\n",
            "\n",
            "{'role': 'assistant', 'content': 'able to vote on domestic legislation that applies only to England, Wales and Northern Ireland'}\n",
            "\n"
          ]
        }
      ]
    },
    {
      "cell_type": "markdown",
      "source": [
        "### Add a column in the train_sample dataframe to contain the multi-example prompts."
      ],
      "metadata": {
        "id": "2lrRWhV3u-_A"
      }
    },
    {
      "cell_type": "code",
      "source": [
        "train_sample[\"few_shot_prompt\"] = train_sample.progress_apply(get_few_shot_prompt, axis=1)"
      ],
      "metadata": {
        "colab": {
          "base_uri": "https://localhost:8080/",
          "height": 49,
          "referenced_widgets": [
            "2fc1d2659537470a9a7bd856b3a1e04e",
            "c5dadac148a84f7a93eb5c1e423ae823",
            "fe429ace3fa94b2f8964a6cfe3d07891",
            "0d67415e74934e57ba6448f2b1e7d00a",
            "04ea57510a754743a5c8e60cd303b6b1",
            "db4f87cfb57042d39acf1d5f57113f05",
            "16757fec723c440792777359a02c69fa",
            "eff583357323416698d43e29cd87e6f0",
            "574fe7a67e7e4ee984829c9e8b80f24c",
            "9b1309bb2e98481eba6104d3b8c00935",
            "0526aa33a44a4560a2525d28fad348ad"
          ]
        },
        "id": "X_yApRg-ut9i",
        "outputId": "c3950152-3a96-41ca-f9cd-f776c3cf4796"
      },
      "execution_count": null,
      "outputs": [
        {
          "output_type": "display_data",
          "data": {
            "text/plain": [
              "  0%|          | 0/100 [00:00<?, ?it/s]"
            ],
            "application/vnd.jupyter.widget-view+json": {
              "version_major": 2,
              "version_minor": 0,
              "model_id": "2fc1d2659537470a9a7bd856b3a1e04e"
            }
          },
          "metadata": {}
        }
      ]
    },
    {
      "cell_type": "markdown",
      "source": [
        "### Formats the column \"few_shot_prompt\" into data that can be fine-tuned"
      ],
      "metadata": {
        "id": "I_a7Y85pvnvG"
      }
    },
    {
      "cell_type": "code",
      "source": [
        "def dataframe_to_jsonl(df):\n",
        "  def create_jsonl_entry(row):\n",
        "    messages = row[\"few_shot_prompt\"]\n",
        "    return json.dumps({\"messages\": messages})\n",
        "\n",
        "  jsonl_output = df.progress_apply(create_jsonl_entry, axis=1)\n",
        "  return \"\\n\".join(jsonl_output)"
      ],
      "metadata": {
        "id": "7iO0E9cmvrMD"
      },
      "execution_count": null,
      "outputs": []
    },
    {
      "cell_type": "markdown",
      "source": [
        "### Write the formated data into disk"
      ],
      "metadata": {
        "id": "yC4edx-15RJO"
      }
    },
    {
      "cell_type": "code",
      "source": [
        "with open(\"local_cache/100_train_few_shot.jsonl\", \"w\") as f:\n",
        "  f.write(dataframe_to_jsonl(train_sample))"
      ],
      "metadata": {
        "colab": {
          "base_uri": "https://localhost:8080/",
          "height": 49,
          "referenced_widgets": [
            "ab7c71b474af45d5b56a5b713eac37f5",
            "fdc6b73596d348ed90cbd8618695b8a8",
            "675e57c2e171427ba7965116fa120b19",
            "823cd2b4641a4c7fa8d9dfe59a6f14f4",
            "ffed224ef0d94c93b2ce90efdede2c97",
            "4c11a7da63324ccaba24bf9c035cb473",
            "1d09190bce8448d8b77099f6d34c2dc9",
            "684e812fe46745598dfddb952c5bfd59",
            "0e11db0b3e43478b9f5e26c2a1a67a6e",
            "cdd88168c2524bcaa24d1d6399c288e4",
            "309933d7c8494c17906e772156ec72b6"
          ]
        },
        "id": "J1FIvJMjwt4I",
        "outputId": "77b2c11c-9a60-4212-9651-f107b79255a6"
      },
      "execution_count": null,
      "outputs": [
        {
          "output_type": "display_data",
          "data": {
            "text/plain": [
              "  0%|          | 0/100 [00:00<?, ?it/s]"
            ],
            "application/vnd.jupyter.widget-view+json": {
              "version_major": 2,
              "version_minor": 0,
              "model_id": "ab7c71b474af45d5b56a5b713eac37f5"
            }
          },
          "metadata": {}
        }
      ]
    },
    {
      "cell_type": "markdown",
      "source": [
        "### Intializing an instance of the fine tuner class."
      ],
      "metadata": {
        "id": "Wb5z_ULq5XJW"
      }
    },
    {
      "cell_type": "code",
      "source": [
        "fine_tuner = openAIFineTuner(\n",
        "    training_file_path = \"local_cache/100_train_few_shot.jsonl\",\n",
        "    model_name = \"gpt-3.5-turbo\",\n",
        "    suffix = \"qdrant20240628\",\n",
        "    client=client\n",
        ")"
      ],
      "metadata": {
        "id": "UEFyZ08PxRfK"
      },
      "execution_count": null,
      "outputs": []
    },
    {
      "cell_type": "code",
      "source": [
        "fine_tuner.fine_tune_model()"
      ],
      "metadata": {
        "id": "4H0UoIlNzzF4"
      },
      "execution_count": null,
      "outputs": []
    },
    {
      "cell_type": "code",
      "source": [
        "from google.colab import userdata\n",
        "\n",
        "model_id = userdata.get(\"qdrant_fine_tuned\")"
      ],
      "metadata": {
        "id": "Lc7t5rN4DUeG"
      },
      "execution_count": null,
      "outputs": []
    },
    {
      "cell_type": "markdown",
      "source": [
        "### Using the previous get_few_shot_promot, it needed to be modified in order to leave out the last question in the prompt unanswered."
      ],
      "metadata": {
        "id": "nC6-ugeb5jXq"
      }
    },
    {
      "cell_type": "code",
      "source": [
        "def get_few_shot_prompt_non_fine_tune(row):\n",
        "  query, row_context, row_answer = row[\"question\"], row[\"context\"], row[\"answers\"]\n",
        "\n",
        "  # Embed the question\n",
        "  embeddings = list(embedding_model.embed([query]))\n",
        "  query_embedding = embeddings[0].tolist()\n",
        "\n",
        "  num_of_qa_to_retrieve = 5\n",
        "\n",
        "  # Query Qdrant for similiar question that have an answer\n",
        "  q1 = qdrant_client.search(\n",
        "      collection_name = collection_name,\n",
        "      query_vector = query_embedding,\n",
        "      query_filter = models.Filter(\n",
        "          must = [\n",
        "              models.FieldCondition(\n",
        "                  key = \"is_impossible\",\n",
        "                  match = models.MatchValue(\n",
        "                      value = False,\n",
        "                  ),\n",
        "              ),\n",
        "          ],\n",
        "      ),\n",
        "      with_payload = True,\n",
        "      limit = num_of_qa_to_retrieve,\n",
        "  )\n",
        "\n",
        "  # Query Qdrant for similiar questions that are IMPOSSIBLE to answer\n",
        "  q2 = qdrant_client.search(\n",
        "      collection_name = collection_name,\n",
        "      query_vector = query_embedding,\n",
        "      query_filter = models.Filter(\n",
        "          must = [\n",
        "              models.FieldCondition(\n",
        "                  key = \"is_impossible\",\n",
        "                  match = models.MatchValue(\n",
        "                      value = True,\n",
        "                  ),\n",
        "              ),\n",
        "          ],\n",
        "      ),\n",
        "      with_payload = True,\n",
        "      limit = num_of_qa_to_retrieve\n",
        "  )\n",
        "\n",
        "  instruction = \"\"\"Answer the following Question based on the Context only. Only answer from the Context. If you don't know the answer, say 'I don't know'.\\n\\n\"\"\"\n",
        "\n",
        "  def q_to_prompt(q):\n",
        "    question, context = q.payload[\"question\"], q.payload[\"context\"]\n",
        "    answer = q.payload[\"answers\"][0] if len(q.payload[\"answers\"]) > 0 else \"I don't know\"\n",
        "\n",
        "    return [\n",
        "        {\n",
        "            \"role\": \"user\",\n",
        "            \"content\": f\"\"\"Question: {question}\\n\\nContext: {context}\\n\\n\\Answer:\"\"\"\n",
        "        },\n",
        "        {\n",
        "            \"role\": \"assistant\",\n",
        "            \"content\": answer\n",
        "        }\n",
        "    ]\n",
        "\n",
        "  rag_prompt = []\n",
        "\n",
        "  if len(q1) >= 1:\n",
        "    rag_prompt += q_to_prompt(q1[1])\n",
        "  if len(q2) >= 1:\n",
        "    rag_prompt += q_to_prompt(q2[1])\n",
        "  if len(q1) >= 1:\n",
        "    rag_prompt += q_to_prompt(q1[2])\n",
        "\n",
        "  rag_prompt += [\n",
        "      {\n",
        "          \"role\": \"user\",\n",
        "          \"content\": f\"\"\"Question: {query}\\n\\nContent: {row_context}\\n\\nAnswer:\"\"\"\n",
        "      }\n",
        "  ]\n",
        "\n",
        "  rag_prompt = [\n",
        "      {\n",
        "          \"role\": \"system\",\n",
        "          \"content\": instruction\n",
        "      }\n",
        "  ] + rag_prompt\n",
        "\n",
        "  return rag_prompt"
      ],
      "metadata": {
        "id": "7iO6CrdNSXUt"
      },
      "execution_count": null,
      "outputs": []
    },
    {
      "cell_type": "markdown",
      "source": [
        "### Applying the OpenAI api calling function along with the new prompt maker, and storing the result inside ft_generated_answer_few_shot."
      ],
      "metadata": {
        "id": "fLmgb3NL58j_"
      }
    },
    {
      "cell_type": "code",
      "source": [
        "df[\"ft_generated_answer_few_shot\"] = df.progress_apply(answer_question, model = model_id, prompt_func = get_few_shot_prompt_non_fine_tune, axis = 1)"
      ],
      "metadata": {
        "colab": {
          "base_uri": "https://localhost:8080/",
          "height": 49,
          "referenced_widgets": [
            "918999a58c70446695bf91b8a9f50e37",
            "1039344700ad4959957f01bb17f3ee86",
            "c9d2b83df857431887dee0d5b4e13da2",
            "24afea75871f4d99848f9ddeee26690d",
            "725d1a6c79ee421583efbf696d6e03e9",
            "5e8e47b826e843b5b1abd464a9698cb9",
            "90de5b7025bc4d5db54ef2f82828321b",
            "82dcc6a3011f4f26aed289a1e230ede7",
            "21c099b5d6f84a3ab887641fca7c23f4",
            "ad5a790501bd4388a56dfbea7a2a8a7f",
            "b2caaf26c51f4e8ebf97d2dc3fb2874b"
          ]
        },
        "id": "t4zGCHc8DtEQ",
        "outputId": "5a0b0f35-53ee-4e43-8d1b-a80381fd6d8f"
      },
      "execution_count": null,
      "outputs": [
        {
          "output_type": "display_data",
          "data": {
            "text/plain": [
              "  0%|          | 0/100 [00:00<?, ?it/s]"
            ],
            "application/vnd.jupyter.widget-view+json": {
              "version_major": 2,
              "version_minor": 0,
              "model_id": "918999a58c70446695bf91b8a9f50e37"
            }
          },
          "metadata": {}
        }
      ]
    },
    {
      "cell_type": "code",
      "source": [
        "evaluator = Evaluator(df)"
      ],
      "metadata": {
        "id": "gWne7oFDFson"
      },
      "execution_count": null,
      "outputs": []
    },
    {
      "cell_type": "code",
      "source": [
        "df.head()"
      ],
      "metadata": {
        "colab": {
          "base_uri": "https://localhost:8080/",
          "height": 414
        },
        "id": "LQAFfQbQL7j3",
        "outputId": "685f4228-99a4-418a-98ca-9a349a0d45e0"
      },
      "execution_count": null,
      "outputs": [
        {
          "output_type": "execute_result",
          "data": {
            "text/plain": [
              "                   title                                           question  \\\n",
              "0    Scottish_Parliament  What consequence of establishing the Scottish ...   \n",
              "1            Imperialism  Imperialism is less often associated with whic...   \n",
              "2    Economic_inequality  What issues can't prevent women from working o...   \n",
              "3    Southern_California  What county are Los Angeles, Orange, San Diego...   \n",
              "4  French_and_Indian_War             When was the deportation of Canadians?   \n",
              "\n",
              "                                             context  is_impossible  \\\n",
              "0  A procedural consequence of the establishment ...          False   \n",
              "1  The principles of imperialism are often genera...           True   \n",
              "2  When a person’s capabilities are lowered, they...           True   \n",
              "3  Its counties of Los Angeles, Orange, San Diego...           True   \n",
              "4  Britain gained control of French Canada and Ac...           True   \n",
              "\n",
              "                                             answers  \\\n",
              "0  [able to vote on domestic legislation that app...   \n",
              "1                                                 []   \n",
              "2                                                 []   \n",
              "3                                                 []   \n",
              "4                                                 []   \n",
              "\n",
              "  ft_generated_answer_few_shot  \n",
              "0    the West Lothian question  \n",
              "1                 I don't know  \n",
              "2                 I don't know  \n",
              "3                 I don't know  \n",
              "4                 I don't know  "
            ],
            "text/html": [
              "\n",
              "  <div id=\"df-5180e6b8-92a3-436c-a343-beaa920ee61c\" class=\"colab-df-container\">\n",
              "    <div>\n",
              "<style scoped>\n",
              "    .dataframe tbody tr th:only-of-type {\n",
              "        vertical-align: middle;\n",
              "    }\n",
              "\n",
              "    .dataframe tbody tr th {\n",
              "        vertical-align: top;\n",
              "    }\n",
              "\n",
              "    .dataframe thead th {\n",
              "        text-align: right;\n",
              "    }\n",
              "</style>\n",
              "<table border=\"1\" class=\"dataframe\">\n",
              "  <thead>\n",
              "    <tr style=\"text-align: right;\">\n",
              "      <th></th>\n",
              "      <th>title</th>\n",
              "      <th>question</th>\n",
              "      <th>context</th>\n",
              "      <th>is_impossible</th>\n",
              "      <th>answers</th>\n",
              "      <th>ft_generated_answer_few_shot</th>\n",
              "    </tr>\n",
              "  </thead>\n",
              "  <tbody>\n",
              "    <tr>\n",
              "      <th>0</th>\n",
              "      <td>Scottish_Parliament</td>\n",
              "      <td>What consequence of establishing the Scottish ...</td>\n",
              "      <td>A procedural consequence of the establishment ...</td>\n",
              "      <td>False</td>\n",
              "      <td>[able to vote on domestic legislation that app...</td>\n",
              "      <td>the West Lothian question</td>\n",
              "    </tr>\n",
              "    <tr>\n",
              "      <th>1</th>\n",
              "      <td>Imperialism</td>\n",
              "      <td>Imperialism is less often associated with whic...</td>\n",
              "      <td>The principles of imperialism are often genera...</td>\n",
              "      <td>True</td>\n",
              "      <td>[]</td>\n",
              "      <td>I don't know</td>\n",
              "    </tr>\n",
              "    <tr>\n",
              "      <th>2</th>\n",
              "      <td>Economic_inequality</td>\n",
              "      <td>What issues can't prevent women from working o...</td>\n",
              "      <td>When a person’s capabilities are lowered, they...</td>\n",
              "      <td>True</td>\n",
              "      <td>[]</td>\n",
              "      <td>I don't know</td>\n",
              "    </tr>\n",
              "    <tr>\n",
              "      <th>3</th>\n",
              "      <td>Southern_California</td>\n",
              "      <td>What county are Los Angeles, Orange, San Diego...</td>\n",
              "      <td>Its counties of Los Angeles, Orange, San Diego...</td>\n",
              "      <td>True</td>\n",
              "      <td>[]</td>\n",
              "      <td>I don't know</td>\n",
              "    </tr>\n",
              "    <tr>\n",
              "      <th>4</th>\n",
              "      <td>French_and_Indian_War</td>\n",
              "      <td>When was the deportation of Canadians?</td>\n",
              "      <td>Britain gained control of French Canada and Ac...</td>\n",
              "      <td>True</td>\n",
              "      <td>[]</td>\n",
              "      <td>I don't know</td>\n",
              "    </tr>\n",
              "  </tbody>\n",
              "</table>\n",
              "</div>\n",
              "    <div class=\"colab-df-buttons\">\n",
              "\n",
              "  <div class=\"colab-df-container\">\n",
              "    <button class=\"colab-df-convert\" onclick=\"convertToInteractive('df-5180e6b8-92a3-436c-a343-beaa920ee61c')\"\n",
              "            title=\"Convert this dataframe to an interactive table.\"\n",
              "            style=\"display:none;\">\n",
              "\n",
              "  <svg xmlns=\"http://www.w3.org/2000/svg\" height=\"24px\" viewBox=\"0 -960 960 960\">\n",
              "    <path d=\"M120-120v-720h720v720H120Zm60-500h600v-160H180v160Zm220 220h160v-160H400v160Zm0 220h160v-160H400v160ZM180-400h160v-160H180v160Zm440 0h160v-160H620v160ZM180-180h160v-160H180v160Zm440 0h160v-160H620v160Z\"/>\n",
              "  </svg>\n",
              "    </button>\n",
              "\n",
              "  <style>\n",
              "    .colab-df-container {\n",
              "      display:flex;\n",
              "      gap: 12px;\n",
              "    }\n",
              "\n",
              "    .colab-df-convert {\n",
              "      background-color: #E8F0FE;\n",
              "      border: none;\n",
              "      border-radius: 50%;\n",
              "      cursor: pointer;\n",
              "      display: none;\n",
              "      fill: #1967D2;\n",
              "      height: 32px;\n",
              "      padding: 0 0 0 0;\n",
              "      width: 32px;\n",
              "    }\n",
              "\n",
              "    .colab-df-convert:hover {\n",
              "      background-color: #E2EBFA;\n",
              "      box-shadow: 0px 1px 2px rgba(60, 64, 67, 0.3), 0px 1px 3px 1px rgba(60, 64, 67, 0.15);\n",
              "      fill: #174EA6;\n",
              "    }\n",
              "\n",
              "    .colab-df-buttons div {\n",
              "      margin-bottom: 4px;\n",
              "    }\n",
              "\n",
              "    [theme=dark] .colab-df-convert {\n",
              "      background-color: #3B4455;\n",
              "      fill: #D2E3FC;\n",
              "    }\n",
              "\n",
              "    [theme=dark] .colab-df-convert:hover {\n",
              "      background-color: #434B5C;\n",
              "      box-shadow: 0px 1px 3px 1px rgba(0, 0, 0, 0.15);\n",
              "      filter: drop-shadow(0px 1px 2px rgba(0, 0, 0, 0.3));\n",
              "      fill: #FFFFFF;\n",
              "    }\n",
              "  </style>\n",
              "\n",
              "    <script>\n",
              "      const buttonEl =\n",
              "        document.querySelector('#df-5180e6b8-92a3-436c-a343-beaa920ee61c button.colab-df-convert');\n",
              "      buttonEl.style.display =\n",
              "        google.colab.kernel.accessAllowed ? 'block' : 'none';\n",
              "\n",
              "      async function convertToInteractive(key) {\n",
              "        const element = document.querySelector('#df-5180e6b8-92a3-436c-a343-beaa920ee61c');\n",
              "        const dataTable =\n",
              "          await google.colab.kernel.invokeFunction('convertToInteractive',\n",
              "                                                    [key], {});\n",
              "        if (!dataTable) return;\n",
              "\n",
              "        const docLinkHtml = 'Like what you see? Visit the ' +\n",
              "          '<a target=\"_blank\" href=https://colab.research.google.com/notebooks/data_table.ipynb>data table notebook</a>'\n",
              "          + ' to learn more about interactive tables.';\n",
              "        element.innerHTML = '';\n",
              "        dataTable['output_type'] = 'display_data';\n",
              "        await google.colab.output.renderOutput(dataTable, element);\n",
              "        const docLink = document.createElement('div');\n",
              "        docLink.innerHTML = docLinkHtml;\n",
              "        element.appendChild(docLink);\n",
              "      }\n",
              "    </script>\n",
              "  </div>\n",
              "\n",
              "\n",
              "<div id=\"df-8c4fc833-6282-40c4-b74b-4f2cf46af7f6\">\n",
              "  <button class=\"colab-df-quickchart\" onclick=\"quickchart('df-8c4fc833-6282-40c4-b74b-4f2cf46af7f6')\"\n",
              "            title=\"Suggest charts\"\n",
              "            style=\"display:none;\">\n",
              "\n",
              "<svg xmlns=\"http://www.w3.org/2000/svg\" height=\"24px\"viewBox=\"0 0 24 24\"\n",
              "     width=\"24px\">\n",
              "    <g>\n",
              "        <path d=\"M19 3H5c-1.1 0-2 .9-2 2v14c0 1.1.9 2 2 2h14c1.1 0 2-.9 2-2V5c0-1.1-.9-2-2-2zM9 17H7v-7h2v7zm4 0h-2V7h2v10zm4 0h-2v-4h2v4z\"/>\n",
              "    </g>\n",
              "</svg>\n",
              "  </button>\n",
              "\n",
              "<style>\n",
              "  .colab-df-quickchart {\n",
              "      --bg-color: #E8F0FE;\n",
              "      --fill-color: #1967D2;\n",
              "      --hover-bg-color: #E2EBFA;\n",
              "      --hover-fill-color: #174EA6;\n",
              "      --disabled-fill-color: #AAA;\n",
              "      --disabled-bg-color: #DDD;\n",
              "  }\n",
              "\n",
              "  [theme=dark] .colab-df-quickchart {\n",
              "      --bg-color: #3B4455;\n",
              "      --fill-color: #D2E3FC;\n",
              "      --hover-bg-color: #434B5C;\n",
              "      --hover-fill-color: #FFFFFF;\n",
              "      --disabled-bg-color: #3B4455;\n",
              "      --disabled-fill-color: #666;\n",
              "  }\n",
              "\n",
              "  .colab-df-quickchart {\n",
              "    background-color: var(--bg-color);\n",
              "    border: none;\n",
              "    border-radius: 50%;\n",
              "    cursor: pointer;\n",
              "    display: none;\n",
              "    fill: var(--fill-color);\n",
              "    height: 32px;\n",
              "    padding: 0;\n",
              "    width: 32px;\n",
              "  }\n",
              "\n",
              "  .colab-df-quickchart:hover {\n",
              "    background-color: var(--hover-bg-color);\n",
              "    box-shadow: 0 1px 2px rgba(60, 64, 67, 0.3), 0 1px 3px 1px rgba(60, 64, 67, 0.15);\n",
              "    fill: var(--button-hover-fill-color);\n",
              "  }\n",
              "\n",
              "  .colab-df-quickchart-complete:disabled,\n",
              "  .colab-df-quickchart-complete:disabled:hover {\n",
              "    background-color: var(--disabled-bg-color);\n",
              "    fill: var(--disabled-fill-color);\n",
              "    box-shadow: none;\n",
              "  }\n",
              "\n",
              "  .colab-df-spinner {\n",
              "    border: 2px solid var(--fill-color);\n",
              "    border-color: transparent;\n",
              "    border-bottom-color: var(--fill-color);\n",
              "    animation:\n",
              "      spin 1s steps(1) infinite;\n",
              "  }\n",
              "\n",
              "  @keyframes spin {\n",
              "    0% {\n",
              "      border-color: transparent;\n",
              "      border-bottom-color: var(--fill-color);\n",
              "      border-left-color: var(--fill-color);\n",
              "    }\n",
              "    20% {\n",
              "      border-color: transparent;\n",
              "      border-left-color: var(--fill-color);\n",
              "      border-top-color: var(--fill-color);\n",
              "    }\n",
              "    30% {\n",
              "      border-color: transparent;\n",
              "      border-left-color: var(--fill-color);\n",
              "      border-top-color: var(--fill-color);\n",
              "      border-right-color: var(--fill-color);\n",
              "    }\n",
              "    40% {\n",
              "      border-color: transparent;\n",
              "      border-right-color: var(--fill-color);\n",
              "      border-top-color: var(--fill-color);\n",
              "    }\n",
              "    60% {\n",
              "      border-color: transparent;\n",
              "      border-right-color: var(--fill-color);\n",
              "    }\n",
              "    80% {\n",
              "      border-color: transparent;\n",
              "      border-right-color: var(--fill-color);\n",
              "      border-bottom-color: var(--fill-color);\n",
              "    }\n",
              "    90% {\n",
              "      border-color: transparent;\n",
              "      border-bottom-color: var(--fill-color);\n",
              "    }\n",
              "  }\n",
              "</style>\n",
              "\n",
              "  <script>\n",
              "    async function quickchart(key) {\n",
              "      const quickchartButtonEl =\n",
              "        document.querySelector('#' + key + ' button');\n",
              "      quickchartButtonEl.disabled = true;  // To prevent multiple clicks.\n",
              "      quickchartButtonEl.classList.add('colab-df-spinner');\n",
              "      try {\n",
              "        const charts = await google.colab.kernel.invokeFunction(\n",
              "            'suggestCharts', [key], {});\n",
              "      } catch (error) {\n",
              "        console.error('Error during call to suggestCharts:', error);\n",
              "      }\n",
              "      quickchartButtonEl.classList.remove('colab-df-spinner');\n",
              "      quickchartButtonEl.classList.add('colab-df-quickchart-complete');\n",
              "    }\n",
              "    (() => {\n",
              "      let quickchartButtonEl =\n",
              "        document.querySelector('#df-8c4fc833-6282-40c4-b74b-4f2cf46af7f6 button');\n",
              "      quickchartButtonEl.style.display =\n",
              "        google.colab.kernel.accessAllowed ? 'block' : 'none';\n",
              "    })();\n",
              "  </script>\n",
              "</div>\n",
              "\n",
              "    </div>\n",
              "  </div>\n"
            ],
            "application/vnd.google.colaboratory.intrinsic+json": {
              "type": "dataframe",
              "variable_name": "df",
              "summary": "{\n  \"name\": \"df\",\n  \"rows\": 100,\n  \"fields\": [\n    {\n      \"column\": \"title\",\n      \"properties\": {\n        \"dtype\": \"category\",\n        \"num_unique_values\": 35,\n        \"samples\": [\n          \"Fresno,_California\",\n          \"Jacksonville,_Florida\",\n          \"Pharmacy\"\n        ],\n        \"semantic_type\": \"\",\n        \"description\": \"\"\n      }\n    },\n    {\n      \"column\": \"question\",\n      \"properties\": {\n        \"dtype\": \"string\",\n        \"num_unique_values\": 100,\n        \"samples\": [\n          \"What is a recent civil disobedience done in a group form?\",\n          \"What was the Colonia Agrippina's original name?\",\n          \"What architecture type came after Norman in England?\"\n        ],\n        \"semantic_type\": \"\",\n        \"description\": \"\"\n      }\n    },\n    {\n      \"column\": \"context\",\n      \"properties\": {\n        \"dtype\": \"string\",\n        \"num_unique_values\": 93,\n        \"samples\": [\n          \"Wealth concentration is a theoretical[according to whom?] process by which, under certain conditions, newly created wealth concentrates in the possession of already-wealthy individuals or entities. According to this theory, those who already hold wealth have the means to invest in new sources of creating wealth or to otherwise leverage the accumulation of wealth, thus are the beneficiaries of the new wealth. Over time, wealth condensation can significantly contribute to the persistence of inequality within society. Thomas Piketty in his book Capital in the Twenty-First Century argues that the fundamental force for divergence is the usually greater return of capital (r) than economic growth (g), and that larger fortunes generate higher returns [pp. 384 Table 12.2, U.S. university endowment size vs. real annual rate of return]\",\n          \"Larger drugs (>500 Da) can provoke a neutralizing immune response, particularly if the drugs are administered repeatedly, or in larger doses. This limits the effectiveness of drugs based on larger peptides and proteins (which are typically larger than 6000 Da). In some cases, the drug itself is not immunogenic, but may be co-administered with an immunogenic compound, as is sometimes the case for Taxol. Computational methods have been developed to predict the immunogenicity of peptides and proteins, which are particularly useful in designing therapeutic antibodies, assessing likely virulence of mutations in viral coat particles, and validation of proposed peptide-based drug treatments. Early techniques relied mainly on the observation that hydrophilic amino acids are overrepresented in epitope regions than hydrophobic amino acids; however, more recent developments rely on machine learning techniques using databases of existing known epitopes, usually on well-studied virus proteins, as a training set. A publicly accessible database has been established for the cataloguing of epitopes from pathogens known to be recognizable by B cells. The emerging field of bioinformatics-based studies of immunogenicity is referred to as immunoinformatics. Immunoproteomics is the study of large sets of proteins (proteomics) involved in the immune response.\",\n          \"2013 Economics Nobel prize winner Robert J. Shiller said that rising inequality in the United States and elsewhere is the most important problem. Increasing inequality harms economic growth. High and persistent unemployment, in which inequality increases, has a negative effect on subsequent long-run economic growth. Unemployment can harm growth not only because it is a waste of resources, but also because it generates redistributive pressures and subsequent distortions, drives people to poverty, constrains liquidity limiting labor mobility, and erodes self-esteem promoting social dislocation, unrest and conflict. Policies aiming at controlling unemployment and in particular at reducing its inequality-associated effects support economic growth.\"\n        ],\n        \"semantic_type\": \"\",\n        \"description\": \"\"\n      }\n    },\n    {\n      \"column\": \"is_impossible\",\n      \"properties\": {\n        \"dtype\": \"boolean\",\n        \"num_unique_values\": 2,\n        \"samples\": [\n          true,\n          false\n        ],\n        \"semantic_type\": \"\",\n        \"description\": \"\"\n      }\n    },\n    {\n      \"column\": \"answers\",\n      \"properties\": {\n        \"dtype\": \"object\",\n        \"semantic_type\": \"\",\n        \"description\": \"\"\n      }\n    },\n    {\n      \"column\": \"ft_generated_answer_few_shot\",\n      \"properties\": {\n        \"dtype\": \"string\",\n        \"num_unique_values\": 50,\n        \"samples\": [\n          \"L\",\n          \"s = \\u22122, \\u22124\"\n        ],\n        \"semantic_type\": \"\",\n        \"description\": \"\"\n      }\n    }\n  ]\n}"
            }
          },
          "metadata": {},
          "execution_count": 36
        }
      ]
    },
    {
      "cell_type": "code",
      "source": [
        "evaluator.plot_evaluate_model([\"ft_generated_answer_few_shot\"], scenario=\"answer_expected\", labels=[\"Fine-Tuned with Few-Shot\"])"
      ],
      "metadata": {
        "colab": {
          "base_uri": "https://localhost:8080/",
          "height": 428
        },
        "id": "1a13cFSJF672",
        "outputId": "97937fcc-0338-4b1d-ca93-5f8dff0e3957"
      },
      "execution_count": null,
      "outputs": [
        {
          "output_type": "display_data",
          "data": {
            "text/plain": [
              "<Figure size 1218.5x500 with 1 Axes>"
            ],
            "image/png": "[encoded data removed]"
          },
          "metadata": {}
        }
      ]
    },
    {
      "cell_type": "code",
      "source": [
        "evaluator.plot_evaluate_model([\"ft_generated_answer_few_shot\"], scenario=\"idk_expected\", labels=[\"Fine-Tuned with Few-Shot\"])"
      ],
      "metadata": {
        "colab": {
          "base_uri": "https://localhost:8080/",
          "height": 442
        },
        "id": "rDpp7LPTGjs6",
        "outputId": "7e6e89c1-4c77-4bf8-c40a-348235f0962f"
      },
      "execution_count": null,
      "outputs": [
        {
          "output_type": "display_data",
          "data": {
            "text/plain": [
              "<Figure size 1169x500 with 1 Axes>"
            ],
            "image/png": "[encoded data removed]"
          },
          "metadata": {}
        }
      ]
    }
  ],
  "metadata": {
    "colab": {
      "provenance": [],
      "collapsed_sections": [
        "Ssy68IVXOlLa",
        "tiRZ4AaBOz3L",
        "6hHvLGtyF0BI",
        "9MvyHKtW4FpV"
      ],
      "authorship_tag": "ABX9TyMeZLhR2YA4/je+mm6OJmZc"
    },
    "kernelspec": {
      "display_name": "Python 3",
      "name": "python3"
    },
    "language_info": {
      "name": "python"
    },
    "widgets": {
      "application/vnd.jupyter.widget-state+json": {
        "0e05f2c3bf6d499699465ada795868d4": {
          "model_module": "@jupyter-widgets/base",
          "model_module_version": "1.2.0",
          "model_name": "LayoutModel",
          "state": {
            "_model_module": "@jupyter-widgets/base",
            "_model_module_version": "1.2.0",
            "_model_name": "LayoutModel",
            "_view_count": null,
            "_view_module": "@jupyter-widgets/base",
            "_view_module_version": "1.2.0",
            "_view_name": "LayoutView",
            "align_content": null,
            "align_items": null,
            "align_self": null,
            "border": null,
            "bottom": null,
            "display": null,
            "flex": null,
            "flex_flow": null,
            "grid_area": null,
            "grid_auto_columns": null,
            "grid_auto_flow": null,
            "grid_auto_rows": null,
            "grid_column": null,
            "grid_gap": null,
            "grid_row": null,
            "grid_template_areas": null,
            "grid_template_columns": null,
            "grid_template_rows": null,
            "height": null,
            "justify_content": null,
            "justify_items": null,
            "left": null,
            "margin": null,
            "max_height": null,
            "max_width": null,
            "min_height": null,
            "min_width": null,
            "object_fit": null,
            "object_position": null,
            "order": null,
            "overflow": null,
            "overflow_x": null,
            "overflow_y": null,
            "padding": null,
            "right": null,
            "top": null,
            "visibility": null,
            "width": null
          }
        },
        "2826f8064fe9431397d3594eff3f2046": {
          "model_module": "@jupyter-widgets/controls",
          "model_module_version": "1.5.0",
          "model_name": "DescriptionStyleModel",
          "state": {
            "_model_module": "@jupyter-widgets/controls",
            "_model_module_version": "1.5.0",
            "_model_name": "DescriptionStyleModel",
            "_view_count": null,
            "_view_module": "@jupyter-widgets/base",
            "_view_module_version": "1.2.0",
            "_view_name": "StyleView",
            "description_width": ""
          }
        },
        "2922815e303b4f67a8f014f513ea6373": {
          "model_module": "@jupyter-widgets/base",
          "model_module_version": "1.2.0",
          "model_name": "LayoutModel",
          "state": {
            "_model_module": "@jupyter-widgets/base",
            "_model_module_version": "1.2.0",
            "_model_name": "LayoutModel",
            "_view_count": null,
            "_view_module": "@jupyter-widgets/base",
            "_view_module_version": "1.2.0",
            "_view_name": "LayoutView",
            "align_content": null,
            "align_items": null,
            "align_self": null,
            "border": null,
            "bottom": null,
            "display": null,
            "flex": null,
            "flex_flow": null,
            "grid_area": null,
            "grid_auto_columns": null,
            "grid_auto_flow": null,
            "grid_auto_rows": null,
            "grid_column": null,
            "grid_gap": null,
            "grid_row": null,
            "grid_template_areas": null,
            "grid_template_columns": null,
            "grid_template_rows": null,
            "height": null,
            "justify_content": null,
            "justify_items": null,
            "left": null,
            "margin": null,
            "max_height": null,
            "max_width": null,
            "min_height": null,
            "min_width": null,
            "object_fit": null,
            "object_position": null,
            "order": null,
            "overflow": null,
            "overflow_x": null,
            "overflow_y": null,
            "padding": null,
            "right": null,
            "top": null,
            "visibility": null,
            "width": null
          }
        },
        "314688d029cc4f85b81a1d149ce39990": {
          "model_module": "@jupyter-widgets/controls",
          "model_module_version": "1.5.0",
          "model_name": "DescriptionStyleModel",
          "state": {
            "_model_module": "@jupyter-widgets/controls",
            "_model_module_version": "1.5.0",
            "_model_name": "DescriptionStyleModel",
            "_view_count": null,
            "_view_module": "@jupyter-widgets/base",
            "_view_module_version": "1.2.0",
            "_view_name": "StyleView",
            "description_width": ""
          }
        },
        "5f85fdda34b34a6ab057cefa1b8e1d07": {
          "model_module": "@jupyter-widgets/controls",
          "model_module_version": "1.5.0",
          "model_name": "HBoxModel",
          "state": {
            "_dom_classes": [],
            "_model_module": "@jupyter-widgets/controls",
            "_model_module_version": "1.5.0",
            "_model_name": "HBoxModel",
            "_view_count": null,
            "_view_module": "@jupyter-widgets/controls",
            "_view_module_version": "1.5.0",
            "_view_name": "HBoxView",
            "box_style": "",
            "children": [
              "IPY_MODEL_8dca10345fb14e7ba4fe4300173f04a8",
              "IPY_MODEL_c40d01d9384f4193ab9a98453531a256",
              "IPY_MODEL_f1705d75aa464905b2afeae241a4ec24"
            ],
            "layout": "IPY_MODEL_685199ad5dd14a29839fc355850fb705"
          }
        },
        "685199ad5dd14a29839fc355850fb705": {
          "model_module": "@jupyter-widgets/base",
          "model_module_version": "1.2.0",
          "model_name": "LayoutModel",
          "state": {
            "_model_module": "@jupyter-widgets/base",
            "_model_module_version": "1.2.0",
            "_model_name": "LayoutModel",
            "_view_count": null,
            "_view_module": "@jupyter-widgets/base",
            "_view_module_version": "1.2.0",
            "_view_name": "LayoutView",
            "align_content": null,
            "align_items": null,
            "align_self": null,
            "border": null,
            "bottom": null,
            "display": null,
            "flex": null,
            "flex_flow": null,
            "grid_area": null,
            "grid_auto_columns": null,
            "grid_auto_flow": null,
            "grid_auto_rows": null,
            "grid_column": null,
            "grid_gap": null,
            "grid_row": null,
            "grid_template_areas": null,
            "grid_template_columns": null,
            "grid_template_rows": null,
            "height": null,
            "justify_content": null,
            "justify_items": null,
            "left": null,
            "margin": null,
            "max_height": null,
            "max_width": null,
            "min_height": null,
            "min_width": null,
            "object_fit": null,
            "object_position": null,
            "order": null,
            "overflow": null,
            "overflow_x": null,
            "overflow_y": null,
            "padding": null,
            "right": null,
            "top": null,
            "visibility": null,
            "width": null
          }
        },
        "6cd86f7ff4dc41f49eb4b89541d92520": {
          "model_module": "@jupyter-widgets/controls",
          "model_module_version": "1.5.0",
          "model_name": "ProgressStyleModel",
          "state": {
            "_model_module": "@jupyter-widgets/controls",
            "_model_module_version": "1.5.0",
            "_model_name": "ProgressStyleModel",
            "_view_count": null,
            "_view_module": "@jupyter-widgets/base",
            "_view_module_version": "1.2.0",
            "_view_name": "StyleView",
            "bar_color": null,
            "description_width": ""
          }
        },
        "74048b9592404f4eba9cf9f52a3f28b1": {
          "model_module": "@jupyter-widgets/base",
          "model_module_version": "1.2.0",
          "model_name": "LayoutModel",
          "state": {
            "_model_module": "@jupyter-widgets/base",
            "_model_module_version": "1.2.0",
            "_model_name": "LayoutModel",
            "_view_count": null,
            "_view_module": "@jupyter-widgets/base",
            "_view_module_version": "1.2.0",
            "_view_name": "LayoutView",
            "align_content": null,
            "align_items": null,
            "align_self": null,
            "border": null,
            "bottom": null,
            "display": null,
            "flex": null,
            "flex_flow": null,
            "grid_area": null,
            "grid_auto_columns": null,
            "grid_auto_flow": null,
            "grid_auto_rows": null,
            "grid_column": null,
            "grid_gap": null,
            "grid_row": null,
            "grid_template_areas": null,
            "grid_template_columns": null,
            "grid_template_rows": null,
            "height": null,
            "justify_content": null,
            "justify_items": null,
            "left": null,
            "margin": null,
            "max_height": null,
            "max_width": null,
            "min_height": null,
            "min_width": null,
            "object_fit": null,
            "object_position": null,
            "order": null,
            "overflow": null,
            "overflow_x": null,
            "overflow_y": null,
            "padding": null,
            "right": null,
            "top": null,
            "visibility": null,
            "width": null
          }
        },
        "8dca10345fb14e7ba4fe4300173f04a8": {
          "model_module": "@jupyter-widgets/controls",
          "model_module_version": "1.5.0",
          "model_name": "HTMLModel",
          "state": {
            "_dom_classes": [],
            "_model_module": "@jupyter-widgets/controls",
            "_model_module_version": "1.5.0",
            "_model_name": "HTMLModel",
            "_view_count": null,
            "_view_module": "@jupyter-widgets/controls",
            "_view_module_version": "1.5.0",
            "_view_name": "HTMLView",
            "description": "",
            "description_tooltip": null,
            "layout": "IPY_MODEL_2922815e303b4f67a8f014f513ea6373",
            "placeholder": "​",
            "style": "IPY_MODEL_314688d029cc4f85b81a1d149ce39990",
            "value": "100%"
          }
        },
        "98369a79540a4ea4850d12e36bb1d0d4": {
          "model_module": "@jupyter-widgets/controls",
          "model_module_version": "1.5.0",
          "model_name": "ProgressStyleModel",
          "state": {
            "_model_module": "@jupyter-widgets/controls",
            "_model_module_version": "1.5.0",
            "_model_name": "ProgressStyleModel",
            "_view_count": null,
            "_view_module": "@jupyter-widgets/base",
            "_view_module_version": "1.2.0",
            "_view_name": "StyleView",
            "bar_color": null,
            "description_width": ""
          }
        },
        "a741c8a92afb4f76a3bab12ad8c9a00a": {
          "model_module": "@jupyter-widgets/controls",
          "model_module_version": "1.5.0",
          "model_name": "DescriptionStyleModel",
          "state": {
            "_model_module": "@jupyter-widgets/controls",
            "_model_module_version": "1.5.0",
            "_model_name": "DescriptionStyleModel",
            "_view_count": null,
            "_view_module": "@jupyter-widgets/base",
            "_view_module_version": "1.2.0",
            "_view_name": "StyleView",
            "description_width": ""
          }
        },
        "aa3443bf20c846e2b07ef6a4744a3ec1": {
          "model_module": "@jupyter-widgets/controls",
          "model_module_version": "1.5.0",
          "model_name": "HTMLModel",
          "state": {
            "_dom_classes": [],
            "_model_module": "@jupyter-widgets/controls",
            "_model_module_version": "1.5.0",
            "_model_name": "HTMLModel",
            "_view_count": null,
            "_view_module": "@jupyter-widgets/controls",
            "_view_module_version": "1.5.0",
            "_view_name": "HTMLView",
            "description": "",
            "description_tooltip": null,
            "layout": "IPY_MODEL_0e05f2c3bf6d499699465ada795868d4",
            "placeholder": "​",
            "style": "IPY_MODEL_2826f8064fe9431397d3594eff3f2046",
            "value": " 130319/130319 [1:11:58&lt;00:00, 35.25it/s]"
          }
        },
        "af2809240858435f919cc3e07a5a8856": {
          "model_module": "@jupyter-widgets/base",
          "model_module_version": "1.2.0",
          "model_name": "LayoutModel",
          "state": {
            "_model_module": "@jupyter-widgets/base",
            "_model_module_version": "1.2.0",
            "_model_name": "LayoutModel",
            "_view_count": null,
            "_view_module": "@jupyter-widgets/base",
            "_view_module_version": "1.2.0",
            "_view_name": "LayoutView",
            "align_content": null,
            "align_items": null,
            "align_self": null,
            "border": null,
            "bottom": null,
            "display": null,
            "flex": null,
            "flex_flow": null,
            "grid_area": null,
            "grid_auto_columns": null,
            "grid_auto_flow": null,
            "grid_auto_rows": null,
            "grid_column": null,
            "grid_gap": null,
            "grid_row": null,
            "grid_template_areas": null,
            "grid_template_columns": null,
            "grid_template_rows": null,
            "height": null,
            "justify_content": null,
            "justify_items": null,
            "left": null,
            "margin": null,
            "max_height": null,
            "max_width": null,
            "min_height": null,
            "min_width": null,
            "object_fit": null,
            "object_position": null,
            "order": null,
            "overflow": null,
            "overflow_x": null,
            "overflow_y": null,
            "padding": null,
            "right": null,
            "top": null,
            "visibility": null,
            "width": null
          }
        },
        "b834fd94562c46c38e5e9be3acca3431": {
          "model_module": "@jupyter-widgets/controls",
          "model_module_version": "1.5.0",
          "model_name": "HTMLModel",
          "state": {
            "_dom_classes": [],
            "_model_module": "@jupyter-widgets/controls",
            "_model_module_version": "1.5.0",
            "_model_name": "HTMLModel",
            "_view_count": null,
            "_view_module": "@jupyter-widgets/controls",
            "_view_module_version": "1.5.0",
            "_view_name": "HTMLView",
            "description": "",
            "description_tooltip": null,
            "layout": "IPY_MODEL_eb7a8f8928934721bc1d68c8521eaa53",
            "placeholder": "​",
            "style": "IPY_MODEL_cdde513c6eb74b70baded400002ed930",
            "value": "Generating embeddings: 100%"
          }
        },
        "c40d01d9384f4193ab9a98453531a256": {
          "model_module": "@jupyter-widgets/controls",
          "model_module_version": "1.5.0",
          "model_name": "FloatProgressModel",
          "state": {
            "_dom_classes": [],
            "_model_module": "@jupyter-widgets/controls",
            "_model_module_version": "1.5.0",
            "_model_name": "FloatProgressModel",
            "_view_count": null,
            "_view_module": "@jupyter-widgets/controls",
            "_view_module_version": "1.5.0",
            "_view_name": "ProgressView",
            "bar_style": "success",
            "description": "",
            "description_tooltip": null,
            "layout": "IPY_MODEL_74048b9592404f4eba9cf9f52a3f28b1",
            "max": 130319,
            "min": 0,
            "orientation": "horizontal",
            "style": "IPY_MODEL_98369a79540a4ea4850d12e36bb1d0d4",
            "value": 130319
          }
        },
        "cb91a8ec6bcd4562a0a77026dc3f1910": {
          "model_module": "@jupyter-widgets/base",
          "model_module_version": "1.2.0",
          "model_name": "LayoutModel",
          "state": {
            "_model_module": "@jupyter-widgets/base",
            "_model_module_version": "1.2.0",
            "_model_name": "LayoutModel",
            "_view_count": null,
            "_view_module": "@jupyter-widgets/base",
            "_view_module_version": "1.2.0",
            "_view_name": "LayoutView",
            "align_content": null,
            "align_items": null,
            "align_self": null,
            "border": null,
            "bottom": null,
            "display": null,
            "flex": null,
            "flex_flow": null,
            "grid_area": null,
            "grid_auto_columns": null,
            "grid_auto_flow": null,
            "grid_auto_rows": null,
            "grid_column": null,
            "grid_gap": null,
            "grid_row": null,
            "grid_template_areas": null,
            "grid_template_columns": null,
            "grid_template_rows": null,
            "height": null,
            "justify_content": null,
            "justify_items": null,
            "left": null,
            "margin": null,
            "max_height": null,
            "max_width": null,
            "min_height": null,
            "min_width": null,
            "object_fit": null,
            "object_position": null,
            "order": null,
            "overflow": null,
            "overflow_x": null,
            "overflow_y": null,
            "padding": null,
            "right": null,
            "top": null,
            "visibility": null,
            "width": null
          }
        },
        "cdde513c6eb74b70baded400002ed930": {
          "model_module": "@jupyter-widgets/controls",
          "model_module_version": "1.5.0",
          "model_name": "DescriptionStyleModel",
          "state": {
            "_model_module": "@jupyter-widgets/controls",
            "_model_module_version": "1.5.0",
            "_model_name": "DescriptionStyleModel",
            "_view_count": null,
            "_view_module": "@jupyter-widgets/base",
            "_view_module_version": "1.2.0",
            "_view_name": "StyleView",
            "description_width": ""
          }
        },
        "d1d6a2c99eb84ca49547c33f49e159ae": {
          "model_module": "@jupyter-widgets/base",
          "model_module_version": "1.2.0",
          "model_name": "LayoutModel",
          "state": {
            "_model_module": "@jupyter-widgets/base",
            "_model_module_version": "1.2.0",
            "_model_name": "LayoutModel",
            "_view_count": null,
            "_view_module": "@jupyter-widgets/base",
            "_view_module_version": "1.2.0",
            "_view_name": "LayoutView",
            "align_content": null,
            "align_items": null,
            "align_self": null,
            "border": null,
            "bottom": null,
            "display": null,
            "flex": null,
            "flex_flow": null,
            "grid_area": null,
            "grid_auto_columns": null,
            "grid_auto_flow": null,
            "grid_auto_rows": null,
            "grid_column": null,
            "grid_gap": null,
            "grid_row": null,
            "grid_template_areas": null,
            "grid_template_columns": null,
            "grid_template_rows": null,
            "height": null,
            "justify_content": null,
            "justify_items": null,
            "left": null,
            "margin": null,
            "max_height": null,
            "max_width": null,
            "min_height": null,
            "min_width": null,
            "object_fit": null,
            "object_position": null,
            "order": null,
            "overflow": null,
            "overflow_x": null,
            "overflow_y": null,
            "padding": null,
            "right": null,
            "top": null,
            "visibility": null,
            "width": null
          }
        },
        "d3dedc57200e41b1b3953af8ed646625": {
          "model_module": "@jupyter-widgets/controls",
          "model_module_version": "1.5.0",
          "model_name": "FloatProgressModel",
          "state": {
            "_dom_classes": [],
            "_model_module": "@jupyter-widgets/controls",
            "_model_module_version": "1.5.0",
            "_model_name": "FloatProgressModel",
            "_view_count": null,
            "_view_module": "@jupyter-widgets/controls",
            "_view_module_version": "1.5.0",
            "_view_name": "ProgressView",
            "bar_style": "success",
            "description": "",
            "description_tooltip": null,
            "layout": "IPY_MODEL_af2809240858435f919cc3e07a5a8856",
            "max": 130319,
            "min": 0,
            "orientation": "horizontal",
            "style": "IPY_MODEL_6cd86f7ff4dc41f49eb4b89541d92520",
            "value": 130319
          }
        },
        "eb7a8f8928934721bc1d68c8521eaa53": {
          "model_module": "@jupyter-widgets/base",
          "model_module_version": "1.2.0",
          "model_name": "LayoutModel",
          "state": {
            "_model_module": "@jupyter-widgets/base",
            "_model_module_version": "1.2.0",
            "_model_name": "LayoutModel",
            "_view_count": null,
            "_view_module": "@jupyter-widgets/base",
            "_view_module_version": "1.2.0",
            "_view_name": "LayoutView",
            "align_content": null,
            "align_items": null,
            "align_self": null,
            "border": null,
            "bottom": null,
            "display": null,
            "flex": null,
            "flex_flow": null,
            "grid_area": null,
            "grid_auto_columns": null,
            "grid_auto_flow": null,
            "grid_auto_rows": null,
            "grid_column": null,
            "grid_gap": null,
            "grid_row": null,
            "grid_template_areas": null,
            "grid_template_columns": null,
            "grid_template_rows": null,
            "height": null,
            "justify_content": null,
            "justify_items": null,
            "left": null,
            "margin": null,
            "max_height": null,
            "max_width": null,
            "min_height": null,
            "min_width": null,
            "object_fit": null,
            "object_position": null,
            "order": null,
            "overflow": null,
            "overflow_x": null,
            "overflow_y": null,
            "padding": null,
            "right": null,
            "top": null,
            "visibility": null,
            "width": null
          }
        },
        "f09accf5f94c4ba5a01bd220f17b2c95": {
          "model_module": "@jupyter-widgets/controls",
          "model_module_version": "1.5.0",
          "model_name": "HBoxModel",
          "state": {
            "_dom_classes": [],
            "_model_module": "@jupyter-widgets/controls",
            "_model_module_version": "1.5.0",
            "_model_name": "HBoxModel",
            "_view_count": null,
            "_view_module": "@jupyter-widgets/controls",
            "_view_module_version": "1.5.0",
            "_view_name": "HBoxView",
            "box_style": "",
            "children": [
              "IPY_MODEL_b834fd94562c46c38e5e9be3acca3431",
              "IPY_MODEL_d3dedc57200e41b1b3953af8ed646625",
              "IPY_MODEL_aa3443bf20c846e2b07ef6a4744a3ec1"
            ],
            "layout": "IPY_MODEL_d1d6a2c99eb84ca49547c33f49e159ae"
          }
        },
        "f1705d75aa464905b2afeae241a4ec24": {
          "model_module": "@jupyter-widgets/controls",
          "model_module_version": "1.5.0",
          "model_name": "HTMLModel",
          "state": {
            "_dom_classes": [],
            "_model_module": "@jupyter-widgets/controls",
            "_model_module_version": "1.5.0",
            "_model_name": "HTMLModel",
            "_view_count": null,
            "_view_module": "@jupyter-widgets/controls",
            "_view_module_version": "1.5.0",
            "_view_name": "HTMLView",
            "description": "",
            "description_tooltip": null,
            "layout": "IPY_MODEL_cb91a8ec6bcd4562a0a77026dc3f1910",
            "placeholder": "​",
            "style": "IPY_MODEL_a741c8a92afb4f76a3bab12ad8c9a00a",
            "value": " 130319/130319 [00:16&lt;00:00, 8568.66it/s]"
          }
        },
        "b3525a6c018b4b1b98d5965f7f1d2f9a": {
          "model_module": "@jupyter-widgets/controls",
          "model_name": "HBoxModel",
          "model_module_version": "1.5.0",
          "state": {
            "_dom_classes": [],
            "_model_module": "@jupyter-widgets/controls",
            "_model_module_version": "1.5.0",
            "_model_name": "HBoxModel",
            "_view_count": null,
            "_view_module": "@jupyter-widgets/controls",
            "_view_module_version": "1.5.0",
            "_view_name": "HBoxView",
            "box_style": "",
            "children": [
              "IPY_MODEL_f84fab40462b4c30bd6f8dedadd6f1d9",
              "IPY_MODEL_6789a6091810463da9a88ab0c2df5025",
              "IPY_MODEL_15968e00b1e74b0cab3a146c5ee3392b"
            ],
            "layout": "IPY_MODEL_a8bb2549c4a245fdb002e5fda52f67a3"
          }
        },
        "f84fab40462b4c30bd6f8dedadd6f1d9": {
          "model_module": "@jupyter-widgets/controls",
          "model_name": "HTMLModel",
          "model_module_version": "1.5.0",
          "state": {
            "_dom_classes": [],
            "_model_module": "@jupyter-widgets/controls",
            "_model_module_version": "1.5.0",
            "_model_name": "HTMLModel",
            "_view_count": null,
            "_view_module": "@jupyter-widgets/controls",
            "_view_module_version": "1.5.0",
            "_view_name": "HTMLView",
            "description": "",
            "description_tooltip": null,
            "layout": "IPY_MODEL_94ef6ea7cf1a4aa9a5d2ae614a4deb5a",
            "placeholder": "​",
            "style": "IPY_MODEL_f2456d15bd1441abbaf7be9c77676645",
            "value": "Uploading to Qdrant: 100%"
          }
        },
        "6789a6091810463da9a88ab0c2df5025": {
          "model_module": "@jupyter-widgets/controls",
          "model_name": "FloatProgressModel",
          "model_module_version": "1.5.0",
          "state": {
            "_dom_classes": [],
            "_model_module": "@jupyter-widgets/controls",
            "_model_module_version": "1.5.0",
            "_model_name": "FloatProgressModel",
            "_view_count": null,
            "_view_module": "@jupyter-widgets/controls",
            "_view_module_version": "1.5.0",
            "_view_name": "ProgressView",
            "bar_style": "success",
            "description": "",
            "description_tooltip": null,
            "layout": "IPY_MODEL_94820c404dea49158f99d9f10b04854f",
            "max": 1304,
            "min": 0,
            "orientation": "horizontal",
            "style": "IPY_MODEL_2ff749239e214475ad3669a8bea65576",
            "value": 1304
          }
        },
        "15968e00b1e74b0cab3a146c5ee3392b": {
          "model_module": "@jupyter-widgets/controls",
          "model_name": "HTMLModel",
          "model_module_version": "1.5.0",
          "state": {
            "_dom_classes": [],
            "_model_module": "@jupyter-widgets/controls",
            "_model_module_version": "1.5.0",
            "_model_name": "HTMLModel",
            "_view_count": null,
            "_view_module": "@jupyter-widgets/controls",
            "_view_module_version": "1.5.0",
            "_view_name": "HTMLView",
            "description": "",
            "description_tooltip": null,
            "layout": "IPY_MODEL_8fce7c16f8db4d898c44c23f72e907fa",
            "placeholder": "​",
            "style": "IPY_MODEL_35355c02f6cf4edcbd499ec8534f473c",
            "value": " 1304/1304 [02:29&lt;00:00,  9.58it/s]"
          }
        },
        "a8bb2549c4a245fdb002e5fda52f67a3": {
          "model_module": "@jupyter-widgets/base",
          "model_name": "LayoutModel",
          "model_module_version": "1.2.0",
          "state": {
            "_model_module": "@jupyter-widgets/base",
            "_model_module_version": "1.2.0",
            "_model_name": "LayoutModel",
            "_view_count": null,
            "_view_module": "@jupyter-widgets/base",
            "_view_module_version": "1.2.0",
            "_view_name": "LayoutView",
            "align_content": null,
            "align_items": null,
            "align_self": null,
            "border": null,
            "bottom": null,
            "display": null,
            "flex": null,
            "flex_flow": null,
            "grid_area": null,
            "grid_auto_columns": null,
            "grid_auto_flow": null,
            "grid_auto_rows": null,
            "grid_column": null,
            "grid_gap": null,
            "grid_row": null,
            "grid_template_areas": null,
            "grid_template_columns": null,
            "grid_template_rows": null,
            "height": null,
            "justify_content": null,
            "justify_items": null,
            "left": null,
            "margin": null,
            "max_height": null,
            "max_width": null,
            "min_height": null,
            "min_width": null,
            "object_fit": null,
            "object_position": null,
            "order": null,
            "overflow": null,
            "overflow_x": null,
            "overflow_y": null,
            "padding": null,
            "right": null,
            "top": null,
            "visibility": null,
            "width": null
          }
        },
        "94ef6ea7cf1a4aa9a5d2ae614a4deb5a": {
          "model_module": "@jupyter-widgets/base",
          "model_name": "LayoutModel",
          "model_module_version": "1.2.0",
          "state": {
            "_model_module": "@jupyter-widgets/base",
            "_model_module_version": "1.2.0",
            "_model_name": "LayoutModel",
            "_view_count": null,
            "_view_module": "@jupyter-widgets/base",
            "_view_module_version": "1.2.0",
            "_view_name": "LayoutView",
            "align_content": null,
            "align_items": null,
            "align_self": null,
            "border": null,
            "bottom": null,
            "display": null,
            "flex": null,
            "flex_flow": null,
            "grid_area": null,
            "grid_auto_columns": null,
            "grid_auto_flow": null,
            "grid_auto_rows": null,
            "grid_column": null,
            "grid_gap": null,
            "grid_row": null,
            "grid_template_areas": null,
            "grid_template_columns": null,
            "grid_template_rows": null,
            "height": null,
            "justify_content": null,
            "justify_items": null,
            "left": null,
            "margin": null,
            "max_height": null,
            "max_width": null,
            "min_height": null,
            "min_width": null,
            "object_fit": null,
            "object_position": null,
            "order": null,
            "overflow": null,
            "overflow_x": null,
            "overflow_y": null,
            "padding": null,
            "right": null,
            "top": null,
            "visibility": null,
            "width": null
          }
        },
        "f2456d15bd1441abbaf7be9c77676645": {
          "model_module": "@jupyter-widgets/controls",
          "model_name": "DescriptionStyleModel",
          "model_module_version": "1.5.0",
          "state": {
            "_model_module": "@jupyter-widgets/controls",
            "_model_module_version": "1.5.0",
            "_model_name": "DescriptionStyleModel",
            "_view_count": null,
            "_view_module": "@jupyter-widgets/base",
            "_view_module_version": "1.2.0",
            "_view_name": "StyleView",
            "description_width": ""
          }
        },
        "94820c404dea49158f99d9f10b04854f": {
          "model_module": "@jupyter-widgets/base",
          "model_name": "LayoutModel",
          "model_module_version": "1.2.0",
          "state": {
            "_model_module": "@jupyter-widgets/base",
            "_model_module_version": "1.2.0",
            "_model_name": "LayoutModel",
            "_view_count": null,
            "_view_module": "@jupyter-widgets/base",
            "_view_module_version": "1.2.0",
            "_view_name": "LayoutView",
            "align_content": null,
            "align_items": null,
            "align_self": null,
            "border": null,
            "bottom": null,
            "display": null,
            "flex": null,
            "flex_flow": null,
            "grid_area": null,
            "grid_auto_columns": null,
            "grid_auto_flow": null,
            "grid_auto_rows": null,
            "grid_column": null,
            "grid_gap": null,
            "grid_row": null,
            "grid_template_areas": null,
            "grid_template_columns": null,
            "grid_template_rows": null,
            "height": null,
            "justify_content": null,
            "justify_items": null,
            "left": null,
            "margin": null,
            "max_height": null,
            "max_width": null,
            "min_height": null,
            "min_width": null,
            "object_fit": null,
            "object_position": null,
            "order": null,
            "overflow": null,
            "overflow_x": null,
            "overflow_y": null,
            "padding": null,
            "right": null,
            "top": null,
            "visibility": null,
            "width": null
          }
        },
        "2ff749239e214475ad3669a8bea65576": {
          "model_module": "@jupyter-widgets/controls",
          "model_name": "ProgressStyleModel",
          "model_module_version": "1.5.0",
          "state": {
            "_model_module": "@jupyter-widgets/controls",
            "_model_module_version": "1.5.0",
            "_model_name": "ProgressStyleModel",
            "_view_count": null,
            "_view_module": "@jupyter-widgets/base",
            "_view_module_version": "1.2.0",
            "_view_name": "StyleView",
            "bar_color": null,
            "description_width": ""
          }
        },
        "8fce7c16f8db4d898c44c23f72e907fa": {
          "model_module": "@jupyter-widgets/base",
          "model_name": "LayoutModel",
          "model_module_version": "1.2.0",
          "state": {
            "_model_module": "@jupyter-widgets/base",
            "_model_module_version": "1.2.0",
            "_model_name": "LayoutModel",
            "_view_count": null,
            "_view_module": "@jupyter-widgets/base",
            "_view_module_version": "1.2.0",
            "_view_name": "LayoutView",
            "align_content": null,
            "align_items": null,
            "align_self": null,
            "border": null,
            "bottom": null,
            "display": null,
            "flex": null,
            "flex_flow": null,
            "grid_area": null,
            "grid_auto_columns": null,
            "grid_auto_flow": null,
            "grid_auto_rows": null,
            "grid_column": null,
            "grid_gap": null,
            "grid_row": null,
            "grid_template_areas": null,
            "grid_template_columns": null,
            "grid_template_rows": null,
            "height": null,
            "justify_content": null,
            "justify_items": null,
            "left": null,
            "margin": null,
            "max_height": null,
            "max_width": null,
            "min_height": null,
            "min_width": null,
            "object_fit": null,
            "object_position": null,
            "order": null,
            "overflow": null,
            "overflow_x": null,
            "overflow_y": null,
            "padding": null,
            "right": null,
            "top": null,
            "visibility": null,
            "width": null
          }
        },
        "35355c02f6cf4edcbd499ec8534f473c": {
          "model_module": "@jupyter-widgets/controls",
          "model_name": "DescriptionStyleModel",
          "model_module_version": "1.5.0",
          "state": {
            "_model_module": "@jupyter-widgets/controls",
            "_model_module_version": "1.5.0",
            "_model_name": "DescriptionStyleModel",
            "_view_count": null,
            "_view_module": "@jupyter-widgets/base",
            "_view_module_version": "1.2.0",
            "_view_name": "StyleView",
            "description_width": ""
          }
        },
        "2fc1d2659537470a9a7bd856b3a1e04e": {
          "model_module": "@jupyter-widgets/controls",
          "model_name": "HBoxModel",
          "model_module_version": "1.5.0",
          "state": {
            "_dom_classes": [],
            "_model_module": "@jupyter-widgets/controls",
            "_model_module_version": "1.5.0",
            "_model_name": "HBoxModel",
            "_view_count": null,
            "_view_module": "@jupyter-widgets/controls",
            "_view_module_version": "1.5.0",
            "_view_name": "HBoxView",
            "box_style": "",
            "children": [
              "IPY_MODEL_c5dadac148a84f7a93eb5c1e423ae823",
              "IPY_MODEL_fe429ace3fa94b2f8964a6cfe3d07891",
              "IPY_MODEL_0d67415e74934e57ba6448f2b1e7d00a"
            ],
            "layout": "IPY_MODEL_04ea57510a754743a5c8e60cd303b6b1"
          }
        },
        "c5dadac148a84f7a93eb5c1e423ae823": {
          "model_module": "@jupyter-widgets/controls",
          "model_name": "HTMLModel",
          "model_module_version": "1.5.0",
          "state": {
            "_dom_classes": [],
            "_model_module": "@jupyter-widgets/controls",
            "_model_module_version": "1.5.0",
            "_model_name": "HTMLModel",
            "_view_count": null,
            "_view_module": "@jupyter-widgets/controls",
            "_view_module_version": "1.5.0",
            "_view_name": "HTMLView",
            "description": "",
            "description_tooltip": null,
            "layout": "IPY_MODEL_db4f87cfb57042d39acf1d5f57113f05",
            "placeholder": "​",
            "style": "IPY_MODEL_16757fec723c440792777359a02c69fa",
            "value": "100%"
          }
        },
        "fe429ace3fa94b2f8964a6cfe3d07891": {
          "model_module": "@jupyter-widgets/controls",
          "model_name": "FloatProgressModel",
          "model_module_version": "1.5.0",
          "state": {
            "_dom_classes": [],
            "_model_module": "@jupyter-widgets/controls",
            "_model_module_version": "1.5.0",
            "_model_name": "FloatProgressModel",
            "_view_count": null,
            "_view_module": "@jupyter-widgets/controls",
            "_view_module_version": "1.5.0",
            "_view_name": "ProgressView",
            "bar_style": "success",
            "description": "",
            "description_tooltip": null,
            "layout": "IPY_MODEL_eff583357323416698d43e29cd87e6f0",
            "max": 100,
            "min": 0,
            "orientation": "horizontal",
            "style": "IPY_MODEL_574fe7a67e7e4ee984829c9e8b80f24c",
            "value": 100
          }
        },
        "0d67415e74934e57ba6448f2b1e7d00a": {
          "model_module": "@jupyter-widgets/controls",
          "model_name": "HTMLModel",
          "model_module_version": "1.5.0",
          "state": {
            "_dom_classes": [],
            "_model_module": "@jupyter-widgets/controls",
            "_model_module_version": "1.5.0",
            "_model_name": "HTMLModel",
            "_view_count": null,
            "_view_module": "@jupyter-widgets/controls",
            "_view_module_version": "1.5.0",
            "_view_name": "HTMLView",
            "description": "",
            "description_tooltip": null,
            "layout": "IPY_MODEL_9b1309bb2e98481eba6104d3b8c00935",
            "placeholder": "​",
            "style": "IPY_MODEL_0526aa33a44a4560a2525d28fad348ad",
            "value": " 100/100 [00:17&lt;00:00,  6.84it/s]"
          }
        },
        "04ea57510a754743a5c8e60cd303b6b1": {
          "model_module": "@jupyter-widgets/base",
          "model_name": "LayoutModel",
          "model_module_version": "1.2.0",
          "state": {
            "_model_module": "@jupyter-widgets/base",
            "_model_module_version": "1.2.0",
            "_model_name": "LayoutModel",
            "_view_count": null,
            "_view_module": "@jupyter-widgets/base",
            "_view_module_version": "1.2.0",
            "_view_name": "LayoutView",
            "align_content": null,
            "align_items": null,
            "align_self": null,
            "border": null,
            "bottom": null,
            "display": null,
            "flex": null,
            "flex_flow": null,
            "grid_area": null,
            "grid_auto_columns": null,
            "grid_auto_flow": null,
            "grid_auto_rows": null,
            "grid_column": null,
            "grid_gap": null,
            "grid_row": null,
            "grid_template_areas": null,
            "grid_template_columns": null,
            "grid_template_rows": null,
            "height": null,
            "justify_content": null,
            "justify_items": null,
            "left": null,
            "margin": null,
            "max_height": null,
            "max_width": null,
            "min_height": null,
            "min_width": null,
            "object_fit": null,
            "object_position": null,
            "order": null,
            "overflow": null,
            "overflow_x": null,
            "overflow_y": null,
            "padding": null,
            "right": null,
            "top": null,
            "visibility": null,
            "width": null
          }
        },
        "db4f87cfb57042d39acf1d5f57113f05": {
          "model_module": "@jupyter-widgets/base",
          "model_name": "LayoutModel",
          "model_module_version": "1.2.0",
          "state": {
            "_model_module": "@jupyter-widgets/base",
            "_model_module_version": "1.2.0",
            "_model_name": "LayoutModel",
            "_view_count": null,
            "_view_module": "@jupyter-widgets/base",
            "_view_module_version": "1.2.0",
            "_view_name": "LayoutView",
            "align_content": null,
            "align_items": null,
            "align_self": null,
            "border": null,
            "bottom": null,
            "display": null,
            "flex": null,
            "flex_flow": null,
            "grid_area": null,
            "grid_auto_columns": null,
            "grid_auto_flow": null,
            "grid_auto_rows": null,
            "grid_column": null,
            "grid_gap": null,
            "grid_row": null,
            "grid_template_areas": null,
            "grid_template_columns": null,
            "grid_template_rows": null,
            "height": null,
            "justify_content": null,
            "justify_items": null,
            "left": null,
            "margin": null,
            "max_height": null,
            "max_width": null,
            "min_height": null,
            "min_width": null,
            "object_fit": null,
            "object_position": null,
            "order": null,
            "overflow": null,
            "overflow_x": null,
            "overflow_y": null,
            "padding": null,
            "right": null,
            "top": null,
            "visibility": null,
            "width": null
          }
        },
        "16757fec723c440792777359a02c69fa": {
          "model_module": "@jupyter-widgets/controls",
          "model_name": "DescriptionStyleModel",
          "model_module_version": "1.5.0",
          "state": {
            "_model_module": "@jupyter-widgets/controls",
            "_model_module_version": "1.5.0",
            "_model_name": "DescriptionStyleModel",
            "_view_count": null,
            "_view_module": "@jupyter-widgets/base",
            "_view_module_version": "1.2.0",
            "_view_name": "StyleView",
            "description_width": ""
          }
        },
        "eff583357323416698d43e29cd87e6f0": {
          "model_module": "@jupyter-widgets/base",
          "model_name": "LayoutModel",
          "model_module_version": "1.2.0",
          "state": {
            "_model_module": "@jupyter-widgets/base",
            "_model_module_version": "1.2.0",
            "_model_name": "LayoutModel",
            "_view_count": null,
            "_view_module": "@jupyter-widgets/base",
            "_view_module_version": "1.2.0",
            "_view_name": "LayoutView",
            "align_content": null,
            "align_items": null,
            "align_self": null,
            "border": null,
            "bottom": null,
            "display": null,
            "flex": null,
            "flex_flow": null,
            "grid_area": null,
            "grid_auto_columns": null,
            "grid_auto_flow": null,
            "grid_auto_rows": null,
            "grid_column": null,
            "grid_gap": null,
            "grid_row": null,
            "grid_template_areas": null,
            "grid_template_columns": null,
            "grid_template_rows": null,
            "height": null,
            "justify_content": null,
            "justify_items": null,
            "left": null,
            "margin": null,
            "max_height": null,
            "max_width": null,
            "min_height": null,
            "min_width": null,
            "object_fit": null,
            "object_position": null,
            "order": null,
            "overflow": null,
            "overflow_x": null,
            "overflow_y": null,
            "padding": null,
            "right": null,
            "top": null,
            "visibility": null,
            "width": null
          }
        },
        "574fe7a67e7e4ee984829c9e8b80f24c": {
          "model_module": "@jupyter-widgets/controls",
          "model_name": "ProgressStyleModel",
          "model_module_version": "1.5.0",
          "state": {
            "_model_module": "@jupyter-widgets/controls",
            "_model_module_version": "1.5.0",
            "_model_name": "ProgressStyleModel",
            "_view_count": null,
            "_view_module": "@jupyter-widgets/base",
            "_view_module_version": "1.2.0",
            "_view_name": "StyleView",
            "bar_color": null,
            "description_width": ""
          }
        },
        "9b1309bb2e98481eba6104d3b8c00935": {
          "model_module": "@jupyter-widgets/base",
          "model_name": "LayoutModel",
          "model_module_version": "1.2.0",
          "state": {
            "_model_module": "@jupyter-widgets/base",
            "_model_module_version": "1.2.0",
            "_model_name": "LayoutModel",
            "_view_count": null,
            "_view_module": "@jupyter-widgets/base",
            "_view_module_version": "1.2.0",
            "_view_name": "LayoutView",
            "align_content": null,
            "align_items": null,
            "align_self": null,
            "border": null,
            "bottom": null,
            "display": null,
            "flex": null,
            "flex_flow": null,
            "grid_area": null,
            "grid_auto_columns": null,
            "grid_auto_flow": null,
            "grid_auto_rows": null,
            "grid_column": null,
            "grid_gap": null,
            "grid_row": null,
            "grid_template_areas": null,
            "grid_template_columns": null,
            "grid_template_rows": null,
            "height": null,
            "justify_content": null,
            "justify_items": null,
            "left": null,
            "margin": null,
            "max_height": null,
            "max_width": null,
            "min_height": null,
            "min_width": null,
            "object_fit": null,
            "object_position": null,
            "order": null,
            "overflow": null,
            "overflow_x": null,
            "overflow_y": null,
            "padding": null,
            "right": null,
            "top": null,
            "visibility": null,
            "width": null
          }
        },
        "0526aa33a44a4560a2525d28fad348ad": {
          "model_module": "@jupyter-widgets/controls",
          "model_name": "DescriptionStyleModel",
          "model_module_version": "1.5.0",
          "state": {
            "_model_module": "@jupyter-widgets/controls",
            "_model_module_version": "1.5.0",
            "_model_name": "DescriptionStyleModel",
            "_view_count": null,
            "_view_module": "@jupyter-widgets/base",
            "_view_module_version": "1.2.0",
            "_view_name": "StyleView",
            "description_width": ""
          }
        },
        "ab7c71b474af45d5b56a5b713eac37f5": {
          "model_module": "@jupyter-widgets/controls",
          "model_name": "HBoxModel",
          "model_module_version": "1.5.0",
          "state": {
            "_dom_classes": [],
            "_model_module": "@jupyter-widgets/controls",
            "_model_module_version": "1.5.0",
            "_model_name": "HBoxModel",
            "_view_count": null,
            "_view_module": "@jupyter-widgets/controls",
            "_view_module_version": "1.5.0",
            "_view_name": "HBoxView",
            "box_style": "",
            "children": [
              "IPY_MODEL_fdc6b73596d348ed90cbd8618695b8a8",
              "IPY_MODEL_675e57c2e171427ba7965116fa120b19",
              "IPY_MODEL_823cd2b4641a4c7fa8d9dfe59a6f14f4"
            ],
            "layout": "IPY_MODEL_ffed224ef0d94c93b2ce90efdede2c97"
          }
        },
        "fdc6b73596d348ed90cbd8618695b8a8": {
          "model_module": "@jupyter-widgets/controls",
          "model_name": "HTMLModel",
          "model_module_version": "1.5.0",
          "state": {
            "_dom_classes": [],
            "_model_module": "@jupyter-widgets/controls",
            "_model_module_version": "1.5.0",
            "_model_name": "HTMLModel",
            "_view_count": null,
            "_view_module": "@jupyter-widgets/controls",
            "_view_module_version": "1.5.0",
            "_view_name": "HTMLView",
            "description": "",
            "description_tooltip": null,
            "layout": "IPY_MODEL_4c11a7da63324ccaba24bf9c035cb473",
            "placeholder": "​",
            "style": "IPY_MODEL_1d09190bce8448d8b77099f6d34c2dc9",
            "value": "100%"
          }
        },
        "675e57c2e171427ba7965116fa120b19": {
          "model_module": "@jupyter-widgets/controls",
          "model_name": "FloatProgressModel",
          "model_module_version": "1.5.0",
          "state": {
            "_dom_classes": [],
            "_model_module": "@jupyter-widgets/controls",
            "_model_module_version": "1.5.0",
            "_model_name": "FloatProgressModel",
            "_view_count": null,
            "_view_module": "@jupyter-widgets/controls",
            "_view_module_version": "1.5.0",
            "_view_name": "ProgressView",
            "bar_style": "success",
            "description": "",
            "description_tooltip": null,
            "layout": "IPY_MODEL_684e812fe46745598dfddb952c5bfd59",
            "max": 100,
            "min": 0,
            "orientation": "horizontal",
            "style": "IPY_MODEL_0e11db0b3e43478b9f5e26c2a1a67a6e",
            "value": 100
          }
        },
        "823cd2b4641a4c7fa8d9dfe59a6f14f4": {
          "model_module": "@jupyter-widgets/controls",
          "model_name": "HTMLModel",
          "model_module_version": "1.5.0",
          "state": {
            "_dom_classes": [],
            "_model_module": "@jupyter-widgets/controls",
            "_model_module_version": "1.5.0",
            "_model_name": "HTMLModel",
            "_view_count": null,
            "_view_module": "@jupyter-widgets/controls",
            "_view_module_version": "1.5.0",
            "_view_name": "HTMLView",
            "description": "",
            "description_tooltip": null,
            "layout": "IPY_MODEL_cdd88168c2524bcaa24d1d6399c288e4",
            "placeholder": "​",
            "style": "IPY_MODEL_309933d7c8494c17906e772156ec72b6",
            "value": " 100/100 [00:00&lt;00:00, 2033.65it/s]"
          }
        },
        "ffed224ef0d94c93b2ce90efdede2c97": {
          "model_module": "@jupyter-widgets/base",
          "model_name": "LayoutModel",
          "model_module_version": "1.2.0",
          "state": {
            "_model_module": "@jupyter-widgets/base",
            "_model_module_version": "1.2.0",
            "_model_name": "LayoutModel",
            "_view_count": null,
            "_view_module": "@jupyter-widgets/base",
            "_view_module_version": "1.2.0",
            "_view_name": "LayoutView",
            "align_content": null,
            "align_items": null,
            "align_self": null,
            "border": null,
            "bottom": null,
            "display": null,
            "flex": null,
            "flex_flow": null,
            "grid_area": null,
            "grid_auto_columns": null,
            "grid_auto_flow": null,
            "grid_auto_rows": null,
            "grid_column": null,
            "grid_gap": null,
            "grid_row": null,
            "grid_template_areas": null,
            "grid_template_columns": null,
            "grid_template_rows": null,
            "height": null,
            "justify_content": null,
            "justify_items": null,
            "left": null,
            "margin": null,
            "max_height": null,
            "max_width": null,
            "min_height": null,
            "min_width": null,
            "object_fit": null,
            "object_position": null,
            "order": null,
            "overflow": null,
            "overflow_x": null,
            "overflow_y": null,
            "padding": null,
            "right": null,
            "top": null,
            "visibility": null,
            "width": null
          }
        },
        "4c11a7da63324ccaba24bf9c035cb473": {
          "model_module": "@jupyter-widgets/base",
          "model_name": "LayoutModel",
          "model_module_version": "1.2.0",
          "state": {
            "_model_module": "@jupyter-widgets/base",
            "_model_module_version": "1.2.0",
            "_model_name": "LayoutModel",
            "_view_count": null,
            "_view_module": "@jupyter-widgets/base",
            "_view_module_version": "1.2.0",
            "_view_name": "LayoutView",
            "align_content": null,
            "align_items": null,
            "align_self": null,
            "border": null,
            "bottom": null,
            "display": null,
            "flex": null,
            "flex_flow": null,
            "grid_area": null,
            "grid_auto_columns": null,
            "grid_auto_flow": null,
            "grid_auto_rows": null,
            "grid_column": null,
            "grid_gap": null,
            "grid_row": null,
            "grid_template_areas": null,
            "grid_template_columns": null,
            "grid_template_rows": null,
            "height": null,
            "justify_content": null,
            "justify_items": null,
            "left": null,
            "margin": null,
            "max_height": null,
            "max_width": null,
            "min_height": null,
            "min_width": null,
            "object_fit": null,
            "object_position": null,
            "order": null,
            "overflow": null,
            "overflow_x": null,
            "overflow_y": null,
            "padding": null,
            "right": null,
            "top": null,
            "visibility": null,
            "width": null
          }
        },
        "1d09190bce8448d8b77099f6d34c2dc9": {
          "model_module": "@jupyter-widgets/controls",
          "model_name": "DescriptionStyleModel",
          "model_module_version": "1.5.0",
          "state": {
            "_model_module": "@jupyter-widgets/controls",
            "_model_module_version": "1.5.0",
            "_model_name": "DescriptionStyleModel",
            "_view_count": null,
            "_view_module": "@jupyter-widgets/base",
            "_view_module_version": "1.2.0",
            "_view_name": "StyleView",
            "description_width": ""
          }
        },
        "684e812fe46745598dfddb952c5bfd59": {
          "model_module": "@jupyter-widgets/base",
          "model_name": "LayoutModel",
          "model_module_version": "1.2.0",
          "state": {
            "_model_module": "@jupyter-widgets/base",
            "_model_module_version": "1.2.0",
            "_model_name": "LayoutModel",
            "_view_count": null,
            "_view_module": "@jupyter-widgets/base",
            "_view_module_version": "1.2.0",
            "_view_name": "LayoutView",
            "align_content": null,
            "align_items": null,
            "align_self": null,
            "border": null,
            "bottom": null,
            "display": null,
            "flex": null,
            "flex_flow": null,
            "grid_area": null,
            "grid_auto_columns": null,
            "grid_auto_flow": null,
            "grid_auto_rows": null,
            "grid_column": null,
            "grid_gap": null,
            "grid_row": null,
            "grid_template_areas": null,
            "grid_template_columns": null,
            "grid_template_rows": null,
            "height": null,
            "justify_content": null,
            "justify_items": null,
            "left": null,
            "margin": null,
            "max_height": null,
            "max_width": null,
            "min_height": null,
            "min_width": null,
            "object_fit": null,
            "object_position": null,
            "order": null,
            "overflow": null,
            "overflow_x": null,
            "overflow_y": null,
            "padding": null,
            "right": null,
            "top": null,
            "visibility": null,
            "width": null
          }
        },
        "0e11db0b3e43478b9f5e26c2a1a67a6e": {
          "model_module": "@jupyter-widgets/controls",
          "model_name": "ProgressStyleModel",
          "model_module_version": "1.5.0",
          "state": {
            "_model_module": "@jupyter-widgets/controls",
            "_model_module_version": "1.5.0",
            "_model_name": "ProgressStyleModel",
            "_view_count": null,
            "_view_module": "@jupyter-widgets/base",
            "_view_module_version": "1.2.0",
            "_view_name": "StyleView",
            "bar_color": null,
            "description_width": ""
          }
        },
        "cdd88168c2524bcaa24d1d6399c288e4": {
          "model_module": "@jupyter-widgets/base",
          "model_name": "LayoutModel",
          "model_module_version": "1.2.0",
          "state": {
            "_model_module": "@jupyter-widgets/base",
            "_model_module_version": "1.2.0",
            "_model_name": "LayoutModel",
            "_view_count": null,
            "_view_module": "@jupyter-widgets/base",
            "_view_module_version": "1.2.0",
            "_view_name": "LayoutView",
            "align_content": null,
            "align_items": null,
            "align_self": null,
            "border": null,
            "bottom": null,
            "display": null,
            "flex": null,
            "flex_flow": null,
            "grid_area": null,
            "grid_auto_columns": null,
            "grid_auto_flow": null,
            "grid_auto_rows": null,
            "grid_column": null,
            "grid_gap": null,
            "grid_row": null,
            "grid_template_areas": null,
            "grid_template_columns": null,
            "grid_template_rows": null,
            "height": null,
            "justify_content": null,
            "justify_items": null,
            "left": null,
            "margin": null,
            "max_height": null,
            "max_width": null,
            "min_height": null,
            "min_width": null,
            "object_fit": null,
            "object_position": null,
            "order": null,
            "overflow": null,
            "overflow_x": null,
            "overflow_y": null,
            "padding": null,
            "right": null,
            "top": null,
            "visibility": null,
            "width": null
          }
        },
        "309933d7c8494c17906e772156ec72b6": {
          "model_module": "@jupyter-widgets/controls",
          "model_name": "DescriptionStyleModel",
          "model_module_version": "1.5.0",
          "state": {
            "_model_module": "@jupyter-widgets/controls",
            "_model_module_version": "1.5.0",
            "_model_name": "DescriptionStyleModel",
            "_view_count": null,
            "_view_module": "@jupyter-widgets/base",
            "_view_module_version": "1.2.0",
            "_view_name": "StyleView",
            "description_width": ""
          }
        },
        "918999a58c70446695bf91b8a9f50e37": {
          "model_module": "@jupyter-widgets/controls",
          "model_name": "HBoxModel",
          "model_module_version": "1.5.0",
          "state": {
            "_dom_classes": [],
            "_model_module": "@jupyter-widgets/controls",
            "_model_module_version": "1.5.0",
            "_model_name": "HBoxModel",
            "_view_count": null,
            "_view_module": "@jupyter-widgets/controls",
            "_view_module_version": "1.5.0",
            "_view_name": "HBoxView",
            "box_style": "",
            "children": [
              "IPY_MODEL_1039344700ad4959957f01bb17f3ee86",
              "IPY_MODEL_c9d2b83df857431887dee0d5b4e13da2",
              "IPY_MODEL_24afea75871f4d99848f9ddeee26690d"
            ],
            "layout": "IPY_MODEL_725d1a6c79ee421583efbf696d6e03e9"
          }
        },
        "1039344700ad4959957f01bb17f3ee86": {
          "model_module": "@jupyter-widgets/controls",
          "model_name": "HTMLModel",
          "model_module_version": "1.5.0",
          "state": {
            "_dom_classes": [],
            "_model_module": "@jupyter-widgets/controls",
            "_model_module_version": "1.5.0",
            "_model_name": "HTMLModel",
            "_view_count": null,
            "_view_module": "@jupyter-widgets/controls",
            "_view_module_version": "1.5.0",
            "_view_name": "HTMLView",
            "description": "",
            "description_tooltip": null,
            "layout": "IPY_MODEL_5e8e47b826e843b5b1abd464a9698cb9",
            "placeholder": "​",
            "style": "IPY_MODEL_90de5b7025bc4d5db54ef2f82828321b",
            "value": "100%"
          }
        },
        "c9d2b83df857431887dee0d5b4e13da2": {
          "model_module": "@jupyter-widgets/controls",
          "model_name": "FloatProgressModel",
          "model_module_version": "1.5.0",
          "state": {
            "_dom_classes": [],
            "_model_module": "@jupyter-widgets/controls",
            "_model_module_version": "1.5.0",
            "_model_name": "FloatProgressModel",
            "_view_count": null,
            "_view_module": "@jupyter-widgets/controls",
            "_view_module_version": "1.5.0",
            "_view_name": "ProgressView",
            "bar_style": "success",
            "description": "",
            "description_tooltip": null,
            "layout": "IPY_MODEL_82dcc6a3011f4f26aed289a1e230ede7",
            "max": 100,
            "min": 0,
            "orientation": "horizontal",
            "style": "IPY_MODEL_21c099b5d6f84a3ab887641fca7c23f4",
            "value": 100
          }
        },
        "24afea75871f4d99848f9ddeee26690d": {
          "model_module": "@jupyter-widgets/controls",
          "model_name": "HTMLModel",
          "model_module_version": "1.5.0",
          "state": {
            "_dom_classes": [],
            "_model_module": "@jupyter-widgets/controls",
            "_model_module_version": "1.5.0",
            "_model_name": "HTMLModel",
            "_view_count": null,
            "_view_module": "@jupyter-widgets/controls",
            "_view_module_version": "1.5.0",
            "_view_name": "HTMLView",
            "description": "",
            "description_tooltip": null,
            "layout": "IPY_MODEL_ad5a790501bd4388a56dfbea7a2a8a7f",
            "placeholder": "​",
            "style": "IPY_MODEL_b2caaf26c51f4e8ebf97d2dc3fb2874b",
            "value": " 100/100 [01:09&lt;00:00,  1.39it/s]"
          }
        },
        "725d1a6c79ee421583efbf696d6e03e9": {
          "model_module": "@jupyter-widgets/base",
          "model_name": "LayoutModel",
          "model_module_version": "1.2.0",
          "state": {
            "_model_module": "@jupyter-widgets/base",
            "_model_module_version": "1.2.0",
            "_model_name": "LayoutModel",
            "_view_count": null,
            "_view_module": "@jupyter-widgets/base",
            "_view_module_version": "1.2.0",
            "_view_name": "LayoutView",
            "align_content": null,
            "align_items": null,
            "align_self": null,
            "border": null,
            "bottom": null,
            "display": null,
            "flex": null,
            "flex_flow": null,
            "grid_area": null,
            "grid_auto_columns": null,
            "grid_auto_flow": null,
            "grid_auto_rows": null,
            "grid_column": null,
            "grid_gap": null,
            "grid_row": null,
            "grid_template_areas": null,
            "grid_template_columns": null,
            "grid_template_rows": null,
            "height": null,
            "justify_content": null,
            "justify_items": null,
            "left": null,
            "margin": null,
            "max_height": null,
            "max_width": null,
            "min_height": null,
            "min_width": null,
            "object_fit": null,
            "object_position": null,
            "order": null,
            "overflow": null,
            "overflow_x": null,
            "overflow_y": null,
            "padding": null,
            "right": null,
            "top": null,
            "visibility": null,
            "width": null
          }
        },
        "5e8e47b826e843b5b1abd464a9698cb9": {
          "model_module": "@jupyter-widgets/base",
          "model_name": "LayoutModel",
          "model_module_version": "1.2.0",
          "state": {
            "_model_module": "@jupyter-widgets/base",
            "_model_module_version": "1.2.0",
            "_model_name": "LayoutModel",
            "_view_count": null,
            "_view_module": "@jupyter-widgets/base",
            "_view_module_version": "1.2.0",
            "_view_name": "LayoutView",
            "align_content": null,
            "align_items": null,
            "align_self": null,
            "border": null,
            "bottom": null,
            "display": null,
            "flex": null,
            "flex_flow": null,
            "grid_area": null,
            "grid_auto_columns": null,
            "grid_auto_flow": null,
            "grid_auto_rows": null,
            "grid_column": null,
            "grid_gap": null,
            "grid_row": null,
            "grid_template_areas": null,
            "grid_template_columns": null,
            "grid_template_rows": null,
            "height": null,
            "justify_content": null,
            "justify_items": null,
            "left": null,
            "margin": null,
            "max_height": null,
            "max_width": null,
            "min_height": null,
            "min_width": null,
            "object_fit": null,
            "object_position": null,
            "order": null,
            "overflow": null,
            "overflow_x": null,
            "overflow_y": null,
            "padding": null,
            "right": null,
            "top": null,
            "visibility": null,
            "width": null
          }
        },
        "90de5b7025bc4d5db54ef2f82828321b": {
          "model_module": "@jupyter-widgets/controls",
          "model_name": "DescriptionStyleModel",
          "model_module_version": "1.5.0",
          "state": {
            "_model_module": "@jupyter-widgets/controls",
            "_model_module_version": "1.5.0",
            "_model_name": "DescriptionStyleModel",
            "_view_count": null,
            "_view_module": "@jupyter-widgets/base",
            "_view_module_version": "1.2.0",
            "_view_name": "StyleView",
            "description_width": ""
          }
        },
        "82dcc6a3011f4f26aed289a1e230ede7": {
          "model_module": "@jupyter-widgets/base",
          "model_name": "LayoutModel",
          "model_module_version": "1.2.0",
          "state": {
            "_model_module": "@jupyter-widgets/base",
            "_model_module_version": "1.2.0",
            "_model_name": "LayoutModel",
            "_view_count": null,
            "_view_module": "@jupyter-widgets/base",
            "_view_module_version": "1.2.0",
            "_view_name": "LayoutView",
            "align_content": null,
            "align_items": null,
            "align_self": null,
            "border": null,
            "bottom": null,
            "display": null,
            "flex": null,
            "flex_flow": null,
            "grid_area": null,
            "grid_auto_columns": null,
            "grid_auto_flow": null,
            "grid_auto_rows": null,
            "grid_column": null,
            "grid_gap": null,
            "grid_row": null,
            "grid_template_areas": null,
            "grid_template_columns": null,
            "grid_template_rows": null,
            "height": null,
            "justify_content": null,
            "justify_items": null,
            "left": null,
            "margin": null,
            "max_height": null,
            "max_width": null,
            "min_height": null,
            "min_width": null,
            "object_fit": null,
            "object_position": null,
            "order": null,
            "overflow": null,
            "overflow_x": null,
            "overflow_y": null,
            "padding": null,
            "right": null,
            "top": null,
            "visibility": null,
            "width": null
          }
        },
        "21c099b5d6f84a3ab887641fca7c23f4": {
          "model_module": "@jupyter-widgets/controls",
          "model_name": "ProgressStyleModel",
          "model_module_version": "1.5.0",
          "state": {
            "_model_module": "@jupyter-widgets/controls",
            "_model_module_version": "1.5.0",
            "_model_name": "ProgressStyleModel",
            "_view_count": null,
            "_view_module": "@jupyter-widgets/base",
            "_view_module_version": "1.2.0",
            "_view_name": "StyleView",
            "bar_color": null,
            "description_width": ""
          }
        },
        "ad5a790501bd4388a56dfbea7a2a8a7f": {
          "model_module": "@jupyter-widgets/base",
          "model_name": "LayoutModel",
          "model_module_version": "1.2.0",
          "state": {
            "_model_module": "@jupyter-widgets/base",
            "_model_module_version": "1.2.0",
            "_model_name": "LayoutModel",
            "_view_count": null,
            "_view_module": "@jupyter-widgets/base",
            "_view_module_version": "1.2.0",
            "_view_name": "LayoutView",
            "align_content": null,
            "align_items": null,
            "align_self": null,
            "border": null,
            "bottom": null,
            "display": null,
            "flex": null,
            "flex_flow": null,
            "grid_area": null,
            "grid_auto_columns": null,
            "grid_auto_flow": null,
            "grid_auto_rows": null,
            "grid_column": null,
            "grid_gap": null,
            "grid_row": null,
            "grid_template_areas": null,
            "grid_template_columns": null,
            "grid_template_rows": null,
            "height": null,
            "justify_content": null,
            "justify_items": null,
            "left": null,
            "margin": null,
            "max_height": null,
            "max_width": null,
            "min_height": null,
            "min_width": null,
            "object_fit": null,
            "object_position": null,
            "order": null,
            "overflow": null,
            "overflow_x": null,
            "overflow_y": null,
            "padding": null,
            "right": null,
            "top": null,
            "visibility": null,
            "width": null
          }
        },
        "b2caaf26c51f4e8ebf97d2dc3fb2874b": {
          "model_module": "@jupyter-widgets/controls",
          "model_name": "DescriptionStyleModel",
          "model_module_version": "1.5.0",
          "state": {
            "_model_module": "@jupyter-widgets/controls",
            "_model_module_version": "1.5.0",
            "_model_name": "DescriptionStyleModel",
            "_view_count": null,
            "_view_module": "@jupyter-widgets/base",
            "_view_module_version": "1.2.0",
            "_view_name": "StyleView",
            "description_width": ""
          }
        }
      }
    }
  },
  "nbformat": 4,
  "nbformat_minor": 0
}