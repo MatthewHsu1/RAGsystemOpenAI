{
  "nbformat": 4,
  "nbformat_minor": 0,
  "metadata": {
    "colab": {
      "provenance": [],
      "authorship_tag": "ABX9TyMoktE1Uuh+p6eQ2e6C8eVE"
    },
    "kernelspec": {
      "name": "python3",
      "display_name": "Python 3"
    },
    "language_info": {
      "name": "python"
    }
  },
  "cells": [
    {
      "cell_type": "code",
      "execution_count": 1,
      "metadata": {
        "id": "Uc2wcx3UowiS",
        "colab": {
          "base_uri": "https://localhost:8080/"
        },
        "outputId": "547dec76-4159-4155-8431-765b1d40edc6"
      },
      "outputs": [
        {
          "output_type": "stream",
          "name": "stdout",
          "text": [
            "Collecting datasets\n",
            "  Downloading datasets-2.20.0-py3-none-any.whl (547 kB)\n",
            "\u001b[2K     \u001b[90m━━━━━━━━━━━━━━━━━━━━━━━━━━━━━━━━━━━━━━━━\u001b[0m \u001b[32m547.8/547.8 kB\u001b[0m \u001b[31m4.6 MB/s\u001b[0m eta \u001b[36m0:00:00\u001b[0m\n",
            "\u001b[?25hRequirement already satisfied: pandas in /usr/local/lib/python3.10/dist-packages (2.0.3)\n",
            "Collecting openai\n",
            "  Downloading openai-1.35.3-py3-none-any.whl (327 kB)\n",
            "\u001b[2K     \u001b[90m━━━━━━━━━━━━━━━━━━━━━━━━━━━━━━━━━━━━━━━━\u001b[0m \u001b[32m327.4/327.4 kB\u001b[0m \u001b[31m9.1 MB/s\u001b[0m eta \u001b[36m0:00:00\u001b[0m\n",
            "\u001b[?25hCollecting pymongo\n",
            "  Downloading pymongo-4.7.3-cp310-cp310-manylinux_2_17_x86_64.manylinux2014_x86_64.whl (669 kB)\n",
            "\u001b[2K     \u001b[90m━━━━━━━━━━━━━━━━━━━━━━━━━━━━━━━━━━━━━━━━\u001b[0m \u001b[32m669.1/669.1 kB\u001b[0m \u001b[31m9.4 MB/s\u001b[0m eta \u001b[36m0:00:00\u001b[0m\n",
            "\u001b[?25hCollecting pypdf\n",
            "  Downloading pypdf-4.2.0-py3-none-any.whl (290 kB)\n",
            "\u001b[2K     \u001b[90m━━━━━━━━━━━━━━━━━━━━━━━━━━━━━━━━━━━━━━━━\u001b[0m \u001b[32m290.4/290.4 kB\u001b[0m \u001b[31m8.6 MB/s\u001b[0m eta \u001b[36m0:00:00\u001b[0m\n",
            "\u001b[?25hCollecting langchain_community\n",
            "  Downloading langchain_community-0.2.5-py3-none-any.whl (2.2 MB)\n",
            "\u001b[2K     \u001b[90m━━━━━━━━━━━━━━━━━━━━━━━━━━━━━━━━━━━━━━━━\u001b[0m \u001b[32m2.2/2.2 MB\u001b[0m \u001b[31m13.4 MB/s\u001b[0m eta \u001b[36m0:00:00\u001b[0m\n",
            "\u001b[?25hRequirement already satisfied: filelock in /usr/local/lib/python3.10/dist-packages (from datasets) (3.15.3)\n",
            "Requirement already satisfied: numpy>=1.17 in /usr/local/lib/python3.10/dist-packages (from datasets) (1.25.2)\n",
            "Collecting pyarrow>=15.0.0 (from datasets)\n",
            "  Downloading pyarrow-16.1.0-cp310-cp310-manylinux_2_28_x86_64.whl (40.8 MB)\n",
            "\u001b[2K     \u001b[90m━━━━━━━━━━━━━━━━━━━━━━━━━━━━━━━━━━━━━━━━\u001b[0m \u001b[32m40.8/40.8 MB\u001b[0m \u001b[31m12.5 MB/s\u001b[0m eta \u001b[36m0:00:00\u001b[0m\n",
            "\u001b[?25hRequirement already satisfied: pyarrow-hotfix in /usr/local/lib/python3.10/dist-packages (from datasets) (0.6)\n",
            "Collecting dill<0.3.9,>=0.3.0 (from datasets)\n",
            "  Downloading dill-0.3.8-py3-none-any.whl (116 kB)\n",
            "\u001b[2K     \u001b[90m━━━━━━━━━━━━━━━━━━━━━━━━━━━━━━━━━━━━━━━━\u001b[0m \u001b[32m116.3/116.3 kB\u001b[0m \u001b[31m10.7 MB/s\u001b[0m eta \u001b[36m0:00:00\u001b[0m\n",
            "\u001b[?25hCollecting requests>=2.32.2 (from datasets)\n",
            "  Downloading requests-2.32.3-py3-none-any.whl (64 kB)\n",
            "\u001b[2K     \u001b[90m━━━━━━━━━━━━━━━━━━━━━━━━━━━━━━━━━━━━━━━━\u001b[0m \u001b[32m64.9/64.9 kB\u001b[0m \u001b[31m5.3 MB/s\u001b[0m eta \u001b[36m0:00:00\u001b[0m\n",
            "\u001b[?25hRequirement already satisfied: tqdm>=4.66.3 in /usr/local/lib/python3.10/dist-packages (from datasets) (4.66.4)\n",
            "Collecting xxhash (from datasets)\n",
            "  Downloading xxhash-3.4.1-cp310-cp310-manylinux_2_17_x86_64.manylinux2014_x86_64.whl (194 kB)\n",
            "\u001b[2K     \u001b[90m━━━━━━━━━━━━━━━━━━━━━━━━━━━━━━━━━━━━━━━━\u001b[0m \u001b[32m194.1/194.1 kB\u001b[0m \u001b[31m12.9 MB/s\u001b[0m eta \u001b[36m0:00:00\u001b[0m\n",
            "\u001b[?25hCollecting multiprocess (from datasets)\n",
            "  Downloading multiprocess-0.70.16-py310-none-any.whl (134 kB)\n",
            "\u001b[2K     \u001b[90m━━━━━━━━━━━━━━━━━━━━━━━━━━━━━━━━━━━━━━━━\u001b[0m \u001b[32m134.8/134.8 kB\u001b[0m \u001b[31m12.7 MB/s\u001b[0m eta \u001b[36m0:00:00\u001b[0m\n",
            "\u001b[?25hRequirement already satisfied: fsspec[http]<=2024.5.0,>=2023.1.0 in /usr/local/lib/python3.10/dist-packages (from datasets) (2023.6.0)\n",
            "Requirement already satisfied: aiohttp in /usr/local/lib/python3.10/dist-packages (from datasets) (3.9.5)\n",
            "Requirement already satisfied: huggingface-hub>=0.21.2 in /usr/local/lib/python3.10/dist-packages (from datasets) (0.23.4)\n",
            "Requirement already satisfied: packaging in /usr/local/lib/python3.10/dist-packages (from datasets) (24.1)\n",
            "Requirement already satisfied: pyyaml>=5.1 in /usr/local/lib/python3.10/dist-packages (from datasets) (6.0.1)\n",
            "Requirement already satisfied: python-dateutil>=2.8.2 in /usr/local/lib/python3.10/dist-packages (from pandas) (2.8.2)\n",
            "Requirement already satisfied: pytz>=2020.1 in /usr/local/lib/python3.10/dist-packages (from pandas) (2023.4)\n",
            "Requirement already satisfied: tzdata>=2022.1 in /usr/local/lib/python3.10/dist-packages (from pandas) (2024.1)\n",
            "Requirement already satisfied: anyio<5,>=3.5.0 in /usr/local/lib/python3.10/dist-packages (from openai) (3.7.1)\n",
            "Requirement already satisfied: distro<2,>=1.7.0 in /usr/lib/python3/dist-packages (from openai) (1.7.0)\n",
            "Collecting httpx<1,>=0.23.0 (from openai)\n",
            "  Downloading httpx-0.27.0-py3-none-any.whl (75 kB)\n",
            "\u001b[2K     \u001b[90m━━━━━━━━━━━━━━━━━━━━━━━━━━━━━━━━━━━━━━━━\u001b[0m \u001b[32m75.6/75.6 kB\u001b[0m \u001b[31m6.7 MB/s\u001b[0m eta \u001b[36m0:00:00\u001b[0m\n",
            "\u001b[?25hRequirement already satisfied: pydantic<3,>=1.9.0 in /usr/local/lib/python3.10/dist-packages (from openai) (2.7.4)\n",
            "Requirement already satisfied: sniffio in /usr/local/lib/python3.10/dist-packages (from openai) (1.3.1)\n",
            "Requirement already satisfied: typing-extensions<5,>=4.7 in /usr/local/lib/python3.10/dist-packages (from openai) (4.12.2)\n",
            "Collecting dnspython<3.0.0,>=1.16.0 (from pymongo)\n",
            "  Downloading dnspython-2.6.1-py3-none-any.whl (307 kB)\n",
            "\u001b[2K     \u001b[90m━━━━━━━━━━━━━━━━━━━━━━━━━━━━━━━━━━━━━━━━\u001b[0m \u001b[32m307.7/307.7 kB\u001b[0m \u001b[31m26.8 MB/s\u001b[0m eta \u001b[36m0:00:00\u001b[0m\n",
            "\u001b[?25hRequirement already satisfied: SQLAlchemy<3,>=1.4 in /usr/local/lib/python3.10/dist-packages (from langchain_community) (2.0.31)\n",
            "Collecting dataclasses-json<0.7,>=0.5.7 (from langchain_community)\n",
            "  Downloading dataclasses_json-0.6.7-py3-none-any.whl (28 kB)\n",
            "Collecting langchain<0.3.0,>=0.2.5 (from langchain_community)\n",
            "  Downloading langchain-0.2.5-py3-none-any.whl (974 kB)\n",
            "\u001b[2K     \u001b[90m━━━━━━━━━━━━━━━━━━━━━━━━━━━━━━━━━━━━━━━━\u001b[0m \u001b[32m974.6/974.6 kB\u001b[0m \u001b[31m35.2 MB/s\u001b[0m eta \u001b[36m0:00:00\u001b[0m\n",
            "\u001b[?25hCollecting langchain-core<0.3.0,>=0.2.7 (from langchain_community)\n",
            "  Downloading langchain_core-0.2.9-py3-none-any.whl (321 kB)\n",
            "\u001b[2K     \u001b[90m━━━━━━━━━━━━━━━━━━━━━━━━━━━━━━━━━━━━━━━━\u001b[0m \u001b[32m321.8/321.8 kB\u001b[0m \u001b[31m20.4 MB/s\u001b[0m eta \u001b[36m0:00:00\u001b[0m\n",
            "\u001b[?25hCollecting langsmith<0.2.0,>=0.1.0 (from langchain_community)\n",
            "  Downloading langsmith-0.1.82-py3-none-any.whl (127 kB)\n",
            "\u001b[2K     \u001b[90m━━━━━━━━━━━━━━━━━━━━━━━━━━━━━━━━━━━━━━━━\u001b[0m \u001b[32m127.4/127.4 kB\u001b[0m \u001b[31m10.4 MB/s\u001b[0m eta \u001b[36m0:00:00\u001b[0m\n",
            "\u001b[?25hRequirement already satisfied: tenacity<9.0.0,>=8.1.0 in /usr/local/lib/python3.10/dist-packages (from langchain_community) (8.4.1)\n",
            "Requirement already satisfied: aiosignal>=1.1.2 in /usr/local/lib/python3.10/dist-packages (from aiohttp->datasets) (1.3.1)\n",
            "Requirement already satisfied: attrs>=17.3.0 in /usr/local/lib/python3.10/dist-packages (from aiohttp->datasets) (23.2.0)\n",
            "Requirement already satisfied: frozenlist>=1.1.1 in /usr/local/lib/python3.10/dist-packages (from aiohttp->datasets) (1.4.1)\n",
            "Requirement already satisfied: multidict<7.0,>=4.5 in /usr/local/lib/python3.10/dist-packages (from aiohttp->datasets) (6.0.5)\n",
            "Requirement already satisfied: yarl<2.0,>=1.0 in /usr/local/lib/python3.10/dist-packages (from aiohttp->datasets) (1.9.4)\n",
            "Requirement already satisfied: async-timeout<5.0,>=4.0 in /usr/local/lib/python3.10/dist-packages (from aiohttp->datasets) (4.0.3)\n",
            "Requirement already satisfied: idna>=2.8 in /usr/local/lib/python3.10/dist-packages (from anyio<5,>=3.5.0->openai) (3.7)\n",
            "Requirement already satisfied: exceptiongroup in /usr/local/lib/python3.10/dist-packages (from anyio<5,>=3.5.0->openai) (1.2.1)\n",
            "Collecting marshmallow<4.0.0,>=3.18.0 (from dataclasses-json<0.7,>=0.5.7->langchain_community)\n",
            "  Downloading marshmallow-3.21.3-py3-none-any.whl (49 kB)\n",
            "\u001b[2K     \u001b[90m━━━━━━━━━━━━━━━━━━━━━━━━━━━━━━━━━━━━━━━━\u001b[0m \u001b[32m49.2/49.2 kB\u001b[0m \u001b[31m4.2 MB/s\u001b[0m eta \u001b[36m0:00:00\u001b[0m\n",
            "\u001b[?25hCollecting typing-inspect<1,>=0.4.0 (from dataclasses-json<0.7,>=0.5.7->langchain_community)\n",
            "  Downloading typing_inspect-0.9.0-py3-none-any.whl (8.8 kB)\n",
            "Requirement already satisfied: certifi in /usr/local/lib/python3.10/dist-packages (from httpx<1,>=0.23.0->openai) (2024.6.2)\n",
            "Collecting httpcore==1.* (from httpx<1,>=0.23.0->openai)\n",
            "  Downloading httpcore-1.0.5-py3-none-any.whl (77 kB)\n",
            "\u001b[2K     \u001b[90m━━━━━━━━━━━━━━━━━━━━━━━━━━━━━━━━━━━━━━━━\u001b[0m \u001b[32m77.9/77.9 kB\u001b[0m \u001b[31m8.8 MB/s\u001b[0m eta \u001b[36m0:00:00\u001b[0m\n",
            "\u001b[?25hCollecting h11<0.15,>=0.13 (from httpcore==1.*->httpx<1,>=0.23.0->openai)\n",
            "  Downloading h11-0.14.0-py3-none-any.whl (58 kB)\n",
            "\u001b[2K     \u001b[90m━━━━━━━━━━━━━━━━━━━━━━━━━━━━━━━━━━━━━━━━\u001b[0m \u001b[32m58.3/58.3 kB\u001b[0m \u001b[31m5.9 MB/s\u001b[0m eta \u001b[36m0:00:00\u001b[0m\n",
            "\u001b[?25hCollecting langchain-text-splitters<0.3.0,>=0.2.0 (from langchain<0.3.0,>=0.2.5->langchain_community)\n",
            "  Downloading langchain_text_splitters-0.2.1-py3-none-any.whl (23 kB)\n",
            "Collecting jsonpatch<2.0,>=1.33 (from langchain-core<0.3.0,>=0.2.7->langchain_community)\n",
            "  Downloading jsonpatch-1.33-py2.py3-none-any.whl (12 kB)\n",
            "Collecting orjson<4.0.0,>=3.9.14 (from langsmith<0.2.0,>=0.1.0->langchain_community)\n",
            "  Downloading orjson-3.10.5-cp310-cp310-manylinux_2_17_x86_64.manylinux2014_x86_64.whl (144 kB)\n",
            "\u001b[2K     \u001b[90m━━━━━━━━━━━━━━━━━━━━━━━━━━━━━━━━━━━━━━━━\u001b[0m \u001b[32m145.0/145.0 kB\u001b[0m \u001b[31m4.3 MB/s\u001b[0m eta \u001b[36m0:00:00\u001b[0m\n",
            "\u001b[?25hRequirement already satisfied: annotated-types>=0.4.0 in /usr/local/lib/python3.10/dist-packages (from pydantic<3,>=1.9.0->openai) (0.7.0)\n",
            "Requirement already satisfied: pydantic-core==2.18.4 in /usr/local/lib/python3.10/dist-packages (from pydantic<3,>=1.9.0->openai) (2.18.4)\n",
            "Requirement already satisfied: six>=1.5 in /usr/local/lib/python3.10/dist-packages (from python-dateutil>=2.8.2->pandas) (1.16.0)\n",
            "Requirement already satisfied: charset-normalizer<4,>=2 in /usr/local/lib/python3.10/dist-packages (from requests>=2.32.2->datasets) (3.3.2)\n",
            "Requirement already satisfied: urllib3<3,>=1.21.1 in /usr/local/lib/python3.10/dist-packages (from requests>=2.32.2->datasets) (2.0.7)\n",
            "Requirement already satisfied: greenlet!=0.4.17 in /usr/local/lib/python3.10/dist-packages (from SQLAlchemy<3,>=1.4->langchain_community) (3.0.3)\n",
            "Collecting jsonpointer>=1.9 (from jsonpatch<2.0,>=1.33->langchain-core<0.3.0,>=0.2.7->langchain_community)\n",
            "  Downloading jsonpointer-3.0.0-py2.py3-none-any.whl (7.6 kB)\n",
            "Collecting mypy-extensions>=0.3.0 (from typing-inspect<1,>=0.4.0->dataclasses-json<0.7,>=0.5.7->langchain_community)\n",
            "  Downloading mypy_extensions-1.0.0-py3-none-any.whl (4.7 kB)\n",
            "Installing collected packages: xxhash, requests, pypdf, pyarrow, orjson, mypy-extensions, marshmallow, jsonpointer, h11, dnspython, dill, typing-inspect, pymongo, multiprocess, jsonpatch, httpcore, langsmith, httpx, dataclasses-json, openai, langchain-core, datasets, langchain-text-splitters, langchain, langchain_community\n",
            "  Attempting uninstall: requests\n",
            "    Found existing installation: requests 2.31.0\n",
            "    Uninstalling requests-2.31.0:\n",
            "      Successfully uninstalled requests-2.31.0\n",
            "  Attempting uninstall: pyarrow\n",
            "    Found existing installation: pyarrow 14.0.2\n",
            "    Uninstalling pyarrow-14.0.2:\n",
            "      Successfully uninstalled pyarrow-14.0.2\n",
            "\u001b[31mERROR: pip's dependency resolver does not currently take into account all the packages that are installed. This behaviour is the source of the following dependency conflicts.\n",
            "cudf-cu12 24.4.1 requires pyarrow<15.0.0a0,>=14.0.1, but you have pyarrow 16.1.0 which is incompatible.\n",
            "google-colab 1.0.0 requires requests==2.31.0, but you have requests 2.32.3 which is incompatible.\n",
            "ibis-framework 8.0.0 requires pyarrow<16,>=2, but you have pyarrow 16.1.0 which is incompatible.\u001b[0m\u001b[31m\n",
            "\u001b[0mSuccessfully installed dataclasses-json-0.6.7 datasets-2.20.0 dill-0.3.8 dnspython-2.6.1 h11-0.14.0 httpcore-1.0.5 httpx-0.27.0 jsonpatch-1.33 jsonpointer-3.0.0 langchain-0.2.5 langchain-core-0.2.9 langchain-text-splitters-0.2.1 langchain_community-0.2.5 langsmith-0.1.82 marshmallow-3.21.3 multiprocess-0.70.16 mypy-extensions-1.0.0 openai-1.35.3 orjson-3.10.5 pyarrow-16.1.0 pymongo-4.7.3 pypdf-4.2.0 requests-2.32.3 typing-inspect-0.9.0 xxhash-3.4.1\n"
          ]
        }
      ],
      "source": [
        "!pip install datasets pandas openai pymongo pypdf langchain_community"
      ]
    },
    {
      "cell_type": "code",
      "source": [
        "from langchain_community.document_loaders import PyPDFLoader\n",
        "\n",
        "# The url for the user manual pdf.\n",
        "url = \"https://raw.githubusercontent.com/MatthewHsu1/RAGsystemOpenAI/main/F80_F83_F85_OM_810.pdf\"\n",
        "\n",
        "# Initialize PyPDFLoader with downloaded user manual pdf\n",
        "loader = PyPDFLoader(url)\n",
        "pages = loader.load_and_split()"
      ],
      "metadata": {
        "id": "ZyTiUw-FVPuI"
      },
      "execution_count": null,
      "outputs": []
    },
    {
      "cell_type": "code",
      "source": [
        "# First create a dictionary of headers to parse the pdf by headers.\n",
        "\n",
        "headers = [\n",
        "    \"TABLE OF CONTENTS\",\n",
        "    \"PRODUCT REGISTRATION\",\n",
        "    \"IMPORTANT SAFETY INSTRUCTIONS\",\n",
        "    \"IMPORTANT ELECTRICAL INSTRUCTIONS\",\n",
        "    \"GROUNDING INSTRUCTIONS\",\n",
        "    \"IMPORTANT OPERATION INSTRUCTIONS\",\n",
        "    \"IMPORTANT SAFETY INSTRUCTIONS\",\n",
        "    \"IMPORTANT SAFETY INSTRUCTIONS\",\n",
        "    \"PREVENTATIVE MAINTENANCE CHART\",\n",
        "    \"F80 / F83 / F83 ASSEMBLY PACK CHECKLIST\",\n",
        "    \"F80 / F83 / F83 ASSEMBLY INSTRUCTIONS\",\n",
        "    \"FOLDING INSTRUCTIONS\",\n",
        "    \"TRANSPORTATION INSTRUCTIONS\",\n",
        "    \"OPERATION OF YOUR TREADMILL\",\n",
        "    \"GETTING STARTED\",\n",
        "    \"QUICK-START OPERATION\",\n",
        "    \"PAUSE/STOP/RESET FEATURE\",\n",
        "    \"INCLINE FEATURE\",\n",
        "    \"DOT MATRIX CENTER DISPLAY\",\n",
        "    \"PROGRAMMABLE FEATURES\",\n",
        "    \"HEART RATE PROGRAMS\",\n",
        "    \"USING HEART RATE TRANSMITTER\",\n",
        "    \"GENERAL MAINTENANCE\",\n",
        "    \"BELT ADJUSTMENTS\",\n",
        "    \"TREAD-BELT TRACKING ADJUSTMENT\",\n",
        "    \"BELT/DECK LUBRICATION\",\n",
        "    \"SERVICE CHECKLIST - DIAGNOSIS GUIDE\",\n",
        "    \"MANUFACTURER’S LIMITED WARRANTY\"\n",
        "]"
      ],
      "metadata": {
        "id": "-_QzaT2cA_wL"
      },
      "execution_count": null,
      "outputs": []
    },
    {
      "cell_type": "code",
      "source": [
        "import re\n",
        "\n",
        "def strip_top(page):\n",
        "  \"\"\"\n",
        "    Every document inside the variable of pages has this string in the beginning, 'F80 /  F83 / F85 TREADMILL'.\n",
        "    Therefore, the real content of the pdf begins after that string.\n",
        "  \"\"\"\n",
        "  pattern = r\"F80 /  F83 / F85 TREADMILL(.*)\"\n",
        "  for page in pages:\n",
        "    match = re.search(pattern, page.page_content, re.DOTALL)\n",
        "\n",
        "    clean_text = \"\"\n",
        "    if match:\n",
        "        clean_text = match.group(1).strip()\n",
        "        clean_text = clean_text.replace(\"\\n\", \" \")\n",
        "        clean_text = clean_text.replace(\"\\x84\", \"\")\n",
        "        clean_text = re.sub(r'\\s+', ' ', clean_text)\n",
        "        page.page_content = clean_text\n",
        "    else:\n",
        "      clean_text = page.page_content.replace(\"\\n\", \" \")\n",
        "      clean_text = clean_text.replace(\"\\x84\", \"\")\n",
        "      clean_text = re.sub(r'\\s+', ' ', clean_text)\n",
        "      page.page_content = clean_text"
      ],
      "metadata": {
        "id": "DM79ig5J8Xmk"
      },
      "execution_count": null,
      "outputs": []
    },
    {
      "cell_type": "code",
      "source": [
        "# The pdf is in plain text\n",
        "strip_top(pages)"
      ],
      "metadata": {
        "id": "37VtSNv0N8g2"
      },
      "execution_count": null,
      "outputs": []
    },
    {
      "cell_type": "code",
      "source": [
        "import re\n",
        "\n",
        "def split_by_header(headers, pages):\n",
        "\n",
        "  list_of_string = []\n",
        "  for page in pages:\n",
        "\n",
        "    # Create a regular expression that pattern matches all strings in headers.\n",
        "    pattern = '|'.join(map(re.escape, headers))\n",
        "\n",
        "    # Split each page by the pattern created.\n",
        "    split_result = re.split(pattern, page.page_content)\n",
        "\n",
        "    # Get rid of any empty strings\n",
        "    split_result = [s.strip() for s in split_result if s.strip() != '']\n",
        "\n",
        "    list_of_string += split_result\n",
        "\n",
        "  return list_of_string"
      ],
      "metadata": {
        "id": "s5cGjyUztBy4"
      },
      "execution_count": null,
      "outputs": []
    },
    {
      "cell_type": "code",
      "source": [
        "text = split_by_header(headers, pages)"
      ],
      "metadata": {
        "id": "Pc7_7ebFKsgc"
      },
      "execution_count": null,
      "outputs": []
    },
    {
      "cell_type": "code",
      "source": [
        "# Check to see if any string in the list has the possibility to exceed the text embedding token limit.\n",
        "\n",
        "for string in text:\n",
        "  word_count = len(string.split())\n",
        "  assert (word_count <= 5500) == True, \"A string may potentially exceed the token limit\""
      ],
      "metadata": {
        "id": "MAAQCb85wFIF"
      },
      "execution_count": null,
      "outputs": []
    },
    {
      "cell_type": "code",
      "source": [
        "#Convert the list 'text' into a panda dataframe.\n",
        "\n",
        "import pandas as pd\n",
        "\n",
        "dataset_df = pd.DataFrame(text)\n",
        "dataset_df.columns = ['text']"
      ],
      "metadata": {
        "id": "PDa9lxj3pA9Y",
        "colab": {
          "base_uri": "https://localhost:8080/"
        },
        "outputId": "1f968530-b0e3-4635-9d32-6344a80cf85e"
      },
      "execution_count": null,
      "outputs": [
        {
          "output_type": "execute_result",
          "data": {
            "text/plain": [
              "(43, 1)"
            ]
          },
          "metadata": {},
          "execution_count": 289
        }
      ]
    },
    {
      "cell_type": "code",
      "source": [
        "import openai\n",
        "from google.colab import userdata\n",
        "\n",
        "openai.api_key = userdata.get('open_ai')\n",
        "\n",
        "EMBEDDING_MODEL = 'text-embedding-3-small'\n",
        "\n",
        "# This method will take a text and get an vector embedding from OpenAI\n",
        "def get_embedding(text):\n",
        "  if not text or not isinstance(text, str):\n",
        "    return None\n",
        "\n",
        "  try:\n",
        "    embedding = openai.embeddings.create(input=text, model=EMBEDDING_MODEL).data[0].embedding\n",
        "    return embedding\n",
        "  except Exception as e:\n",
        "    print(f'Error in get_embedding: {e}')\n",
        "    return None\n",
        "\n",
        "dataset_df['embedding'] = dataset_df['text'].apply(get_embedding)\n",
        "\n",
        "dataset_df.head()"
      ],
      "metadata": {
        "id": "YgpcSj1Wq_kg"
      },
      "execution_count": null,
      "outputs": []
    },
    {
      "cell_type": "code",
      "source": [
        "import pymongo\n",
        "from google.colab import userdata\n",
        "\n",
        "# This method will connect to mongoDB and get a client instance.\n",
        "def get_mongo_client(mongo_uri):\n",
        "  try:\n",
        "    client = pymongo.MongoClient(mongo_uri)\n",
        "    print('Connection to MongoDB successful')\n",
        "    return client\n",
        "  except pymongo.errors.ConnectionFailure as e:\n",
        "    print(f'Connection failed: {e}')\n",
        "    return None\n",
        "\n",
        "mongo_uri = userdata.get('mongo_url')\n",
        "if not mongo_uri:\n",
        "  print('Mongo_uri not set in envirnment variables')\n",
        "\n",
        "mongo_client = get_mongo_client(mongo_uri)\n",
        "\n",
        "db = mongo_client['Treadmill']\n",
        "collection = db['F80_F83_F85']\n",
        "\n",
        "documents = dataset_df.to_dict('records')\n",
        "collection.insert_many(documents)\n",
        "\n",
        "print('Data ingestion into MongoDB completed')"
      ],
      "metadata": {
        "colab": {
          "base_uri": "https://localhost:8080/"
        },
        "id": "4nCB7zFRuKps",
        "outputId": "ffdfc823-b74f-454d-be10-2c2824623249"
      },
      "execution_count": null,
      "outputs": [
        {
          "output_type": "stream",
          "name": "stdout",
          "text": [
            "Connection to MongoDB successful\n"
          ]
        }
      ]
    },
    {
      "cell_type": "markdown",
      "source": [
        "## Below is the query part"
      ],
      "metadata": {
        "id": "xtlx8wuRA8c2"
      }
    },
    {
      "cell_type": "code",
      "source": [
        "import openai\n",
        "from google.colab import userdata\n",
        "\n",
        "openai.api_key = userdata.get('open_ai')\n",
        "\n",
        "EMBEDDING_MODEL = 'text-embedding-3-small'\n",
        "\n",
        "# This method will take a text and get an vector embedding from OpenAI\n",
        "def get_embedding(text):\n",
        "  if not text or not isinstance(text, str):\n",
        "    return None\n",
        "\n",
        "  try:\n",
        "    embedding = openai.embeddings.create(input=text, model=EMBEDDING_MODEL).data[0].embedding\n",
        "    return embedding\n",
        "  except Exception as e:\n",
        "    print(f'Error in get_embedding: {e}')\n",
        "    return None"
      ],
      "metadata": {
        "id": "kcCz98FiC7iv"
      },
      "execution_count": 2,
      "outputs": []
    },
    {
      "cell_type": "code",
      "source": [
        "import pymongo\n",
        "from google.colab import userdata\n",
        "\n",
        "# This method will connect to mongoDB and get a client instance.\n",
        "def get_mongo_client(mongo_uri):\n",
        "  try:\n",
        "    client = pymongo.MongoClient(mongo_uri)\n",
        "    print('Connection to MongoDB successful')\n",
        "    return client\n",
        "  except pymongo.errors.ConnectionFailure as e:\n",
        "    print(f'Connection failed: {e}')\n",
        "    return None\n",
        "\n",
        "mongo_uri = userdata.get('mongo_url')\n",
        "if not mongo_uri:\n",
        "  print('Mongo_uri not set in envirnment variables')\n",
        "\n",
        "mongo_client = get_mongo_client(mongo_uri)\n",
        "\n",
        "db = mongo_client['Treadmill']\n",
        "collection = db['F80_F83_F85']"
      ],
      "metadata": {
        "id": "qm_hP3fFDASn",
        "colab": {
          "base_uri": "https://localhost:8080/"
        },
        "outputId": "c8f37adf-f504-42e8-ea72-10247141b705"
      },
      "execution_count": 3,
      "outputs": [
        {
          "output_type": "stream",
          "name": "stdout",
          "text": [
            "Connection to MongoDB successful\n"
          ]
        }
      ]
    },
    {
      "cell_type": "code",
      "source": [
        "def vector_search(user_query, collection):\n",
        "  query_embedding = get_embedding(user_query)\n",
        "\n",
        "  if query_embedding is None:\n",
        "    return \"Invalid query or embedding generation failed.\"\n",
        "\n",
        "  pipeline = [\n",
        "      {\n",
        "          \"$vectorSearch\": {\n",
        "              \"index\": \"vector_index\",\n",
        "              \"queryVector\": query_embedding,\n",
        "              \"path\": \"embedding\",\n",
        "              \"numCandidates\": 10,\n",
        "              \"limit\": 10\n",
        "          }\n",
        "      },\n",
        "      {\n",
        "          \"$project\": {\n",
        "              \"text\":1,\n",
        "              \"score\": {\n",
        "                  \"$meta\": \"vectorSearchScore\"\n",
        "              }\n",
        "          }\n",
        "      }\n",
        "  ]\n",
        "\n",
        "  results = collection.aggregate(pipeline)\n",
        "  return list(results)"
      ],
      "metadata": {
        "id": "mgsIk1xP1w7l"
      },
      "execution_count": 4,
      "outputs": []
    },
    {
      "cell_type": "code",
      "source": [
        "def handle_user_query(query, collection):\n",
        "  get_knowledge = vector_search(query, collection)\n",
        "\n",
        "  search_result = ''\n",
        "  for result in get_knowledge:\n",
        "    search_result += f\"Instruction: {result.get('text', 'N/A')} \\n\"\n",
        "\n",
        "  completion = openai.chat.completions.create(\n",
        "      model='gpt-3.5-turbo',\n",
        "      messages=[\n",
        "          {'role': \"system\", 'content': 'You are a treadmill technician that provides helpful information by forming a cohisive answer with the context given.'},\n",
        "          {'role': 'user', 'content':\n",
        "            'Context: ' + search_result + '\\n' +\n",
        "            'question: ' + query + '\\n' +\n",
        "            'State each step and then show your work for performing that step.' + '\\n' +\n",
        "            'steps: - what facts do you need to look for in the text to answer the question?' +\n",
        "                    '- Does the text contain all the facts needed to answer the question?' +\n",
        "                    '- Think about how you might answer the question given what you know.' +\n",
        "                    '- If you don\\'t have enough facts answer \"<Reponse> Sorry I don\\'t have enough information.\"' +\n",
        "                    '- Otherwise, answer the question and prefix your answer with <response>.'\n",
        "          }\n",
        "      ]\n",
        "  )\n",
        "\n",
        "  return (completion.choices[0].message.content), search_result"
      ],
      "metadata": {
        "id": "sHgrtQP4KYsr"
      },
      "execution_count": 35,
      "outputs": []
    },
    {
      "cell_type": "code",
      "source": [
        "query = \"Good weather ehh ?\"\n",
        "response, source_information = handle_user_query(query, collection)\n",
        "\n",
        "print(f\"Response: {response} \\n\")\n",
        "print(f\"Source Information: \\n{source_information}\")"
      ],
      "metadata": {
        "colab": {
          "base_uri": "https://localhost:8080/"
        },
        "id": "f7S1AEj8NQDj",
        "outputId": "055bf08e-0d9d-47c1-c88d-386919dc4842"
      },
      "execution_count": 36,
      "outputs": [
        {
          "output_type": "stream",
          "name": "stdout",
          "text": [
            "Response: steps:\n",
            "- Look for information in the text related to weather or climate conditions.\n",
            "- Check for any mentions of outdoor workout recommendations or treadmill features related to weather.\n",
            "- Consider how heart rate programs or other features could be affected by weather conditions.\n",
            "- If the text does not provide information related to weather, mention the lack of relevant details.\n",
            "\n",
            "<response> Sorry I don't have enough information. \n",
            "\n",
            "Source Information: \n",
            "Instruction: F80 CONSOLEGETTING FAMILIAR WITH THE CONTROL PANEL F83 / 85 CONSOLECOOLING FANS SPEAKER FAN POWER SWITCH HEADPHONE JACK CONTACT HEART RATE SENSORSSPEAKERINCLINE QUICK KEYS CONTROL KEYS AUDIO IN JACK (MP3, CD, OR SMARTPHONE)SPEED QUICK KEYS DISPLAY BUTTONDOT MATRIX DISPLAY COOLING FANSSPEAKER FAN POWER SWITCH HEADPHONE JACKSPEAKERINCLINE QUICK KEYS CONTROL KEYS AUDIO IN JACK (MP3, CD, OR SMARTPHONE)SPEED QUICK KEYS DISPLAY BUTTONDOT MATRIX DISPLAY CONTACT HEART RATE SENSORS \n",
            "Instruction: F80_F83_F85_20111222 \n",
            "Instruction: RATE OF PERCEIVED EXERTION Heart rate is important but listening to your body also has a lot of advantages. There are more variables involved in how hard you should workout than just heart rate. Your stress level,physical health, emotional health, temperature, humidity, the time of day, the last time you ateand what you ate, all contribute to the intensity at which you should workout. If you listen toyour body, it will tell you all of these things.The rate of perceived exertion (RPE), also know as the Borg scale, was developed by Swedishphysiologist G.A.V. Borg. This scale rates exercise intensity from 6 to 20 depending upon howyou feel or the perception of your effort. The scale is as follows:Rating Perception of Effort6 Minimal 7 Very,very light8 Very,very light +9 Very light10 Very light +11 Fairly light12 Comfortable13 Somewhat hard14 Somewhat hard +15 Hard16 Hard +17 Very hard18 Very hard +19 Very,very hard20 Maximal You can get an approximate heart rate level for each rating by simply adding a zero to each rating. For example a rating of 12 will result in an approximate heart rate of 120 beats perminute. Your RPE will vary depending up the factors discussed earlier. That is the major benefitof this type of training. If your body is strong and rested, you will feel strong and your pace willfeel easier. When your body is in this condition, you are able to train harder and the RPE willsupport this. If you are feeling tired and sluggish, it is because your body needs a break. In thiscondition, your pace will feel harder. Again, this will show up in your RPE and you will train atthe proper level for that day. \n",
            "Instruction: Vacuum Under Motor Cover & Check Wiring (Every Other Month)Clean & Inspect Deck for Lubrication (Every Other Month)Lubricate Deck (Every 180 hours or sooner if dry)Inspect Belt Tracking (Monthly) Adjust if necessaryDate \n",
            "Instruction: The F80 / F83 / F85 have ten built-in programs: one Manual program (PO), five preset profiles, two user defined programs (U1 & U2) and two Heart Rate programs (HR1 & HR2). Hill The Hill program simulates going up and down a hill. The resistance in the pedals will steadily increase and then decrease during the program. Fat Burn The Fat Burn program is designed, as the name implies, to maximize the burning of fat. There are many schools of thought on the best way to burn fat but most experts agree that a lower exertion level that stays at a steady workload is the best. The absolute best way to burn fat is to keep your heart rate at around 60% to 70% of its maximum potential. This program does not use heart rate but simulates a lower, steady exertion workout. Cardio The Cardio program is designed to increase your cardiovascular function and endurance. This is exercise for your heart and lungs. It will build up your heart muscle and increase blood flow and lung capacity. This is achieved by incorporating a higher level of exertion with slight fluctuations in work. Strength The Strength program is designed to increase muscular strength in your lower body. This program will steadily increase in resistance to a high level and forces you to sustain it. This is designed to strengthen and tone your legs and glutes (muscles of the butt). Interval The Interval program takes you through high levels of intensity followed by periods of low intensity. This program increases your endurance by depleting your oxygen level followed by periods of recovery to replenish oxygen. Your cardiovascular system gets programmed to use oxygen more efficiently this way. This program also forces your body to become more efficient due to spikes in heart rate, between recovery periods. This aids in heart rate recovery from intense activities.F83/85 SPEED F83/85 INCLINE F80 SPEED F80 INCLINE F83/85 SPEED F83/85 INCLINE F80 SPEED F80 INCLINE F83/85 SPEED F83/85 INCLINE F80 SPEED F80 INCLINE F83/85 SPEED F83/85 INCLINE F80 SPEED F80 INCLINEF83/85 SPEED F83/85 INCLINE F80 SPEED F80 INCLINEPRESET PROGRAMS \n",
            "Instruction: Product Registration Important Safety InstructionsImportant Electrical InformationImportant Operation InstructionsAssembly instructionsFolding InstructionsTransport InstructionsOperation of Your New TreadmillProgrammable FeaturesGeneral MaintenanceService Checklist - Diagnosis GuideManufacturer’s Limited Warranty12348 12121318252830 \n",
            "Instruction: CALIBRATION PROCEDURE 1. Remove the safety key 2. Press and hold down the Start and Fast (speed up) buttons and replace the safety key. Continue to hold the Start and Fast key until the window displays “Factory settings” , then press the enter key. 3. You will now be able to set the display to show Metric or English settings (Miles vs. Kilometers). To do this, press the up or down key to show which you want, then press enter. 4. Make sure the wheel size diameter is 2.83 then press enter 5. Adjust the minimum speed (if needed) to 0.5 and then press enter 6. Adjust the maximum speed (if needed) to 12.0 and then press enter 7. Adjust the maximum elevation (if needed) to 15 and then press enter 8. Grade return – On (This allows the incline to return to zero when stop is pressed. For sale in Europe, EU standards require this to be off) 9. Press start to begin calibration. The process is automatic; the speed will start up without warning, so do not stand on the belt. A. Calibration - Used to verify calibration B. Factory Settings - Acces only allowed by manufacturing C. Security - Allows you to lock the keypad so no unauthorized use of the machine is allowed. When the child lock is enabled, the console will not allow the keypad to operate unless you press and hold the Start and Enter buttons for 3 seconds to unlock the console. D. Functions - Press Enter to access settings, use Speed Fast/Slow keys to scroll I. Sleep Mode - Turn on to have the console power down automatically after 30 minutes of inactivity II. Pause Mode - Turned on to allow 5 minutes of pause, turn off to have console pause in definitely) III. Maintenance - Reset lube message and odometer readings IV. Units - Choose from English or Metric display readings V. Grade Return - Returns elevation to lowest setting when pause is pressed E. Key Test - Will allow you to test all the keys to make sure they are functioning F. Display Test - Tests all the display functions1. Press and hold the Start, Stop and Enter key at the same time, until the display shows “Engineering mode” (it may say maintenance menu, depending on version). Press the Enter key. 2. You can now scroll through the menu using the Fast/Slow keys. Use the Stop key to return to previous menu selection. The menu selections are:MAINTENANCE MENU \n",
            "Instruction: SELECTING A PROGRAM 1. Press the Up5/6Down keys to view the programs on the screen then press the Enter key to select the program you would like to perform. The display will prompt you through the programming steps or you can just press the Start key to begin the program using the preset program values for age, weight and other program specific information. 2. If enter was pressed, the Message window will display Age. You may use any of the Up/ Down or the Fast/Slow keys to adjust your age. After adjusting press the Enter key. (Note: You may press start at any time during the programming to start the program with the informa-tion you’ve already input.) 3. The Message window will now be displaying a value, which is your Body Weight. Entering the correct body weight will affect the calorie count. Use the Up/Down keys or the Fast/Slow to adjust, then press enter. A note about the Calorie display: No exercise machine can give you an exact calorie count because there are too many factors which determine exact calorie burn for a particular person. Even if someone is the exact same body weight, age and height, their calorie burn may be very different than yours. The Calorie display is to be used as a reference only to monitor improvement from workout to workout. 4. The Time window will now be displaying a value, which is total workout time desired. Use the Up/Down or the Fast/Slow keys to adjust, and then press enter. After adjusting, press the Enter key. 5. The Speed window will display the preset top speed of the selected program. Use the Up/Down or the Fast/Slow keys to adjust, and then press enter. Each program has various speed changes throughout; this allows you to limit the highest speed the program will reach at it’s peak. 6. Press Start to begin the program. The program will begin with a 3 minute warm-up. If you want to bypass this and go directly to the beginning of the program, press Start again. \n",
            "Instruction: 8. Product use in any environment other than a residential setting. 9. Warranties outside of North America may vary. Please contact your local dealer for details. SERVICEKeep your bill of sale. Twelve (12) months from the date on the bill of sale or eighteen (18) months from the date of factory shipping as determined by the serial number establishes the labor warranty period should service be required. If service is performed, it is in your best interest to obtain and keep all receipts. This written warranty gives you specific legal rights. You may also have other rights that vary from state to state. Service under this warranty must be obtained by following these steps, in order:1. Contact your selling authorized SOLE dealer. OR 2. Submit all service requests including serial number, contact information and a brief description of the problem online at www.soletreadmills.com/technical.php?p=service. 3. If you have any questions about your new product or questions about the warranty contact SOLE Fitness at 1-866-780-SOLE (7653). If you have a technical problem with your new treadmill contact SOLE technical service at 866-MYSOLE1 (697-6531). 4. If no local service is available, SOLE will repair or replace the parts, at SOLE’s option, within the warranty period at no charge for parts. All transportation costs, both to our factory and upon return to the owner, are the responsibility of the owner. The owner is responsible for adequate packaging upon return to SOLE. SOLE is not responsible for damages that occur during shipping. Make all freight damage claims with the appropriate freight carrier. DO NOT SHIP ANY UNIT TO OUR FACTORY WITHOUT A RETURN AUTHORIZATION NUMBER. All units arriving with-out a return authorization number will be refused. 5. For any further information, or to contact our service department by mail, send your correspondence to: Product features or specifications as described or illustrated are subject to change without notice. All warranties are made by SOLE.SOLE FitnessP .O. Box 2037Jonesboro, AR 72402-2037*Cosmetic items including, but not limited to the following: grips, console overlays, and labels/decals. \n",
            "Instruction: HEART RATE PROGRAMMING CAUTION! Heart Rate programs are intended for wireless transmitter chest strap. Do not use Pulse Grip bar for Heart Rate. You must receive a strong/steady value in the heart rate window (See Using Heart Rate Transmitter section for instructions on how to use). The HR1 program has a default level that is 60% of your projected heart rate maximum. This program is geared for individuals with fat loss as a goal. The HR2 program has a default of 80% of your projected heart rate maximum. It is geared for individuals with a goal of improving cardiovascular & lung function. 1. Select HR1 or HR2 via the Program 56keys then press enter. 2. The Message window will be blinking, showing the default user’s bodyweight for this pro - gram. You may adjust it and press enter if you want or just press enter to accept the default value. 3. The Message window will now be blinking showing user’s age. Adjust and press enter or press enter to accept the default value. Adjusting Age will change the Target HR value. 4. The Time window will now be blinking. Adjust the time and press enter. 5. Now you are asked to adjust the HR1 or HR2 value. The default is 60% (HR1); (220 - age x .60); or 80% (HR2); (220 – age x .80). You may select a higher or lower number also. Adjust the number by pressing the Speed Up or Down keys (console or handrails) and press Enter to continue. 6. Now you are finished editing the settings and can begin your workout by pressing the Start key. You can also go back and modify your settings by pressing the Stop key to go back one level, or screen. 7. If you want to increase or decrease the speed at any time during the program press the Fast or Slow (console or handrail) keys. 8. During the HR program you will be able to scroll through the data in the message window by pressing the Display key. When the program ends the message window will show a summary of your workout. The summary will be displayed for a short time then the console will return to the start-up display. 9. Press Start to begin program. The program will now control the treadmill Incline to steadily increase your heart rate to the tar - get value. This process is automatic and could take upwards of five minutes, depending on how far your HR needs to go and what kind of physical shape you are in. People who are more fit will take longer to reach the target. You can make manual adjustments to the speed throughout the program. \n",
            "\n"
          ]
        }
      ]
    },
    {
      "cell_type": "markdown",
      "source": [
        "## Change the model to assitants with file seach and see if file search and external vector search is good."
      ],
      "metadata": {
        "id": "9MvyHKtW4FpV"
      }
    },
    {
      "cell_type": "code",
      "source": [],
      "metadata": {
        "id": "lF_i22UeVTBk"
      },
      "execution_count": null,
      "outputs": []
    }
  ]
}