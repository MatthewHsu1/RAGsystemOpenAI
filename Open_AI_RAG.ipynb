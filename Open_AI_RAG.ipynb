{
  "nbformat": 4,
  "nbformat_minor": 0,
  "metadata": {
    "colab": {
      "provenance": [],
      "authorship_tag": "ABX9TyPRrDP7BoE5QmnTU2PSiGbn"
    },
    "kernelspec": {
      "name": "python3",
      "display_name": "Python 3"
    },
    "language_info": {
      "name": "python"
    }
  },
  "cells": [
    {
      "cell_type": "code",
      "execution_count": null,
      "metadata": {
        "id": "Uc2wcx3UowiS"
      },
      "outputs": [],
      "source": [
        "!pip install datasets pandas openai pymongo"
      ]
    },
    {
      "cell_type": "code",
      "source": [
        "from datasets import load_dataset\n",
        "import pandas as pd\n",
        "\n",
        "dataset = load_dataset(\"AIatMongoDB/embedded_movies\")\n",
        "\n",
        "dataset_df = pd.DataFrame(dataset['train'])\n",
        "\n",
        "dataset_df.head(5)"
      ],
      "metadata": {
        "id": "PDa9lxj3pA9Y"
      },
      "execution_count": null,
      "outputs": []
    },
    {
      "cell_type": "code",
      "source": [
        "dataset_df = dataset_df.dropna(subset=['plot'])\n",
        "\n",
        "dataset_df = dataset_df.drop(columns=['plot_embedding'])\n",
        "dataset_df.head(5)"
      ],
      "metadata": {
        "id": "-HNS7FEtp0a2"
      },
      "execution_count": null,
      "outputs": []
    },
    {
      "cell_type": "code",
      "source": [
        "import openai\n",
        "from google.colab import userdata\n",
        "\n",
        "openai.api_key = userdata.get('open_ai')\n",
        "\n",
        "EMBEDDING_MODEL = 'text-embedding-3-small'\n",
        "\n",
        "def get_embedding(text):\n",
        "  if not text or not isinstance(text, str):\n",
        "    return None\n",
        "\n",
        "  try:\n",
        "    embedding = openai.embeddings.create(input=text, model=EMBEDDING_MODEL).data[0].embedding\n",
        "    return embedding\n",
        "  except Exception as e:\n",
        "    print(f'Error in get_embedding: {e}')\n",
        "    return None\n",
        "\n",
        "dataset_df['plot_embedding_optimised'] = dataset_df['plot'].apply(get_embedding)\n",
        "\n",
        "dataset_df.head()"
      ],
      "metadata": {
        "id": "YgpcSj1Wq_kg"
      },
      "execution_count": null,
      "outputs": []
    },
    {
      "cell_type": "code",
      "source": [
        "import pymongo\n",
        "from google.colab import userdata\n",
        "\n",
        "def get_mongo_client(mongo_uri):\n",
        "  try:\n",
        "    client = pymongo.MongoClient(mongo_uri)\n",
        "    print('Connection to MongoDB successful')\n",
        "    return client\n",
        "  except pymongo.errors.ConnectionFailure as e:\n",
        "    print(f'Connection failed: {e}')\n",
        "    return None\n",
        "\n",
        "mongo_uri = userdata.get('mongo_url')\n",
        "if not mongo_uri:\n",
        "  print('Mongo_uri not set in envirnment variables')\n",
        "\n",
        "mongo_client = get_mongo_client(mongo_uri)\n",
        "\n",
        "db = mongo_client['movies']\n",
        "collection = db['movie_collection']\n",
        "\n",
        "documents = dataset_df.to_dict('records')\n",
        "collection.insert_many(documents)\n",
        "\n",
        "print('Data ingestion into MongoDB completed')"
      ],
      "metadata": {
        "colab": {
          "base_uri": "https://localhost:8080/"
        },
        "id": "4nCB7zFRuKps",
        "outputId": "915021cf-6623-43a9-c73f-58e6977ffb4f"
      },
      "execution_count": 7,
      "outputs": [
        {
          "output_type": "stream",
          "name": "stdout",
          "text": [
            "Connection to MongoDB successful\n",
            "Data ingestion into MongoDB completed\n"
          ]
        }
      ]
    },
    {
      "cell_type": "code",
      "source": [],
      "metadata": {
        "id": "mgsIk1xP1w7l"
      },
      "execution_count": null,
      "outputs": []
    }
  ]
}