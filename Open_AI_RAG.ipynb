{
  "nbformat": 4,
  "nbformat_minor": 0,
  "metadata": {
    "colab": {
      "provenance": [],
      "authorship_tag": "ABX9TyPqmeDcOhFs955ahIZAF4oz"
    },
    "kernelspec": {
      "name": "python3",
      "display_name": "Python 3"
    },
    "language_info": {
      "name": "python"
    }
  },
  "cells": [
    {
      "cell_type": "code",
      "execution_count": 2,
      "metadata": {
        "id": "Uc2wcx3UowiS",
        "colab": {
          "base_uri": "https://localhost:8080/"
        },
        "outputId": "0eaad33d-e5da-42ad-853a-070927ac38d1"
      },
      "outputs": [
        {
          "output_type": "stream",
          "name": "stdout",
          "text": [
            "Collecting datasets\n",
            "  Downloading datasets-2.20.0-py3-none-any.whl (547 kB)\n",
            "\u001b[2K     \u001b[90m━━━━━━━━━━━━━━━━━━━━━━━━━━━━━━━━━━━━━━━━\u001b[0m \u001b[32m547.8/547.8 kB\u001b[0m \u001b[31m4.6 MB/s\u001b[0m eta \u001b[36m0:00:00\u001b[0m\n",
            "\u001b[?25hRequirement already satisfied: pandas in /usr/local/lib/python3.10/dist-packages (2.0.3)\n",
            "Collecting openai\n",
            "  Downloading openai-1.35.3-py3-none-any.whl (327 kB)\n",
            "\u001b[2K     \u001b[90m━━━━━━━━━━━━━━━━━━━━━━━━━━━━━━━━━━━━━━━━\u001b[0m \u001b[32m327.4/327.4 kB\u001b[0m \u001b[31m5.3 MB/s\u001b[0m eta \u001b[36m0:00:00\u001b[0m\n",
            "\u001b[?25hCollecting pymongo\n",
            "  Downloading pymongo-4.7.3-cp310-cp310-manylinux_2_17_x86_64.manylinux2014_x86_64.whl (669 kB)\n",
            "\u001b[2K     \u001b[90m━━━━━━━━━━━━━━━━━━━━━━━━━━━━━━━━━━━━━━━━\u001b[0m \u001b[32m669.1/669.1 kB\u001b[0m \u001b[31m8.0 MB/s\u001b[0m eta \u001b[36m0:00:00\u001b[0m\n",
            "\u001b[?25hCollecting pypdf\n",
            "  Downloading pypdf-4.2.0-py3-none-any.whl (290 kB)\n",
            "\u001b[2K     \u001b[90m━━━━━━━━━━━━━━━━━━━━━━━━━━━━━━━━━━━━━━━━\u001b[0m \u001b[32m290.4/290.4 kB\u001b[0m \u001b[31m8.0 MB/s\u001b[0m eta \u001b[36m0:00:00\u001b[0m\n",
            "\u001b[?25hCollecting langchain_community\n",
            "  Downloading langchain_community-0.2.5-py3-none-any.whl (2.2 MB)\n",
            "\u001b[2K     \u001b[90m━━━━━━━━━━━━━━━━━━━━━━━━━━━━━━━━━━━━━━━━\u001b[0m \u001b[32m2.2/2.2 MB\u001b[0m \u001b[31m12.7 MB/s\u001b[0m eta \u001b[36m0:00:00\u001b[0m\n",
            "\u001b[?25hRequirement already satisfied: filelock in /usr/local/lib/python3.10/dist-packages (from datasets) (3.15.1)\n",
            "Requirement already satisfied: numpy>=1.17 in /usr/local/lib/python3.10/dist-packages (from datasets) (1.25.2)\n",
            "Collecting pyarrow>=15.0.0 (from datasets)\n",
            "  Downloading pyarrow-16.1.0-cp310-cp310-manylinux_2_28_x86_64.whl (40.8 MB)\n",
            "\u001b[2K     \u001b[90m━━━━━━━━━━━━━━━━━━━━━━━━━━━━━━━━━━━━━━━━\u001b[0m \u001b[32m40.8/40.8 MB\u001b[0m \u001b[31m12.3 MB/s\u001b[0m eta \u001b[36m0:00:00\u001b[0m\n",
            "\u001b[?25hRequirement already satisfied: pyarrow-hotfix in /usr/local/lib/python3.10/dist-packages (from datasets) (0.6)\n",
            "Collecting dill<0.3.9,>=0.3.0 (from datasets)\n",
            "  Downloading dill-0.3.8-py3-none-any.whl (116 kB)\n",
            "\u001b[2K     \u001b[90m━━━━━━━━━━━━━━━━━━━━━━━━━━━━━━━━━━━━━━━━\u001b[0m \u001b[32m116.3/116.3 kB\u001b[0m \u001b[31m15.5 MB/s\u001b[0m eta \u001b[36m0:00:00\u001b[0m\n",
            "\u001b[?25hCollecting requests>=2.32.2 (from datasets)\n",
            "  Downloading requests-2.32.3-py3-none-any.whl (64 kB)\n",
            "\u001b[2K     \u001b[90m━━━━━━━━━━━━━━━━━━━━━━━━━━━━━━━━━━━━━━━━\u001b[0m \u001b[32m64.9/64.9 kB\u001b[0m \u001b[31m8.6 MB/s\u001b[0m eta \u001b[36m0:00:00\u001b[0m\n",
            "\u001b[?25hRequirement already satisfied: tqdm>=4.66.3 in /usr/local/lib/python3.10/dist-packages (from datasets) (4.66.4)\n",
            "Collecting xxhash (from datasets)\n",
            "  Downloading xxhash-3.4.1-cp310-cp310-manylinux_2_17_x86_64.manylinux2014_x86_64.whl (194 kB)\n",
            "\u001b[2K     \u001b[90m━━━━━━━━━━━━━━━━━━━━━━━━━━━━━━━━━━━━━━━━\u001b[0m \u001b[32m194.1/194.1 kB\u001b[0m \u001b[31m18.6 MB/s\u001b[0m eta \u001b[36m0:00:00\u001b[0m\n",
            "\u001b[?25hCollecting multiprocess (from datasets)\n",
            "  Downloading multiprocess-0.70.16-py310-none-any.whl (134 kB)\n",
            "\u001b[2K     \u001b[90m━━━━━━━━━━━━━━━━━━━━━━━━━━━━━━━━━━━━━━━━\u001b[0m \u001b[32m134.8/134.8 kB\u001b[0m \u001b[31m16.9 MB/s\u001b[0m eta \u001b[36m0:00:00\u001b[0m\n",
            "\u001b[?25hRequirement already satisfied: fsspec[http]<=2024.5.0,>=2023.1.0 in /usr/local/lib/python3.10/dist-packages (from datasets) (2023.6.0)\n",
            "Requirement already satisfied: aiohttp in /usr/local/lib/python3.10/dist-packages (from datasets) (3.9.5)\n",
            "Requirement already satisfied: huggingface-hub>=0.21.2 in /usr/local/lib/python3.10/dist-packages (from datasets) (0.23.4)\n",
            "Requirement already satisfied: packaging in /usr/local/lib/python3.10/dist-packages (from datasets) (24.1)\n",
            "Requirement already satisfied: pyyaml>=5.1 in /usr/local/lib/python3.10/dist-packages (from datasets) (6.0.1)\n",
            "Requirement already satisfied: python-dateutil>=2.8.2 in /usr/local/lib/python3.10/dist-packages (from pandas) (2.8.2)\n",
            "Requirement already satisfied: pytz>=2020.1 in /usr/local/lib/python3.10/dist-packages (from pandas) (2023.4)\n",
            "Requirement already satisfied: tzdata>=2022.1 in /usr/local/lib/python3.10/dist-packages (from pandas) (2024.1)\n",
            "Requirement already satisfied: anyio<5,>=3.5.0 in /usr/local/lib/python3.10/dist-packages (from openai) (3.7.1)\n",
            "Requirement already satisfied: distro<2,>=1.7.0 in /usr/lib/python3/dist-packages (from openai) (1.7.0)\n",
            "Collecting httpx<1,>=0.23.0 (from openai)\n",
            "  Downloading httpx-0.27.0-py3-none-any.whl (75 kB)\n",
            "\u001b[2K     \u001b[90m━━━━━━━━━━━━━━━━━━━━━━━━━━━━━━━━━━━━━━━━\u001b[0m \u001b[32m75.6/75.6 kB\u001b[0m \u001b[31m9.4 MB/s\u001b[0m eta \u001b[36m0:00:00\u001b[0m\n",
            "\u001b[?25hRequirement already satisfied: pydantic<3,>=1.9.0 in /usr/local/lib/python3.10/dist-packages (from openai) (2.7.4)\n",
            "Requirement already satisfied: sniffio in /usr/local/lib/python3.10/dist-packages (from openai) (1.3.1)\n",
            "Requirement already satisfied: typing-extensions<5,>=4.7 in /usr/local/lib/python3.10/dist-packages (from openai) (4.12.2)\n",
            "Collecting dnspython<3.0.0,>=1.16.0 (from pymongo)\n",
            "  Downloading dnspython-2.6.1-py3-none-any.whl (307 kB)\n",
            "\u001b[2K     \u001b[90m━━━━━━━━━━━━━━━━━━━━━━━━━━━━━━━━━━━━━━━━\u001b[0m \u001b[32m307.7/307.7 kB\u001b[0m \u001b[31m33.9 MB/s\u001b[0m eta \u001b[36m0:00:00\u001b[0m\n",
            "\u001b[?25hRequirement already satisfied: SQLAlchemy<3,>=1.4 in /usr/local/lib/python3.10/dist-packages (from langchain_community) (2.0.30)\n",
            "Collecting dataclasses-json<0.7,>=0.5.7 (from langchain_community)\n",
            "  Downloading dataclasses_json-0.6.7-py3-none-any.whl (28 kB)\n",
            "Collecting langchain<0.3.0,>=0.2.5 (from langchain_community)\n",
            "  Downloading langchain-0.2.5-py3-none-any.whl (974 kB)\n",
            "\u001b[2K     \u001b[90m━━━━━━━━━━━━━━━━━━━━━━━━━━━━━━━━━━━━━━━━\u001b[0m \u001b[32m974.6/974.6 kB\u001b[0m \u001b[31m62.3 MB/s\u001b[0m eta \u001b[36m0:00:00\u001b[0m\n",
            "\u001b[?25hCollecting langchain-core<0.3.0,>=0.2.7 (from langchain_community)\n",
            "  Downloading langchain_core-0.2.9-py3-none-any.whl (321 kB)\n",
            "\u001b[2K     \u001b[90m━━━━━━━━━━━━━━━━━━━━━━━━━━━━━━━━━━━━━━━━\u001b[0m \u001b[32m321.8/321.8 kB\u001b[0m \u001b[31m34.8 MB/s\u001b[0m eta \u001b[36m0:00:00\u001b[0m\n",
            "\u001b[?25hCollecting langsmith<0.2.0,>=0.1.0 (from langchain_community)\n",
            "  Downloading langsmith-0.1.81-py3-none-any.whl (127 kB)\n",
            "\u001b[2K     \u001b[90m━━━━━━━━━━━━━━━━━━━━━━━━━━━━━━━━━━━━━━━━\u001b[0m \u001b[32m127.1/127.1 kB\u001b[0m \u001b[31m17.3 MB/s\u001b[0m eta \u001b[36m0:00:00\u001b[0m\n",
            "\u001b[?25hRequirement already satisfied: tenacity<9.0.0,>=8.1.0 in /usr/local/lib/python3.10/dist-packages (from langchain_community) (8.4.1)\n",
            "Requirement already satisfied: aiosignal>=1.1.2 in /usr/local/lib/python3.10/dist-packages (from aiohttp->datasets) (1.3.1)\n",
            "Requirement already satisfied: attrs>=17.3.0 in /usr/local/lib/python3.10/dist-packages (from aiohttp->datasets) (23.2.0)\n",
            "Requirement already satisfied: frozenlist>=1.1.1 in /usr/local/lib/python3.10/dist-packages (from aiohttp->datasets) (1.4.1)\n",
            "Requirement already satisfied: multidict<7.0,>=4.5 in /usr/local/lib/python3.10/dist-packages (from aiohttp->datasets) (6.0.5)\n",
            "Requirement already satisfied: yarl<2.0,>=1.0 in /usr/local/lib/python3.10/dist-packages (from aiohttp->datasets) (1.9.4)\n",
            "Requirement already satisfied: async-timeout<5.0,>=4.0 in /usr/local/lib/python3.10/dist-packages (from aiohttp->datasets) (4.0.3)\n",
            "Requirement already satisfied: idna>=2.8 in /usr/local/lib/python3.10/dist-packages (from anyio<5,>=3.5.0->openai) (3.7)\n",
            "Requirement already satisfied: exceptiongroup in /usr/local/lib/python3.10/dist-packages (from anyio<5,>=3.5.0->openai) (1.2.1)\n",
            "Collecting marshmallow<4.0.0,>=3.18.0 (from dataclasses-json<0.7,>=0.5.7->langchain_community)\n",
            "  Downloading marshmallow-3.21.3-py3-none-any.whl (49 kB)\n",
            "\u001b[2K     \u001b[90m━━━━━━━━━━━━━━━━━━━━━━━━━━━━━━━━━━━━━━━━\u001b[0m \u001b[32m49.2/49.2 kB\u001b[0m \u001b[31m6.7 MB/s\u001b[0m eta \u001b[36m0:00:00\u001b[0m\n",
            "\u001b[?25hCollecting typing-inspect<1,>=0.4.0 (from dataclasses-json<0.7,>=0.5.7->langchain_community)\n",
            "  Downloading typing_inspect-0.9.0-py3-none-any.whl (8.8 kB)\n",
            "Requirement already satisfied: certifi in /usr/local/lib/python3.10/dist-packages (from httpx<1,>=0.23.0->openai) (2024.6.2)\n",
            "Collecting httpcore==1.* (from httpx<1,>=0.23.0->openai)\n",
            "  Downloading httpcore-1.0.5-py3-none-any.whl (77 kB)\n",
            "\u001b[2K     \u001b[90m━━━━━━━━━━━━━━━━━━━━━━━━━━━━━━━━━━━━━━━━\u001b[0m \u001b[32m77.9/77.9 kB\u001b[0m \u001b[31m10.6 MB/s\u001b[0m eta \u001b[36m0:00:00\u001b[0m\n",
            "\u001b[?25hCollecting h11<0.15,>=0.13 (from httpcore==1.*->httpx<1,>=0.23.0->openai)\n",
            "  Downloading h11-0.14.0-py3-none-any.whl (58 kB)\n",
            "\u001b[2K     \u001b[90m━━━━━━━━━━━━━━━━━━━━━━━━━━━━━━━━━━━━━━━━\u001b[0m \u001b[32m58.3/58.3 kB\u001b[0m \u001b[31m7.8 MB/s\u001b[0m eta \u001b[36m0:00:00\u001b[0m\n",
            "\u001b[?25hCollecting langchain-text-splitters<0.3.0,>=0.2.0 (from langchain<0.3.0,>=0.2.5->langchain_community)\n",
            "  Downloading langchain_text_splitters-0.2.1-py3-none-any.whl (23 kB)\n",
            "Collecting jsonpatch<2.0,>=1.33 (from langchain-core<0.3.0,>=0.2.7->langchain_community)\n",
            "  Downloading jsonpatch-1.33-py2.py3-none-any.whl (12 kB)\n",
            "Collecting orjson<4.0.0,>=3.9.14 (from langsmith<0.2.0,>=0.1.0->langchain_community)\n",
            "  Downloading orjson-3.10.5-cp310-cp310-manylinux_2_17_x86_64.manylinux2014_x86_64.whl (144 kB)\n",
            "\u001b[2K     \u001b[90m━━━━━━━━━━━━━━━━━━━━━━━━━━━━━━━━━━━━━━━━\u001b[0m \u001b[32m145.0/145.0 kB\u001b[0m \u001b[31m19.2 MB/s\u001b[0m eta \u001b[36m0:00:00\u001b[0m\n",
            "\u001b[?25hRequirement already satisfied: annotated-types>=0.4.0 in /usr/local/lib/python3.10/dist-packages (from pydantic<3,>=1.9.0->openai) (0.7.0)\n",
            "Requirement already satisfied: pydantic-core==2.18.4 in /usr/local/lib/python3.10/dist-packages (from pydantic<3,>=1.9.0->openai) (2.18.4)\n",
            "Requirement already satisfied: six>=1.5 in /usr/local/lib/python3.10/dist-packages (from python-dateutil>=2.8.2->pandas) (1.16.0)\n",
            "Requirement already satisfied: charset-normalizer<4,>=2 in /usr/local/lib/python3.10/dist-packages (from requests>=2.32.2->datasets) (3.3.2)\n",
            "Requirement already satisfied: urllib3<3,>=1.21.1 in /usr/local/lib/python3.10/dist-packages (from requests>=2.32.2->datasets) (2.0.7)\n",
            "Requirement already satisfied: greenlet!=0.4.17 in /usr/local/lib/python3.10/dist-packages (from SQLAlchemy<3,>=1.4->langchain_community) (3.0.3)\n",
            "Collecting jsonpointer>=1.9 (from jsonpatch<2.0,>=1.33->langchain-core<0.3.0,>=0.2.7->langchain_community)\n",
            "  Downloading jsonpointer-3.0.0-py2.py3-none-any.whl (7.6 kB)\n",
            "Collecting mypy-extensions>=0.3.0 (from typing-inspect<1,>=0.4.0->dataclasses-json<0.7,>=0.5.7->langchain_community)\n",
            "  Downloading mypy_extensions-1.0.0-py3-none-any.whl (4.7 kB)\n",
            "Installing collected packages: xxhash, requests, pypdf, pyarrow, orjson, mypy-extensions, marshmallow, jsonpointer, h11, dnspython, dill, typing-inspect, pymongo, multiprocess, jsonpatch, httpcore, langsmith, httpx, dataclasses-json, openai, langchain-core, datasets, langchain-text-splitters, langchain, langchain_community\n",
            "  Attempting uninstall: requests\n",
            "    Found existing installation: requests 2.31.0\n",
            "    Uninstalling requests-2.31.0:\n",
            "      Successfully uninstalled requests-2.31.0\n",
            "  Attempting uninstall: pyarrow\n",
            "    Found existing installation: pyarrow 14.0.2\n",
            "    Uninstalling pyarrow-14.0.2:\n",
            "      Successfully uninstalled pyarrow-14.0.2\n",
            "\u001b[31mERROR: pip's dependency resolver does not currently take into account all the packages that are installed. This behaviour is the source of the following dependency conflicts.\n",
            "cudf-cu12 24.4.1 requires pyarrow<15.0.0a0,>=14.0.1, but you have pyarrow 16.1.0 which is incompatible.\n",
            "google-colab 1.0.0 requires requests==2.31.0, but you have requests 2.32.3 which is incompatible.\n",
            "ibis-framework 8.0.0 requires pyarrow<16,>=2, but you have pyarrow 16.1.0 which is incompatible.\u001b[0m\u001b[31m\n",
            "\u001b[0mSuccessfully installed dataclasses-json-0.6.7 datasets-2.20.0 dill-0.3.8 dnspython-2.6.1 h11-0.14.0 httpcore-1.0.5 httpx-0.27.0 jsonpatch-1.33 jsonpointer-3.0.0 langchain-0.2.5 langchain-core-0.2.9 langchain-text-splitters-0.2.1 langchain_community-0.2.5 langsmith-0.1.81 marshmallow-3.21.3 multiprocess-0.70.16 mypy-extensions-1.0.0 openai-1.35.3 orjson-3.10.5 pyarrow-16.1.0 pymongo-4.7.3 pypdf-4.2.0 requests-2.32.3 typing-inspect-0.9.0 xxhash-3.4.1\n"
          ]
        }
      ],
      "source": [
        "!pip install datasets pandas openai pymongo pypdf langchain_community"
      ]
    },
    {
      "cell_type": "code",
      "source": [
        "from langchain_community.document_loaders import PyPDFLoader\n",
        "\n",
        "# The url for the user manual pdf.\n",
        "url = \"https://raw.githubusercontent.com/MatthewHsu1/RAGsystemOpenAI/main/F80_F83_F85_OM_810.pdf\"\n",
        "\n",
        "# Initialize PyPDFLoader with downloaded user manual pdf\n",
        "loader = PyPDFLoader(url)\n",
        "pages = loader.load_and_split()"
      ],
      "metadata": {
        "id": "ZyTiUw-FVPuI"
      },
      "execution_count": null,
      "outputs": []
    },
    {
      "cell_type": "code",
      "source": [
        "# First create a dictionary of headers to parse the pdf by headers.\n",
        "\n",
        "headers = [\n",
        "    \"TABLE OF CONTENTS\",\n",
        "    \"PRODUCT REGISTRATION\",\n",
        "    \"IMPORTANT SAFETY INSTRUCTIONS\",\n",
        "    \"IMPORTANT ELECTRICAL INSTRUCTIONS\",\n",
        "    \"GROUNDING INSTRUCTIONS\",\n",
        "    \"IMPORTANT OPERATION INSTRUCTIONS\",\n",
        "    \"IMPORTANT SAFETY INSTRUCTIONS\",\n",
        "    \"IMPORTANT SAFETY INSTRUCTIONS\",\n",
        "    \"PREVENTATIVE MAINTENANCE CHART\",\n",
        "    \"F80 / F83 / F83 ASSEMBLY PACK CHECKLIST\",\n",
        "    \"F80 / F83 / F83 ASSEMBLY INSTRUCTIONS\",\n",
        "    \"FOLDING INSTRUCTIONS\",\n",
        "    \"TRANSPORTATION INSTRUCTIONS\",\n",
        "    \"OPERATION OF YOUR TREADMILL\",\n",
        "    \"GETTING STARTED\",\n",
        "    \"QUICK-START OPERATION\",\n",
        "    \"PAUSE/STOP/RESET FEATURE\",\n",
        "    \"INCLINE FEATURE\",\n",
        "    \"DOT MATRIX CENTER DISPLAY\",\n",
        "    \"PROGRAMMABLE FEATURES\",\n",
        "    \"HEART RATE PROGRAMS\",\n",
        "    \"USING HEART RATE TRANSMITTER\",\n",
        "    \"GENERAL MAINTENANCE\",\n",
        "    \"BELT ADJUSTMENTS\",\n",
        "    \"TREAD-BELT TRACKING ADJUSTMENT\",\n",
        "    \"BELT/DECK LUBRICATION\",\n",
        "    \"SERVICE CHECKLIST - DIAGNOSIS GUIDE\",\n",
        "    \"MANUFACTURER’S LIMITED WARRANTY\"\n",
        "]"
      ],
      "metadata": {
        "id": "-_QzaT2cA_wL"
      },
      "execution_count": null,
      "outputs": []
    },
    {
      "cell_type": "code",
      "source": [
        "import re\n",
        "\n",
        "def strip_top(page):\n",
        "  \"\"\"\n",
        "    Every document inside the variable of pages has this string in the beginning, 'F80 /  F83 / F85 TREADMILL'.\n",
        "    Therefore, the real content of the pdf begins after that string.\n",
        "  \"\"\"\n",
        "  pattern = r\"F80 /  F83 / F85 TREADMILL(.*)\"\n",
        "  for page in pages:\n",
        "    match = re.search(pattern, page.page_content, re.DOTALL)\n",
        "\n",
        "    clean_text = \"\"\n",
        "    if match:\n",
        "        clean_text = match.group(1).strip()\n",
        "        clean_text = clean_text.replace(\"\\n\", \" \")\n",
        "        clean_text = clean_text.replace(\"\\x84\", \"\")\n",
        "        clean_text = re.sub(r'\\s+', ' ', clean_text)\n",
        "        page.page_content = clean_text\n",
        "    else:\n",
        "      clean_text = page.page_content.replace(\"\\n\", \" \")\n",
        "      clean_text = clean_text.replace(\"\\x84\", \"\")\n",
        "      clean_text = re.sub(r'\\s+', ' ', clean_text)\n",
        "      page.page_content = clean_text"
      ],
      "metadata": {
        "id": "DM79ig5J8Xmk"
      },
      "execution_count": null,
      "outputs": []
    },
    {
      "cell_type": "code",
      "source": [
        "# The pdf is in plain text\n",
        "strip_top(pages)"
      ],
      "metadata": {
        "id": "37VtSNv0N8g2"
      },
      "execution_count": null,
      "outputs": []
    },
    {
      "cell_type": "code",
      "source": [
        "import re\n",
        "\n",
        "def split_by_header(headers, pages):\n",
        "\n",
        "  list_of_string = []\n",
        "  for page in pages:\n",
        "\n",
        "    # Create a regular expression that pattern matches all strings in headers.\n",
        "    pattern = '|'.join(map(re.escape, headers))\n",
        "\n",
        "    # Split each page by the pattern created.\n",
        "    split_result = re.split(pattern, page.page_content)\n",
        "\n",
        "    # Get rid of any empty strings\n",
        "    split_result = [s.strip() for s in split_result if s.strip() != '']\n",
        "\n",
        "    list_of_string += split_result\n",
        "\n",
        "  return list_of_string"
      ],
      "metadata": {
        "id": "s5cGjyUztBy4"
      },
      "execution_count": null,
      "outputs": []
    },
    {
      "cell_type": "code",
      "source": [
        "text = split_by_header(headers, pages)"
      ],
      "metadata": {
        "id": "Pc7_7ebFKsgc"
      },
      "execution_count": null,
      "outputs": []
    },
    {
      "cell_type": "code",
      "source": [
        "# Check to see if any string in the list has the possibility to exceed the text embedding token limit.\n",
        "\n",
        "for string in text:\n",
        "  word_count = len(string.split())\n",
        "  assert (word_count <= 5500) == True, \"A string may potentially exceed the token limit\""
      ],
      "metadata": {
        "id": "MAAQCb85wFIF"
      },
      "execution_count": null,
      "outputs": []
    },
    {
      "cell_type": "code",
      "source": [
        "#Convert the list 'text' into a panda dataframe.\n",
        "\n",
        "import pandas as pd\n",
        "\n",
        "dataset_df = pd.DataFrame(text)\n",
        "dataset_df.columns = ['text']"
      ],
      "metadata": {
        "id": "PDa9lxj3pA9Y",
        "colab": {
          "base_uri": "https://localhost:8080/"
        },
        "outputId": "1f968530-b0e3-4635-9d32-6344a80cf85e"
      },
      "execution_count": null,
      "outputs": [
        {
          "output_type": "execute_result",
          "data": {
            "text/plain": [
              "(43, 1)"
            ]
          },
          "metadata": {},
          "execution_count": 289
        }
      ]
    },
    {
      "cell_type": "code",
      "source": [
        "import openai\n",
        "from google.colab import userdata\n",
        "\n",
        "openai.api_key = userdata.get('open_ai')\n",
        "\n",
        "EMBEDDING_MODEL = 'text-embedding-3-small'\n",
        "\n",
        "# This method will take a text and get an vector embedding from OpenAI\n",
        "def get_embedding(text):\n",
        "  if not text or not isinstance(text, str):\n",
        "    return None\n",
        "\n",
        "  try:\n",
        "    embedding = openai.embeddings.create(input=text, model=EMBEDDING_MODEL).data[0].embedding\n",
        "    return embedding\n",
        "  except Exception as e:\n",
        "    print(f'Error in get_embedding: {e}')\n",
        "    return None\n",
        "\n",
        "dataset_df['embedding'] = dataset_df['text'].apply(get_embedding)\n",
        "\n",
        "dataset_df.head()"
      ],
      "metadata": {
        "id": "YgpcSj1Wq_kg"
      },
      "execution_count": 9,
      "outputs": []
    },
    {
      "cell_type": "code",
      "source": [
        "import pymongo\n",
        "from google.colab import userdata\n",
        "\n",
        "# This method will connect to mongoDB and get a client instance.\n",
        "def get_mongo_client(mongo_uri):\n",
        "  try:\n",
        "    client = pymongo.MongoClient(mongo_uri)\n",
        "    print('Connection to MongoDB successful')\n",
        "    return client\n",
        "  except pymongo.errors.ConnectionFailure as e:\n",
        "    print(f'Connection failed: {e}')\n",
        "    return None\n",
        "\n",
        "mongo_uri = userdata.get('mongo_url')\n",
        "if not mongo_uri:\n",
        "  print('Mongo_uri not set in envirnment variables')\n",
        "\n",
        "mongo_client = get_mongo_client(mongo_uri)\n",
        "\n",
        "db = mongo_client['Treadmill']\n",
        "collection = db['F80_F83_F85']\n",
        "\n",
        "documents = dataset_df.to_dict('records')\n",
        "collection.insert_many(documents)\n",
        "\n",
        "print('Data ingestion into MongoDB completed')"
      ],
      "metadata": {
        "colab": {
          "base_uri": "https://localhost:8080/"
        },
        "id": "4nCB7zFRuKps",
        "outputId": "ffdfc823-b74f-454d-be10-2c2824623249"
      },
      "execution_count": 7,
      "outputs": [
        {
          "output_type": "stream",
          "name": "stdout",
          "text": [
            "Connection to MongoDB successful\n"
          ]
        }
      ]
    },
    {
      "cell_type": "markdown",
      "source": [
        "## Below is the query part"
      ],
      "metadata": {
        "id": "xtlx8wuRA8c2"
      }
    },
    {
      "cell_type": "code",
      "source": [
        "import openai\n",
        "from google.colab import userdata\n",
        "\n",
        "openai.api_key = userdata.get('open_ai')\n",
        "\n",
        "EMBEDDING_MODEL = 'text-embedding-3-small'\n",
        "\n",
        "# This method will take a text and get an vector embedding from OpenAI\n",
        "def get_embedding(text):\n",
        "  if not text or not isinstance(text, str):\n",
        "    return None\n",
        "\n",
        "  try:\n",
        "    embedding = openai.embeddings.create(input=text, model=EMBEDDING_MODEL).data[0].embedding\n",
        "    return embedding\n",
        "  except Exception as e:\n",
        "    print(f'Error in get_embedding: {e}')\n",
        "    return None"
      ],
      "metadata": {
        "id": "kcCz98FiC7iv"
      },
      "execution_count": null,
      "outputs": []
    },
    {
      "cell_type": "code",
      "source": [
        "import pymongo\n",
        "from google.colab import userdata\n",
        "\n",
        "# This method will connect to mongoDB and get a client instance.\n",
        "def get_mongo_client(mongo_uri):\n",
        "  try:\n",
        "    client = pymongo.MongoClient(mongo_uri)\n",
        "    print('Connection to MongoDB successful')\n",
        "    return client\n",
        "  except pymongo.errors.ConnectionFailure as e:\n",
        "    print(f'Connection failed: {e}')\n",
        "    return None\n",
        "\n",
        "mongo_uri = userdata.get('mongo_url')\n",
        "if not mongo_uri:\n",
        "  print('Mongo_uri not set in envirnment variables')\n",
        "\n",
        "mongo_client = get_mongo_client(mongo_uri)\n",
        "\n",
        "db = mongo_client['Treadmill']\n",
        "collection = db['F80_F83_F85']"
      ],
      "metadata": {
        "id": "qm_hP3fFDASn"
      },
      "execution_count": null,
      "outputs": []
    },
    {
      "cell_type": "code",
      "source": [
        "def vector_search(user_query, collection):\n",
        "  query_embedding = get_embedding(user_query)\n",
        "\n",
        "  if query_embedding is None:\n",
        "    return \"Invalid query or embedding generation failed.\"\n",
        "\n",
        "  pipeline = [\n",
        "      {\n",
        "          \"$vectorSearch\": {\n",
        "              \"index\": \"vector_index\",\n",
        "              \"queryVector\": query_embedding,\n",
        "              \"path\": \"embedding\",\n",
        "              \"numCandidates\": 10,\n",
        "              \"limit\": 4\n",
        "          }\n",
        "      },\n",
        "      {\n",
        "          \"$project\": {\n",
        "              \"text\":1,\n",
        "              \"score\": {\n",
        "                  \"$meta\": \"vectorSearchScore\"\n",
        "              }\n",
        "          }\n",
        "      }\n",
        "  ]\n",
        "\n",
        "  results = collection.aggregate(pipeline)\n",
        "  return list(results)"
      ],
      "metadata": {
        "id": "mgsIk1xP1w7l"
      },
      "execution_count": 5,
      "outputs": []
    },
    {
      "cell_type": "code",
      "source": [
        "def handle_user_query(query, collection):\n",
        "  get_knowledge = vector_search(query, collection)\n",
        "\n",
        "  search_result = ''\n",
        "  for result in get_knowledge:\n",
        "    search_result += f\"Instruction: {result.get('text', 'N/A')} \\n\"\n",
        "\n",
        "  completion = openai.chat.completions.create(\n",
        "      model='gpt-3.5-turbo',\n",
        "      messages=[\n",
        "          {'role': \"system\", 'content': 'You are a treadmill technician that provides helpful information by forming a cohisive answer with the context given. If possible, you can use numbered list or bullet points. You are not allowed to pick anything outside of your choices. And do not mention anyhting along the lines \"based on the context provided\"'},\n",
        "          {'role': 'user', 'content': 'Answer this user query: ' + query + ' using the following context: ' + search_result}\n",
        "      ]\n",
        "  )\n",
        "\n",
        "  return (completion.choices[0].message.content), search_result"
      ],
      "metadata": {
        "id": "sHgrtQP4KYsr"
      },
      "execution_count": 11,
      "outputs": []
    },
    {
      "cell_type": "code",
      "source": [
        "query = \"what to do if its making a noise while running?\"\n",
        "response, source_information = handle_user_query(query, collection)\n",
        "\n",
        "print(f\"Response: {response} \\n\")\n",
        "print(f\"Source Information: \\n{source_information}\")"
      ],
      "metadata": {
        "colab": {
          "base_uri": "https://localhost:8080/"
        },
        "id": "f7S1AEj8NQDj",
        "outputId": "6a147c67-9f6c-47c6-b4f9-29203d7181c8"
      },
      "execution_count": 14,
      "outputs": [
        {
          "output_type": "stream",
          "name": "stdout",
          "text": [
            "Response: If your treadmill is making a noise while running, here are steps to address the issue based on the context provided:\n",
            "\n",
            "1. **Check Tread-Belt Tension**:\n",
            "   - Use the 6 mm Allen wrench provided to adjust the tension at the rear roller.\n",
            "   - Tighten the rear roller to prevent slippage at the front roller.\n",
            "   - Turn the tension adjusting bolts 1/4 turn each and test the tension by walking on the belt to ensure it's not slipping.\n",
            "\n",
            "2. **Ensure Proper Belt Tracking**:\n",
            "   - Use the left side bolt for tracking adjustments with the Allen wrench.\n",
            "   - Set the belt speed at 3 mph for adjustments.\n",
            "   - Make small 1/4 turn adjustments to center the tread-belt if it drifts towards one side while in use.\n",
            "\n",
            "3. **General Maintenance**:\n",
            "   - Clean the deck monthly to maximize performance.\n",
            "   - Use a mild soap solution and nylon scrub brush to clean the textured belt.\n",
            "   - Regularly vacuum underneath and inside the treadmill to prevent dirt buildup.\n",
            "\n",
            "4. **Avoid Over-tightening**:\n",
            "   - Do not over-tighten the belt, as it can cause damage and premature bearing failure.\n",
            "   - If the belt still slips after adjustments, the issue could be with the drive belt connecting the motor to the front roller.\n",
            "\n",
            "5. **Consult a Professional if Needed**:\n",
            "   - If the problem persists after following the adjustment steps, especially with the drive belt or motor, consider contacting a trained service person for further assistance.\n",
            "\n",
            "By following these steps, you can address the noise issue while running on your treadmill and ensure optimal performance. \n",
            "\n",
            "Source Information: \n",
            "Instruction: Tread-belt Tension Adjustment - Belt tension is not critical for most users. It is very important though for joggers and runners in order to provide a smooth, steady running surface. Adjustment must be made from the rear roller with the 6 mm Allen wrench (132)provided in the parts package. The adjustment bolts are located at the end of the step rails as shown in the diagram below. Note: Adjustment is through small hole in end cap. Tracking / Tension Adjustment Tracking / Tension Adjustment Tighten the rear roller only enough to prevent slippage at the front roller. Turn the tread-belt tension adjusting bolts 1/4 turn each and inspect for proper tension by walking on the belt and making sure it is not slipping or hesitating with each step. When an adjustment is made to the belt tension, you must be sure to turn the bolts on both sides evenly or the belt could start tracking to one side instead of running in the middle of the deck. DO NOT OVERTIGHTEN – Over tightening will cause belt damage and premature bearing failure. If you tighten the belt a lot and it still slips, the problem could actually be the drive belt - located under the motor cover - that connects the motor to the front roller. If that belt is loose it feels similar to the walking belt being loose. Tightening the motor belt should be done by a trained service person.BEL T & DECK Your treadmill uses a very high-efficient low-friction deck. Performance is maximized when the deck is kept as clean as possible. Use a soft, damp cloth, or paper towel, wipe the edge of the belt and the area between the belt edge and the frame. Also reach as far as practical directly under the belt edge. This should be done once a month to extend belt and bed life. A mild soap and water solution along with a nylon scrub brush will clean the top of the textured belt. Allow to dry before using. BEL T DUST This occurs during normal break-in or until the belt stabilizes. Sometimes the black dust from the belt will appear on the floor behind the treadmill, this is normal. GENERAL CLEANING Dirt, dust, and hair can block air inlets and accumulate on the running belt. Please vacuumunderneath your treadmill on a monthly basis to prevent excess build-up of dirt that can getsucked up and get into the inner workings under the motor cover. Every other month, you should remove the motor cover and carefully vacuum out dirt and hair that may accumulate. UNPLUG THE POWER CORD BEFORE THIS TASK. (Use the chart on Pg. 5 to record your maintenance) \n",
            "Instruction: Before contacting your dealer for aid, please review the following information. It may save you both time and expense. This list includes common problems that may not be covered under the treadmill’s warranty. 1. Tether cord not in position. 2. Circuit breaker on front grill tripped. Push circuit breaker in until it locks. 3. Plug is disconnected. Make sure plug is firmly pushed into AC household wall outlet. 4. Household circuit breaker may be tripped. 5. Treadmill defect. Contact your SOLE dealer.Display does not lightPROBLEM SOLUTION/CAUSE Tread-belt does not stay centeredTreadmill belt hesitates when walked/run onThe user may be walking while favoring or putting more weight on either the left or right foot. If this walking pattern is natural, track the belt slightly off-center to the side opposite from the belt movement. See General Maintenance section on Tread-belt Tension. Adjust as necessary. 1. If the belt moves, but stops after a short time and thedisplay shows “LS” , run calibration. 2. If you press start and the belt never moves, then the display shows LS, contact service. Motor is not responsive after pressing start Treadmill will only achieve approximately 7 mph but shows higher speed on displayThis indicates motor should be receiving power to operate. Low AC voltage to treadmill. Do not use an extension cord. If an extension cord is required it should be as short as possible and heavy duty 16 gauge minimum. Low household voltage. Contact an electrician or your SOLE dealer. A minimum of 110 volt AC current is required. High belt/deck friction. See General Maintenance section on lubrication. Tread-belt stops quickly/suddenly when tether cord is pulled High belt/deck friction. See General Maintenance Treadmill trips on board 15 amp circuit Treadmill may not be grounded. Static electricity is “crashing” the computer. Refer to Grounding Instructions on page 4. Computer shuts off when console is touched (on a cold day) while walking/running Need to replace the house breaker with a “High In-rush current” type breaker (see page 4 for details) House circuit breaker trips, but not the treadmill circuit breaker \n",
            "Instruction: The treadmill is designed so that the tread-belt remains reasonably centered while in use. It is normal for some belts to drift near one side while in use, depending on a user’s gait and if they favor one leg. But if during use the belt continues to move toward one side, adjustments are necessary. SETTING TREAD-BEL T TRACKING A 6 mm Allen wrench (132)is provided for this adjustment. Make tracking adjustments on the left side bolt. Set belt speed at 3 mph. Be aware that a small adjustment can make a dramatic difference which may not be apparent right away. If the belt is too close to the left side, then turn the bolt only a 1/4 turn to the right (clockwise) and wait a few minutes for the belt to adjust itself. Continue to make 1/4 turns until the belt stabilizes in the center of the running deck.If the belt is too close to the right side, turn the bolt counter-clockwise. The belt may require periodic tracking adjustment depending on use and walking/running characteristics. Some users may affect tracking differently. Expect to make adjustments as required to center the tread-belt. Adjustments will become less of a maintenance concern as the belt is used. Proper belt tracking is an owner responsibility common with all treadmills. ATTENTION: DAMAGE TO THE RUNNING BEL T RESUL TING FROM IMPROPER TRACKING / TENSION ADJUSTMENTS IS NOT COVERED UNDER THE SOLE WARRANTY . \n",
            "Instruction: Before attaching the hardware to Step 3, make sure the cables you just connected don’t get pinched in between the steel tubing. If they do, this may cause issues that prevent the treadmill from operating properly. \n",
            "\n"
          ]
        }
      ]
    },
    {
      "cell_type": "markdown",
      "source": [
        "## Change the model to assitants with file seach and see if file search and external vector search is good."
      ],
      "metadata": {
        "id": "9MvyHKtW4FpV"
      }
    }
  ]
}