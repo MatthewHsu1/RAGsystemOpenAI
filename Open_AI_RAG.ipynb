{
  "nbformat": 4,
  "nbformat_minor": 0,
  "metadata": {
    "colab": {
      "provenance": [],
      "authorship_tag": "ABX9TyMsLV/psFzxl0c1sltdSkM7",
      "include_colab_link": true
    },
    "kernelspec": {
      "name": "python3",
      "display_name": "Python 3"
    },
    "language_info": {
      "name": "python"
    }
  },
  "cells": [
    {
      "cell_type": "markdown",
      "metadata": {
        "id": "view-in-github",
        "colab_type": "text"
      },
      "source": [
        "<a href=\"https://colab.research.google.com/github/MatthewHsu1/RAGsystemOpenAI/blob/main/Open_AI_RAG.ipynb\" target=\"_parent\"><img src=\"https://colab.research.google.com/assets/colab-badge.svg\" alt=\"Open In Colab\"/></a>"
      ]
    },
    {
      "cell_type": "code",
      "execution_count": null,
      "metadata": {
        "id": "Uc2wcx3UowiS"
      },
      "outputs": [],
      "source": [
        "!pip install datasets pandas openai pymongo pypdf langchain_community"
      ]
    },
    {
      "cell_type": "code",
      "source": [
        "from langchain_community.document_loaders import PyPDFLoader\n",
        "\n",
        "# The url for the user manual pdf.\n",
        "url = \"https://raw.githubusercontent.com/MatthewHsu1/RAGsystemOpenAI/main/F80_F83_F85_OM_810.pdf\"\n",
        "\n",
        "# Initialize PyPDFLoader with downloaded user manual pdf\n",
        "loader = PyPDFLoader(url)\n",
        "pages = loader.load_and_split()"
      ],
      "metadata": {
        "id": "ZyTiUw-FVPuI"
      },
      "execution_count": 252,
      "outputs": []
    },
    {
      "cell_type": "code",
      "source": [
        "# First create a dictionary of headers to parse the pdf by headers.\n",
        "\n",
        "headers = [\n",
        "    \"TABLE OF CONTENTS\",\n",
        "    \"PRODUCT REGISTRATION\",\n",
        "    \"IMPORTANT SAFETY INSTRUCTIONS\",\n",
        "    \"IMPORTANT ELECTRICAL INSTRUCTIONS\",\n",
        "    \"GROUNDING INSTRUCTIONS\",\n",
        "    \"IMPORTANT OPERATION INSTRUCTIONS\",\n",
        "    \"IMPORTANT SAFETY INSTRUCTIONS\",\n",
        "    \"IMPORTANT SAFETY INSTRUCTIONS\",\n",
        "    \"PREVENTATIVE MAINTENANCE CHART\",\n",
        "    \"F80 / F83 / F83 ASSEMBLY PACK CHECKLIST\",\n",
        "    \"F80 / F83 / F83 ASSEMBLY INSTRUCTIONS\",\n",
        "    \"FOLDING INSTRUCTIONS\",\n",
        "    \"TRANSPORTATION INSTRUCTIONS\",\n",
        "    \"OPERATION OF YOUR TREADMILL\",\n",
        "    \"GETTING STARTED\",\n",
        "    \"QUICK-START OPERATION\",\n",
        "    \"PAUSE/STOP/RESET FEATURE\",\n",
        "    \"INCLINE FEATURE\",\n",
        "    \"DOT MATRIX CENTER DISPLAY\",\n",
        "    \"PROGRAMMABLE FEATURES\",\n",
        "    \"HEART RATE PROGRAMS\",\n",
        "    \"USING HEART RATE TRANSMITTER\",\n",
        "    \"GENERAL MAINTENANCE\",\n",
        "    \"BELT ADJUSTMENTS\",\n",
        "    \"TREAD-BELT TRACKING ADJUSTMENT\",\n",
        "    \"BELT/DECK LUBRICATION\",\n",
        "    \"SERVICE CHECKLIST - DIAGNOSIS GUIDE\",\n",
        "    \"MANUFACTURER’S LIMITED WARRANTY\"\n",
        "]"
      ],
      "metadata": {
        "id": "-_QzaT2cA_wL"
      },
      "execution_count": 261,
      "outputs": []
    },
    {
      "cell_type": "code",
      "source": [
        "import re\n",
        "\n",
        "def strip_top(page):\n",
        "  \"\"\"\n",
        "    Every document inside the variable of pages has this string in the beginning, 'F80 /  F83 / F85 TREADMILL'.\n",
        "    Therefore, the real content of the pdf begins after that string.\n",
        "  \"\"\"\n",
        "  pattern = r\"F80 /  F83 / F85 TREADMILL(.*)\"\n",
        "  for page in pages:\n",
        "    match = re.search(pattern, page.page_content, re.DOTALL)\n",
        "\n",
        "    clean_text = \"\"\n",
        "    if match:\n",
        "        clean_text = match.group(1).strip()\n",
        "        clean_text = clean_text.replace(\"\\n\", \" \")\n",
        "        clean_text = clean_text.replace(\"\\x84\", \"\")\n",
        "        clean_text = re.sub(r'\\s+', ' ', clean_text)\n",
        "        page.page_content = clean_text\n",
        "    else:\n",
        "      clean_text = page.page_content.replace(\"\\n\", \" \")\n",
        "      clean_text = clean_text.replace(\"\\x84\", \"\")\n",
        "      clean_text = re.sub(r'\\s+', ' ', clean_text)\n",
        "      page.page_content = clean_text"
      ],
      "metadata": {
        "id": "DM79ig5J8Xmk"
      },
      "execution_count": 254,
      "outputs": []
    },
    {
      "cell_type": "code",
      "source": [
        "# The pdf is in plain text\n",
        "strip_top(pages)"
      ],
      "metadata": {
        "id": "37VtSNv0N8g2"
      },
      "execution_count": 255,
      "outputs": []
    },
    {
      "cell_type": "code",
      "source": [
        "import re\n",
        "\n",
        "def split_by_header(headers, pages):\n",
        "\n",
        "  list_of_string = []\n",
        "  for page in pages:\n",
        "\n",
        "    # Create a regular expression that pattern matches all strings in headers.\n",
        "    pattern = '|'.join(map(re.escape, headers))\n",
        "\n",
        "    # Split each page by the pattern created.\n",
        "    split_result = re.split(pattern, page.page_content)\n",
        "\n",
        "    # Get rid of any empty strings\n",
        "    split_result = [s.strip() for s in split_result if s.strip() != '']\n",
        "\n",
        "    list_of_string += split_result\n",
        "\n",
        "  return list_of_string"
      ],
      "metadata": {
        "id": "s5cGjyUztBy4"
      },
      "execution_count": 279,
      "outputs": []
    },
    {
      "cell_type": "code",
      "source": [
        "text = split_by_header(headers, pages)"
      ],
      "metadata": {
        "id": "Pc7_7ebFKsgc"
      },
      "execution_count": 276,
      "outputs": []
    },
    {
      "cell_type": "code",
      "source": [
        "# Check to see if any string in the list has the possibility to exceed the text embedding token limit.\n",
        "\n",
        "for string in text:\n",
        "  word_count = len(string.split())\n",
        "  assert (word_count <= 5500) == True, \"A string may potentially exceed the token limit\""
      ],
      "metadata": {
        "id": "MAAQCb85wFIF"
      },
      "execution_count": 284,
      "outputs": []
    },
    {
      "cell_type": "code",
      "source": [
        "#Convert the list 'text' into a panda dataframe.\n",
        "\n",
        "import pandas as pd\n",
        "\n",
        "dataset_df = pd.DataFrame(text)\n",
        "dataset_df.columns = ['text']"
      ],
      "metadata": {
        "id": "PDa9lxj3pA9Y",
        "colab": {
          "base_uri": "https://localhost:8080/"
        },
        "outputId": "1f968530-b0e3-4635-9d32-6344a80cf85e"
      },
      "execution_count": 289,
      "outputs": [
        {
          "output_type": "execute_result",
          "data": {
            "text/plain": [
              "(43, 1)"
            ]
          },
          "metadata": {},
          "execution_count": 289
        }
      ]
    },
    {
      "cell_type": "code",
      "source": [
        "import openai\n",
        "from google.colab import userdata\n",
        "\n",
        "openai.api_key = userdata.get('open_ai')\n",
        "\n",
        "EMBEDDING_MODEL = 'text-embedding-3-small'\n",
        "\n",
        "# This method will take a text and get an vector embedding from OpenAI\n",
        "def get_embedding(text):\n",
        "  if not text or not isinstance(text, str):\n",
        "    return None\n",
        "\n",
        "  try:\n",
        "    embedding = openai.embeddings.create(input=text, model=EMBEDDING_MODEL).data[0].embedding\n",
        "    return embedding\n",
        "  except Exception as e:\n",
        "    print(f'Error in get_embedding: {e}')\n",
        "    return None\n",
        "\n",
        "dataset_df['embedding'] = dataset_df['text'].apply(get_embedding)\n",
        "\n",
        "dataset_df.head()"
      ],
      "metadata": {
        "id": "YgpcSj1Wq_kg",
        "colab": {
          "base_uri": "https://localhost:8080/",
          "height": 206
        },
        "outputId": "7da5bbb4-2842-4feb-e86f-52b24dbead46"
      },
      "execution_count": 290,
      "outputs": [
        {
          "output_type": "execute_result",
          "data": {
            "text/plain": [
              "                                                text  \\\n",
              "0  PLEASE CAREFULLY READ THIS ENTIRE MANUAL BEFOR...   \n",
              "1  Product Registration Important Safety Instruct...   \n",
              "2  RECORD YOUR SERIAL NUMBER Please record the Se...   \n",
              "3                               F80_F83_F85_20111222   \n",
              "4  WARNING - Read all instructions before using t...   \n",
              "\n",
              "                                           embedding  \n",
              "0  [0.03159578889608383, 0.04981619864702225, -0....  \n",
              "1  [0.005775596015155315, 0.012183739803731441, 0...  \n",
              "2  [5.853141919942573e-05, -0.008088338188827038,...  \n",
              "3  [0.0039483290165662766, 0.007950534112751484, ...  \n",
              "4  [-0.020630232989788055, 0.036889005452394485, ...  "
            ],
            "text/html": [
              "\n",
              "  <div id=\"df-ee3423c9-2a5a-41f3-8aef-958c7dcd806d\" class=\"colab-df-container\">\n",
              "    <div>\n",
              "<style scoped>\n",
              "    .dataframe tbody tr th:only-of-type {\n",
              "        vertical-align: middle;\n",
              "    }\n",
              "\n",
              "    .dataframe tbody tr th {\n",
              "        vertical-align: top;\n",
              "    }\n",
              "\n",
              "    .dataframe thead th {\n",
              "        text-align: right;\n",
              "    }\n",
              "</style>\n",
              "<table border=\"1\" class=\"dataframe\">\n",
              "  <thead>\n",
              "    <tr style=\"text-align: right;\">\n",
              "      <th></th>\n",
              "      <th>text</th>\n",
              "      <th>embedding</th>\n",
              "    </tr>\n",
              "  </thead>\n",
              "  <tbody>\n",
              "    <tr>\n",
              "      <th>0</th>\n",
              "      <td>PLEASE CAREFULLY READ THIS ENTIRE MANUAL BEFOR...</td>\n",
              "      <td>[0.03159578889608383, 0.04981619864702225, -0....</td>\n",
              "    </tr>\n",
              "    <tr>\n",
              "      <th>1</th>\n",
              "      <td>Product Registration Important Safety Instruct...</td>\n",
              "      <td>[0.005775596015155315, 0.012183739803731441, 0...</td>\n",
              "    </tr>\n",
              "    <tr>\n",
              "      <th>2</th>\n",
              "      <td>RECORD YOUR SERIAL NUMBER Please record the Se...</td>\n",
              "      <td>[5.853141919942573e-05, -0.008088338188827038,...</td>\n",
              "    </tr>\n",
              "    <tr>\n",
              "      <th>3</th>\n",
              "      <td>F80_F83_F85_20111222</td>\n",
              "      <td>[0.0039483290165662766, 0.007950534112751484, ...</td>\n",
              "    </tr>\n",
              "    <tr>\n",
              "      <th>4</th>\n",
              "      <td>WARNING - Read all instructions before using t...</td>\n",
              "      <td>[-0.020630232989788055, 0.036889005452394485, ...</td>\n",
              "    </tr>\n",
              "  </tbody>\n",
              "</table>\n",
              "</div>\n",
              "    <div class=\"colab-df-buttons\">\n",
              "\n",
              "  <div class=\"colab-df-container\">\n",
              "    <button class=\"colab-df-convert\" onclick=\"convertToInteractive('df-ee3423c9-2a5a-41f3-8aef-958c7dcd806d')\"\n",
              "            title=\"Convert this dataframe to an interactive table.\"\n",
              "            style=\"display:none;\">\n",
              "\n",
              "  <svg xmlns=\"http://www.w3.org/2000/svg\" height=\"24px\" viewBox=\"0 -960 960 960\">\n",
              "    <path d=\"M120-120v-720h720v720H120Zm60-500h600v-160H180v160Zm220 220h160v-160H400v160Zm0 220h160v-160H400v160ZM180-400h160v-160H180v160Zm440 0h160v-160H620v160ZM180-180h160v-160H180v160Zm440 0h160v-160H620v160Z\"/>\n",
              "  </svg>\n",
              "    </button>\n",
              "\n",
              "  <style>\n",
              "    .colab-df-container {\n",
              "      display:flex;\n",
              "      gap: 12px;\n",
              "    }\n",
              "\n",
              "    .colab-df-convert {\n",
              "      background-color: #E8F0FE;\n",
              "      border: none;\n",
              "      border-radius: 50%;\n",
              "      cursor: pointer;\n",
              "      display: none;\n",
              "      fill: #1967D2;\n",
              "      height: 32px;\n",
              "      padding: 0 0 0 0;\n",
              "      width: 32px;\n",
              "    }\n",
              "\n",
              "    .colab-df-convert:hover {\n",
              "      background-color: #E2EBFA;\n",
              "      box-shadow: 0px 1px 2px rgba(60, 64, 67, 0.3), 0px 1px 3px 1px rgba(60, 64, 67, 0.15);\n",
              "      fill: #174EA6;\n",
              "    }\n",
              "\n",
              "    .colab-df-buttons div {\n",
              "      margin-bottom: 4px;\n",
              "    }\n",
              "\n",
              "    [theme=dark] .colab-df-convert {\n",
              "      background-color: #3B4455;\n",
              "      fill: #D2E3FC;\n",
              "    }\n",
              "\n",
              "    [theme=dark] .colab-df-convert:hover {\n",
              "      background-color: #434B5C;\n",
              "      box-shadow: 0px 1px 3px 1px rgba(0, 0, 0, 0.15);\n",
              "      filter: drop-shadow(0px 1px 2px rgba(0, 0, 0, 0.3));\n",
              "      fill: #FFFFFF;\n",
              "    }\n",
              "  </style>\n",
              "\n",
              "    <script>\n",
              "      const buttonEl =\n",
              "        document.querySelector('#df-ee3423c9-2a5a-41f3-8aef-958c7dcd806d button.colab-df-convert');\n",
              "      buttonEl.style.display =\n",
              "        google.colab.kernel.accessAllowed ? 'block' : 'none';\n",
              "\n",
              "      async function convertToInteractive(key) {\n",
              "        const element = document.querySelector('#df-ee3423c9-2a5a-41f3-8aef-958c7dcd806d');\n",
              "        const dataTable =\n",
              "          await google.colab.kernel.invokeFunction('convertToInteractive',\n",
              "                                                    [key], {});\n",
              "        if (!dataTable) return;\n",
              "\n",
              "        const docLinkHtml = 'Like what you see? Visit the ' +\n",
              "          '<a target=\"_blank\" href=https://colab.research.google.com/notebooks/data_table.ipynb>data table notebook</a>'\n",
              "          + ' to learn more about interactive tables.';\n",
              "        element.innerHTML = '';\n",
              "        dataTable['output_type'] = 'display_data';\n",
              "        await google.colab.output.renderOutput(dataTable, element);\n",
              "        const docLink = document.createElement('div');\n",
              "        docLink.innerHTML = docLinkHtml;\n",
              "        element.appendChild(docLink);\n",
              "      }\n",
              "    </script>\n",
              "  </div>\n",
              "\n",
              "\n",
              "<div id=\"df-8ced40dc-588a-4a1f-a37c-0559eb27bc0a\">\n",
              "  <button class=\"colab-df-quickchart\" onclick=\"quickchart('df-8ced40dc-588a-4a1f-a37c-0559eb27bc0a')\"\n",
              "            title=\"Suggest charts\"\n",
              "            style=\"display:none;\">\n",
              "\n",
              "<svg xmlns=\"http://www.w3.org/2000/svg\" height=\"24px\"viewBox=\"0 0 24 24\"\n",
              "     width=\"24px\">\n",
              "    <g>\n",
              "        <path d=\"M19 3H5c-1.1 0-2 .9-2 2v14c0 1.1.9 2 2 2h14c1.1 0 2-.9 2-2V5c0-1.1-.9-2-2-2zM9 17H7v-7h2v7zm4 0h-2V7h2v10zm4 0h-2v-4h2v4z\"/>\n",
              "    </g>\n",
              "</svg>\n",
              "  </button>\n",
              "\n",
              "<style>\n",
              "  .colab-df-quickchart {\n",
              "      --bg-color: #E8F0FE;\n",
              "      --fill-color: #1967D2;\n",
              "      --hover-bg-color: #E2EBFA;\n",
              "      --hover-fill-color: #174EA6;\n",
              "      --disabled-fill-color: #AAA;\n",
              "      --disabled-bg-color: #DDD;\n",
              "  }\n",
              "\n",
              "  [theme=dark] .colab-df-quickchart {\n",
              "      --bg-color: #3B4455;\n",
              "      --fill-color: #D2E3FC;\n",
              "      --hover-bg-color: #434B5C;\n",
              "      --hover-fill-color: #FFFFFF;\n",
              "      --disabled-bg-color: #3B4455;\n",
              "      --disabled-fill-color: #666;\n",
              "  }\n",
              "\n",
              "  .colab-df-quickchart {\n",
              "    background-color: var(--bg-color);\n",
              "    border: none;\n",
              "    border-radius: 50%;\n",
              "    cursor: pointer;\n",
              "    display: none;\n",
              "    fill: var(--fill-color);\n",
              "    height: 32px;\n",
              "    padding: 0;\n",
              "    width: 32px;\n",
              "  }\n",
              "\n",
              "  .colab-df-quickchart:hover {\n",
              "    background-color: var(--hover-bg-color);\n",
              "    box-shadow: 0 1px 2px rgba(60, 64, 67, 0.3), 0 1px 3px 1px rgba(60, 64, 67, 0.15);\n",
              "    fill: var(--button-hover-fill-color);\n",
              "  }\n",
              "\n",
              "  .colab-df-quickchart-complete:disabled,\n",
              "  .colab-df-quickchart-complete:disabled:hover {\n",
              "    background-color: var(--disabled-bg-color);\n",
              "    fill: var(--disabled-fill-color);\n",
              "    box-shadow: none;\n",
              "  }\n",
              "\n",
              "  .colab-df-spinner {\n",
              "    border: 2px solid var(--fill-color);\n",
              "    border-color: transparent;\n",
              "    border-bottom-color: var(--fill-color);\n",
              "    animation:\n",
              "      spin 1s steps(1) infinite;\n",
              "  }\n",
              "\n",
              "  @keyframes spin {\n",
              "    0% {\n",
              "      border-color: transparent;\n",
              "      border-bottom-color: var(--fill-color);\n",
              "      border-left-color: var(--fill-color);\n",
              "    }\n",
              "    20% {\n",
              "      border-color: transparent;\n",
              "      border-left-color: var(--fill-color);\n",
              "      border-top-color: var(--fill-color);\n",
              "    }\n",
              "    30% {\n",
              "      border-color: transparent;\n",
              "      border-left-color: var(--fill-color);\n",
              "      border-top-color: var(--fill-color);\n",
              "      border-right-color: var(--fill-color);\n",
              "    }\n",
              "    40% {\n",
              "      border-color: transparent;\n",
              "      border-right-color: var(--fill-color);\n",
              "      border-top-color: var(--fill-color);\n",
              "    }\n",
              "    60% {\n",
              "      border-color: transparent;\n",
              "      border-right-color: var(--fill-color);\n",
              "    }\n",
              "    80% {\n",
              "      border-color: transparent;\n",
              "      border-right-color: var(--fill-color);\n",
              "      border-bottom-color: var(--fill-color);\n",
              "    }\n",
              "    90% {\n",
              "      border-color: transparent;\n",
              "      border-bottom-color: var(--fill-color);\n",
              "    }\n",
              "  }\n",
              "</style>\n",
              "\n",
              "  <script>\n",
              "    async function quickchart(key) {\n",
              "      const quickchartButtonEl =\n",
              "        document.querySelector('#' + key + ' button');\n",
              "      quickchartButtonEl.disabled = true;  // To prevent multiple clicks.\n",
              "      quickchartButtonEl.classList.add('colab-df-spinner');\n",
              "      try {\n",
              "        const charts = await google.colab.kernel.invokeFunction(\n",
              "            'suggestCharts', [key], {});\n",
              "      } catch (error) {\n",
              "        console.error('Error during call to suggestCharts:', error);\n",
              "      }\n",
              "      quickchartButtonEl.classList.remove('colab-df-spinner');\n",
              "      quickchartButtonEl.classList.add('colab-df-quickchart-complete');\n",
              "    }\n",
              "    (() => {\n",
              "      let quickchartButtonEl =\n",
              "        document.querySelector('#df-8ced40dc-588a-4a1f-a37c-0559eb27bc0a button');\n",
              "      quickchartButtonEl.style.display =\n",
              "        google.colab.kernel.accessAllowed ? 'block' : 'none';\n",
              "    })();\n",
              "  </script>\n",
              "</div>\n",
              "\n",
              "    </div>\n",
              "  </div>\n"
            ],
            "application/vnd.google.colaboratory.intrinsic+json": {
              "type": "dataframe",
              "variable_name": "dataset_df",
              "summary": "{\n  \"name\": \"dataset_df\",\n  \"rows\": 43,\n  \"fields\": [\n    {\n      \"column\": \"text\",\n      \"properties\": {\n        \"dtype\": \"string\",\n        \"num_unique_values\": 43,\n        \"samples\": [\n          \"The treadmill is designed so that the tread-belt remains reasonably centered while in use. It is normal for some belts to drift near one side while in use, depending on a user\\u2019s gait and if they favor one leg. But if during use the belt continues to move toward one side, adjustments are necessary. SETTING TREAD-BEL T TRACKING A 6 mm Allen wrench (132)is provided for this adjustment. Make tracking adjustments on the left side bolt. Set belt speed at 3 mph. Be aware that a small adjustment can make a dramatic difference which may not be apparent right away. If the belt is too close to the left side, then turn the bolt only a 1/4 turn to the right (clockwise) and wait a few minutes for the belt to adjust itself. Continue to make 1/4 turns until the belt stabilizes in the center of the running deck.If the belt is too close to the right side, turn the bolt counter-clockwise. The belt may require periodic tracking adjustment depending on use and walking/running characteristics. Some users may affect tracking differently. Expect to make adjustments as required to center the tread-belt. Adjustments will become less of a maintenance concern as the belt is used. Proper belt tracking is an owner responsibility common with all treadmills. ATTENTION: DAMAGE TO THE RUNNING BEL T RESUL TING FROM IMPROPER TRACKING / TENSION ADJUSTMENTS IS NOT COVERED UNDER THE SOLE WARRANTY .\",\n          \"1. When the treadmill is running the pause feature may be utilized by pressing the red Stop key once. This will slowly decelerate the tread-belt to a stop. The incline will go to zero percent. The Time, Distance and Calorie readings will hold while the unit is in the pause mode. After 5 minutes the display will reset and return to the start up screen. 2. To resume your exercise, when in Pause mode, press the Start key. The speed and incline will return to their previous settings. \\u0083Pause is executed when the Stop button is pressed once. If the Stop button is pressed a second time, the program will end and a workout summary will be displayed. If the Stop button is pressed a third time, the console will return to the idle mode (start up) screen. If the Stop button is held down for more than 3 seconds the console will reset.\",\n          \"Incline may be adjusted anytime after belt movement. Press and hold the Up5/6Down keys (console or handgrip) to achieve desired level of ef- fort. You may also choose a more rapid increase / decrease by selecting desired key, 1, 3, 6, 9, 12, 15, on left hand side of console (incline). The message window display will indicate incline position as adjustments are made.\"\n        ],\n        \"semantic_type\": \"\",\n        \"description\": \"\"\n      }\n    },\n    {\n      \"column\": \"embedding\",\n      \"properties\": {\n        \"dtype\": \"object\",\n        \"semantic_type\": \"\",\n        \"description\": \"\"\n      }\n    }\n  ]\n}"
            }
          },
          "metadata": {},
          "execution_count": 290
        }
      ]
    },
    {
      "cell_type": "code",
      "source": [
        "import pymongo\n",
        "from google.colab import userdata\n",
        "\n",
        "# This method will connect to mongoDB and get a client instance.\n",
        "def get_mongo_client(mongo_uri):\n",
        "  try:\n",
        "    client = pymongo.MongoClient(mongo_uri)\n",
        "    print('Connection to MongoDB successful')\n",
        "    return client\n",
        "  except pymongo.errors.ConnectionFailure as e:\n",
        "    print(f'Connection failed: {e}')\n",
        "    return None\n",
        "\n",
        "mongo_uri = userdata.get('mongo_url')\n",
        "if not mongo_uri:\n",
        "  print('Mongo_uri not set in envirnment variables')\n",
        "\n",
        "mongo_client = get_mongo_client(mongo_uri)\n",
        "\n",
        "db = mongo_client['Treadmill']\n",
        "collection = db['F80_F83_F85']\n",
        "\n",
        "documents = dataset_df.to_dict('records')\n",
        "collection.insert_many(documents)\n",
        "\n",
        "print('Data ingestion into MongoDB completed')"
      ],
      "metadata": {
        "colab": {
          "base_uri": "https://localhost:8080/"
        },
        "id": "4nCB7zFRuKps",
        "outputId": "aa9d7935-1271-466a-e341-0db8b4f8d552"
      },
      "execution_count": 291,
      "outputs": [
        {
          "output_type": "stream",
          "name": "stdout",
          "text": [
            "Connection to MongoDB successful\n",
            "Data ingestion into MongoDB completed\n"
          ]
        }
      ]
    },
    {
      "cell_type": "code",
      "source": [
        "def vector_search(user_query, collection):\n",
        "  query_embedding = get_embedding(user_query)\n",
        "\n",
        "  if query_embedding is None:\n",
        "    return \"Invalid query or embedding generation failed.\"\n",
        "\n",
        "  pipeline = [\n",
        "      {\n",
        "          \"$vectorSearch\": {\n",
        "              \"index\": \"vector_index\",\n",
        "              \"queryVector\": query_embedding,\n",
        "              \"path\": \"embedding\",\n",
        "              \"numCandidates\": 10,\n",
        "              \"limit\": 5\n",
        "          }\n",
        "      },\n",
        "      {\n",
        "          \"$project\": {\n",
        "              \"text\":1,\n",
        "              \"score\": {\n",
        "                  \"$meta\": \"vectorSearchScore\"\n",
        "              }\n",
        "          }\n",
        "      }\n",
        "  ]\n",
        "\n",
        "  results = collection.aggregate(pipeline)\n",
        "  return list(results)"
      ],
      "metadata": {
        "id": "mgsIk1xP1w7l"
      },
      "execution_count": 295,
      "outputs": []
    },
    {
      "cell_type": "code",
      "source": [
        "def handle_user_query(query, collection):\n",
        "  get_knowledge = vector_search(query, collection)\n",
        "\n",
        "  search_result = ''\n",
        "  for result in get_knowledge:\n",
        "    search_result += f\"Instruction: {result.get('text', 'N/A')} \\n\"\n",
        "\n",
        "  completion = openai.chat.completions.create(\n",
        "      model='gpt-3.5-turbo',\n",
        "      messages=[\n",
        "          {'role': \"system\", 'content': 'You are a treadmill technician gives helpful information by forming a cohisive answer with the context given. You are not allowed to pick anything outside of your choices. And do not mention anyhting along the lines \"based on the context provided\"'},\n",
        "          {'role': 'user', 'content': 'Answer this user query: ' + query + ' using the following context: ' + search_result}\n",
        "      ]\n",
        "  )\n",
        "\n",
        "  return (completion.choices[0].message.content), search_result"
      ],
      "metadata": {
        "id": "sHgrtQP4KYsr"
      },
      "execution_count": 293,
      "outputs": []
    },
    {
      "cell_type": "code",
      "source": [
        "query = \"How do I start my F80 treadmill?\"\n",
        "response, source_information = handle_user_query(query, collection)\n",
        "\n",
        "print(f\"Response: {response}\")\n",
        "print(f\"Source Information: \\n{source_information}\")"
      ],
      "metadata": {
        "colab": {
          "base_uri": "https://localhost:8080/"
        },
        "id": "f7S1AEj8NQDj",
        "outputId": "df1dbbe4-f891-47a5-a67e-d09f1113cbea"
      },
      "execution_count": 296,
      "outputs": [
        {
          "output_type": "stream",
          "name": "stdout",
          "text": [
            "Response: To start your F80 treadmill, begin by plugging it into a suitable wall outlet. Next, locate the power switch positioned below the motor hood at the front of the treadmill and turn it on. Ensure that the Safety Key is inserted as the treadmill will not activate without it. Once powered on, a message displaying the current software version will scroll across the dot matrix screen. Following this, the Time and Distance windows will show Odometer readings briefly - Time indicating hours of use and Distance showing miles (or kilometers if set to metric readings). The treadmill will then enter idle mode, which is the starting point for operation. Remember to always read and understand any operational changes before use and never operate the treadmill during an electrical storm to avoid potential damage.\n",
            "Source Information: \n",
            "Instruction: F80 / F83 / F85 CONSOLES Power the treadmill on by plugging it into an appropriate wall outlet, then turn on the power switch located at the front of the treadmill below the motor hood. Ensure that the Safety Key is installed, as the treadmill will not power on without it (see assembly step 7 for reference). When the power is turned on, a message will scroll across the dot matrix showing the current software version. Then the Time and Distance windows will display Odometer readings for a short time, Time window will show how many hours the treadmill has been in use and the Distance window will show how many miles (or Kilometers if the treadmill is set to metric readings) the treadmill has gone. The treadmill will then enter idle mode, which is the starting point for operation. \n",
            "Instruction: PLEASE CAREFULLY READ THIS ENTIRE MANUAL BEFORE OPERATING YOUR NEW TREADMILLF80 / F83 / F85 TREADMILL OWNER’S MANUAL \n",
            "Instruction: Product Registration Important Safety InstructionsImportant Electrical InformationImportant Operation InstructionsAssembly instructionsFolding InstructionsTransport InstructionsOperation of Your New TreadmillProgrammable FeaturesGeneral MaintenanceService Checklist - Diagnosis GuideManufacturer’s Limited Warranty12348 12121318252830 \n",
            "Instruction: NEVER operate this treadmill without reading and completely understanding the results of any operational change you request from the computer. Understand that changes in speed and incline do not occur immediately. Set your desired speed on the computer console and release the adjustment key. The computer will obey the command gradually. NEVER use your treadmill during an electrical storm. Surges may occur in your household power supply that could damage treadmill components. Unplug the treadmill during an electrical storm as a precaution. Use caution while participating in other activities while walking on your treadmill; such as watching television, reading, etc. These distractions may cause you to lose balance or stray from walking in the center of the belt; which may result in serious injury. NEVER mount or dismount the treadmill while the belt is moving. SOLE treadmills start at a very low speed and it is unnecessary to straddle the belt during start up. Simply standing on the belt during slow acceleration is proper after you have learned to operate the unit. Always hold on to a handrail or hand bar while making control changes (incline, speed, etc.). Do not use excessive pressure on console control keys. They are precision set to function properly with little finger pressure. Pushing harder is not going to make the unit go faster or slower. If you feel the buttons are not functioning properly with normal pressure contact your SOLE dealer. \n",
            "Instruction: 1. Remove the treadmill from the carton and position it aside on a smooth, level floor. The rear should be at least 3’ from any wall. Do not remove the Velcro belt until you have removed the plastic wrap and Styrofoam from beneath the unit. Turning the unit on its side after removing the belt may cause the unit fold up and cause serious injury!ASSEMBLY STEP 11See Page 10 for Illustration 1. Install the six Speed Nut Clips (128) on the Frame Base left and right side. 2. Slide the Frame Base Caps (61 & 62) over the Upright tubes (4 & 5). Connect the Lower Computer Cable (49) to the Middle Computer Cable (50) on the right side of the unit.ASSEMBLY STEP 22HARDWARE STEP 2 #128. Speed Nuts Clip (2 pcs) \n",
            "\n"
          ]
        }
      ]
    }
  ]
}