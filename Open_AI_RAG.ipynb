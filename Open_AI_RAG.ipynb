{
  "nbformat": 4,
  "nbformat_minor": 0,
  "metadata": {
    "colab": {
      "provenance": [],
      "authorship_tag": "ABX9TyMywFWvcorrXo3k96AP9Nba",
      "include_colab_link": true
    },
    "kernelspec": {
      "name": "python3",
      "display_name": "Python 3"
    },
    "language_info": {
      "name": "python"
    }
  },
  "cells": [
    {
      "cell_type": "markdown",
      "metadata": {
        "id": "view-in-github",
        "colab_type": "text"
      },
      "source": [
        "<a href=\"https://colab.research.google.com/github/MatthewHsu1/RAGsystemOpenAI/blob/main/Open_AI_RAG.ipynb\" target=\"_parent\"><img src=\"https://colab.research.google.com/assets/colab-badge.svg\" alt=\"Open In Colab\"/></a>"
      ]
    },
    {
      "cell_type": "code",
      "execution_count": null,
      "metadata": {
        "id": "Uc2wcx3UowiS"
      },
      "outputs": [],
      "source": [
        "!pip install datasets pandas openai pymongo"
      ]
    },
    {
      "cell_type": "code",
      "source": [
        "from datasets import load_dataset\n",
        "import pandas as pd\n",
        "\n",
        "dataset = load_dataset(\"AIatMongoDB/embedded_movies\")\n",
        "\n",
        "dataset_df = pd.DataFrame(dataset['train'])\n",
        "\n",
        "dataset_df.head(5)"
      ],
      "metadata": {
        "id": "PDa9lxj3pA9Y"
      },
      "execution_count": null,
      "outputs": []
    },
    {
      "cell_type": "code",
      "source": [
        "dataset_df = dataset_df.dropna(subset=['plot'])\n",
        "\n",
        "dataset_df = dataset_df.drop(columns=['plot_embedding'])\n",
        "dataset_df.head(5)"
      ],
      "metadata": {
        "id": "-HNS7FEtp0a2"
      },
      "execution_count": null,
      "outputs": []
    },
    {
      "cell_type": "code",
      "source": [
        "import openai\n",
        "from google.colab import userdata\n",
        "\n",
        "openai.api_key = userdata.get('open_ai')\n",
        "\n",
        "EMBEDDING_MODEL = 'text-embedding-3-small'\n",
        "\n",
        "def get_embedding(text):\n",
        "  if not text or not isinstance(text, str):\n",
        "    return None\n",
        "\n",
        "  try:\n",
        "    embedding = openai.embeddings.create(input=text, model=EMBEDDING_MODEL).data[0].embedding\n",
        "    return embedding\n",
        "  except Exception as e:\n",
        "    print(f'Error in get_embedding: {e}')\n",
        "    return None\n",
        "\n",
        "dataset_df['plot_embedding_optimised'] = dataset_df['plot'].apply(get_embedding)\n",
        "\n",
        "dataset_df.head()"
      ],
      "metadata": {
        "id": "YgpcSj1Wq_kg"
      },
      "execution_count": null,
      "outputs": []
    },
    {
      "cell_type": "code",
      "source": [
        "import pymongo\n",
        "from google.colab import userdata\n",
        "\n",
        "def get_mongo_client(mongo_uri):\n",
        "  try:\n",
        "    client = pymongo.MongoClient(mongo_uri)\n",
        "    print('Connection to MongoDB successful')\n",
        "    return client\n",
        "  except pymongo.errors.ConnectionFailure as e:\n",
        "    print(f'Connection failed: {e}')\n",
        "    return None\n",
        "\n",
        "mongo_uri = userdata.get('mongo_url')\n",
        "if not mongo_uri:\n",
        "  print('Mongo_uri not set in envirnment variables')\n",
        "\n",
        "mongo_client = get_mongo_client(mongo_uri)\n",
        "\n",
        "db = mongo_client['movies']\n",
        "collection = db['movie_collection']\n",
        "\n",
        "documents = dataset_df.to_dict('records')\n",
        "collection.insert_many(documents)\n",
        "\n",
        "print('Data ingestion into MongoDB completed')"
      ],
      "metadata": {
        "colab": {
          "base_uri": "https://localhost:8080/"
        },
        "id": "4nCB7zFRuKps",
        "outputId": "915021cf-6623-43a9-c73f-58e6977ffb4f"
      },
      "execution_count": 7,
      "outputs": [
        {
          "output_type": "stream",
          "name": "stdout",
          "text": [
            "Connection to MongoDB successful\n",
            "Data ingestion into MongoDB completed\n"
          ]
        }
      ]
    },
    {
      "cell_type": "code",
      "source": [
        "def vector_search(user_query, collection):\n",
        "  query_embedding = get_embedding(user_query)\n",
        "\n",
        "  if query_embedding is None:\n",
        "    return \"Invalid query or embedding generation failed.\"\n",
        "\n",
        "  pipeline = [\n",
        "      {\n",
        "          \"$vectorSearch\": {\n",
        "              \"index\": \"vector_index\",\n",
        "              \"queryVector\": query_embedding,\n",
        "              \"path\": \"plot_embedding_optimised\",\n",
        "              \"numCandidates\": 150,\n",
        "              \"limit\": 5\n",
        "          }\n",
        "      },\n",
        "      {\n",
        "          \"$project\": {\n",
        "              \"plot\": 1,\n",
        "              \"title\": 1,\n",
        "              \"genres\": 1,\n",
        "              \"score\": {\n",
        "                  \"$meta\": \"vectorSearchScore\"\n",
        "              }\n",
        "          }\n",
        "      }\n",
        "  ]\n",
        "\n",
        "  results = collection.aggregate(pipeline)\n",
        "  return list(results)"
      ],
      "metadata": {
        "id": "mgsIk1xP1w7l"
      },
      "execution_count": 12,
      "outputs": []
    },
    {
      "cell_type": "code",
      "source": [
        "def handle_user_query(query, collection):\n",
        "  get_knowledge = vector_search(query, collection)\n",
        "\n",
        "  search_result = ''\n",
        "  for result in get_knowledge:\n",
        "    search_result += f\"Title: {result.get('title', 'N/A')}, Plot: {result.get('plot', 'N/A')} \\n\"\n",
        "\n",
        "  completion = openai.chat.completions.create(\n",
        "      model='gpt-3.5-turbo',\n",
        "      messages=[\n",
        "          {'role': \"system\", 'content': 'You are a movie recommendation system that picks the best fit movie out the choices you are given. You are not allowed to pick anything outside of your choices. And do not mention anyhting along the lines \"based on the context provided\"'},\n",
        "          {'role': 'user', 'content': 'Answer this user query: ' + query + ' using the following context: ' + search_result}\n",
        "      ]\n",
        "  )\n",
        "\n",
        "  return (completion.choices[0].message.content), search_result"
      ],
      "metadata": {
        "id": "sHgrtQP4KYsr"
      },
      "execution_count": 37,
      "outputs": []
    },
    {
      "cell_type": "code",
      "source": [
        "query = \"What is a good movie related to bees?\"\n",
        "response, source_information = handle_user_query(query, collection)\n",
        "\n",
        "print(f\"Response: {response}\")\n",
        "print(f\"Source Information: \\n{source_information}\")"
      ],
      "metadata": {
        "colab": {
          "base_uri": "https://localhost:8080/"
        },
        "id": "f7S1AEj8NQDj",
        "outputId": "afce72e7-7907-4ea9-bdd4-3985431c8227"
      },
      "execution_count": 38,
      "outputs": [
        {
          "output_type": "stream",
          "name": "stdout",
          "text": [
            "Response: Starship Troopers 2: Hero of the Federation\n",
            "Source Information: \n",
            "Title: Killer Bean 2: The Party, Plot: 3D Animated coffee beans get into a gun fight over a loud party next door. Bean1 cant sleep and so crashes the party and starts shooting all the Beans. Bean2 avoids being shot and sneaks ... \n",
            "Title: Paragraph 78, Plot: This is a wonderful movie about a group of men frontier the Nashville area who like to make puppets out of real animals \n",
            "Title: Starship Troopers 2: Hero of the Federation, Plot: In the sequel to Paul Verhoeven's loved/reviled sci-fi film, a group of troopers taking refuge in an abandoned outpost after fighting alien bugs, failing to realize that more danger lays in wait. \n",
            "Title: Tremors II: Aftershocks, Plot: When an army of Graboids - giant, carnivorous underground worms - threaten the Petromaya oil refinery in Mexico, its owners call on Earl Bassett, who once helped kill four of the creatures ... \n",
            "Title: The Animatrix, Plot: The Animatrix is a collection of several animated short films, detailing the backstory of the \"Matrix\" universe, and the original war between man and machines which led to the creation of the Matrix. \n",
            "\n"
          ]
        }
      ]
    }
  ]
}