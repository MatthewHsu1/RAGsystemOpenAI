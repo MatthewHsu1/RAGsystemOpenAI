{
  "nbformat": 4,
  "nbformat_minor": 0,
  "metadata": {
    "colab": {
      "provenance": [],
      "collapsed_sections": [
        "qK0TWYs1Piu-",
        "oyH8vn80PTnF",
        "vStkeT3qPYzW"
      ],
      "authorship_tag": "ABX9TyNwBx/NaTg/0ivvvJATviae"
    },
    "kernelspec": {
      "name": "python3",
      "display_name": "Python 3"
    },
    "language_info": {
      "name": "python"
    }
  },
  "cells": [
    {
      "cell_type": "code",
      "execution_count": 1,
      "metadata": {
        "id": "Uc2wcx3UowiS",
        "colab": {
          "base_uri": "https://localhost:8080/"
        },
        "outputId": "e4a9dfa8-100d-41f0-e6a9-2eccf4b3b1e4"
      },
      "outputs": [
        {
          "output_type": "stream",
          "name": "stdout",
          "text": [
            "\u001b[2K     \u001b[90m━━━━━━━━━━━━━━━━━━━━━━━━━━━━━━━━━━━━━━━━\u001b[0m \u001b[32m13.0/13.0 MB\u001b[0m \u001b[31m17.7 MB/s\u001b[0m eta \u001b[36m0:00:00\u001b[0m\n",
            "\u001b[2K     \u001b[90m━━━━━━━━━━━━━━━━━━━━━━━━━━━━━━━━━━━━━━━━\u001b[0m \u001b[32m327.4/327.4 kB\u001b[0m \u001b[31m8.4 MB/s\u001b[0m eta \u001b[36m0:00:00\u001b[0m\n",
            "\u001b[2K     \u001b[90m━━━━━━━━━━━━━━━━━━━━━━━━━━━━━━━━━━━━━━━━\u001b[0m \u001b[32m669.1/669.1 kB\u001b[0m \u001b[31m26.8 MB/s\u001b[0m eta \u001b[36m0:00:00\u001b[0m\n",
            "\u001b[2K     \u001b[90m━━━━━━━━━━━━━━━━━━━━━━━━━━━━━━━━━━━━━━━━\u001b[0m \u001b[32m290.4/290.4 kB\u001b[0m \u001b[31m15.6 MB/s\u001b[0m eta \u001b[36m0:00:00\u001b[0m\n",
            "\u001b[2K     \u001b[90m━━━━━━━━━━━━━━━━━━━━━━━━━━━━━━━━━━━━━━━━\u001b[0m \u001b[32m2.2/2.2 MB\u001b[0m \u001b[31m37.1 MB/s\u001b[0m eta \u001b[36m0:00:00\u001b[0m\n",
            "\u001b[2K     \u001b[90m━━━━━━━━━━━━━━━━━━━━━━━━━━━━━━━━━━━━━━━━\u001b[0m \u001b[32m13.3/13.3 MB\u001b[0m \u001b[31m46.6 MB/s\u001b[0m eta \u001b[36m0:00:00\u001b[0m\n",
            "\u001b[2K     \u001b[90m━━━━━━━━━━━━━━━━━━━━━━━━━━━━━━━━━━━━━━━━\u001b[0m \u001b[32m1.1/1.1 MB\u001b[0m \u001b[31m44.1 MB/s\u001b[0m eta \u001b[36m0:00:00\u001b[0m\n",
            "\u001b[2K     \u001b[90m━━━━━━━━━━━━━━━━━━━━━━━━━━━━━━━━━━━━━━━━\u001b[0m \u001b[32m294.9/294.9 kB\u001b[0m \u001b[31m22.1 MB/s\u001b[0m eta \u001b[36m0:00:00\u001b[0m\n",
            "\u001b[2K     \u001b[90m━━━━━━━━━━━━━━━━━━━━━━━━━━━━━━━━━━━━━━━━\u001b[0m \u001b[32m75.6/75.6 kB\u001b[0m \u001b[31m6.3 MB/s\u001b[0m eta \u001b[36m0:00:00\u001b[0m\n",
            "\u001b[2K     \u001b[90m━━━━━━━━━━━━━━━━━━━━━━━━━━━━━━━━━━━━━━━━\u001b[0m \u001b[32m307.7/307.7 kB\u001b[0m \u001b[31m21.0 MB/s\u001b[0m eta \u001b[36m0:00:00\u001b[0m\n",
            "\u001b[2K     \u001b[90m━━━━━━━━━━━━━━━━━━━━━━━━━━━━━━━━━━━━━━━━\u001b[0m \u001b[32m974.6/974.6 kB\u001b[0m \u001b[31m36.9 MB/s\u001b[0m eta \u001b[36m0:00:00\u001b[0m\n",
            "\u001b[2K     \u001b[90m━━━━━━━━━━━━━━━━━━━━━━━━━━━━━━━━━━━━━━━━\u001b[0m \u001b[32m321.8/321.8 kB\u001b[0m \u001b[31m21.6 MB/s\u001b[0m eta \u001b[36m0:00:00\u001b[0m\n",
            "\u001b[2K     \u001b[90m━━━━━━━━━━━━━━━━━━━━━━━━━━━━━━━━━━━━━━━━\u001b[0m \u001b[32m127.4/127.4 kB\u001b[0m \u001b[31m2.2 MB/s\u001b[0m eta \u001b[36m0:00:00\u001b[0m\n",
            "\u001b[2K     \u001b[90m━━━━━━━━━━━━━━━━━━━━━━━━━━━━━━━━━━━━━━━━\u001b[0m \u001b[32m49.2/49.2 kB\u001b[0m \u001b[31m4.0 MB/s\u001b[0m eta \u001b[36m0:00:00\u001b[0m\n",
            "\u001b[2K     \u001b[90m━━━━━━━━━━━━━━━━━━━━━━━━━━━━━━━━━━━━━━━━\u001b[0m \u001b[32m77.9/77.9 kB\u001b[0m \u001b[31m7.1 MB/s\u001b[0m eta \u001b[36m0:00:00\u001b[0m\n",
            "\u001b[2K     \u001b[90m━━━━━━━━━━━━━━━━━━━━━━━━━━━━━━━━━━━━━━━━\u001b[0m \u001b[32m58.3/58.3 kB\u001b[0m \u001b[31m5.4 MB/s\u001b[0m eta \u001b[36m0:00:00\u001b[0m\n",
            "\u001b[2K     \u001b[90m━━━━━━━━━━━━━━━━━━━━━━━━━━━━━━━━━━━━━━━━\u001b[0m \u001b[32m145.0/145.0 kB\u001b[0m \u001b[31m4.5 MB/s\u001b[0m eta \u001b[36m0:00:00\u001b[0m\n",
            "\u001b[?25h\u001b[31mERROR: pip's dependency resolver does not currently take into account all the packages that are installed. This behaviour is the source of the following dependency conflicts.\n",
            "cudf-cu12 24.4.1 requires pandas<2.2.2dev0,>=2.0, but you have pandas 2.2.2 which is incompatible.\n",
            "google-colab 1.0.0 requires pandas==2.0.3, but you have pandas 2.2.2 which is incompatible.\u001b[0m\u001b[31m\n",
            "\u001b[0m"
          ]
        }
      ],
      "source": [
        "!pip install pandas openai pymongo pypdf langchain_community tqdm tenacity scikit-learn tiktoken python-dotenv seaborn --upgrade --quiet"
      ]
    },
    {
      "cell_type": "markdown",
      "source": [
        "# RAG System with MongoDB as vector search engine"
      ],
      "metadata": {
        "id": "qK0TWYs1Piu-"
      }
    },
    {
      "cell_type": "markdown",
      "source": [
        "## Parsing the pdf and cleaning it"
      ],
      "metadata": {
        "id": "deg82AvpFrmI"
      }
    },
    {
      "cell_type": "code",
      "source": [
        "from langchain_community.document_loaders import PyPDFLoader\n",
        "\n",
        "# The url for the user manual pdf.\n",
        "url = \"https://raw.githubusercontent.com/MatthewHsu1/RAGsystemOpenAI/main/F80_F83_F85_OM_810.pdf\"\n",
        "\n",
        "# Initialize PyPDFLoader with downloaded user manual pdf\n",
        "loader = PyPDFLoader(url)\n",
        "pages = loader.load_and_split()"
      ],
      "metadata": {
        "id": "ZyTiUw-FVPuI"
      },
      "execution_count": null,
      "outputs": []
    },
    {
      "cell_type": "code",
      "source": [
        "# First create a dictionary of headers to parse the pdf by headers.\n",
        "\n",
        "headers = [\n",
        "    \"TABLE OF CONTENTS\",\n",
        "    \"PRODUCT REGISTRATION\",\n",
        "    \"IMPORTANT SAFETY INSTRUCTIONS\",\n",
        "    \"IMPORTANT ELECTRICAL INSTRUCTIONS\",\n",
        "    \"GROUNDING INSTRUCTIONS\",\n",
        "    \"IMPORTANT OPERATION INSTRUCTIONS\",\n",
        "    \"IMPORTANT SAFETY INSTRUCTIONS\",\n",
        "    \"IMPORTANT SAFETY INSTRUCTIONS\",\n",
        "    \"PREVENTATIVE MAINTENANCE CHART\",\n",
        "    \"F80 / F83 / F83 ASSEMBLY PACK CHECKLIST\",\n",
        "    \"F80 / F83 / F83 ASSEMBLY INSTRUCTIONS\",\n",
        "    \"FOLDING INSTRUCTIONS\",\n",
        "    \"TRANSPORTATION INSTRUCTIONS\",\n",
        "    \"OPERATION OF YOUR TREADMILL\",\n",
        "    \"GETTING STARTED\",\n",
        "    \"QUICK-START OPERATION\",\n",
        "    \"PAUSE/STOP/RESET FEATURE\",\n",
        "    \"INCLINE FEATURE\",\n",
        "    \"DOT MATRIX CENTER DISPLAY\",\n",
        "    \"PROGRAMMABLE FEATURES\",\n",
        "    \"HEART RATE PROGRAMS\",\n",
        "    \"USING HEART RATE TRANSMITTER\",\n",
        "    \"GENERAL MAINTENANCE\",\n",
        "    \"BELT ADJUSTMENTS\",\n",
        "    \"TREAD-BELT TRACKING ADJUSTMENT\",\n",
        "    \"BELT/DECK LUBRICATION\",\n",
        "    \"SERVICE CHECKLIST - DIAGNOSIS GUIDE\",\n",
        "    \"MANUFACTURER’S LIMITED WARRANTY\"\n",
        "]"
      ],
      "metadata": {
        "id": "-_QzaT2cA_wL"
      },
      "execution_count": null,
      "outputs": []
    },
    {
      "cell_type": "code",
      "source": [
        "import re\n",
        "\n",
        "def strip_top(page):\n",
        "  \"\"\"\n",
        "    Every document inside the variable of pages has this string in the beginning, 'F80 /  F83 / F85 TREADMILL'.\n",
        "    Therefore, the real content of the pdf begins after that string.\n",
        "  \"\"\"\n",
        "  pattern = r\"F80 /  F83 / F85 TREADMILL(.*)\"\n",
        "  for page in pages:\n",
        "    match = re.search(pattern, page.page_content, re.DOTALL)\n",
        "\n",
        "    clean_text = \"\"\n",
        "    if match:\n",
        "        clean_text = match.group(1).strip()\n",
        "        clean_text = clean_text.replace(\"\\n\", \" \")\n",
        "        clean_text = clean_text.replace(\"\\x84\", \"\")\n",
        "        clean_text = re.sub(r'\\s+', ' ', clean_text)\n",
        "        page.page_content = clean_text\n",
        "    else:\n",
        "      clean_text = page.page_content.replace(\"\\n\", \" \")\n",
        "      clean_text = clean_text.replace(\"\\x84\", \"\")\n",
        "      clean_text = re.sub(r'\\s+', ' ', clean_text)\n",
        "      page.page_content = clean_text"
      ],
      "metadata": {
        "id": "DM79ig5J8Xmk"
      },
      "execution_count": null,
      "outputs": []
    },
    {
      "cell_type": "code",
      "source": [
        "# The pdf is in plain text\n",
        "strip_top(pages)"
      ],
      "metadata": {
        "id": "37VtSNv0N8g2"
      },
      "execution_count": null,
      "outputs": []
    },
    {
      "cell_type": "code",
      "source": [
        "import re\n",
        "\n",
        "def split_by_header(headers, pages):\n",
        "\n",
        "  list_of_string = []\n",
        "  for page in pages:\n",
        "\n",
        "    # Create a regular expression that pattern matches all strings in headers.\n",
        "    pattern = '|'.join(map(re.escape, headers))\n",
        "\n",
        "    # Split each page by the pattern created.\n",
        "    split_result = re.split(pattern, page.page_content)\n",
        "\n",
        "    # Get rid of any empty strings\n",
        "    split_result = [s.strip() for s in split_result if s.strip() != '']\n",
        "\n",
        "    list_of_string += split_result\n",
        "\n",
        "  return list_of_string"
      ],
      "metadata": {
        "id": "s5cGjyUztBy4"
      },
      "execution_count": null,
      "outputs": []
    },
    {
      "cell_type": "code",
      "source": [
        "text = split_by_header(headers, pages)"
      ],
      "metadata": {
        "id": "Pc7_7ebFKsgc"
      },
      "execution_count": null,
      "outputs": []
    },
    {
      "cell_type": "code",
      "source": [
        "# Check to see if any string in the list has the possibility to exceed the text embedding token limit.\n",
        "\n",
        "for string in text:\n",
        "  word_count = len(string.split())\n",
        "  assert (word_count <= 5500) == True, \"A string may potentially exceed the token limit\""
      ],
      "metadata": {
        "id": "MAAQCb85wFIF"
      },
      "execution_count": null,
      "outputs": []
    },
    {
      "cell_type": "code",
      "source": [
        "#Convert the list 'text' into a panda dataframe.\n",
        "\n",
        "import pandas as pd\n",
        "\n",
        "dataset_df = pd.DataFrame(text)\n",
        "dataset_df.columns = ['text']"
      ],
      "metadata": {
        "id": "PDa9lxj3pA9Y",
        "colab": {
          "base_uri": "https://localhost:8080/"
        },
        "outputId": "1f968530-b0e3-4635-9d32-6344a80cf85e"
      },
      "execution_count": null,
      "outputs": [
        {
          "output_type": "execute_result",
          "data": {
            "text/plain": [
              "(43, 1)"
            ]
          },
          "metadata": {},
          "execution_count": 289
        }
      ]
    },
    {
      "cell_type": "markdown",
      "source": [
        "## Transform the pdf into vector embeddings and store it inside of MongoDB"
      ],
      "metadata": {
        "id": "6hHvLGtyF0BI"
      }
    },
    {
      "cell_type": "code",
      "source": [
        "import openai\n",
        "from google.colab import userdata\n",
        "\n",
        "openai.api_key = userdata.get('open_ai')\n",
        "\n",
        "EMBEDDING_MODEL = 'text-embedding-3-small'\n",
        "\n",
        "# This method will take a text and get an vector embedding from OpenAI\n",
        "def get_embedding(text):\n",
        "  if not text or not isinstance(text, str):\n",
        "    return None\n",
        "\n",
        "  try:\n",
        "    embedding = openai.embeddings.create(input=text, model=EMBEDDING_MODEL).data[0].embedding\n",
        "    return embedding\n",
        "  except Exception as e:\n",
        "    print(f'Error in get_embedding: {e}')\n",
        "    return None\n",
        "\n",
        "dataset_df['embedding'] = dataset_df['text'].apply(get_embedding)\n",
        "\n",
        "dataset_df.head()"
      ],
      "metadata": {
        "id": "YgpcSj1Wq_kg"
      },
      "execution_count": null,
      "outputs": []
    },
    {
      "cell_type": "code",
      "source": [
        "import pymongo\n",
        "from google.colab import userdata\n",
        "\n",
        "# This method will connect to mongoDB and get a client instance.\n",
        "def get_mongo_client(mongo_uri):\n",
        "  try:\n",
        "    client = pymongo.MongoClient(mongo_uri)\n",
        "    print('Connection to MongoDB successful')\n",
        "    return client\n",
        "  except pymongo.errors.ConnectionFailure as e:\n",
        "    print(f'Connection failed: {e}')\n",
        "    return None\n",
        "\n",
        "mongo_uri = userdata.get('mongo_url')\n",
        "if not mongo_uri:\n",
        "  print('Mongo_uri not set in envirnment variables')\n",
        "\n",
        "mongo_client = get_mongo_client(mongo_uri)\n",
        "\n",
        "db = mongo_client['Treadmill']\n",
        "collection = db['F80_F83_F85']\n",
        "\n",
        "documents = dataset_df.to_dict('records')\n",
        "collection.insert_many(documents)\n",
        "\n",
        "print('Data ingestion into MongoDB completed')"
      ],
      "metadata": {
        "colab": {
          "base_uri": "https://localhost:8080/"
        },
        "id": "4nCB7zFRuKps",
        "outputId": "ffdfc823-b74f-454d-be10-2c2824623249"
      },
      "execution_count": null,
      "outputs": [
        {
          "output_type": "stream",
          "name": "stdout",
          "text": [
            "Connection to MongoDB successful\n"
          ]
        }
      ]
    },
    {
      "cell_type": "markdown",
      "source": [
        "## Below is the query part"
      ],
      "metadata": {
        "id": "xtlx8wuRA8c2"
      }
    },
    {
      "cell_type": "code",
      "source": [
        "import openai\n",
        "from google.colab import userdata\n",
        "\n",
        "openai.api_key = userdata.get('open_ai')\n",
        "\n",
        "EMBEDDING_MODEL = 'text-embedding-3-small'\n",
        "\n",
        "# This method will take a text and get an vector embedding from OpenAI\n",
        "def get_embedding(text):\n",
        "  if not text or not isinstance(text, str):\n",
        "    return None\n",
        "\n",
        "  try:\n",
        "    embedding = openai.embeddings.create(input=text, model=EMBEDDING_MODEL).data[0].embedding\n",
        "    return embedding\n",
        "  except Exception as e:\n",
        "    print(f'Error in get_embedding: {e}')\n",
        "    return None"
      ],
      "metadata": {
        "id": "kcCz98FiC7iv"
      },
      "execution_count": null,
      "outputs": []
    },
    {
      "cell_type": "code",
      "source": [
        "import pymongo\n",
        "from google.colab import userdata\n",
        "\n",
        "# This method will connect to mongoDB and get a client instance.\n",
        "def get_mongo_client(mongo_uri):\n",
        "  try:\n",
        "    client = pymongo.MongoClient(mongo_uri)\n",
        "    print('Connection to MongoDB successful')\n",
        "    return client\n",
        "  except pymongo.errors.ConnectionFailure as e:\n",
        "    print(f'Connection failed: {e}')\n",
        "    return None\n",
        "\n",
        "mongo_uri = userdata.get('mongo_url')\n",
        "if not mongo_uri:\n",
        "  print('Mongo_uri not set in envirnment variables')\n",
        "\n",
        "mongo_client = get_mongo_client(mongo_uri)\n",
        "\n",
        "db = mongo_client['Treadmill']\n",
        "collection = db['F80_F83_F85']"
      ],
      "metadata": {
        "id": "qm_hP3fFDASn",
        "colab": {
          "base_uri": "https://localhost:8080/"
        },
        "outputId": "c8f37adf-f504-42e8-ea72-10247141b705"
      },
      "execution_count": null,
      "outputs": [
        {
          "output_type": "stream",
          "name": "stdout",
          "text": [
            "Connection to MongoDB successful\n"
          ]
        }
      ]
    },
    {
      "cell_type": "code",
      "source": [
        "def vector_search(user_query, collection):\n",
        "  query_embedding = get_embedding(user_query)\n",
        "\n",
        "  if query_embedding is None:\n",
        "    return \"Invalid query or embedding generation failed.\"\n",
        "\n",
        "  pipeline = [\n",
        "      {\n",
        "          \"$vectorSearch\": {\n",
        "              \"index\": \"vector_index\",\n",
        "              \"queryVector\": query_embedding,\n",
        "              \"path\": \"embedding\",\n",
        "              \"numCandidates\": 10,\n",
        "              \"limit\": 10\n",
        "          }\n",
        "      },\n",
        "      {\n",
        "          \"$project\": {\n",
        "              \"text\":1,\n",
        "              \"score\": {\n",
        "                  \"$meta\": \"vectorSearchScore\"\n",
        "              }\n",
        "          }\n",
        "      }\n",
        "  ]\n",
        "\n",
        "  results = collection.aggregate(pipeline)\n",
        "  return list(results)"
      ],
      "metadata": {
        "id": "mgsIk1xP1w7l"
      },
      "execution_count": null,
      "outputs": []
    },
    {
      "cell_type": "code",
      "source": [
        "def handle_user_query(query, collection):\n",
        "  get_knowledge = vector_search(query, collection)\n",
        "\n",
        "  search_result = ''\n",
        "  for result in get_knowledge:\n",
        "    search_result += f\"Instruction: {result.get('text', 'N/A')} \\n\"\n",
        "\n",
        "  completion = openai.chat.completions.create(\n",
        "      model='gpt-3.5-turbo',\n",
        "      messages=[\n",
        "          {'role': \"system\", 'content': 'You are a treadmill technician that provides helpful information by forming a cohisive answer with the context given.'},\n",
        "          {'role': 'user', 'content':\n",
        "            'Context: ' + search_result + '\\n' +\n",
        "            'question: ' + query + '\\n' +\n",
        "            'State each step and then show your work for performing that step.' + '\\n' +\n",
        "            'steps: - what facts do you need to look for in the text to answer the question?' +\n",
        "                    '- Does the text contain all the facts needed to answer the question?' +\n",
        "                    '- Think about how you might answer the question given what you know.' +\n",
        "                    '- If you don\\'t have enough facts answer \"<Reponse> Sorry I don\\'t have enough information.\"' +\n",
        "                    '- Otherwise, answer the question and prefix your answer with <response>.'\n",
        "          }\n",
        "      ]\n",
        "  )\n",
        "\n",
        "  return (completion.choices[0].message.content), search_result"
      ],
      "metadata": {
        "id": "sHgrtQP4KYsr"
      },
      "execution_count": null,
      "outputs": []
    },
    {
      "cell_type": "markdown",
      "source": [
        "## Result"
      ],
      "metadata": {
        "id": "7pzJTxP3F7Vx"
      }
    },
    {
      "cell_type": "code",
      "source": [
        "query = \"Good weather ehh ?\"\n",
        "response, source_information = handle_user_query(query, collection)\n",
        "\n",
        "print(f\"Response: {response} \\n\")\n",
        "print(f\"Source Information: \\n{source_information}\")"
      ],
      "metadata": {
        "colab": {
          "base_uri": "https://localhost:8080/"
        },
        "id": "f7S1AEj8NQDj",
        "outputId": "055bf08e-0d9d-47c1-c88d-386919dc4842"
      },
      "execution_count": null,
      "outputs": [
        {
          "output_type": "stream",
          "name": "stdout",
          "text": [
            "Response: steps:\n",
            "- Look for information in the text related to weather or climate conditions.\n",
            "- Check for any mentions of outdoor workout recommendations or treadmill features related to weather.\n",
            "- Consider how heart rate programs or other features could be affected by weather conditions.\n",
            "- If the text does not provide information related to weather, mention the lack of relevant details.\n",
            "\n",
            "<response> Sorry I don't have enough information. \n",
            "\n",
            "Source Information: \n",
            "Instruction: F80 CONSOLEGETTING FAMILIAR WITH THE CONTROL PANEL F83 / 85 CONSOLECOOLING FANS SPEAKER FAN POWER SWITCH HEADPHONE JACK CONTACT HEART RATE SENSORSSPEAKERINCLINE QUICK KEYS CONTROL KEYS AUDIO IN JACK (MP3, CD, OR SMARTPHONE)SPEED QUICK KEYS DISPLAY BUTTONDOT MATRIX DISPLAY COOLING FANSSPEAKER FAN POWER SWITCH HEADPHONE JACKSPEAKERINCLINE QUICK KEYS CONTROL KEYS AUDIO IN JACK (MP3, CD, OR SMARTPHONE)SPEED QUICK KEYS DISPLAY BUTTONDOT MATRIX DISPLAY CONTACT HEART RATE SENSORS \n",
            "Instruction: F80_F83_F85_20111222 \n",
            "Instruction: RATE OF PERCEIVED EXERTION Heart rate is important but listening to your body also has a lot of advantages. There are more variables involved in how hard you should workout than just heart rate. Your stress level,physical health, emotional health, temperature, humidity, the time of day, the last time you ateand what you ate, all contribute to the intensity at which you should workout. If you listen toyour body, it will tell you all of these things.The rate of perceived exertion (RPE), also know as the Borg scale, was developed by Swedishphysiologist G.A.V. Borg. This scale rates exercise intensity from 6 to 20 depending upon howyou feel or the perception of your effort. The scale is as follows:Rating Perception of Effort6 Minimal 7 Very,very light8 Very,very light +9 Very light10 Very light +11 Fairly light12 Comfortable13 Somewhat hard14 Somewhat hard +15 Hard16 Hard +17 Very hard18 Very hard +19 Very,very hard20 Maximal You can get an approximate heart rate level for each rating by simply adding a zero to each rating. For example a rating of 12 will result in an approximate heart rate of 120 beats perminute. Your RPE will vary depending up the factors discussed earlier. That is the major benefitof this type of training. If your body is strong and rested, you will feel strong and your pace willfeel easier. When your body is in this condition, you are able to train harder and the RPE willsupport this. If you are feeling tired and sluggish, it is because your body needs a break. In thiscondition, your pace will feel harder. Again, this will show up in your RPE and you will train atthe proper level for that day. \n",
            "Instruction: Vacuum Under Motor Cover & Check Wiring (Every Other Month)Clean & Inspect Deck for Lubrication (Every Other Month)Lubricate Deck (Every 180 hours or sooner if dry)Inspect Belt Tracking (Monthly) Adjust if necessaryDate \n",
            "Instruction: The F80 / F83 / F85 have ten built-in programs: one Manual program (PO), five preset profiles, two user defined programs (U1 & U2) and two Heart Rate programs (HR1 & HR2). Hill The Hill program simulates going up and down a hill. The resistance in the pedals will steadily increase and then decrease during the program. Fat Burn The Fat Burn program is designed, as the name implies, to maximize the burning of fat. There are many schools of thought on the best way to burn fat but most experts agree that a lower exertion level that stays at a steady workload is the best. The absolute best way to burn fat is to keep your heart rate at around 60% to 70% of its maximum potential. This program does not use heart rate but simulates a lower, steady exertion workout. Cardio The Cardio program is designed to increase your cardiovascular function and endurance. This is exercise for your heart and lungs. It will build up your heart muscle and increase blood flow and lung capacity. This is achieved by incorporating a higher level of exertion with slight fluctuations in work. Strength The Strength program is designed to increase muscular strength in your lower body. This program will steadily increase in resistance to a high level and forces you to sustain it. This is designed to strengthen and tone your legs and glutes (muscles of the butt). Interval The Interval program takes you through high levels of intensity followed by periods of low intensity. This program increases your endurance by depleting your oxygen level followed by periods of recovery to replenish oxygen. Your cardiovascular system gets programmed to use oxygen more efficiently this way. This program also forces your body to become more efficient due to spikes in heart rate, between recovery periods. This aids in heart rate recovery from intense activities.F83/85 SPEED F83/85 INCLINE F80 SPEED F80 INCLINE F83/85 SPEED F83/85 INCLINE F80 SPEED F80 INCLINE F83/85 SPEED F83/85 INCLINE F80 SPEED F80 INCLINE F83/85 SPEED F83/85 INCLINE F80 SPEED F80 INCLINEF83/85 SPEED F83/85 INCLINE F80 SPEED F80 INCLINEPRESET PROGRAMS \n",
            "Instruction: Product Registration Important Safety InstructionsImportant Electrical InformationImportant Operation InstructionsAssembly instructionsFolding InstructionsTransport InstructionsOperation of Your New TreadmillProgrammable FeaturesGeneral MaintenanceService Checklist - Diagnosis GuideManufacturer’s Limited Warranty12348 12121318252830 \n",
            "Instruction: CALIBRATION PROCEDURE 1. Remove the safety key 2. Press and hold down the Start and Fast (speed up) buttons and replace the safety key. Continue to hold the Start and Fast key until the window displays “Factory settings” , then press the enter key. 3. You will now be able to set the display to show Metric or English settings (Miles vs. Kilometers). To do this, press the up or down key to show which you want, then press enter. 4. Make sure the wheel size diameter is 2.83 then press enter 5. Adjust the minimum speed (if needed) to 0.5 and then press enter 6. Adjust the maximum speed (if needed) to 12.0 and then press enter 7. Adjust the maximum elevation (if needed) to 15 and then press enter 8. Grade return – On (This allows the incline to return to zero when stop is pressed. For sale in Europe, EU standards require this to be off) 9. Press start to begin calibration. The process is automatic; the speed will start up without warning, so do not stand on the belt. A. Calibration - Used to verify calibration B. Factory Settings - Acces only allowed by manufacturing C. Security - Allows you to lock the keypad so no unauthorized use of the machine is allowed. When the child lock is enabled, the console will not allow the keypad to operate unless you press and hold the Start and Enter buttons for 3 seconds to unlock the console. D. Functions - Press Enter to access settings, use Speed Fast/Slow keys to scroll I. Sleep Mode - Turn on to have the console power down automatically after 30 minutes of inactivity II. Pause Mode - Turned on to allow 5 minutes of pause, turn off to have console pause in definitely) III. Maintenance - Reset lube message and odometer readings IV. Units - Choose from English or Metric display readings V. Grade Return - Returns elevation to lowest setting when pause is pressed E. Key Test - Will allow you to test all the keys to make sure they are functioning F. Display Test - Tests all the display functions1. Press and hold the Start, Stop and Enter key at the same time, until the display shows “Engineering mode” (it may say maintenance menu, depending on version). Press the Enter key. 2. You can now scroll through the menu using the Fast/Slow keys. Use the Stop key to return to previous menu selection. The menu selections are:MAINTENANCE MENU \n",
            "Instruction: SELECTING A PROGRAM 1. Press the Up5/6Down keys to view the programs on the screen then press the Enter key to select the program you would like to perform. The display will prompt you through the programming steps or you can just press the Start key to begin the program using the preset program values for age, weight and other program specific information. 2. If enter was pressed, the Message window will display Age. You may use any of the Up/ Down or the Fast/Slow keys to adjust your age. After adjusting press the Enter key. (Note: You may press start at any time during the programming to start the program with the informa-tion you’ve already input.) 3. The Message window will now be displaying a value, which is your Body Weight. Entering the correct body weight will affect the calorie count. Use the Up/Down keys or the Fast/Slow to adjust, then press enter. A note about the Calorie display: No exercise machine can give you an exact calorie count because there are too many factors which determine exact calorie burn for a particular person. Even if someone is the exact same body weight, age and height, their calorie burn may be very different than yours. The Calorie display is to be used as a reference only to monitor improvement from workout to workout. 4. The Time window will now be displaying a value, which is total workout time desired. Use the Up/Down or the Fast/Slow keys to adjust, and then press enter. After adjusting, press the Enter key. 5. The Speed window will display the preset top speed of the selected program. Use the Up/Down or the Fast/Slow keys to adjust, and then press enter. Each program has various speed changes throughout; this allows you to limit the highest speed the program will reach at it’s peak. 6. Press Start to begin the program. The program will begin with a 3 minute warm-up. If you want to bypass this and go directly to the beginning of the program, press Start again. \n",
            "Instruction: 8. Product use in any environment other than a residential setting. 9. Warranties outside of North America may vary. Please contact your local dealer for details. SERVICEKeep your bill of sale. Twelve (12) months from the date on the bill of sale or eighteen (18) months from the date of factory shipping as determined by the serial number establishes the labor warranty period should service be required. If service is performed, it is in your best interest to obtain and keep all receipts. This written warranty gives you specific legal rights. You may also have other rights that vary from state to state. Service under this warranty must be obtained by following these steps, in order:1. Contact your selling authorized SOLE dealer. OR 2. Submit all service requests including serial number, contact information and a brief description of the problem online at www.soletreadmills.com/technical.php?p=service. 3. If you have any questions about your new product or questions about the warranty contact SOLE Fitness at 1-866-780-SOLE (7653). If you have a technical problem with your new treadmill contact SOLE technical service at 866-MYSOLE1 (697-6531). 4. If no local service is available, SOLE will repair or replace the parts, at SOLE’s option, within the warranty period at no charge for parts. All transportation costs, both to our factory and upon return to the owner, are the responsibility of the owner. The owner is responsible for adequate packaging upon return to SOLE. SOLE is not responsible for damages that occur during shipping. Make all freight damage claims with the appropriate freight carrier. DO NOT SHIP ANY UNIT TO OUR FACTORY WITHOUT A RETURN AUTHORIZATION NUMBER. All units arriving with-out a return authorization number will be refused. 5. For any further information, or to contact our service department by mail, send your correspondence to: Product features or specifications as described or illustrated are subject to change without notice. All warranties are made by SOLE.SOLE FitnessP .O. Box 2037Jonesboro, AR 72402-2037*Cosmetic items including, but not limited to the following: grips, console overlays, and labels/decals. \n",
            "Instruction: HEART RATE PROGRAMMING CAUTION! Heart Rate programs are intended for wireless transmitter chest strap. Do not use Pulse Grip bar for Heart Rate. You must receive a strong/steady value in the heart rate window (See Using Heart Rate Transmitter section for instructions on how to use). The HR1 program has a default level that is 60% of your projected heart rate maximum. This program is geared for individuals with fat loss as a goal. The HR2 program has a default of 80% of your projected heart rate maximum. It is geared for individuals with a goal of improving cardiovascular & lung function. 1. Select HR1 or HR2 via the Program 56keys then press enter. 2. The Message window will be blinking, showing the default user’s bodyweight for this pro - gram. You may adjust it and press enter if you want or just press enter to accept the default value. 3. The Message window will now be blinking showing user’s age. Adjust and press enter or press enter to accept the default value. Adjusting Age will change the Target HR value. 4. The Time window will now be blinking. Adjust the time and press enter. 5. Now you are asked to adjust the HR1 or HR2 value. The default is 60% (HR1); (220 - age x .60); or 80% (HR2); (220 – age x .80). You may select a higher or lower number also. Adjust the number by pressing the Speed Up or Down keys (console or handrails) and press Enter to continue. 6. Now you are finished editing the settings and can begin your workout by pressing the Start key. You can also go back and modify your settings by pressing the Stop key to go back one level, or screen. 7. If you want to increase or decrease the speed at any time during the program press the Fast or Slow (console or handrail) keys. 8. During the HR program you will be able to scroll through the data in the message window by pressing the Display key. When the program ends the message window will show a summary of your workout. The summary will be displayed for a short time then the console will return to the start-up display. 9. Press Start to begin program. The program will now control the treadmill Incline to steadily increase your heart rate to the tar - get value. This process is automatic and could take upwards of five minutes, depending on how far your HR needs to go and what kind of physical shape you are in. People who are more fit will take longer to reach the target. You can make manual adjustments to the speed throughout the program. \n",
            "\n"
          ]
        }
      ]
    },
    {
      "cell_type": "markdown",
      "source": [
        "# RAG system with Qdrant as vertor search engine and fine-tuning on the model."
      ],
      "metadata": {
        "id": "9MvyHKtW4FpV"
      }
    },
    {
      "cell_type": "code",
      "source": [
        "import json\n",
        "import os\n",
        "import time\n",
        "\n",
        "from google.colab import userdata\n",
        "import pandas as pd\n",
        "from openai import OpenAI\n",
        "import tiktoken\n",
        "import seaborn as sns\n",
        "from tenacity import retry, wait_exponential\n",
        "from tqdm import tqdm\n",
        "from collections import defaultdict\n",
        "import numpy as np\n",
        "import matplotlib.pyplot as plt\n",
        "from sklearn.metrics import confusion_matrix\n",
        "\n",
        "import warnings\n",
        "warnings.filterwarnings('ignore')\n",
        "\n",
        "tqdm.pandas()\n",
        "\n",
        "client = OpenAI(api_key=userdata.get(\"open_ai\"))"
      ],
      "metadata": {
        "id": "BDViBMRXFkKE"
      },
      "execution_count": 2,
      "outputs": []
    },
    {
      "cell_type": "markdown",
      "source": [
        "## Download data"
      ],
      "metadata": {
        "id": "oyH8vn80PTnF"
      }
    },
    {
      "cell_type": "code",
      "source": [
        "!mkdir -p local_cache\n",
        "!wget https://rajpurkar.github.io/SQuAD-explorer/dataset/train-v2.0.json -O local_cache/train.json\n",
        "!wget https://rajpurkar.github.io/SQuAD-explorer/dataset/dev-v2.0.json -O local_cache/dev.json"
      ],
      "metadata": {
        "id": "UgzJWKS3L5DY"
      },
      "execution_count": null,
      "outputs": []
    },
    {
      "cell_type": "markdown",
      "source": [
        "## Read JSON to DataFrame"
      ],
      "metadata": {
        "id": "vStkeT3qPYzW"
      }
    },
    {
      "cell_type": "code",
      "source": [
        "def json_to_dataframe_with_titles(json_data):\n",
        "  qas = []\n",
        "  context = []\n",
        "  is_impossible = []\n",
        "  answers = []\n",
        "  titles = []\n",
        "\n",
        "  for article in json_data['data']:\n",
        "    title = article['title']\n",
        "    for paragraph in article['paragraphs']:\n",
        "      for qa in paragraph['qas']:\n",
        "        qas.append(qa['question'].strip())\n",
        "        context.append(paragraph['context'])\n",
        "        is_impossible.append(qa['is_impossible'])\n",
        "\n",
        "        ans_list = []\n",
        "        for ans in qa['answers']:\n",
        "          ans_list.append(ans['text'])\n",
        "        answers.append(ans_list)\n",
        "        titles.append(title)\n",
        "\n",
        "  df = pd.DataFrame({'title': titles, 'question': qas, 'context': context, 'is_impossible': is_impossible, 'answer': answers})\n",
        "  return df"
      ],
      "metadata": {
        "id": "Byfae0yrN2aw"
      },
      "execution_count": 28,
      "outputs": []
    },
    {
      "cell_type": "code",
      "source": [
        "def get_diverse_sample(df, sample_size=100, random_state=42):\n",
        "  \"\"\"\n",
        "  Get a diverse sample of the dataframe by sampling from each title\n",
        "  \"\"\"\n",
        "  sample_df = df.groupby(['title', 'is_impossible']).apply(lambda x: x.sample(min(len(x), max(1, sample_size // 50)), random_state=random_state)).reset_index(drop=True)\n",
        "\n",
        "  if len(sample_df) < sample_size:\n",
        "    remaining_sample_size = sample_size - len(sample_df)\n",
        "    remaining_df = df.drop(sample_df.index).sample(remaining_sample_size, random_state=random_state)\n",
        "    sample_df = pd.concat([sample_df, remaining_df]).sample(frac=1, random_state=random_state).reset_index(drop=True)\n",
        "\n",
        "  return sample_df.sample(min(sample_size, len(sample_df)), random_state=random_state).reset_index(drop=True)"
      ],
      "metadata": {
        "id": "vbhrI6ZhTzfQ"
      },
      "execution_count": 42,
      "outputs": []
    },
    {
      "cell_type": "code",
      "source": [
        "train_df = json_to_dataframe_with_titles(json.load(open('local_cache/train.json')))\n",
        "val_df = json_to_dataframe_with_titles(json.load(open('local_cache/dev.json')))"
      ],
      "metadata": {
        "id": "b9vuvm7UdBcc"
      },
      "execution_count": 38,
      "outputs": []
    },
    {
      "cell_type": "code",
      "source": [
        "df = get_diverse_sample(val_df, sample_size=100, random_state=42)\n",
        "df.head()"
      ],
      "metadata": {
        "colab": {
          "base_uri": "https://localhost:8080/",
          "height": 0
        },
        "id": "zGSywk7-pFAp",
        "outputId": "359c3627-c0f5-49c5-8c70-77d927463f96"
      },
      "execution_count": 49,
      "outputs": [
        {
          "output_type": "execute_result",
          "data": {
            "text/plain": [
              "                   title                                           question  \\\n",
              "0    Scottish_Parliament  What consequence of establishing the Scottish ...   \n",
              "1            Imperialism  Imperialism is less often associated with whic...   \n",
              "2    Economic_inequality  What issues can't prevent women from working o...   \n",
              "3    Southern_California  What county are Los Angeles, Orange, San Diego...   \n",
              "4  French_and_Indian_War             When was the deportation of Canadians?   \n",
              "\n",
              "                                             context  is_impossible  \\\n",
              "0  A procedural consequence of the establishment ...          False   \n",
              "1  The principles of imperialism are often genera...           True   \n",
              "2  When a person’s capabilities are lowered, they...           True   \n",
              "3  Its counties of Los Angeles, Orange, San Diego...           True   \n",
              "4  Britain gained control of French Canada and Ac...           True   \n",
              "\n",
              "                                              answer  \n",
              "0  [able to vote on domestic legislation that app...  \n",
              "1                                                 []  \n",
              "2                                                 []  \n",
              "3                                                 []  \n",
              "4                                                 []  "
            ],
            "text/html": [
              "\n",
              "  <div id=\"df-806b3e6f-eadf-4901-825c-744403ad7577\" class=\"colab-df-container\">\n",
              "    <div>\n",
              "<style scoped>\n",
              "    .dataframe tbody tr th:only-of-type {\n",
              "        vertical-align: middle;\n",
              "    }\n",
              "\n",
              "    .dataframe tbody tr th {\n",
              "        vertical-align: top;\n",
              "    }\n",
              "\n",
              "    .dataframe thead th {\n",
              "        text-align: right;\n",
              "    }\n",
              "</style>\n",
              "<table border=\"1\" class=\"dataframe\">\n",
              "  <thead>\n",
              "    <tr style=\"text-align: right;\">\n",
              "      <th></th>\n",
              "      <th>title</th>\n",
              "      <th>question</th>\n",
              "      <th>context</th>\n",
              "      <th>is_impossible</th>\n",
              "      <th>answer</th>\n",
              "    </tr>\n",
              "  </thead>\n",
              "  <tbody>\n",
              "    <tr>\n",
              "      <th>0</th>\n",
              "      <td>Scottish_Parliament</td>\n",
              "      <td>What consequence of establishing the Scottish ...</td>\n",
              "      <td>A procedural consequence of the establishment ...</td>\n",
              "      <td>False</td>\n",
              "      <td>[able to vote on domestic legislation that app...</td>\n",
              "    </tr>\n",
              "    <tr>\n",
              "      <th>1</th>\n",
              "      <td>Imperialism</td>\n",
              "      <td>Imperialism is less often associated with whic...</td>\n",
              "      <td>The principles of imperialism are often genera...</td>\n",
              "      <td>True</td>\n",
              "      <td>[]</td>\n",
              "    </tr>\n",
              "    <tr>\n",
              "      <th>2</th>\n",
              "      <td>Economic_inequality</td>\n",
              "      <td>What issues can't prevent women from working o...</td>\n",
              "      <td>When a person’s capabilities are lowered, they...</td>\n",
              "      <td>True</td>\n",
              "      <td>[]</td>\n",
              "    </tr>\n",
              "    <tr>\n",
              "      <th>3</th>\n",
              "      <td>Southern_California</td>\n",
              "      <td>What county are Los Angeles, Orange, San Diego...</td>\n",
              "      <td>Its counties of Los Angeles, Orange, San Diego...</td>\n",
              "      <td>True</td>\n",
              "      <td>[]</td>\n",
              "    </tr>\n",
              "    <tr>\n",
              "      <th>4</th>\n",
              "      <td>French_and_Indian_War</td>\n",
              "      <td>When was the deportation of Canadians?</td>\n",
              "      <td>Britain gained control of French Canada and Ac...</td>\n",
              "      <td>True</td>\n",
              "      <td>[]</td>\n",
              "    </tr>\n",
              "  </tbody>\n",
              "</table>\n",
              "</div>\n",
              "    <div class=\"colab-df-buttons\">\n",
              "\n",
              "  <div class=\"colab-df-container\">\n",
              "    <button class=\"colab-df-convert\" onclick=\"convertToInteractive('df-806b3e6f-eadf-4901-825c-744403ad7577')\"\n",
              "            title=\"Convert this dataframe to an interactive table.\"\n",
              "            style=\"display:none;\">\n",
              "\n",
              "  <svg xmlns=\"http://www.w3.org/2000/svg\" height=\"24px\" viewBox=\"0 -960 960 960\">\n",
              "    <path d=\"M120-120v-720h720v720H120Zm60-500h600v-160H180v160Zm220 220h160v-160H400v160Zm0 220h160v-160H400v160ZM180-400h160v-160H180v160Zm440 0h160v-160H620v160ZM180-180h160v-160H180v160Zm440 0h160v-160H620v160Z\"/>\n",
              "  </svg>\n",
              "    </button>\n",
              "\n",
              "  <style>\n",
              "    .colab-df-container {\n",
              "      display:flex;\n",
              "      gap: 12px;\n",
              "    }\n",
              "\n",
              "    .colab-df-convert {\n",
              "      background-color: #E8F0FE;\n",
              "      border: none;\n",
              "      border-radius: 50%;\n",
              "      cursor: pointer;\n",
              "      display: none;\n",
              "      fill: #1967D2;\n",
              "      height: 32px;\n",
              "      padding: 0 0 0 0;\n",
              "      width: 32px;\n",
              "    }\n",
              "\n",
              "    .colab-df-convert:hover {\n",
              "      background-color: #E2EBFA;\n",
              "      box-shadow: 0px 1px 2px rgba(60, 64, 67, 0.3), 0px 1px 3px 1px rgba(60, 64, 67, 0.15);\n",
              "      fill: #174EA6;\n",
              "    }\n",
              "\n",
              "    .colab-df-buttons div {\n",
              "      margin-bottom: 4px;\n",
              "    }\n",
              "\n",
              "    [theme=dark] .colab-df-convert {\n",
              "      background-color: #3B4455;\n",
              "      fill: #D2E3FC;\n",
              "    }\n",
              "\n",
              "    [theme=dark] .colab-df-convert:hover {\n",
              "      background-color: #434B5C;\n",
              "      box-shadow: 0px 1px 3px 1px rgba(0, 0, 0, 0.15);\n",
              "      filter: drop-shadow(0px 1px 2px rgba(0, 0, 0, 0.3));\n",
              "      fill: #FFFFFF;\n",
              "    }\n",
              "  </style>\n",
              "\n",
              "    <script>\n",
              "      const buttonEl =\n",
              "        document.querySelector('#df-806b3e6f-eadf-4901-825c-744403ad7577 button.colab-df-convert');\n",
              "      buttonEl.style.display =\n",
              "        google.colab.kernel.accessAllowed ? 'block' : 'none';\n",
              "\n",
              "      async function convertToInteractive(key) {\n",
              "        const element = document.querySelector('#df-806b3e6f-eadf-4901-825c-744403ad7577');\n",
              "        const dataTable =\n",
              "          await google.colab.kernel.invokeFunction('convertToInteractive',\n",
              "                                                    [key], {});\n",
              "        if (!dataTable) return;\n",
              "\n",
              "        const docLinkHtml = 'Like what you see? Visit the ' +\n",
              "          '<a target=\"_blank\" href=https://colab.research.google.com/notebooks/data_table.ipynb>data table notebook</a>'\n",
              "          + ' to learn more about interactive tables.';\n",
              "        element.innerHTML = '';\n",
              "        dataTable['output_type'] = 'display_data';\n",
              "        await google.colab.output.renderOutput(dataTable, element);\n",
              "        const docLink = document.createElement('div');\n",
              "        docLink.innerHTML = docLinkHtml;\n",
              "        element.appendChild(docLink);\n",
              "      }\n",
              "    </script>\n",
              "  </div>\n",
              "\n",
              "\n",
              "<div id=\"df-d587003e-ffaf-4a64-b9e9-47b6c768c4a4\">\n",
              "  <button class=\"colab-df-quickchart\" onclick=\"quickchart('df-d587003e-ffaf-4a64-b9e9-47b6c768c4a4')\"\n",
              "            title=\"Suggest charts\"\n",
              "            style=\"display:none;\">\n",
              "\n",
              "<svg xmlns=\"http://www.w3.org/2000/svg\" height=\"24px\"viewBox=\"0 0 24 24\"\n",
              "     width=\"24px\">\n",
              "    <g>\n",
              "        <path d=\"M19 3H5c-1.1 0-2 .9-2 2v14c0 1.1.9 2 2 2h14c1.1 0 2-.9 2-2V5c0-1.1-.9-2-2-2zM9 17H7v-7h2v7zm4 0h-2V7h2v10zm4 0h-2v-4h2v4z\"/>\n",
              "    </g>\n",
              "</svg>\n",
              "  </button>\n",
              "\n",
              "<style>\n",
              "  .colab-df-quickchart {\n",
              "      --bg-color: #E8F0FE;\n",
              "      --fill-color: #1967D2;\n",
              "      --hover-bg-color: #E2EBFA;\n",
              "      --hover-fill-color: #174EA6;\n",
              "      --disabled-fill-color: #AAA;\n",
              "      --disabled-bg-color: #DDD;\n",
              "  }\n",
              "\n",
              "  [theme=dark] .colab-df-quickchart {\n",
              "      --bg-color: #3B4455;\n",
              "      --fill-color: #D2E3FC;\n",
              "      --hover-bg-color: #434B5C;\n",
              "      --hover-fill-color: #FFFFFF;\n",
              "      --disabled-bg-color: #3B4455;\n",
              "      --disabled-fill-color: #666;\n",
              "  }\n",
              "\n",
              "  .colab-df-quickchart {\n",
              "    background-color: var(--bg-color);\n",
              "    border: none;\n",
              "    border-radius: 50%;\n",
              "    cursor: pointer;\n",
              "    display: none;\n",
              "    fill: var(--fill-color);\n",
              "    height: 32px;\n",
              "    padding: 0;\n",
              "    width: 32px;\n",
              "  }\n",
              "\n",
              "  .colab-df-quickchart:hover {\n",
              "    background-color: var(--hover-bg-color);\n",
              "    box-shadow: 0 1px 2px rgba(60, 64, 67, 0.3), 0 1px 3px 1px rgba(60, 64, 67, 0.15);\n",
              "    fill: var(--button-hover-fill-color);\n",
              "  }\n",
              "\n",
              "  .colab-df-quickchart-complete:disabled,\n",
              "  .colab-df-quickchart-complete:disabled:hover {\n",
              "    background-color: var(--disabled-bg-color);\n",
              "    fill: var(--disabled-fill-color);\n",
              "    box-shadow: none;\n",
              "  }\n",
              "\n",
              "  .colab-df-spinner {\n",
              "    border: 2px solid var(--fill-color);\n",
              "    border-color: transparent;\n",
              "    border-bottom-color: var(--fill-color);\n",
              "    animation:\n",
              "      spin 1s steps(1) infinite;\n",
              "  }\n",
              "\n",
              "  @keyframes spin {\n",
              "    0% {\n",
              "      border-color: transparent;\n",
              "      border-bottom-color: var(--fill-color);\n",
              "      border-left-color: var(--fill-color);\n",
              "    }\n",
              "    20% {\n",
              "      border-color: transparent;\n",
              "      border-left-color: var(--fill-color);\n",
              "      border-top-color: var(--fill-color);\n",
              "    }\n",
              "    30% {\n",
              "      border-color: transparent;\n",
              "      border-left-color: var(--fill-color);\n",
              "      border-top-color: var(--fill-color);\n",
              "      border-right-color: var(--fill-color);\n",
              "    }\n",
              "    40% {\n",
              "      border-color: transparent;\n",
              "      border-right-color: var(--fill-color);\n",
              "      border-top-color: var(--fill-color);\n",
              "    }\n",
              "    60% {\n",
              "      border-color: transparent;\n",
              "      border-right-color: var(--fill-color);\n",
              "    }\n",
              "    80% {\n",
              "      border-color: transparent;\n",
              "      border-right-color: var(--fill-color);\n",
              "      border-bottom-color: var(--fill-color);\n",
              "    }\n",
              "    90% {\n",
              "      border-color: transparent;\n",
              "      border-bottom-color: var(--fill-color);\n",
              "    }\n",
              "  }\n",
              "</style>\n",
              "\n",
              "  <script>\n",
              "    async function quickchart(key) {\n",
              "      const quickchartButtonEl =\n",
              "        document.querySelector('#' + key + ' button');\n",
              "      quickchartButtonEl.disabled = true;  // To prevent multiple clicks.\n",
              "      quickchartButtonEl.classList.add('colab-df-spinner');\n",
              "      try {\n",
              "        const charts = await google.colab.kernel.invokeFunction(\n",
              "            'suggestCharts', [key], {});\n",
              "      } catch (error) {\n",
              "        console.error('Error during call to suggestCharts:', error);\n",
              "      }\n",
              "      quickchartButtonEl.classList.remove('colab-df-spinner');\n",
              "      quickchartButtonEl.classList.add('colab-df-quickchart-complete');\n",
              "    }\n",
              "    (() => {\n",
              "      let quickchartButtonEl =\n",
              "        document.querySelector('#df-d587003e-ffaf-4a64-b9e9-47b6c768c4a4 button');\n",
              "      quickchartButtonEl.style.display =\n",
              "        google.colab.kernel.accessAllowed ? 'block' : 'none';\n",
              "    })();\n",
              "  </script>\n",
              "</div>\n",
              "\n",
              "    </div>\n",
              "  </div>\n"
            ],
            "application/vnd.google.colaboratory.intrinsic+json": {
              "type": "dataframe",
              "variable_name": "df",
              "summary": "{\n  \"name\": \"df\",\n  \"rows\": 100,\n  \"fields\": [\n    {\n      \"column\": \"title\",\n      \"properties\": {\n        \"dtype\": \"category\",\n        \"num_unique_values\": 35,\n        \"samples\": [\n          \"Fresno,_California\",\n          \"Jacksonville,_Florida\",\n          \"Pharmacy\"\n        ],\n        \"semantic_type\": \"\",\n        \"description\": \"\"\n      }\n    },\n    {\n      \"column\": \"question\",\n      \"properties\": {\n        \"dtype\": \"string\",\n        \"num_unique_values\": 100,\n        \"samples\": [\n          \"What is a recent civil disobedience done in a group form?\",\n          \"What was the Colonia Agrippina's original name?\",\n          \"What architecture type came after Norman in England?\"\n        ],\n        \"semantic_type\": \"\",\n        \"description\": \"\"\n      }\n    },\n    {\n      \"column\": \"context\",\n      \"properties\": {\n        \"dtype\": \"string\",\n        \"num_unique_values\": 93,\n        \"samples\": [\n          \"Wealth concentration is a theoretical[according to whom?] process by which, under certain conditions, newly created wealth concentrates in the possession of already-wealthy individuals or entities. According to this theory, those who already hold wealth have the means to invest in new sources of creating wealth or to otherwise leverage the accumulation of wealth, thus are the beneficiaries of the new wealth. Over time, wealth condensation can significantly contribute to the persistence of inequality within society. Thomas Piketty in his book Capital in the Twenty-First Century argues that the fundamental force for divergence is the usually greater return of capital (r) than economic growth (g), and that larger fortunes generate higher returns [pp. 384 Table 12.2, U.S. university endowment size vs. real annual rate of return]\",\n          \"Larger drugs (>500 Da) can provoke a neutralizing immune response, particularly if the drugs are administered repeatedly, or in larger doses. This limits the effectiveness of drugs based on larger peptides and proteins (which are typically larger than 6000 Da). In some cases, the drug itself is not immunogenic, but may be co-administered with an immunogenic compound, as is sometimes the case for Taxol. Computational methods have been developed to predict the immunogenicity of peptides and proteins, which are particularly useful in designing therapeutic antibodies, assessing likely virulence of mutations in viral coat particles, and validation of proposed peptide-based drug treatments. Early techniques relied mainly on the observation that hydrophilic amino acids are overrepresented in epitope regions than hydrophobic amino acids; however, more recent developments rely on machine learning techniques using databases of existing known epitopes, usually on well-studied virus proteins, as a training set. A publicly accessible database has been established for the cataloguing of epitopes from pathogens known to be recognizable by B cells. The emerging field of bioinformatics-based studies of immunogenicity is referred to as immunoinformatics. Immunoproteomics is the study of large sets of proteins (proteomics) involved in the immune response.\",\n          \"2013 Economics Nobel prize winner Robert J. Shiller said that rising inequality in the United States and elsewhere is the most important problem. Increasing inequality harms economic growth. High and persistent unemployment, in which inequality increases, has a negative effect on subsequent long-run economic growth. Unemployment can harm growth not only because it is a waste of resources, but also because it generates redistributive pressures and subsequent distortions, drives people to poverty, constrains liquidity limiting labor mobility, and erodes self-esteem promoting social dislocation, unrest and conflict. Policies aiming at controlling unemployment and in particular at reducing its inequality-associated effects support economic growth.\"\n        ],\n        \"semantic_type\": \"\",\n        \"description\": \"\"\n      }\n    },\n    {\n      \"column\": \"is_impossible\",\n      \"properties\": {\n        \"dtype\": \"boolean\",\n        \"num_unique_values\": 2,\n        \"samples\": [\n          true,\n          false\n        ],\n        \"semantic_type\": \"\",\n        \"description\": \"\"\n      }\n    },\n    {\n      \"column\": \"answer\",\n      \"properties\": {\n        \"dtype\": \"object\",\n        \"semantic_type\": \"\",\n        \"description\": \"\"\n      }\n    }\n  ]\n}"
            }
          },
          "metadata": {},
          "execution_count": 49
        }
      ]
    },
    {
      "cell_type": "markdown",
      "source": [
        "## Answer using Base gpt-3.5-turbo model"
      ],
      "metadata": {
        "id": "nqwHJlUOsfax"
      }
    },
    {
      "cell_type": "markdown",
      "source": [
        "Zero Shot Prompt"
      ],
      "metadata": {
        "id": "dcgGjslns08B"
      }
    },
    {
      "cell_type": "code",
      "source": [
        "def get_prompt(row):\n",
        "  return [\n",
        "      {\"role\": \"system\", \"content\": \"You are a helpful assistant.\"},\n",
        "      {\n",
        "          \"role\": \"user\",\n",
        "          \"content\": f\"\"\"Answer the following Question based on the Context only. Only answer from the Context. If you don't know the answer, say 'I don't know'.\n",
        "          Question: {row.question}\\n\\n\n",
        "          Context: {row.context}\\n\\n\n",
        "          Answer:\\n\"\"\"\n",
        "      }\n",
        "  ]"
      ],
      "metadata": {
        "id": "xsI2pr27s4DR"
      },
      "execution_count": 50,
      "outputs": []
    },
    {
      "cell_type": "markdown",
      "source": [
        "Answering using Zero Shot Prompt"
      ],
      "metadata": {
        "id": "1fvmiBvuugYI"
      }
    },
    {
      "cell_type": "code",
      "source": [
        "@retry(wait=wait_exponential(multiplier=1, min=2, max=6))\n",
        "def api_call(messages, model):\n",
        "  return client.chat.completions.create(\n",
        "      model=model,\n",
        "      messages=messages,\n",
        "      stop=[\"\\n\\n\"],\n",
        "      max_tokens=100,\n",
        "      temperature=0.0,\n",
        "  )\n",
        "\n",
        "def answer_question(row, prompt_func=get_prompt, model=\"gpt-3.5-turbo\"):\n",
        "  messages = prompt_func(row)\n",
        "  response = api_call(messages, model)\n",
        "  return response.choices[0].message.content"
      ],
      "metadata": {
        "id": "LG5dOa2Guk-u"
      },
      "execution_count": 56,
      "outputs": []
    },
    {
      "cell_type": "code",
      "source": [
        "df[\"generated_answer\"] = df.progress_apply(answer_question, axis=1)\n",
        "df.to_json(\"local_cache/100_val.json\", orient=\"records\", lines=True)\n",
        "df = pd.read_json(\"local_cache/100_val.json\", orient=\"records\", lines=True)"
      ],
      "metadata": {
        "colab": {
          "base_uri": "https://localhost:8080/"
        },
        "id": "J8YTEETjxWRE",
        "outputId": "25c62c14-1fe3-4473-eadd-015e2f161fb7"
      },
      "execution_count": 59,
      "outputs": [
        {
          "output_type": "stream",
          "name": "stderr",
          "text": [
            "100%|██████████| 100/100 [01:18<00:00,  1.28it/s]\n"
          ]
        }
      ]
    },
    {
      "cell_type": "code",
      "source": [
        "df.head()"
      ],
      "metadata": {
        "colab": {
          "base_uri": "https://localhost:8080/",
          "height": 397
        },
        "id": "tOu0Xr4Y0tu4",
        "outputId": "56c8878f-5a3b-44a4-cf4a-496889bd0a69"
      },
      "execution_count": 61,
      "outputs": [
        {
          "output_type": "execute_result",
          "data": {
            "text/plain": [
              "                   title                                           question  \\\n",
              "0    Scottish_Parliament  What consequence of establishing the Scottish ...   \n",
              "1            Imperialism  Imperialism is less often associated with whic...   \n",
              "2    Economic_inequality  What issues can't prevent women from working o...   \n",
              "3    Southern_California  What county are Los Angeles, Orange, San Diego...   \n",
              "4  French_and_Indian_War             When was the deportation of Canadians?   \n",
              "\n",
              "                                             context  is_impossible  \\\n",
              "0  A procedural consequence of the establishment ...          False   \n",
              "1  The principles of imperialism are often genera...           True   \n",
              "2  When a person’s capabilities are lowered, they...           True   \n",
              "3  Its counties of Los Angeles, Orange, San Diego...           True   \n",
              "4  Britain gained control of French Canada and Ac...           True   \n",
              "\n",
              "                                              answer  \\\n",
              "0  [able to vote on domestic legislation that app...   \n",
              "1                                                 []   \n",
              "2                                                 []   \n",
              "3                                                 []   \n",
              "4                                                 []   \n",
              "\n",
              "                                    generated_answer  \n",
              "0  Scottish MPs sitting in the UK House of Common...  \n",
              "1                                      I don't know.  \n",
              "2                          Gender roles and customs.  \n",
              "3                                         California  \n",
              "4                                               1755  "
            ],
            "text/html": [
              "\n",
              "  <div id=\"df-1155299f-81a9-4023-bbb9-44aa8a0dd363\" class=\"colab-df-container\">\n",
              "    <div>\n",
              "<style scoped>\n",
              "    .dataframe tbody tr th:only-of-type {\n",
              "        vertical-align: middle;\n",
              "    }\n",
              "\n",
              "    .dataframe tbody tr th {\n",
              "        vertical-align: top;\n",
              "    }\n",
              "\n",
              "    .dataframe thead th {\n",
              "        text-align: right;\n",
              "    }\n",
              "</style>\n",
              "<table border=\"1\" class=\"dataframe\">\n",
              "  <thead>\n",
              "    <tr style=\"text-align: right;\">\n",
              "      <th></th>\n",
              "      <th>title</th>\n",
              "      <th>question</th>\n",
              "      <th>context</th>\n",
              "      <th>is_impossible</th>\n",
              "      <th>answer</th>\n",
              "      <th>generated_answer</th>\n",
              "    </tr>\n",
              "  </thead>\n",
              "  <tbody>\n",
              "    <tr>\n",
              "      <th>0</th>\n",
              "      <td>Scottish_Parliament</td>\n",
              "      <td>What consequence of establishing the Scottish ...</td>\n",
              "      <td>A procedural consequence of the establishment ...</td>\n",
              "      <td>False</td>\n",
              "      <td>[able to vote on domestic legislation that app...</td>\n",
              "      <td>Scottish MPs sitting in the UK House of Common...</td>\n",
              "    </tr>\n",
              "    <tr>\n",
              "      <th>1</th>\n",
              "      <td>Imperialism</td>\n",
              "      <td>Imperialism is less often associated with whic...</td>\n",
              "      <td>The principles of imperialism are often genera...</td>\n",
              "      <td>True</td>\n",
              "      <td>[]</td>\n",
              "      <td>I don't know.</td>\n",
              "    </tr>\n",
              "    <tr>\n",
              "      <th>2</th>\n",
              "      <td>Economic_inequality</td>\n",
              "      <td>What issues can't prevent women from working o...</td>\n",
              "      <td>When a person’s capabilities are lowered, they...</td>\n",
              "      <td>True</td>\n",
              "      <td>[]</td>\n",
              "      <td>Gender roles and customs.</td>\n",
              "    </tr>\n",
              "    <tr>\n",
              "      <th>3</th>\n",
              "      <td>Southern_California</td>\n",
              "      <td>What county are Los Angeles, Orange, San Diego...</td>\n",
              "      <td>Its counties of Los Angeles, Orange, San Diego...</td>\n",
              "      <td>True</td>\n",
              "      <td>[]</td>\n",
              "      <td>California</td>\n",
              "    </tr>\n",
              "    <tr>\n",
              "      <th>4</th>\n",
              "      <td>French_and_Indian_War</td>\n",
              "      <td>When was the deportation of Canadians?</td>\n",
              "      <td>Britain gained control of French Canada and Ac...</td>\n",
              "      <td>True</td>\n",
              "      <td>[]</td>\n",
              "      <td>1755</td>\n",
              "    </tr>\n",
              "  </tbody>\n",
              "</table>\n",
              "</div>\n",
              "    <div class=\"colab-df-buttons\">\n",
              "\n",
              "  <div class=\"colab-df-container\">\n",
              "    <button class=\"colab-df-convert\" onclick=\"convertToInteractive('df-1155299f-81a9-4023-bbb9-44aa8a0dd363')\"\n",
              "            title=\"Convert this dataframe to an interactive table.\"\n",
              "            style=\"display:none;\">\n",
              "\n",
              "  <svg xmlns=\"http://www.w3.org/2000/svg\" height=\"24px\" viewBox=\"0 -960 960 960\">\n",
              "    <path d=\"M120-120v-720h720v720H120Zm60-500h600v-160H180v160Zm220 220h160v-160H400v160Zm0 220h160v-160H400v160ZM180-400h160v-160H180v160Zm440 0h160v-160H620v160ZM180-180h160v-160H180v160Zm440 0h160v-160H620v160Z\"/>\n",
              "  </svg>\n",
              "    </button>\n",
              "\n",
              "  <style>\n",
              "    .colab-df-container {\n",
              "      display:flex;\n",
              "      gap: 12px;\n",
              "    }\n",
              "\n",
              "    .colab-df-convert {\n",
              "      background-color: #E8F0FE;\n",
              "      border: none;\n",
              "      border-radius: 50%;\n",
              "      cursor: pointer;\n",
              "      display: none;\n",
              "      fill: #1967D2;\n",
              "      height: 32px;\n",
              "      padding: 0 0 0 0;\n",
              "      width: 32px;\n",
              "    }\n",
              "\n",
              "    .colab-df-convert:hover {\n",
              "      background-color: #E2EBFA;\n",
              "      box-shadow: 0px 1px 2px rgba(60, 64, 67, 0.3), 0px 1px 3px 1px rgba(60, 64, 67, 0.15);\n",
              "      fill: #174EA6;\n",
              "    }\n",
              "\n",
              "    .colab-df-buttons div {\n",
              "      margin-bottom: 4px;\n",
              "    }\n",
              "\n",
              "    [theme=dark] .colab-df-convert {\n",
              "      background-color: #3B4455;\n",
              "      fill: #D2E3FC;\n",
              "    }\n",
              "\n",
              "    [theme=dark] .colab-df-convert:hover {\n",
              "      background-color: #434B5C;\n",
              "      box-shadow: 0px 1px 3px 1px rgba(0, 0, 0, 0.15);\n",
              "      filter: drop-shadow(0px 1px 2px rgba(0, 0, 0, 0.3));\n",
              "      fill: #FFFFFF;\n",
              "    }\n",
              "  </style>\n",
              "\n",
              "    <script>\n",
              "      const buttonEl =\n",
              "        document.querySelector('#df-1155299f-81a9-4023-bbb9-44aa8a0dd363 button.colab-df-convert');\n",
              "      buttonEl.style.display =\n",
              "        google.colab.kernel.accessAllowed ? 'block' : 'none';\n",
              "\n",
              "      async function convertToInteractive(key) {\n",
              "        const element = document.querySelector('#df-1155299f-81a9-4023-bbb9-44aa8a0dd363');\n",
              "        const dataTable =\n",
              "          await google.colab.kernel.invokeFunction('convertToInteractive',\n",
              "                                                    [key], {});\n",
              "        if (!dataTable) return;\n",
              "\n",
              "        const docLinkHtml = 'Like what you see? Visit the ' +\n",
              "          '<a target=\"_blank\" href=https://colab.research.google.com/notebooks/data_table.ipynb>data table notebook</a>'\n",
              "          + ' to learn more about interactive tables.';\n",
              "        element.innerHTML = '';\n",
              "        dataTable['output_type'] = 'display_data';\n",
              "        await google.colab.output.renderOutput(dataTable, element);\n",
              "        const docLink = document.createElement('div');\n",
              "        docLink.innerHTML = docLinkHtml;\n",
              "        element.appendChild(docLink);\n",
              "      }\n",
              "    </script>\n",
              "  </div>\n",
              "\n",
              "\n",
              "<div id=\"df-a7b13afd-b61d-426f-a9b1-87e012d5156c\">\n",
              "  <button class=\"colab-df-quickchart\" onclick=\"quickchart('df-a7b13afd-b61d-426f-a9b1-87e012d5156c')\"\n",
              "            title=\"Suggest charts\"\n",
              "            style=\"display:none;\">\n",
              "\n",
              "<svg xmlns=\"http://www.w3.org/2000/svg\" height=\"24px\"viewBox=\"0 0 24 24\"\n",
              "     width=\"24px\">\n",
              "    <g>\n",
              "        <path d=\"M19 3H5c-1.1 0-2 .9-2 2v14c0 1.1.9 2 2 2h14c1.1 0 2-.9 2-2V5c0-1.1-.9-2-2-2zM9 17H7v-7h2v7zm4 0h-2V7h2v10zm4 0h-2v-4h2v4z\"/>\n",
              "    </g>\n",
              "</svg>\n",
              "  </button>\n",
              "\n",
              "<style>\n",
              "  .colab-df-quickchart {\n",
              "      --bg-color: #E8F0FE;\n",
              "      --fill-color: #1967D2;\n",
              "      --hover-bg-color: #E2EBFA;\n",
              "      --hover-fill-color: #174EA6;\n",
              "      --disabled-fill-color: #AAA;\n",
              "      --disabled-bg-color: #DDD;\n",
              "  }\n",
              "\n",
              "  [theme=dark] .colab-df-quickchart {\n",
              "      --bg-color: #3B4455;\n",
              "      --fill-color: #D2E3FC;\n",
              "      --hover-bg-color: #434B5C;\n",
              "      --hover-fill-color: #FFFFFF;\n",
              "      --disabled-bg-color: #3B4455;\n",
              "      --disabled-fill-color: #666;\n",
              "  }\n",
              "\n",
              "  .colab-df-quickchart {\n",
              "    background-color: var(--bg-color);\n",
              "    border: none;\n",
              "    border-radius: 50%;\n",
              "    cursor: pointer;\n",
              "    display: none;\n",
              "    fill: var(--fill-color);\n",
              "    height: 32px;\n",
              "    padding: 0;\n",
              "    width: 32px;\n",
              "  }\n",
              "\n",
              "  .colab-df-quickchart:hover {\n",
              "    background-color: var(--hover-bg-color);\n",
              "    box-shadow: 0 1px 2px rgba(60, 64, 67, 0.3), 0 1px 3px 1px rgba(60, 64, 67, 0.15);\n",
              "    fill: var(--button-hover-fill-color);\n",
              "  }\n",
              "\n",
              "  .colab-df-quickchart-complete:disabled,\n",
              "  .colab-df-quickchart-complete:disabled:hover {\n",
              "    background-color: var(--disabled-bg-color);\n",
              "    fill: var(--disabled-fill-color);\n",
              "    box-shadow: none;\n",
              "  }\n",
              "\n",
              "  .colab-df-spinner {\n",
              "    border: 2px solid var(--fill-color);\n",
              "    border-color: transparent;\n",
              "    border-bottom-color: var(--fill-color);\n",
              "    animation:\n",
              "      spin 1s steps(1) infinite;\n",
              "  }\n",
              "\n",
              "  @keyframes spin {\n",
              "    0% {\n",
              "      border-color: transparent;\n",
              "      border-bottom-color: var(--fill-color);\n",
              "      border-left-color: var(--fill-color);\n",
              "    }\n",
              "    20% {\n",
              "      border-color: transparent;\n",
              "      border-left-color: var(--fill-color);\n",
              "      border-top-color: var(--fill-color);\n",
              "    }\n",
              "    30% {\n",
              "      border-color: transparent;\n",
              "      border-left-color: var(--fill-color);\n",
              "      border-top-color: var(--fill-color);\n",
              "      border-right-color: var(--fill-color);\n",
              "    }\n",
              "    40% {\n",
              "      border-color: transparent;\n",
              "      border-right-color: var(--fill-color);\n",
              "      border-top-color: var(--fill-color);\n",
              "    }\n",
              "    60% {\n",
              "      border-color: transparent;\n",
              "      border-right-color: var(--fill-color);\n",
              "    }\n",
              "    80% {\n",
              "      border-color: transparent;\n",
              "      border-right-color: var(--fill-color);\n",
              "      border-bottom-color: var(--fill-color);\n",
              "    }\n",
              "    90% {\n",
              "      border-color: transparent;\n",
              "      border-bottom-color: var(--fill-color);\n",
              "    }\n",
              "  }\n",
              "</style>\n",
              "\n",
              "  <script>\n",
              "    async function quickchart(key) {\n",
              "      const quickchartButtonEl =\n",
              "        document.querySelector('#' + key + ' button');\n",
              "      quickchartButtonEl.disabled = true;  // To prevent multiple clicks.\n",
              "      quickchartButtonEl.classList.add('colab-df-spinner');\n",
              "      try {\n",
              "        const charts = await google.colab.kernel.invokeFunction(\n",
              "            'suggestCharts', [key], {});\n",
              "      } catch (error) {\n",
              "        console.error('Error during call to suggestCharts:', error);\n",
              "      }\n",
              "      quickchartButtonEl.classList.remove('colab-df-spinner');\n",
              "      quickchartButtonEl.classList.add('colab-df-quickchart-complete');\n",
              "    }\n",
              "    (() => {\n",
              "      let quickchartButtonEl =\n",
              "        document.querySelector('#df-a7b13afd-b61d-426f-a9b1-87e012d5156c button');\n",
              "      quickchartButtonEl.style.display =\n",
              "        google.colab.kernel.accessAllowed ? 'block' : 'none';\n",
              "    })();\n",
              "  </script>\n",
              "</div>\n",
              "\n",
              "    </div>\n",
              "  </div>\n"
            ],
            "application/vnd.google.colaboratory.intrinsic+json": {
              "type": "dataframe",
              "variable_name": "df",
              "summary": "{\n  \"name\": \"df\",\n  \"rows\": 100,\n  \"fields\": [\n    {\n      \"column\": \"title\",\n      \"properties\": {\n        \"dtype\": \"category\",\n        \"num_unique_values\": 35,\n        \"samples\": [\n          \"Fresno,_California\",\n          \"Jacksonville,_Florida\",\n          \"Pharmacy\"\n        ],\n        \"semantic_type\": \"\",\n        \"description\": \"\"\n      }\n    },\n    {\n      \"column\": \"question\",\n      \"properties\": {\n        \"dtype\": \"string\",\n        \"num_unique_values\": 100,\n        \"samples\": [\n          \"What is a recent civil disobedience done in a group form?\",\n          \"What was the Colonia Agrippina's original name?\",\n          \"What architecture type came after Norman in England?\"\n        ],\n        \"semantic_type\": \"\",\n        \"description\": \"\"\n      }\n    },\n    {\n      \"column\": \"context\",\n      \"properties\": {\n        \"dtype\": \"string\",\n        \"num_unique_values\": 93,\n        \"samples\": [\n          \"Wealth concentration is a theoretical[according to whom?] process by which, under certain conditions, newly created wealth concentrates in the possession of already-wealthy individuals or entities. According to this theory, those who already hold wealth have the means to invest in new sources of creating wealth or to otherwise leverage the accumulation of wealth, thus are the beneficiaries of the new wealth. Over time, wealth condensation can significantly contribute to the persistence of inequality within society. Thomas Piketty in his book Capital in the Twenty-First Century argues that the fundamental force for divergence is the usually greater return of capital (r) than economic growth (g), and that larger fortunes generate higher returns [pp. 384 Table 12.2, U.S. university endowment size vs. real annual rate of return]\",\n          \"Larger drugs (>500 Da) can provoke a neutralizing immune response, particularly if the drugs are administered repeatedly, or in larger doses. This limits the effectiveness of drugs based on larger peptides and proteins (which are typically larger than 6000 Da). In some cases, the drug itself is not immunogenic, but may be co-administered with an immunogenic compound, as is sometimes the case for Taxol. Computational methods have been developed to predict the immunogenicity of peptides and proteins, which are particularly useful in designing therapeutic antibodies, assessing likely virulence of mutations in viral coat particles, and validation of proposed peptide-based drug treatments. Early techniques relied mainly on the observation that hydrophilic amino acids are overrepresented in epitope regions than hydrophobic amino acids; however, more recent developments rely on machine learning techniques using databases of existing known epitopes, usually on well-studied virus proteins, as a training set. A publicly accessible database has been established for the cataloguing of epitopes from pathogens known to be recognizable by B cells. The emerging field of bioinformatics-based studies of immunogenicity is referred to as immunoinformatics. Immunoproteomics is the study of large sets of proteins (proteomics) involved in the immune response.\",\n          \"2013 Economics Nobel prize winner Robert J. Shiller said that rising inequality in the United States and elsewhere is the most important problem. Increasing inequality harms economic growth. High and persistent unemployment, in which inequality increases, has a negative effect on subsequent long-run economic growth. Unemployment can harm growth not only because it is a waste of resources, but also because it generates redistributive pressures and subsequent distortions, drives people to poverty, constrains liquidity limiting labor mobility, and erodes self-esteem promoting social dislocation, unrest and conflict. Policies aiming at controlling unemployment and in particular at reducing its inequality-associated effects support economic growth.\"\n        ],\n        \"semantic_type\": \"\",\n        \"description\": \"\"\n      }\n    },\n    {\n      \"column\": \"is_impossible\",\n      \"properties\": {\n        \"dtype\": \"boolean\",\n        \"num_unique_values\": 2,\n        \"samples\": [\n          true,\n          false\n        ],\n        \"semantic_type\": \"\",\n        \"description\": \"\"\n      }\n    },\n    {\n      \"column\": \"answer\",\n      \"properties\": {\n        \"dtype\": \"object\",\n        \"semantic_type\": \"\",\n        \"description\": \"\"\n      }\n    },\n    {\n      \"column\": \"generated_answer\",\n      \"properties\": {\n        \"dtype\": \"string\",\n        \"num_unique_values\": 91,\n        \"samples\": [\n          \"Pharmacists acquire more preparation following pharmacy school through a pharmacy practice residency and sometimes followed by another residency in a specific area.\",\n          \"Lobates feed continuously on suspended planktonic prey.\"\n        ],\n        \"semantic_type\": \"\",\n        \"description\": \"\"\n      }\n    }\n  ]\n}"
            }
          },
          "metadata": {},
          "execution_count": 61
        }
      ]
    },
    {
      "cell_type": "markdown",
      "source": [
        "## Fine-tuning and Answering using Fine-tuned modal"
      ],
      "metadata": {
        "id": "0PTdkNoB2zMy"
      }
    },
    {
      "cell_type": "code",
      "source": [],
      "metadata": {
        "id": "I0t920pe23ax"
      },
      "execution_count": null,
      "outputs": []
    }
  ]
}